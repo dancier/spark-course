{
 "cells": [
  {
   "cell_type": "code",
   "execution_count": 1,
   "id": "7855fc58",
   "metadata": {},
   "outputs": [
    {
     "data": {
      "text/plain": [
       "'/usr/local/lib/python3.10/dist-packages/pyspark'"
      ]
     },
     "execution_count": 1,
     "metadata": {},
     "output_type": "execute_result"
    }
   ],
   "source": [
    "import findspark\n",
    "findspark.init()\n",
    "findspark.find()"
   ]
  },
  {
   "cell_type": "code",
   "execution_count": 2,
   "id": "76c5c1ac",
   "metadata": {},
   "outputs": [
    {
     "name": "stderr",
     "output_type": "stream",
     "text": [
      "23/08/21 08:09:03 WARN Utils: Your hostname, pupil-a resolves to a loopback address: 127.0.1.1; using 167.235.141.210 instead (on interface eth0)\n",
      "23/08/21 08:09:03 WARN Utils: Set SPARK_LOCAL_IP if you need to bind to another address\n",
      "Setting default log level to \"WARN\".\n",
      "To adjust logging level use sc.setLogLevel(newLevel). For SparkR, use setLogLevel(newLevel).\n",
      "23/08/21 08:09:05 WARN NativeCodeLoader: Unable to load native-hadoop library for your platform... using builtin-java classes where applicable\n"
     ]
    },
    {
     "data": {
      "text/html": [
       "\n",
       "            <div>\n",
       "                <p><b>SparkSession - in-memory</b></p>\n",
       "                \n",
       "        <div>\n",
       "            <p><b>SparkContext</b></p>\n",
       "\n",
       "            <p><a href=\"http://pupil-a.bin-ich-tot.de:4040\">Spark UI</a></p>\n",
       "\n",
       "            <dl>\n",
       "              <dt>Version</dt>\n",
       "                <dd><code>v3.4.1</code></dd>\n",
       "              <dt>Master</dt>\n",
       "                <dd><code>local[4]</code></dd>\n",
       "              <dt>AppName</dt>\n",
       "                <dd><code>TaxiOperationsDataFrameApp</code></dd>\n",
       "            </dl>\n",
       "        </div>\n",
       "        \n",
       "            </div>\n",
       "        "
      ],
      "text/plain": [
       "<pyspark.sql.session.SparkSession at 0x7fa294c79570>"
      ]
     },
     "execution_count": 2,
     "metadata": {},
     "output_type": "execute_result"
    }
   ],
   "source": [
    "from pyspark.sql import SparkSession\n",
    "from pyspark.sql.types import *\n",
    "from pyspark.sql.functions import *\n",
    "\n",
    "spark = (\n",
    "            SparkSession\n",
    "                .builder\n",
    "    \n",
    "                .appName(\"TaxiOperationsDataFrameApp\")\n",
    "                .master(\"local[4]\")\n",
    "    \n",
    "                .config(\"spark.dynamicAllocation.enabled\", \"false\")\n",
    "                .config(\"spark.sql.adaptive.enabled\", \"false\")    \n",
    "                .getOrCreate()\n",
    "        )\n",
    "\n",
    "sc = spark.sparkContext\n",
    "\n",
    "spark"
   ]
  },
  {
   "cell_type": "code",
   "execution_count": 3,
   "id": "dc54c228",
   "metadata": {},
   "outputs": [
    {
     "data": {
      "text/html": [
       "<style>pre { white-space: pre !important; }</style>"
      ],
      "text/plain": [
       "<IPython.core.display.HTML object>"
      ]
     },
     "metadata": {},
     "output_type": "display_data"
    }
   ],
   "source": [
    "from IPython.display import *\n",
    "display(HTML(\"<style>pre { white-space: pre !important; }</style>\"))"
   ]
  },
  {
   "cell_type": "markdown",
   "id": "92baa3c9",
   "metadata": {},
   "source": [
    "### Create DataFrame - Option 1.a: From RDD"
   ]
  },
  {
   "cell_type": "code",
   "execution_count": 4,
   "id": "38ed35ee",
   "metadata": {},
   "outputs": [],
   "source": [
    "# Create RDD\n",
    "\n",
    "data = [\n",
    "            [ 1, \"Neha\",  10000 ],\n",
    "            [ 2, \"Steve\", 20000 ],\n",
    "            [ 3, \"Kari\",  30000 ],\n",
    "            [ 4, \"Ivan\",  40000 ],\n",
    "            [ 5, \"Mohit\", 50000 ]\n",
    "       ]\n",
    "\n",
    "employeesRdd = sc.parallelize(data)"
   ]
  },
  {
   "cell_type": "code",
   "execution_count": 5,
   "id": "c0b0513b",
   "metadata": {},
   "outputs": [
    {
     "name": "stderr",
     "output_type": "stream",
     "text": [
      "                                                                                \r"
     ]
    },
    {
     "name": "stdout",
     "output_type": "stream",
     "text": [
      "+---+-----+-----+\n",
      "| _1|   _2|   _3|\n",
      "+---+-----+-----+\n",
      "|  1| Neha|10000|\n",
      "|  2|Steve|20000|\n",
      "|  3| Kari|30000|\n",
      "|  4| Ivan|40000|\n",
      "|  5|Mohit|50000|\n",
      "+---+-----+-----+\n",
      "\n"
     ]
    }
   ],
   "source": [
    "# Create DataFrame and show content\n",
    "\n",
    "employeesDF = employeesRdd.toDF()\n",
    "\n",
    "employeesDF.show()"
   ]
  },
  {
   "cell_type": "code",
   "execution_count": 6,
   "id": "eb256ca3",
   "metadata": {},
   "outputs": [
    {
     "name": "stdout",
     "output_type": "stream",
     "text": [
      "+---+-----+------+\n",
      "| Id| Name|Salary|\n",
      "+---+-----+------+\n",
      "|  1| Neha| 10000|\n",
      "|  2|Steve| 20000|\n",
      "|  3| Kari| 30000|\n",
      "|  4| Ivan| 40000|\n",
      "|  5|Mohit| 50000|\n",
      "+---+-----+------+\n",
      "\n"
     ]
    }
   ],
   "source": [
    "# Define column names for DataFrame\n",
    "\n",
    "employeesDF = employeesDF.toDF(\"Id\", \"Name\", \"Salary\")\n",
    "\n",
    "employeesDF.show()"
   ]
  },
  {
   "cell_type": "code",
   "execution_count": 7,
   "id": "01b2b9a7",
   "metadata": {},
   "outputs": [
    {
     "name": "stdout",
     "output_type": "stream",
     "text": [
      "root\n",
      " |-- Id: long (nullable = true)\n",
      " |-- Name: string (nullable = true)\n",
      " |-- Salary: long (nullable = true)\n",
      "\n"
     ]
    }
   ],
   "source": [
    "# Print DataFrame schema\n",
    "\n",
    "employeesDF.printSchema()"
   ]
  },
  {
   "cell_type": "markdown",
   "id": "d5e8bb0c",
   "metadata": {},
   "source": [
    "### Create DataFrame - Option 1.b: From data collection"
   ]
  },
  {
   "cell_type": "code",
   "execution_count": 8,
   "id": "719e3e0d",
   "metadata": {},
   "outputs": [
    {
     "name": "stdout",
     "output_type": "stream",
     "text": [
      "+---+-----+------+\n",
      "| Id| Name|Salary|\n",
      "+---+-----+------+\n",
      "|  1| Neha| 10000|\n",
      "|  2|Steve| 20000|\n",
      "|  3| Kari| 30000|\n",
      "|  4| Ivan| 40000|\n",
      "|  5|Mohit| 50000|\n",
      "+---+-----+------+\n",
      "\n"
     ]
    }
   ],
   "source": [
    "# Create DataFrame from collection\n",
    "\n",
    "employeesDF = (\n",
    "                    spark\n",
    "                        .createDataFrame\n",
    "                        (\n",
    "                            data,                                   # Pass RDD or collection\n",
    "                            \"Id: long, Name: string, Salary: long\"  \n",
    "                            \n",
    "                                              # Pass schema as array [\"Id\", \"Name\", \"Salary\"]\n",
    "                        )\n",
    "               )\n",
    "\n",
    "employeesDF.show()"
   ]
  },
  {
   "cell_type": "markdown",
   "id": "301f64e7",
   "metadata": {},
   "source": [
    "### Create DataFrame - Option 2: Read a File"
   ]
  },
  {
   "cell_type": "code",
   "execution_count": 11,
   "id": "7cf382df",
   "metadata": {
    "scrolled": true
   },
   "outputs": [
    {
     "ename": "IllegalArgumentException",
     "evalue": "java.net.URISyntaxException: Relative path in absolute URI: C:%5CSparkCourse%5CDataFiles%5CRaw%5CYellowTaxis_202210.csv",
     "output_type": "error",
     "traceback": [
      "\u001b[0;31m---------------------------------------------------------------------------\u001b[0m",
      "\u001b[0;31mIllegalArgumentException\u001b[0m                  Traceback (most recent call last)",
      "Cell \u001b[0;32mIn[11], line 6\u001b[0m\n\u001b[1;32m      1\u001b[0m \u001b[38;5;66;03m# Read YellowTaxis csv file to create DataFrame\u001b[39;00m\n\u001b[1;32m      3\u001b[0m yellowTaxiDF \u001b[38;5;241m=\u001b[39m (\n\u001b[1;32m      4\u001b[0m                   \u001b[43mspark\u001b[49m\u001b[43m    \u001b[49m\n\u001b[1;32m      5\u001b[0m \u001b[43m                    \u001b[49m\u001b[38;5;241;43m.\u001b[39;49m\u001b[43mread\u001b[49m\u001b[43m    \u001b[49m\n\u001b[0;32m----> 6\u001b[0m \u001b[43m                    \u001b[49m\u001b[38;5;241;43m.\u001b[39;49m\u001b[43mcsv\u001b[49m\u001b[43m(\u001b[49m\u001b[38;5;124;43m\"\u001b[39;49m\u001b[38;5;124;43mC:\u001b[39;49m\u001b[38;5;124;43m\\\u001b[39;49m\u001b[38;5;124;43mSparkCourse\u001b[39;49m\u001b[38;5;124;43m\\\u001b[39;49m\u001b[38;5;124;43mDataFiles\u001b[39;49m\u001b[38;5;124;43m\\\u001b[39;49m\u001b[38;5;124;43mRaw\u001b[39;49m\u001b[38;5;124;43m\\\u001b[39;49m\u001b[38;5;124;43mYellowTaxis_202210.csv\u001b[39;49m\u001b[38;5;124;43m\"\u001b[39;49m\u001b[43m)\u001b[49m\n\u001b[1;32m      7\u001b[0m                )\n",
      "File \u001b[0;32m/usr/local/lib/python3.10/dist-packages/pyspark/sql/readwriter.py:727\u001b[0m, in \u001b[0;36mDataFrameReader.csv\u001b[0;34m(self, path, schema, sep, encoding, quote, escape, comment, header, inferSchema, ignoreLeadingWhiteSpace, ignoreTrailingWhiteSpace, nullValue, nanValue, positiveInf, negativeInf, dateFormat, timestampFormat, maxColumns, maxCharsPerColumn, maxMalformedLogPerPartition, mode, columnNameOfCorruptRecord, multiLine, charToEscapeQuoteEscaping, samplingRatio, enforceSchema, emptyValue, locale, lineSep, pathGlobFilter, recursiveFileLookup, modifiedBefore, modifiedAfter, unescapedQuoteHandling)\u001b[0m\n\u001b[1;32m    725\u001b[0m \u001b[38;5;28;01mif\u001b[39;00m \u001b[38;5;28mtype\u001b[39m(path) \u001b[38;5;241m==\u001b[39m \u001b[38;5;28mlist\u001b[39m:\n\u001b[1;32m    726\u001b[0m     \u001b[38;5;28;01massert\u001b[39;00m \u001b[38;5;28mself\u001b[39m\u001b[38;5;241m.\u001b[39m_spark\u001b[38;5;241m.\u001b[39m_sc\u001b[38;5;241m.\u001b[39m_jvm \u001b[38;5;129;01mis\u001b[39;00m \u001b[38;5;129;01mnot\u001b[39;00m \u001b[38;5;28;01mNone\u001b[39;00m\n\u001b[0;32m--> 727\u001b[0m     \u001b[38;5;28;01mreturn\u001b[39;00m \u001b[38;5;28mself\u001b[39m\u001b[38;5;241m.\u001b[39m_df(\u001b[38;5;28;43mself\u001b[39;49m\u001b[38;5;241;43m.\u001b[39;49m\u001b[43m_jreader\u001b[49m\u001b[38;5;241;43m.\u001b[39;49m\u001b[43mcsv\u001b[49m\u001b[43m(\u001b[49m\u001b[38;5;28;43mself\u001b[39;49m\u001b[38;5;241;43m.\u001b[39;49m\u001b[43m_spark\u001b[49m\u001b[38;5;241;43m.\u001b[39;49m\u001b[43m_sc\u001b[49m\u001b[38;5;241;43m.\u001b[39;49m\u001b[43m_jvm\u001b[49m\u001b[38;5;241;43m.\u001b[39;49m\u001b[43mPythonUtils\u001b[49m\u001b[38;5;241;43m.\u001b[39;49m\u001b[43mtoSeq\u001b[49m\u001b[43m(\u001b[49m\u001b[43mpath\u001b[49m\u001b[43m)\u001b[49m\u001b[43m)\u001b[49m)\n\u001b[1;32m    728\u001b[0m \u001b[38;5;28;01melif\u001b[39;00m \u001b[38;5;28misinstance\u001b[39m(path, RDD):\n\u001b[1;32m    730\u001b[0m     \u001b[38;5;28;01mdef\u001b[39;00m \u001b[38;5;21mfunc\u001b[39m(iterator):\n",
      "File \u001b[0;32m/usr/local/lib/python3.10/dist-packages/py4j/java_gateway.py:1322\u001b[0m, in \u001b[0;36mJavaMember.__call__\u001b[0;34m(self, *args)\u001b[0m\n\u001b[1;32m   1316\u001b[0m command \u001b[38;5;241m=\u001b[39m proto\u001b[38;5;241m.\u001b[39mCALL_COMMAND_NAME \u001b[38;5;241m+\u001b[39m\\\n\u001b[1;32m   1317\u001b[0m     \u001b[38;5;28mself\u001b[39m\u001b[38;5;241m.\u001b[39mcommand_header \u001b[38;5;241m+\u001b[39m\\\n\u001b[1;32m   1318\u001b[0m     args_command \u001b[38;5;241m+\u001b[39m\\\n\u001b[1;32m   1319\u001b[0m     proto\u001b[38;5;241m.\u001b[39mEND_COMMAND_PART\n\u001b[1;32m   1321\u001b[0m answer \u001b[38;5;241m=\u001b[39m \u001b[38;5;28mself\u001b[39m\u001b[38;5;241m.\u001b[39mgateway_client\u001b[38;5;241m.\u001b[39msend_command(command)\n\u001b[0;32m-> 1322\u001b[0m return_value \u001b[38;5;241m=\u001b[39m \u001b[43mget_return_value\u001b[49m\u001b[43m(\u001b[49m\n\u001b[1;32m   1323\u001b[0m \u001b[43m    \u001b[49m\u001b[43manswer\u001b[49m\u001b[43m,\u001b[49m\u001b[43m \u001b[49m\u001b[38;5;28;43mself\u001b[39;49m\u001b[38;5;241;43m.\u001b[39;49m\u001b[43mgateway_client\u001b[49m\u001b[43m,\u001b[49m\u001b[43m \u001b[49m\u001b[38;5;28;43mself\u001b[39;49m\u001b[38;5;241;43m.\u001b[39;49m\u001b[43mtarget_id\u001b[49m\u001b[43m,\u001b[49m\u001b[43m \u001b[49m\u001b[38;5;28;43mself\u001b[39;49m\u001b[38;5;241;43m.\u001b[39;49m\u001b[43mname\u001b[49m\u001b[43m)\u001b[49m\n\u001b[1;32m   1325\u001b[0m \u001b[38;5;28;01mfor\u001b[39;00m temp_arg \u001b[38;5;129;01min\u001b[39;00m temp_args:\n\u001b[1;32m   1326\u001b[0m     \u001b[38;5;28;01mif\u001b[39;00m \u001b[38;5;28mhasattr\u001b[39m(temp_arg, \u001b[38;5;124m\"\u001b[39m\u001b[38;5;124m_detach\u001b[39m\u001b[38;5;124m\"\u001b[39m):\n",
      "File \u001b[0;32m/usr/local/lib/python3.10/dist-packages/pyspark/errors/exceptions/captured.py:175\u001b[0m, in \u001b[0;36mcapture_sql_exception.<locals>.deco\u001b[0;34m(*a, **kw)\u001b[0m\n\u001b[1;32m    171\u001b[0m converted \u001b[38;5;241m=\u001b[39m convert_exception(e\u001b[38;5;241m.\u001b[39mjava_exception)\n\u001b[1;32m    172\u001b[0m \u001b[38;5;28;01mif\u001b[39;00m \u001b[38;5;129;01mnot\u001b[39;00m \u001b[38;5;28misinstance\u001b[39m(converted, UnknownException):\n\u001b[1;32m    173\u001b[0m     \u001b[38;5;66;03m# Hide where the exception came from that shows a non-Pythonic\u001b[39;00m\n\u001b[1;32m    174\u001b[0m     \u001b[38;5;66;03m# JVM exception message.\u001b[39;00m\n\u001b[0;32m--> 175\u001b[0m     \u001b[38;5;28;01mraise\u001b[39;00m converted \u001b[38;5;28;01mfrom\u001b[39;00m \u001b[38;5;28;01mNone\u001b[39;00m\n\u001b[1;32m    176\u001b[0m \u001b[38;5;28;01melse\u001b[39;00m:\n\u001b[1;32m    177\u001b[0m     \u001b[38;5;28;01mraise\u001b[39;00m\n",
      "\u001b[0;31mIllegalArgumentException\u001b[0m: java.net.URISyntaxException: Relative path in absolute URI: C:%5CSparkCourse%5CDataFiles%5CRaw%5CYellowTaxis_202210.csv"
     ]
    }
   ],
   "source": [
    "# Read YellowTaxis csv file to create DataFrame\n",
    "\n",
    "yellowTaxiDF = (\n",
    "                  spark    \n",
    "                    .read    \n",
    "                    .csv(\"C:\\SparkCourse\\DataFiles\\Raw\\YellowTaxis_202210.csv\")\n",
    "               )"
   ]
  },
  {
   "cell_type": "code",
   "execution_count": 10,
   "id": "26174bbe",
   "metadata": {},
   "outputs": [
    {
     "ename": "NameError",
     "evalue": "name 'yellowTaxiDF' is not defined",
     "output_type": "error",
     "traceback": [
      "\u001b[0;31m---------------------------------------------------------------------------\u001b[0m",
      "\u001b[0;31mNameError\u001b[0m                                 Traceback (most recent call last)",
      "Cell \u001b[0;32mIn[10], line 3\u001b[0m\n\u001b[1;32m      1\u001b[0m \u001b[38;5;66;03m# Display DataFrame content\u001b[39;00m\n\u001b[0;32m----> 3\u001b[0m \u001b[43myellowTaxiDF\u001b[49m\u001b[38;5;241m.\u001b[39mshow()\n",
      "\u001b[0;31mNameError\u001b[0m: name 'yellowTaxiDF' is not defined"
     ]
    }
   ],
   "source": [
    "# Display DataFrame content\n",
    "\n",
    "yellowTaxiDF.show()"
   ]
  },
  {
   "cell_type": "code",
   "execution_count": 11,
   "id": "0c37bef1",
   "metadata": {},
   "outputs": [
    {
     "name": "stdout",
     "output_type": "stream",
     "text": [
      "root\n",
      " |-- VendorID: string (nullable = true)\n",
      " |-- tpep_pickup_datetime: string (nullable = true)\n",
      " |-- tpep_dropoff_datetime: string (nullable = true)\n",
      " |-- passenger_count: string (nullable = true)\n",
      " |-- trip_distance: string (nullable = true)\n",
      " |-- RatecodeID: string (nullable = true)\n",
      " |-- store_and_fwd_flag: string (nullable = true)\n",
      " |-- PULocationID: string (nullable = true)\n",
      " |-- DOLocationID: string (nullable = true)\n",
      " |-- payment_type: string (nullable = true)\n",
      " |-- fare_amount: string (nullable = true)\n",
      " |-- extra: string (nullable = true)\n",
      " |-- mta_tax: string (nullable = true)\n",
      " |-- tip_amount: string (nullable = true)\n",
      " |-- tolls_amount: string (nullable = true)\n",
      " |-- improvement_surcharge: string (nullable = true)\n",
      " |-- total_amount: string (nullable = true)\n",
      " |-- congestion_surcharge: string (nullable = true)\n",
      " |-- airport_fee: string (nullable = true)\n",
      "\n"
     ]
    }
   ],
   "source": [
    "# Take column names from file header row\n",
    "\n",
    "yellowTaxiDF = (\n",
    "                  spark\n",
    "                    .read\n",
    "    \n",
    "                    .option(\"header\", \"true\")\n",
    "    \n",
    "                    .csv(\"C:\\SparkCourse\\DataFiles\\Raw\\YellowTaxis_202210.csv\")\n",
    "               )\n",
    "\n",
    "yellowTaxiDF.printSchema()"
   ]
  },
  {
   "cell_type": "code",
   "execution_count": 12,
   "id": "b0d3aeb6",
   "metadata": {},
   "outputs": [
    {
     "name": "stdout",
     "output_type": "stream",
     "text": [
      "+--------+--------------------+---------------------+---------------+-------------+----------+------------------+------------+------------+------------+-----------+-----+-------+----------+------------+---------------------+------------+--------------------+-----------+\n",
      "|VendorId|lpep_pickup_datetime|lpep_dropoff_datetime|passenger_count|trip_distance|RatecodeID|store_and_fwd_flag|PULocationID|DOLocationID|payment_type|fare_amount|extra|mta_tax|tip_amount|tolls_amount|improvement_surcharge|total_amount|congestion_surcharge|airport_fee|\n",
      "+--------+--------------------+---------------------+---------------+-------------+----------+------------------+------------+------------+------------+-----------+-----+-------+----------+------------+---------------------+------------+--------------------+-----------+\n",
      "|       2|2022-10-01T06:08:...| 2022-10-01T06:21:...|            1.0|         2.47|       1.0|                 N|         256|         225|         1.0|       11.5|  0.5|    0.5|      2.56|         0.0|                  0.3|       15.36|                 0.0|        0.0|\n",
      "|       2|2022-10-01T06:36:...| 2022-10-01T06:42:...|            1.0|         1.96|       1.0|                 N|         166|         152|         1.0|        7.5|  0.5|    0.5|       2.2|         0.0|                  0.3|        11.0|                 0.0|        0.0|\n",
      "|       2|2022-10-01T06:01:...| 2022-10-01T06:15:...|            1.0|         2.43|       1.0|                 N|          74|         262|         1.0|       11.5|  0.5|    0.5|       2.0|         0.0|                  0.3|       17.55|                2.75|        0.0|\n",
      "|       2|2022-10-01T06:21:...| 2022-10-01T06:28:...|            1.0|         2.25|       1.0|                 N|          74|          42|         1.0|        8.5|  0.5|    0.5|      1.96|         0.0|                  0.3|       11.76|                 0.0|        0.0|\n",
      "|       1|2022-10-01T06:12:...| 2022-10-01T06:24:...|            1.0|          0.0|       1.0|                 N|          74|         247|         1.0|       17.2|  0.0|    0.5|       0.0|         0.0|                  0.3|        18.0|                 0.0|        0.0|\n",
      "|       2|2022-10-01T05:55:...| 2022-10-01T06:05:...|            2.0|          4.5|       1.0|                 N|         134|          57|         2.0|       14.0|  0.5|    0.5|       0.0|         0.0|                  0.3|        15.3|                 0.0|        0.0|\n",
      "|       2|2022-10-01T05:48:...| 2022-10-01T06:00:...|            1.0|         1.65|       1.0|                 N|          83|           7|         1.0|        9.5|  0.5|    0.5|      1.62|         0.0|                  0.3|       12.42|                 0.0|        0.0|\n",
      "|       2|2022-10-01T06:06:...| 2022-10-01T06:22:...|            1.0|          3.0|       1.0|                 N|          33|         125|         1.0|       13.5|  0.5|    0.5|      3.51|         0.0|                  0.3|       21.06|                2.75|        0.0|\n",
      "|       2|2022-10-01T05:40:...| 2022-10-01T05:58:...|            1.0|         3.92|       5.0|                 N|          95|         216|         2.0|       25.0|  0.0|    0.0|       0.0|         0.0|                  0.3|        25.3|                 0.0|        0.0|\n",
      "|       2|2022-10-01T05:52:...| 2022-10-01T06:07:...|            1.0|         2.94|       5.0|                 N|         130|         216|         2.0|       20.0|  0.0|    0.0|       0.0|         0.0|                  0.3|        20.3|                 0.0|        0.0|\n",
      "|       2|2022-10-01T06:05:...| 2022-10-01T06:21:...|            2.0|         6.48|       1.0|                 N|         116|          68|         1.0|       20.5|  0.5|    0.5|      4.91|         0.0|                  0.3|       29.46|                2.75|        0.0|\n",
      "|       2|2022-10-01T05:48:...| 2022-10-01T05:53:...|            1.0|         0.74|       1.0|                 N|         166|          41|         1.0|        5.0|  0.5|    0.5|      1.89|         0.0|                  0.3|        8.19|                 0.0|        0.0|\n",
      "|       2|2022-10-01T06:08:...| 2022-10-01T06:14:...|            1.0|         1.02|       1.0|                 N|          42|          42|         2.0|        6.0|  0.5|    0.5|       0.0|         0.0|                  0.3|         7.3|                 0.0|        0.0|\n",
      "|       2|2022-10-01T05:36:...| 2022-10-01T05:41:...|            3.0|         0.64|       1.0|                 N|         255|         255|         1.0|        5.0|  0.5|    0.5|      1.26|         0.0|                  0.3|       10.06|                 0.0|        0.0|\n",
      "|       2|2022-10-01T06:11:...| 2022-10-01T06:12:...|            1.0|          0.0|       1.0|                 N|         260|         260|         2.0|        2.5|  0.5|    0.5|       0.0|         0.0|                  0.3|         3.8|                 0.0|        0.0|\n",
      "|       2|2022-10-01T06:21:...| 2022-10-01T06:33:...|            1.0|         1.06|       1.0|                 N|         260|         260|         1.0|        9.5|  0.5|    0.5|      10.0|         0.0|                  0.3|        20.8|                 0.0|        0.0|\n",
      "|       2|2022-10-01T05:36:...| 2022-10-01T05:45:...|            1.0|         1.69|       1.0|                 N|           7|         223|         1.0|        7.5|  0.5|    0.5|      1.76|         0.0|                  0.3|       10.56|                 0.0|        0.0|\n",
      "|       2|2022-10-01T06:31:...| 2022-10-01T06:52:...|            1.0|         6.03|       1.0|                 N|          75|         235|         1.0|       19.5|  0.5|    0.5|       6.0|         0.0|                  0.3|        26.8|                 0.0|        0.0|\n",
      "|       2|2022-10-01T06:09:...| 2022-10-01T06:23:...|            1.0|         3.61|       1.0|                 N|          74|          69|         1.0|       13.5|  0.5|    0.5|      2.96|         0.0|                  0.3|       17.76|                 0.0|        0.0|\n",
      "|       2|2022-10-01T05:57:...| 2022-10-01T06:07:...|            1.0|         2.74|       1.0|                 N|          75|          42|         1.0|       10.5|  0.5|    0.5|       0.0|         0.0|                  0.3|        11.8|                 0.0|        0.0|\n",
      "+--------+--------------------+---------------------+---------------+-------------+----------+------------------+------------+------------+------------+-----------+-----+-------+----------+------------+---------------------+------------+--------------------+-----------+\n",
      "only showing top 20 rows\n",
      "\n"
     ]
    }
   ],
   "source": [
    "# Use tab delimiter to read GreenTaxis file\n",
    "\n",
    "greenTaxiDF = (\n",
    "                  spark\n",
    "                    .read                     \n",
    "                    .option(\"header\", \"true\")\n",
    "    \n",
    "                    .option(\"delimiter\", \"\\t\")\n",
    "    \n",
    "                    .csv(\"C:\\SparkCourse\\DataFiles\\Raw\\GreenTaxis_*.csv\")\n",
    "              )\n",
    "\n",
    "greenTaxiDF.show()"
   ]
  },
  {
   "cell_type": "markdown",
   "id": "a836370e",
   "metadata": {},
   "source": [
    "### Read JSON File"
   ]
  },
  {
   "cell_type": "code",
   "execution_count": 13,
   "id": "d6ba7a49",
   "metadata": {},
   "outputs": [
    {
     "name": "stdout",
     "output_type": "stream",
     "text": [
      "+-----------+-------------+\n",
      "|PaymentType|PaymentTypeID|\n",
      "+-----------+-------------+\n",
      "|Credit Card|            1|\n",
      "|       Cash|            2|\n",
      "|  No Charge|            3|\n",
      "|    Dispute|            4|\n",
      "|    Unknown|            5|\n",
      "|Voided Trip|            6|\n",
      "+-----------+-------------+\n",
      "\n"
     ]
    }
   ],
   "source": [
    "# Read PaymentTypes JSON file\n",
    "\n",
    "paymentTypesDF = (\n",
    "                      spark\n",
    "                        .read\n",
    "                        .json(\"C:\\SparkCourse\\DataFiles\\Raw\\PaymentTypes.json\")\n",
    "                 )\n",
    "\n",
    "#paymentTypesDF = (\n",
    "#                     spark\n",
    "#                       .read\n",
    "\n",
    "#                       .format(\"json\")\n",
    "#                       .load(\"C:\\SparkCourse\\DataFiles\\Raw\\PaymentTypes.json\")\n",
    "#                 )\n",
    "\n",
    "paymentTypesDF.show()"
   ]
  },
  {
   "cell_type": "markdown",
   "id": "923d5bc1",
   "metadata": {},
   "source": [
    "### Schema Option 1 - No schema inference or definition\n",
    "\n",
    "<i>Check for jobs"
   ]
  },
  {
   "cell_type": "code",
   "execution_count": 14,
   "id": "e37b6067",
   "metadata": {},
   "outputs": [
    {
     "name": "stdout",
     "output_type": "stream",
     "text": [
      "root\n",
      " |-- VendorID: string (nullable = true)\n",
      " |-- tpep_pickup_datetime: string (nullable = true)\n",
      " |-- tpep_dropoff_datetime: string (nullable = true)\n",
      " |-- passenger_count: string (nullable = true)\n",
      " |-- trip_distance: string (nullable = true)\n",
      " |-- RatecodeID: string (nullable = true)\n",
      " |-- store_and_fwd_flag: string (nullable = true)\n",
      " |-- PULocationID: string (nullable = true)\n",
      " |-- DOLocationID: string (nullable = true)\n",
      " |-- payment_type: string (nullable = true)\n",
      " |-- fare_amount: string (nullable = true)\n",
      " |-- extra: string (nullable = true)\n",
      " |-- mta_tax: string (nullable = true)\n",
      " |-- tip_amount: string (nullable = true)\n",
      " |-- tolls_amount: string (nullable = true)\n",
      " |-- improvement_surcharge: string (nullable = true)\n",
      " |-- total_amount: string (nullable = true)\n",
      " |-- congestion_surcharge: string (nullable = true)\n",
      " |-- airport_fee: string (nullable = true)\n",
      "\n"
     ]
    }
   ],
   "source": [
    "# Read YellowTaxis csv file to create DataFrame\n",
    "\n",
    "yellowTaxiDF = (\n",
    "                  spark\n",
    "                    .read    \n",
    "                    .option(\"header\", \"true\")    \n",
    "                    .csv(\"C:\\SparkCourse\\DataFiles\\Raw\\YellowTaxis_202210.csv\")\n",
    "               )\n",
    "\n",
    "yellowTaxiDF.printSchema()"
   ]
  },
  {
   "cell_type": "markdown",
   "id": "f648bca4",
   "metadata": {},
   "source": [
    "### Schema Option 2 - Infer schema\n",
    "\n",
    "<i>Check for jobs"
   ]
  },
  {
   "cell_type": "code",
   "execution_count": 15,
   "id": "882bd119",
   "metadata": {},
   "outputs": [
    {
     "name": "stdout",
     "output_type": "stream",
     "text": [
      "root\n",
      " |-- VendorID: integer (nullable = true)\n",
      " |-- tpep_pickup_datetime: timestamp (nullable = true)\n",
      " |-- tpep_dropoff_datetime: timestamp (nullable = true)\n",
      " |-- passenger_count: double (nullable = true)\n",
      " |-- trip_distance: double (nullable = true)\n",
      " |-- RatecodeID: double (nullable = true)\n",
      " |-- store_and_fwd_flag: string (nullable = true)\n",
      " |-- PULocationID: integer (nullable = true)\n",
      " |-- DOLocationID: integer (nullable = true)\n",
      " |-- payment_type: integer (nullable = true)\n",
      " |-- fare_amount: double (nullable = true)\n",
      " |-- extra: double (nullable = true)\n",
      " |-- mta_tax: double (nullable = true)\n",
      " |-- tip_amount: double (nullable = true)\n",
      " |-- tolls_amount: double (nullable = true)\n",
      " |-- improvement_surcharge: double (nullable = true)\n",
      " |-- total_amount: double (nullable = true)\n",
      " |-- congestion_surcharge: double (nullable = true)\n",
      " |-- airport_fee: double (nullable = true)\n",
      "\n"
     ]
    }
   ],
   "source": [
    "# Read YellowTaxis csv file, and create DataFrame by inferring the schema\n",
    "\n",
    "yellowTaxiDF = (\n",
    "                  spark\n",
    "                    .read\n",
    "                    .option(\"header\", \"true\")\n",
    "    \n",
    "                    .option(\"inferSchema\", \"true\")\n",
    "    \n",
    "                    .csv(\"C:\\SparkCourse\\DataFiles\\Raw\\YellowTaxis_202210.csv\")\n",
    "               )\n",
    "\n",
    "yellowTaxiDF.printSchema()"
   ]
  },
  {
   "cell_type": "markdown",
   "id": "1a087768",
   "metadata": {},
   "source": [
    "### Schema Option 3 - Define schema & apply\n",
    "\n",
    "<i>Check for jobs"
   ]
  },
  {
   "cell_type": "code",
   "execution_count": 16,
   "id": "b16794b7",
   "metadata": {},
   "outputs": [],
   "source": [
    "# Create schema for Yellow Taxi Data\n",
    "\n",
    "yellowTaxiSchema = (\n",
    "                        StructType\n",
    "                        ([ \n",
    "                            StructField(\"VendorId\"               , IntegerType()   , True),\n",
    "                            StructField(\"lpep_pickup_datetime\"   , TimestampType() , True),\n",
    "                            StructField(\"lpep_dropoff_datetime\"  , TimestampType() , True),\n",
    "                            StructField(\"passenger_count\"        , DoubleType()    , True),\n",
    "                            StructField(\"trip_distance\"          , DoubleType()    , True),\n",
    "                            StructField(\"RatecodeID\"             , DoubleType()    , True),\n",
    "                            StructField(\"store_and_fwd_flag\"     , StringType()    , True),\n",
    "                            StructField(\"PULocationID\"           , IntegerType()   , True),\n",
    "                            StructField(\"DOLocationID\"           , IntegerType()   , True),\n",
    "                            StructField(\"payment_type\"           , IntegerType()   , True),\n",
    "                            StructField(\"fare_amount\"            , DoubleType()    , True),\n",
    "                            StructField(\"extra\"                  , DoubleType()    , True),\n",
    "                            StructField(\"mta_tax\"                , DoubleType()    , True),\n",
    "                            StructField(\"tip_amount\"             , DoubleType()    , True),\n",
    "                            StructField(\"tolls_amount\"           , DoubleType()    , True),\n",
    "                            StructField(\"improvement_surcharge\"  , DoubleType()    , True),\n",
    "                            StructField(\"total_amount\"           , DoubleType()    , True),\n",
    "                            StructField(\"congestion_surcharge\"   , DoubleType()    , True),\n",
    "                            StructField(\"airport_fee\"            , DoubleType()    , True)\n",
    "                        ])\n",
    "                   )"
   ]
  },
  {
   "cell_type": "code",
   "execution_count": 17,
   "id": "f4807c4f",
   "metadata": {},
   "outputs": [
    {
     "name": "stdout",
     "output_type": "stream",
     "text": [
      "root\n",
      " |-- VendorId: integer (nullable = true)\n",
      " |-- lpep_pickup_datetime: timestamp (nullable = true)\n",
      " |-- lpep_dropoff_datetime: timestamp (nullable = true)\n",
      " |-- passenger_count: double (nullable = true)\n",
      " |-- trip_distance: double (nullable = true)\n",
      " |-- RatecodeID: double (nullable = true)\n",
      " |-- store_and_fwd_flag: string (nullable = true)\n",
      " |-- PULocationID: integer (nullable = true)\n",
      " |-- DOLocationID: integer (nullable = true)\n",
      " |-- payment_type: integer (nullable = true)\n",
      " |-- fare_amount: double (nullable = true)\n",
      " |-- extra: double (nullable = true)\n",
      " |-- mta_tax: double (nullable = true)\n",
      " |-- tip_amount: double (nullable = true)\n",
      " |-- tolls_amount: double (nullable = true)\n",
      " |-- improvement_surcharge: double (nullable = true)\n",
      " |-- total_amount: double (nullable = true)\n",
      " |-- congestion_surcharge: double (nullable = true)\n",
      " |-- airport_fee: double (nullable = true)\n",
      "\n"
     ]
    }
   ],
   "source": [
    "# Read YellowTaxis csv file, and create DataFrame by applying the schema\n",
    "\n",
    "yellowTaxiDF = (\n",
    "                  spark\n",
    "                    .read\n",
    "                    .option(\"header\", \"true\")\n",
    "    \n",
    "                    .schema(yellowTaxiSchema)\n",
    "    \n",
    "                    .csv(\"C:\\SparkCourse\\DataFiles\\Raw\\YellowTaxis_202210.csv\")\n",
    "               )\n",
    "\n",
    "yellowTaxiDF.printSchema()"
   ]
  },
  {
   "cell_type": "markdown",
   "id": "bced448f",
   "metadata": {},
   "source": [
    "### Define schema for JSON file"
   ]
  },
  {
   "cell_type": "code",
   "execution_count": 18,
   "id": "fe8e53d3",
   "metadata": {},
   "outputs": [
    {
     "ename": "AnalysisException",
     "evalue": "\nSince Spark 2.3, the queries from raw JSON/CSV files are disallowed when the\nreferenced columns only include the internal corrupt record column\n(named _corrupt_record by default). For example:\nspark.read.schema(schema).csv(file).filter($\"_corrupt_record\".isNotNull).count()\nand spark.read.schema(schema).csv(file).select(\"_corrupt_record\").show().\nInstead, you can cache or save the parsed results and then send the same query.\nFor example, val df = spark.read.schema(schema).csv(file).cache() and then\ndf.filter($\"_corrupt_record\".isNotNull).count().\n      ",
     "output_type": "error",
     "traceback": [
      "\u001b[1;31m---------------------------------------------------------------------------\u001b[0m",
      "\u001b[1;31mAnalysisException\u001b[0m                         Traceback (most recent call last)",
      "Cell \u001b[1;32mIn[18], line 9\u001b[0m\n\u001b[0;32m      1\u001b[0m \u001b[38;5;66;03m# Read JSON file\u001b[39;00m\n\u001b[0;32m      3\u001b[0m taxiBasesDF \u001b[38;5;241m=\u001b[39m (\n\u001b[0;32m      4\u001b[0m                   spark\n\u001b[0;32m      5\u001b[0m                     \u001b[38;5;241m.\u001b[39mread\n\u001b[0;32m      6\u001b[0m                     \u001b[38;5;241m.\u001b[39mjson(\u001b[38;5;124m\"\u001b[39m\u001b[38;5;124mC:\u001b[39m\u001b[38;5;124m\\\u001b[39m\u001b[38;5;124mSparkCourse\u001b[39m\u001b[38;5;124m\\\u001b[39m\u001b[38;5;124mDataFiles\u001b[39m\u001b[38;5;124m\\\u001b[39m\u001b[38;5;124mRaw\u001b[39m\u001b[38;5;124m\\\u001b[39m\u001b[38;5;124mTaxiBases.json\u001b[39m\u001b[38;5;124m\"\u001b[39m)\n\u001b[0;32m      7\u001b[0m               )\n\u001b[1;32m----> 9\u001b[0m \u001b[43mtaxiBasesDF\u001b[49m\u001b[38;5;241;43m.\u001b[39;49m\u001b[43mshow\u001b[49m\u001b[43m(\u001b[49m\u001b[43m)\u001b[49m\n",
      "File \u001b[1;32mC:\\Installation\\spark-3.3.2-bin-hadoop3\\python\\pyspark\\sql\\dataframe.py:606\u001b[0m, in \u001b[0;36mDataFrame.show\u001b[1;34m(self, n, truncate, vertical)\u001b[0m\n\u001b[0;32m    603\u001b[0m     \u001b[38;5;28;01mraise\u001b[39;00m \u001b[38;5;167;01mTypeError\u001b[39;00m(\u001b[38;5;124m\"\u001b[39m\u001b[38;5;124mParameter \u001b[39m\u001b[38;5;124m'\u001b[39m\u001b[38;5;124mvertical\u001b[39m\u001b[38;5;124m'\u001b[39m\u001b[38;5;124m must be a bool\u001b[39m\u001b[38;5;124m\"\u001b[39m)\n\u001b[0;32m    605\u001b[0m \u001b[38;5;28;01mif\u001b[39;00m \u001b[38;5;28misinstance\u001b[39m(truncate, \u001b[38;5;28mbool\u001b[39m) \u001b[38;5;129;01mand\u001b[39;00m truncate:\n\u001b[1;32m--> 606\u001b[0m     \u001b[38;5;28mprint\u001b[39m(\u001b[38;5;28;43mself\u001b[39;49m\u001b[38;5;241;43m.\u001b[39;49m\u001b[43m_jdf\u001b[49m\u001b[38;5;241;43m.\u001b[39;49m\u001b[43mshowString\u001b[49m\u001b[43m(\u001b[49m\u001b[43mn\u001b[49m\u001b[43m,\u001b[49m\u001b[43m \u001b[49m\u001b[38;5;241;43m20\u001b[39;49m\u001b[43m,\u001b[49m\u001b[43m \u001b[49m\u001b[43mvertical\u001b[49m\u001b[43m)\u001b[49m)\n\u001b[0;32m    607\u001b[0m \u001b[38;5;28;01melse\u001b[39;00m:\n\u001b[0;32m    608\u001b[0m     \u001b[38;5;28;01mtry\u001b[39;00m:\n",
      "File \u001b[1;32mC:\\Installation\\spark-3.3.2-bin-hadoop3\\python\\lib\\py4j-0.10.9.5-src.zip\\py4j\\java_gateway.py:1321\u001b[0m, in \u001b[0;36mJavaMember.__call__\u001b[1;34m(self, *args)\u001b[0m\n\u001b[0;32m   1315\u001b[0m command \u001b[38;5;241m=\u001b[39m proto\u001b[38;5;241m.\u001b[39mCALL_COMMAND_NAME \u001b[38;5;241m+\u001b[39m\\\n\u001b[0;32m   1316\u001b[0m     \u001b[38;5;28mself\u001b[39m\u001b[38;5;241m.\u001b[39mcommand_header \u001b[38;5;241m+\u001b[39m\\\n\u001b[0;32m   1317\u001b[0m     args_command \u001b[38;5;241m+\u001b[39m\\\n\u001b[0;32m   1318\u001b[0m     proto\u001b[38;5;241m.\u001b[39mEND_COMMAND_PART\n\u001b[0;32m   1320\u001b[0m answer \u001b[38;5;241m=\u001b[39m \u001b[38;5;28mself\u001b[39m\u001b[38;5;241m.\u001b[39mgateway_client\u001b[38;5;241m.\u001b[39msend_command(command)\n\u001b[1;32m-> 1321\u001b[0m return_value \u001b[38;5;241m=\u001b[39m \u001b[43mget_return_value\u001b[49m\u001b[43m(\u001b[49m\n\u001b[0;32m   1322\u001b[0m \u001b[43m    \u001b[49m\u001b[43manswer\u001b[49m\u001b[43m,\u001b[49m\u001b[43m \u001b[49m\u001b[38;5;28;43mself\u001b[39;49m\u001b[38;5;241;43m.\u001b[39;49m\u001b[43mgateway_client\u001b[49m\u001b[43m,\u001b[49m\u001b[43m \u001b[49m\u001b[38;5;28;43mself\u001b[39;49m\u001b[38;5;241;43m.\u001b[39;49m\u001b[43mtarget_id\u001b[49m\u001b[43m,\u001b[49m\u001b[43m \u001b[49m\u001b[38;5;28;43mself\u001b[39;49m\u001b[38;5;241;43m.\u001b[39;49m\u001b[43mname\u001b[49m\u001b[43m)\u001b[49m\n\u001b[0;32m   1324\u001b[0m \u001b[38;5;28;01mfor\u001b[39;00m temp_arg \u001b[38;5;129;01min\u001b[39;00m temp_args:\n\u001b[0;32m   1325\u001b[0m     temp_arg\u001b[38;5;241m.\u001b[39m_detach()\n",
      "File \u001b[1;32mC:\\Installation\\spark-3.3.2-bin-hadoop3\\python\\pyspark\\sql\\utils.py:196\u001b[0m, in \u001b[0;36mcapture_sql_exception.<locals>.deco\u001b[1;34m(*a, **kw)\u001b[0m\n\u001b[0;32m    192\u001b[0m converted \u001b[38;5;241m=\u001b[39m convert_exception(e\u001b[38;5;241m.\u001b[39mjava_exception)\n\u001b[0;32m    193\u001b[0m \u001b[38;5;28;01mif\u001b[39;00m \u001b[38;5;129;01mnot\u001b[39;00m \u001b[38;5;28misinstance\u001b[39m(converted, UnknownException):\n\u001b[0;32m    194\u001b[0m     \u001b[38;5;66;03m# Hide where the exception came from that shows a non-Pythonic\u001b[39;00m\n\u001b[0;32m    195\u001b[0m     \u001b[38;5;66;03m# JVM exception message.\u001b[39;00m\n\u001b[1;32m--> 196\u001b[0m     \u001b[38;5;28;01mraise\u001b[39;00m converted \u001b[38;5;28;01mfrom\u001b[39;00m \u001b[38;5;28mNone\u001b[39m\n\u001b[0;32m    197\u001b[0m \u001b[38;5;28;01melse\u001b[39;00m:\n\u001b[0;32m    198\u001b[0m     \u001b[38;5;28;01mraise\u001b[39;00m\n",
      "\u001b[1;31mAnalysisException\u001b[0m: \nSince Spark 2.3, the queries from raw JSON/CSV files are disallowed when the\nreferenced columns only include the internal corrupt record column\n(named _corrupt_record by default). For example:\nspark.read.schema(schema).csv(file).filter($\"_corrupt_record\".isNotNull).count()\nand spark.read.schema(schema).csv(file).select(\"_corrupt_record\").show().\nInstead, you can cache or save the parsed results and then send the same query.\nFor example, val df = spark.read.schema(schema).csv(file).cache() and then\ndf.filter($\"_corrupt_record\".isNotNull).count().\n      "
     ]
    }
   ],
   "source": [
    "# Read JSON file\n",
    "\n",
    "taxiBasesDF = (\n",
    "                  spark\n",
    "                    .read\n",
    "                    .json(\"C:\\SparkCourse\\DataFiles\\Raw\\TaxiBases.json\")\n",
    "              )\n",
    "\n",
    "taxiBasesDF.show()"
   ]
  },
  {
   "cell_type": "code",
   "execution_count": 19,
   "id": "ae93dc83",
   "metadata": {},
   "outputs": [
    {
     "name": "stdout",
     "output_type": "stream",
     "text": [
      "+-----------------------------------------------------------+----------+--------------------------------------+------------------------------------------------+--------------+------------+----------------+--------+---------------------------+\n",
      "|Address                                                    |Date      |Entity Name                           |GeoLocation                                     |License Number|SHL Endorsed|Telephone Number|Time    |Type of Base               |\n",
      "+-----------------------------------------------------------+----------+--------------------------------------+------------------------------------------------+--------------+------------+----------------+--------+---------------------------+\n",
      "|{636, NEW YORK, 10001, NY, WEST   28 STREET}               |08/15/2019|VIER-NY,LLC                           |{40.75273, (40.75273, -74.006408), -74.006408}  |B02865        |No          |6466657536      |18:03:31|BLACK CAR BASE             |\n",
      "|{131, BRONX, 10468, NY, KINGSBRIDGE ROAD}                  |08/15/2019|VETERANS RADIO DISPATCHER CORP.       |{40.86927, (40.86927, -73.90281), -73.90281}    |B02634        |No          |7183647878      |18:03:31|LIVERY BASE                |\n",
      "|{115-54, ELMONT, 11003, NY, 238 STREET}                    |08/15/2019|ALPHA VAN LINE                        |{40.693473, (40.693473, -73.724446), -73.724446}|B80094        |No          |5162850750      |18:03:31|COMMUTER VAN AUTHORITY BASE|\n",
      "|{866, BROOKLYN, 11208, NY, NEW LOTS AVENUE}                |08/15/2019|A.T.B. CAR AND LIMOUSINE SERVICE, INC.|{40.667838, (40.667838, -73.8788), -73.8788}    |B02677        |No          |7184854444      |18:03:31|LIVERY BASE                |\n",
      "|{57-48, MASPETH, 11378, NY, MASPETH AVENUE}                |08/15/2019|KYOEI LIMOUSINE, INC.                 |{40.722961, (40.722961, -73.91031), -73.91031}  |B02152        |No          |7183263258      |18:03:31|LUXURY/LIMOUSINE           |\n",
      "|{31-00, LIC, 11101, NY, 47 AVENUE  SUITE # 4123A}          |08/15/2019|ENDOR CAR & DRIVER,LLC.               |{40.742082, (40.742082, -73.93552), -73.93552}  |B02844        |No          |4154758459      |18:03:31|BLACK CAR BASE             |\n",
      "|{68-20A, FRESH MEADOWS, 11365, NY, FRESH MEADOW LANE}      |08/15/2019|SKYWAY EXECUTIVE SERVICE, INC         |{40.733337, (40.733337, -73.794706), -73.794706}|B02841        |No          |7183595959      |18:03:31|BLACK CAR BASE             |\n",
      "|{22-11, LIC, 11101, NY, 38 AVENUE}                         |08/15/2019|FARRELL'S LEASING CO.                 |{40.757077, (40.757077, -73.937504), -73.937504}|B00472        |No          |2128616300      |18:03:31|LUXURY/LIMOUSINE           |\n",
      "|{429, BROOKLYN, 11212, NY, SUTTER AVENUE}                  |08/15/2019|CITY CAR SERVICE CORP                 |{40.668473, (40.668473, -73.903383), -73.903383}|B01739        |No          |7184182222      |18:03:31|LIVERY BASE                |\n",
      "|{41-31, FLUSHING, 11355, NY, MAIN STREET}                  |08/15/2019|YELLOWSTONE TRANSPORTATION INC.       |{40.758114, (40.758114, -73.82962), -73.82962}  |B00248        |No          |7185397777      |18:03:31|LIVERY BASE                |\n",
      "|{1811, BROOKLYN, 11223, NY, EAST    7 STREET}              |08/15/2019|ELTRI CAR SERVICE INC                 |{40.612302, (40.612302, -73.963221), -73.963221}|B02861        |No          |7183820100      |18:03:31|BLACK CAR BASE             |\n",
      "|{104-08, RICHMOND HILL, 11419, NY, 123RD STREET}           |08/15/2019|V.J. CAR & LIMO SVC INC.              |{40.691906, (40.691906, -73.82342), -73.82342}  |B02093        |No          |7186417777      |18:03:31|LIVERY BASE                |\n",
      "|{6701, BROOKLYN, 11204, NY, BAY PARKWAY  OFFICE #1 3RD FLR}|08/15/2019|ADVANTAGE LIMO OF NY INC              |{40.603784, (40.603784, -73.972558), -73.972558}|B02980        |No          |3478655876      |18:03:31|LUXURY/LIMOUSINE           |\n",
      "|{636, NEW YORK, 10001, NY, WEST   28 STREET}               |08/15/2019|ELF-NY,LLC                            |{40.75273, (40.75273, -74.00641), -74.00641}    |B02878        |No          |6466657540      |18:03:31|BLACK CAR BASE             |\n",
      "|{85-02, REGO PARK, 11374, NY, 67 AVENUE  SUITE 1}          |08/15/2019|ALTA MEDICAL TRANSPORTATION, INC.     |{40.717275, (40.717275, -73.86211), -73.86211}  |B90691        |No          |7188972582      |18:03:31|PARATRANSIT BASE           |\n",
      "|{565, BRONX, 10460, NY, VAN NEST AVENUE}                   |08/15/2019|RAELEEN CAR CORP.                     |{40.755734, (40.755734, -73.93795), -73.93795}  |B02840        |No          |9176031815      |18:03:31|BLACK CAR BASE             |\n",
      "|{2421, BROOKLYN, 11214, NY, BATH AVENUE}                   |08/15/2019|ASCONA CAR SERVICE INC.               |{40.595422, (40.595422, -73.992368), -73.992368}|B02658        |No          |7186461611      |18:03:31|LIVERY BASE                |\n",
      "|{6318, BROOKLYN, 11219, NY, 14 AVENUE}                     |08/15/2019|CHICO EXPRESS LIMO, INC.              |{40.625609, (40.625609, -73.998684), -73.998684}|B02331        |No          |7182367777      |18:03:31|BLACK CAR BASE             |\n",
      "|{32-10, LIC, 11101, NY, GREENPOINT AVENUE}                 |08/15/2019|LYFE AUTO GROUP INC                   |{40.734944, (40.734944, -73.935733), -73.935733}|B02969        |No          |7187066234      |18:03:31|BLACK CAR BASE             |\n",
      "|{626, UNIONDALE, 11556, NY, REXCORP PLAZA}                 |08/15/2019|SAROS TRANSPORTATION GROUP INC.       |{40.638931, (40.638931, -73.982954), -73.982954}|B02651        |No          |7185640084      |18:03:31|BLACK CAR BASE             |\n",
      "+-----------------------------------------------------------+----------+--------------------------------------+------------------------------------------------+--------------+------------+----------------+--------+---------------------------+\n",
      "only showing top 20 rows\n",
      "\n"
     ]
    }
   ],
   "source": [
    "# Read multiline JSON file\n",
    "\n",
    "taxiBasesDF = (\n",
    "                  spark\n",
    "                    .read\n",
    "    \n",
    "                    .option(\"multiline\", \"true\")\n",
    "    \n",
    "                    .json(\"C:\\SparkCourse\\DataFiles\\Raw\\TaxiBases.json\")\n",
    "              )\n",
    "\n",
    "taxiBasesDF.show(truncate=False)"
   ]
  },
  {
   "cell_type": "code",
   "execution_count": 20,
   "id": "4c40ad37",
   "metadata": {},
   "outputs": [
    {
     "name": "stdout",
     "output_type": "stream",
     "text": [
      "root\n",
      " |-- Address: struct (nullable = true)\n",
      " |    |-- Building: string (nullable = true)\n",
      " |    |-- City: string (nullable = true)\n",
      " |    |-- Postcode: long (nullable = true)\n",
      " |    |-- State: string (nullable = true)\n",
      " |    |-- Street: string (nullable = true)\n",
      " |-- Date: string (nullable = true)\n",
      " |-- Entity Name: string (nullable = true)\n",
      " |-- GeoLocation: struct (nullable = true)\n",
      " |    |-- Latitude: double (nullable = true)\n",
      " |    |-- Location: string (nullable = true)\n",
      " |    |-- Longitude: double (nullable = true)\n",
      " |-- License Number: string (nullable = true)\n",
      " |-- SHL Endorsed: string (nullable = true)\n",
      " |-- Telephone Number: long (nullable = true)\n",
      " |-- Time: string (nullable = true)\n",
      " |-- Type of Base: string (nullable = true)\n",
      "\n"
     ]
    }
   ],
   "source": [
    "# Check the complex structure of JSON data\n",
    "\n",
    "taxiBasesDF.printSchema()"
   ]
  },
  {
   "cell_type": "code",
   "execution_count": 21,
   "id": "293b7d98",
   "metadata": {},
   "outputs": [],
   "source": [
    "# Define schema for JSON data\n",
    "\n",
    "taxiBasesSchema = (\n",
    "                    StructType\n",
    "                    ([\n",
    "                        StructField(\"License Number\"         , StringType()    , True),\n",
    "                        StructField(\"Entity Name\"            , StringType()    , True),\n",
    "                        StructField(\"Telephone Number\"       , LongType()      , True),\n",
    "                        StructField(\"SHL Endorsed\"           , StringType()    , True),\n",
    "                        StructField(\"Type of Base\"           , StringType()    , True),\n",
    "\n",
    "                        StructField(\"Address\", \n",
    "                                        StructType\n",
    "                                        ([\n",
    "                                            StructField(\"Building\"   , StringType(),   True),\n",
    "                                            StructField(\"Street\"     , StringType(),   True), \n",
    "                                            StructField(\"City\"       , StringType(),   True), \n",
    "                                            StructField(\"State\"      , StringType(),   True), \n",
    "                                            StructField(\"Postcode\"   , StringType(),   True)\n",
    "                                        ]),\n",
    "                                    True\n",
    "                                   ),\n",
    "                        \n",
    "                        StructField(\"GeoLocation\", \n",
    "                                        StructType\n",
    "                                        ([\n",
    "                                            StructField(\"Latitude\"   , StringType(),   True),\n",
    "                                            StructField(\"Longitude\"  , StringType(),   True), \n",
    "                                            StructField(\"Location\"   , StringType(),   True)\n",
    "                                        ]),\n",
    "                                    True\n",
    "                                   )  \n",
    "                  ])\n",
    "                )"
   ]
  },
  {
   "cell_type": "code",
   "execution_count": 22,
   "id": "41863f24",
   "metadata": {
    "scrolled": true
   },
   "outputs": [
    {
     "name": "stdout",
     "output_type": "stream",
     "text": [
      "+--------------+--------------------------------------+----------------+------------+---------------------------+-----------------------------------------------------------+------------------------------------------------+\n",
      "|License Number|Entity Name                           |Telephone Number|SHL Endorsed|Type of Base               |Address                                                    |GeoLocation                                     |\n",
      "+--------------+--------------------------------------+----------------+------------+---------------------------+-----------------------------------------------------------+------------------------------------------------+\n",
      "|B02865        |VIER-NY,LLC                           |6466657536      |No          |BLACK CAR BASE             |{636, WEST   28 STREET, NEW YORK, NY, 10001}               |{40.75273, -74.006408, (40.75273, -74.006408)}  |\n",
      "|B02634        |VETERANS RADIO DISPATCHER CORP.       |7183647878      |No          |LIVERY BASE                |{131, KINGSBRIDGE ROAD, BRONX, NY, 10468}                  |{40.86927, -73.90281, (40.86927, -73.90281)}    |\n",
      "|B80094        |ALPHA VAN LINE                        |5162850750      |No          |COMMUTER VAN AUTHORITY BASE|{115-54, 238 STREET, ELMONT, NY, 11003}                    |{40.693473, -73.724446, (40.693473, -73.724446)}|\n",
      "|B02677        |A.T.B. CAR AND LIMOUSINE SERVICE, INC.|7184854444      |No          |LIVERY BASE                |{866, NEW LOTS AVENUE, BROOKLYN, NY, 11208}                |{40.667838, -73.8788, (40.667838, -73.8788)}    |\n",
      "|B02152        |KYOEI LIMOUSINE, INC.                 |7183263258      |No          |LUXURY/LIMOUSINE           |{57-48, MASPETH AVENUE, MASPETH, NY, 11378}                |{40.722961, -73.91031, (40.722961, -73.91031)}  |\n",
      "|B02844        |ENDOR CAR & DRIVER,LLC.               |4154758459      |No          |BLACK CAR BASE             |{31-00, 47 AVENUE  SUITE # 4123A, LIC, NY, 11101}          |{40.742082, -73.93552, (40.742082, -73.93552)}  |\n",
      "|B02841        |SKYWAY EXECUTIVE SERVICE, INC         |7183595959      |No          |BLACK CAR BASE             |{68-20A, FRESH MEADOW LANE, FRESH MEADOWS, NY, 11365}      |{40.733337, -73.794706, (40.733337, -73.794706)}|\n",
      "|B00472        |FARRELL'S LEASING CO.                 |2128616300      |No          |LUXURY/LIMOUSINE           |{22-11, 38 AVENUE, LIC, NY, 11101}                         |{40.757077, -73.937504, (40.757077, -73.937504)}|\n",
      "|B01739        |CITY CAR SERVICE CORP                 |7184182222      |No          |LIVERY BASE                |{429, SUTTER AVENUE, BROOKLYN, NY, 11212}                  |{40.668473, -73.903383, (40.668473, -73.903383)}|\n",
      "|B00248        |YELLOWSTONE TRANSPORTATION INC.       |7185397777      |No          |LIVERY BASE                |{41-31, MAIN STREET, FLUSHING, NY, 11355}                  |{40.758114, -73.82962, (40.758114, -73.82962)}  |\n",
      "|B02861        |ELTRI CAR SERVICE INC                 |7183820100      |No          |BLACK CAR BASE             |{1811, EAST    7 STREET, BROOKLYN, NY, 11223}              |{40.612302, -73.963221, (40.612302, -73.963221)}|\n",
      "|B02093        |V.J. CAR & LIMO SVC INC.              |7186417777      |No          |LIVERY BASE                |{104-08, 123RD STREET, RICHMOND HILL, NY, 11419}           |{40.691906, -73.82342, (40.691906, -73.82342)}  |\n",
      "|B02980        |ADVANTAGE LIMO OF NY INC              |3478655876      |No          |LUXURY/LIMOUSINE           |{6701, BAY PARKWAY  OFFICE #1 3RD FLR, BROOKLYN, NY, 11204}|{40.603784, -73.972558, (40.603784, -73.972558)}|\n",
      "|B02878        |ELF-NY,LLC                            |6466657540      |No          |BLACK CAR BASE             |{636, WEST   28 STREET, NEW YORK, NY, 10001}               |{40.75273, -74.00641, (40.75273, -74.00641)}    |\n",
      "|B90691        |ALTA MEDICAL TRANSPORTATION, INC.     |7188972582      |No          |PARATRANSIT BASE           |{85-02, 67 AVENUE  SUITE 1, REGO PARK, NY, 11374}          |{40.717275, -73.86211, (40.717275, -73.86211)}  |\n",
      "|B02840        |RAELEEN CAR CORP.                     |9176031815      |No          |BLACK CAR BASE             |{565, VAN NEST AVENUE, BRONX, NY, 10460}                   |{40.755734, -73.93795, (40.755734, -73.93795)}  |\n",
      "|B02658        |ASCONA CAR SERVICE INC.               |7186461611      |No          |LIVERY BASE                |{2421, BATH AVENUE, BROOKLYN, NY, 11214}                   |{40.595422, -73.992368, (40.595422, -73.992368)}|\n",
      "|B02331        |CHICO EXPRESS LIMO, INC.              |7182367777      |No          |BLACK CAR BASE             |{6318, 14 AVENUE, BROOKLYN, NY, 11219}                     |{40.625609, -73.998684, (40.625609, -73.998684)}|\n",
      "|B02969        |LYFE AUTO GROUP INC                   |7187066234      |No          |BLACK CAR BASE             |{32-10, GREENPOINT AVENUE, LIC, NY, 11101}                 |{40.734944, -73.935733, (40.734944, -73.935733)}|\n",
      "|B02651        |SAROS TRANSPORTATION GROUP INC.       |7185640084      |No          |BLACK CAR BASE             |{626, REXCORP PLAZA, UNIONDALE, NY, 11556}                 |{40.638931, -73.982954, (40.638931, -73.982954)}|\n",
      "+--------------+--------------------------------------+----------------+------------+---------------------------+-----------------------------------------------------------+------------------------------------------------+\n",
      "only showing top 20 rows\n",
      "\n"
     ]
    }
   ],
   "source": [
    "# Read JSON file by applying nested schema\n",
    "\n",
    "taxiBasesDF = (\n",
    "                  spark\n",
    "                    .read    \n",
    "                    .option(\"multiline\", \"true\")\n",
    "    \n",
    "                    .schema(taxiBasesSchema)\n",
    "    \n",
    "                    .json(\"C:\\SparkCourse\\DataFiles\\Raw\\TaxiBases.json\")\n",
    "              )\n",
    "\n",
    "taxiBasesDF.show(truncate=False)"
   ]
  },
  {
   "cell_type": "markdown",
   "id": "0634686f",
   "metadata": {},
   "source": [
    "### Analyze Data"
   ]
  },
  {
   "cell_type": "code",
   "execution_count": 23,
   "id": "800f34c6",
   "metadata": {},
   "outputs": [
    {
     "name": "stdout",
     "output_type": "stream",
     "text": [
      "+-------+------------------+-----------------+\n",
      "|summary|   passenger_count|    trip_distance|\n",
      "+-------+------------------+-----------------+\n",
      "|  count|           3542392|          3675412|\n",
      "|   mean|1.3846934500755421|6.206976298167358|\n",
      "| stddev|0.9302303297407405|640.8236808320215|\n",
      "|    min|               0.0|              0.0|\n",
      "|    max|               9.0|        389678.46|\n",
      "+-------+------------------+-----------------+\n",
      "\n"
     ]
    }
   ],
   "source": [
    "yellowTaxiAnalyzedDF = (\n",
    "                            yellowTaxiDF.describe\n",
    "                            (\n",
    "                                \"passenger_count\",\n",
    "                                \"trip_distance\"\n",
    "                            )\n",
    "                       )\n",
    "\n",
    "yellowTaxiAnalyzedDF.show()"
   ]
  },
  {
   "cell_type": "markdown",
   "id": "4b6abd45",
   "metadata": {},
   "source": [
    "### Clean Data"
   ]
  },
  {
   "cell_type": "markdown",
   "id": "715bcbfa",
   "metadata": {},
   "source": [
    "#### 1. Accuracy Check: Filter inaccurate data"
   ]
  },
  {
   "cell_type": "code",
   "execution_count": 24,
   "id": "0c74a05b",
   "metadata": {},
   "outputs": [
    {
     "name": "stdout",
     "output_type": "stream",
     "text": [
      "Before operation = 3675412\n",
      "After operation = 3422296\n"
     ]
    }
   ],
   "source": [
    "# Display the count before operation\n",
    "print(\"Before operation = \" + str( yellowTaxiDF.count()) )\n",
    "\n",
    "\n",
    "yellowTaxiDF = (\n",
    "                  yellowTaxiDF\n",
    "    \n",
    "                      .where(\"passenger_count > 0\")\n",
    "\n",
    "                      .filter(col(\"trip_distance\") > 0.0)\n",
    "               )\n",
    "\n",
    "\n",
    "# Display the count after operation\n",
    "print(\"After operation = \" + str( yellowTaxiDF.count()) )"
   ]
  },
  {
   "cell_type": "markdown",
   "id": "2f78e49f",
   "metadata": {},
   "source": [
    "#### 2.a. Completeness Check: Drop rows with nulls"
   ]
  },
  {
   "cell_type": "code",
   "execution_count": 25,
   "id": "71bb90f7",
   "metadata": {},
   "outputs": [
    {
     "name": "stdout",
     "output_type": "stream",
     "text": [
      "Before operation = 3422296\n",
      "After operation = 3422296\n"
     ]
    }
   ],
   "source": [
    "# Display the count before operation\n",
    "print(\"Before operation = \" + str( yellowTaxiDF.count()) )\n",
    "\n",
    "\n",
    "yellowTaxiDF = (\n",
    "                   yellowTaxiDF    \n",
    "                          .na.drop('all')\n",
    "               )\n",
    "\n",
    "\n",
    "# Display the count after operation\n",
    "print(\"After operation = \" + str( yellowTaxiDF.count()) )"
   ]
  },
  {
   "cell_type": "markdown",
   "id": "23677d52",
   "metadata": {},
   "source": [
    "#### 2.b. Completeness Check: Replace nulls with default values"
   ]
  },
  {
   "cell_type": "code",
   "execution_count": 26,
   "id": "a4745686",
   "metadata": {},
   "outputs": [],
   "source": [
    "defaultValueMap = {'payment_type': 5, 'RateCodeID': 1}\n",
    "\n",
    "\n",
    "yellowTaxiDF = (\n",
    "                   yellowTaxiDF    \n",
    "                      .na.fill(defaultValueMap)\n",
    "               )"
   ]
  },
  {
   "cell_type": "markdown",
   "id": "fa475bfb",
   "metadata": {},
   "source": [
    "#### 3. Uniqueness Check: Drop duplicate rows"
   ]
  },
  {
   "cell_type": "code",
   "execution_count": 27,
   "id": "7a3c8856",
   "metadata": {},
   "outputs": [
    {
     "name": "stdout",
     "output_type": "stream",
     "text": [
      "Before operation = 3422296\n",
      "After operation = 3422295\n"
     ]
    }
   ],
   "source": [
    "# Display the count before operation\n",
    "print(\"Before operation = \" + str( yellowTaxiDF.count()) )\n",
    "\n",
    "\n",
    "yellowTaxiDF = (\n",
    "                   yellowTaxiDF\n",
    "                          .dropDuplicates()\n",
    "               )\n",
    "\n",
    "\n",
    "# Display the count after operation\n",
    "print(\"After operation = \" + str( yellowTaxiDF.count()) )"
   ]
  },
  {
   "cell_type": "markdown",
   "id": "43297c69",
   "metadata": {},
   "source": [
    "#### 4. Timeliness Check: Remove records outside the bound"
   ]
  },
  {
   "cell_type": "code",
   "execution_count": 28,
   "id": "28aebb3f",
   "metadata": {},
   "outputs": [
    {
     "name": "stdout",
     "output_type": "stream",
     "text": [
      "Before operation = 3422295\n",
      "After operation = 3393897\n"
     ]
    }
   ],
   "source": [
    "# Display the count before operation\n",
    "print(\"Before operation = \" + str( yellowTaxiDF.count()) )\n",
    "\n",
    "\n",
    "yellowTaxiDF = (\n",
    "    \n",
    "     yellowTaxiDF\n",
    "        .where(\"lpep_pickup_datetime >= '2022-10-01' AND lpep_dropoff_datetime < '2022-11-01'\")\n",
    ")\n",
    "\n",
    "\n",
    "# Display the count after operation\n",
    "print(\"After operation = \" + str( yellowTaxiDF.count()) )"
   ]
  },
  {
   "cell_type": "markdown",
   "id": "97dfdb46",
   "metadata": {},
   "source": [
    "### Chain all cleanup operation together"
   ]
  },
  {
   "cell_type": "code",
   "execution_count": null,
   "id": "4b3eee3d",
   "metadata": {},
   "outputs": [],
   "source": [
    "defaultValueMap = {'payment_type': 5, 'RateCodeID': 1}\n",
    "\n",
    "# Read file\n",
    "yellowTaxiDF = (\n",
    "                  spark\n",
    "                    .read\n",
    "                    .option(\"header\", \"true\")    \n",
    "                    .schema(yellowTaxiSchema)    \n",
    "                    .csv(\"C:\\SparkCourse\\DataFiles\\Raw\\YellowTaxis_202210.csv\")\n",
    "               )\n",
    "\n",
    "# Cleanup data by applying data quality checks\n",
    "yellowTaxiDF = (\n",
    "                  yellowTaxiDF    \n",
    "    \n",
    "                      .where(\"passenger_count > 0\")\n",
    "    \n",
    "                      .filter(col(\"trip_distance\") > 0.0)\n",
    "                          \n",
    "                      .na.drop('all')\n",
    "    \n",
    "                      .na.fill(defaultValueMap)\n",
    "    \n",
    "                      .dropDuplicates()\n",
    "    \n",
    "                      .where(\"lpep_pickup_datetime >= '2022-10-01' AND lpep_dropoff_datetime < '2022-11-01'\")\n",
    "               )\n",
    "\n",
    "# Display the count after operation\n",
    "print(\"After operation = \" + str( yellowTaxiDF.count()) )"
   ]
  },
  {
   "cell_type": "code",
   "execution_count": null,
   "id": "969a21a8",
   "metadata": {},
   "outputs": [],
   "source": []
  },
  {
   "cell_type": "code",
   "execution_count": 29,
   "id": "4b2ecb41",
   "metadata": {},
   "outputs": [
    {
     "name": "stdout",
     "output_type": "stream",
     "text": [
      "root\n",
      " |-- VendorId: integer (nullable = true)\n",
      " |-- lpep_pickup_datetime: timestamp (nullable = true)\n",
      " |-- lpep_dropoff_datetime: timestamp (nullable = true)\n",
      " |-- passenger_count: double (nullable = true)\n",
      " |-- trip_distance: double (nullable = true)\n",
      " |-- RatecodeID: double (nullable = false)\n",
      " |-- store_and_fwd_flag: string (nullable = true)\n",
      " |-- PULocationID: integer (nullable = true)\n",
      " |-- DOLocationID: integer (nullable = true)\n",
      " |-- payment_type: integer (nullable = false)\n",
      " |-- fare_amount: double (nullable = true)\n",
      " |-- extra: double (nullable = true)\n",
      " |-- mta_tax: double (nullable = true)\n",
      " |-- tip_amount: double (nullable = true)\n",
      " |-- tolls_amount: double (nullable = true)\n",
      " |-- improvement_surcharge: double (nullable = true)\n",
      " |-- total_amount: double (nullable = true)\n",
      " |-- congestion_surcharge: double (nullable = true)\n",
      " |-- airport_fee: double (nullable = true)\n",
      "\n"
     ]
    }
   ],
   "source": [
    "yellowTaxiDF.printSchema()"
   ]
  },
  {
   "cell_type": "markdown",
   "id": "082dcae4",
   "metadata": {},
   "source": [
    "### Transform Data"
   ]
  },
  {
   "cell_type": "markdown",
   "id": "394aee8a",
   "metadata": {},
   "source": [
    "#### 1. Select limited columns"
   ]
  },
  {
   "cell_type": "code",
   "execution_count": 30,
   "id": "4b155850",
   "metadata": {},
   "outputs": [
    {
     "name": "stdout",
     "output_type": "stream",
     "text": [
      "root\n",
      " |-- VendorID: integer (nullable = true)\n",
      " |-- passenger_count: integer (nullable = true)\n",
      " |-- TripDistance: double (nullable = true)\n",
      " |-- lpep_pickup_datetime: timestamp (nullable = true)\n",
      " |-- lpep_dropoff_datetime: timestamp (nullable = true)\n",
      " |-- PUlocationID: integer (nullable = true)\n",
      " |-- DOlocationID: integer (nullable = true)\n",
      " |-- RatecodeID: double (nullable = false)\n",
      " |-- total_amount: double (nullable = true)\n",
      " |-- payment_type: integer (nullable = false)\n",
      "\n"
     ]
    }
   ],
   "source": [
    "yellowTaxiDF = (\n",
    "                   yellowTaxiDF\n",
    "\n",
    "                        # Select only limited columns\n",
    "                        .select(\n",
    "                                  \"VendorID\",\n",
    "                             \n",
    "                                  col(\"passenger_count\").cast(IntegerType()),\n",
    "                            \n",
    "                                  column(\"trip_distance\").alias(\"TripDistance\"),\n",
    "                            \n",
    "                                  yellowTaxiDF.lpep_pickup_datetime,\n",
    "                            \n",
    "                                  \"lpep_dropoff_datetime\",\n",
    "                                  \"PUlocationID\",\n",
    "                                  \"DOlocationID\",\n",
    "                                  \"RatecodeID\",\n",
    "                                  \"total_amount\",\n",
    "                                  \"payment_type\"\n",
    "                               )\n",
    "    \n",
    "                        # Don't run, since airport_fee has not been selected above    \n",
    "                        # .drop(\"airport_fee\") \n",
    "               )\n",
    "\n",
    "yellowTaxiDF.printSchema()"
   ]
  },
  {
   "cell_type": "markdown",
   "id": "c621bd3e",
   "metadata": {},
   "source": [
    "#### 2. Rename columns"
   ]
  },
  {
   "cell_type": "code",
   "execution_count": 31,
   "id": "ed0a0beb",
   "metadata": {},
   "outputs": [
    {
     "name": "stdout",
     "output_type": "stream",
     "text": [
      "root\n",
      " |-- VendorID: integer (nullable = true)\n",
      " |-- PassengerCount: integer (nullable = true)\n",
      " |-- TripDistance: double (nullable = true)\n",
      " |-- PickupTime: timestamp (nullable = true)\n",
      " |-- DropTime: timestamp (nullable = true)\n",
      " |-- PickupLocationId: integer (nullable = true)\n",
      " |-- DropLocationId: integer (nullable = true)\n",
      " |-- RatecodeID: double (nullable = false)\n",
      " |-- TotalAmount: double (nullable = true)\n",
      " |-- PaymentType: integer (nullable = false)\n",
      "\n"
     ]
    }
   ],
   "source": [
    "yellowTaxiDF = (\n",
    "                   yellowTaxiDF                        \n",
    "                        \n",
    "                        .withColumnRenamed(\"passenger_count\", \"PassengerCount\")\n",
    "    \n",
    "                        .withColumnRenamed(\"lpep_pickup_datetime\", \"PickupTime\")\n",
    "                        .withColumnRenamed(\"lpep_dropoff_datetime\", \"DropTime\")\n",
    "                        .withColumnRenamed(\"PUlocationID\", \"PickupLocationId\")\n",
    "                        .withColumnRenamed(\"DOlocationID\", \"DropLocationId\")\n",
    "                        .withColumnRenamed(\"total_amount\", \"TotalAmount\")\n",
    "                        .withColumnRenamed(\"payment_type\", \"PaymentType\")    \n",
    "               )\n",
    "\n",
    "yellowTaxiDF.printSchema()"
   ]
  },
  {
   "cell_type": "markdown",
   "id": "ab0fe8c2",
   "metadata": {},
   "source": [
    "#### 3.a. Create derived columns - TripYear, TripMonth, TripDay"
   ]
  },
  {
   "cell_type": "code",
   "execution_count": 32,
   "id": "546d178e",
   "metadata": {},
   "outputs": [
    {
     "name": "stdout",
     "output_type": "stream",
     "text": [
      "root\n",
      " |-- VendorID: integer (nullable = true)\n",
      " |-- PassengerCount: integer (nullable = true)\n",
      " |-- TripDistance: double (nullable = true)\n",
      " |-- PickupTime: timestamp (nullable = true)\n",
      " |-- DropTime: timestamp (nullable = true)\n",
      " |-- PickupLocationId: integer (nullable = true)\n",
      " |-- DropLocationId: integer (nullable = true)\n",
      " |-- RatecodeID: double (nullable = false)\n",
      " |-- TotalAmount: double (nullable = true)\n",
      " |-- PaymentType: integer (nullable = false)\n",
      " |-- TripYear: integer (nullable = true)\n",
      " |-- TripMonth: integer (nullable = true)\n",
      " |-- TripDay: integer (nullable = true)\n",
      "\n"
     ]
    }
   ],
   "source": [
    "# Create derived columns for year, month and day\n",
    "yellowTaxiDF = (\n",
    "                  yellowTaxiDF\n",
    "    \n",
    "                        .withColumn(\"TripYear\", year(col(\"PickupTime\")))\n",
    "    \n",
    "                        .select(\n",
    "                                    \"*\",\n",
    "                            \n",
    "                                    expr(\"month(PickupTime) AS TripMonth\"),\n",
    "                            \n",
    "                                    dayofmonth(col(\"PickupTime\")).alias(\"TripDay\")\n",
    "                               )\n",
    "               )\n",
    "\n",
    "yellowTaxiDF.printSchema()"
   ]
  },
  {
   "cell_type": "markdown",
   "id": "52b96fac",
   "metadata": {},
   "source": [
    "#### 3.b. Create derived column - TripTimeInMinutes"
   ]
  },
  {
   "cell_type": "code",
   "execution_count": 33,
   "id": "1c5a35ef",
   "metadata": {},
   "outputs": [
    {
     "name": "stdout",
     "output_type": "stream",
     "text": [
      "root\n",
      " |-- VendorID: integer (nullable = true)\n",
      " |-- PassengerCount: integer (nullable = true)\n",
      " |-- TripDistance: double (nullable = true)\n",
      " |-- PickupTime: timestamp (nullable = true)\n",
      " |-- DropTime: timestamp (nullable = true)\n",
      " |-- PickupLocationId: integer (nullable = true)\n",
      " |-- DropLocationId: integer (nullable = true)\n",
      " |-- RatecodeID: double (nullable = false)\n",
      " |-- TotalAmount: double (nullable = true)\n",
      " |-- PaymentType: integer (nullable = false)\n",
      " |-- TripYear: integer (nullable = true)\n",
      " |-- TripMonth: integer (nullable = true)\n",
      " |-- TripDay: integer (nullable = true)\n",
      " |-- TripTimeInMinutes: double (nullable = true)\n",
      "\n"
     ]
    }
   ],
   "source": [
    "# Option 1\n",
    "yellowTaxiDF = (\n",
    "                  yellowTaxiDF\n",
    "                        .withColumn(\"TripTimeInMinutes\", \n",
    "                                        round(\n",
    "                                                (unix_timestamp(col(\"DropTime\")) \n",
    "                                                     - unix_timestamp(col(\"PickupTime\"))) \n",
    "                                            \n",
    "                                                  / 60\n",
    "                                             )\n",
    "                                   )\n",
    "               )\n",
    "\n",
    "yellowTaxiDF.printSchema()"
   ]
  },
  {
   "cell_type": "code",
   "execution_count": 34,
   "id": "429d3c63",
   "metadata": {},
   "outputs": [
    {
     "name": "stdout",
     "output_type": "stream",
     "text": [
      "root\n",
      " |-- VendorID: integer (nullable = true)\n",
      " |-- PassengerCount: integer (nullable = true)\n",
      " |-- TripDistance: double (nullable = true)\n",
      " |-- PickupTime: timestamp (nullable = true)\n",
      " |-- DropTime: timestamp (nullable = true)\n",
      " |-- PickupLocationId: integer (nullable = true)\n",
      " |-- DropLocationId: integer (nullable = true)\n",
      " |-- RatecodeID: double (nullable = false)\n",
      " |-- TotalAmount: double (nullable = true)\n",
      " |-- PaymentType: integer (nullable = false)\n",
      " |-- TripYear: integer (nullable = true)\n",
      " |-- TripMonth: integer (nullable = true)\n",
      " |-- TripDay: integer (nullable = true)\n",
      " |-- TripTimeInMinutes: double (nullable = true)\n",
      "\n"
     ]
    }
   ],
   "source": [
    "# Option 2\n",
    "\n",
    "tripTimeInSecondsExpr = unix_timestamp(col(\"DropTime\")) - unix_timestamp(col(\"PickupTime\"))\n",
    "\n",
    "\n",
    "tripTimeInMinutesExpr = round(tripTimeInSecondsExpr / 60)\n",
    "\n",
    "\n",
    "yellowTaxiDF = (\n",
    "                  yellowTaxiDF\n",
    "                        .withColumn(\"TripTimeInMinutes\", tripTimeInMinutesExpr)\n",
    "               )\n",
    "\n",
    "yellowTaxiDF.printSchema()"
   ]
  },
  {
   "cell_type": "markdown",
   "id": "0e237ad9",
   "metadata": {},
   "source": [
    "#### 3.c. Create derived column - TripType"
   ]
  },
  {
   "cell_type": "code",
   "execution_count": 35,
   "id": "590c6bca",
   "metadata": {},
   "outputs": [
    {
     "name": "stdout",
     "output_type": "stream",
     "text": [
      "root\n",
      " |-- VendorID: integer (nullable = true)\n",
      " |-- PassengerCount: integer (nullable = true)\n",
      " |-- TripDistance: double (nullable = true)\n",
      " |-- PickupTime: timestamp (nullable = true)\n",
      " |-- DropTime: timestamp (nullable = true)\n",
      " |-- PickupLocationId: integer (nullable = true)\n",
      " |-- DropLocationId: integer (nullable = true)\n",
      " |-- TotalAmount: double (nullable = true)\n",
      " |-- PaymentType: integer (nullable = false)\n",
      " |-- TripYear: integer (nullable = true)\n",
      " |-- TripMonth: integer (nullable = true)\n",
      " |-- TripDay: integer (nullable = true)\n",
      " |-- TripTimeInMinutes: double (nullable = true)\n",
      " |-- TripType: string (nullable = false)\n",
      "\n"
     ]
    }
   ],
   "source": [
    "tripTypeColumn = (\n",
    "                    when(\n",
    "                            col(\"RatecodeID\") == 6,\n",
    "                              \"SharedTrip\"\n",
    "                         )\n",
    "                    .otherwise(\"SoloTrip\")\n",
    "                 )    \n",
    "\n",
    "\n",
    "yellowTaxiDF = (\n",
    "                  yellowTaxiDF\n",
    "    \n",
    "                        .withColumn(\"TripType\", tripTypeColumn)\n",
    "    \n",
    "                        .drop(\"RatecodeID\")\n",
    "               )\n",
    "\n",
    "yellowTaxiDF.printSchema()"
   ]
  },
  {
   "cell_type": "markdown",
   "id": "10cf9248",
   "metadata": {},
   "source": [
    "### Check Execution Plans"
   ]
  },
  {
   "cell_type": "code",
   "execution_count": 36,
   "id": "bbeb87ee",
   "metadata": {},
   "outputs": [
    {
     "name": "stdout",
     "output_type": "stream",
     "text": [
      "== Parsed Logical Plan ==\n",
      "Project [VendorID#550, PassengerCount#1230, TripDistance#1218, PickupTime#1241, DropTime#1252, PickupLocationId#1263, DropLocationId#1274, TotalAmount#1285, PaymentType#1296, TripYear#1307, TripMonth#1319, TripDay#1320, TripTimeInMinutes#1349, TripType#1364]\n",
      "+- Project [VendorID#550, PassengerCount#1230, TripDistance#1218, PickupTime#1241, DropTime#1252, PickupLocationId#1263, DropLocationId#1274, RatecodeID#1025, TotalAmount#1285, PaymentType#1296, TripYear#1307, TripMonth#1319, TripDay#1320, TripTimeInMinutes#1349, CASE WHEN (RatecodeID#1025 = cast(6 as double)) THEN SharedTrip ELSE SoloTrip END AS TripType#1364]\n",
      "   +- Project [VendorID#550, PassengerCount#1230, TripDistance#1218, PickupTime#1241, DropTime#1252, PickupLocationId#1263, DropLocationId#1274, RatecodeID#1025, TotalAmount#1285, PaymentType#1296, TripYear#1307, TripMonth#1319, TripDay#1320, round((cast((unix_timestamp(DropTime#1252, yyyy-MM-dd HH:mm:ss, Some(Asia/Calcutta), false) - unix_timestamp(PickupTime#1241, yyyy-MM-dd HH:mm:ss, Some(Asia/Calcutta), false)) as double) / cast(60 as double)), 0) AS TripTimeInMinutes#1349]\n",
      "      +- Project [VendorID#550, PassengerCount#1230, TripDistance#1218, PickupTime#1241, DropTime#1252, PickupLocationId#1263, DropLocationId#1274, RatecodeID#1025, TotalAmount#1285, PaymentType#1296, TripYear#1307, TripMonth#1319, TripDay#1320, round((cast((unix_timestamp(DropTime#1252, yyyy-MM-dd HH:mm:ss, Some(Asia/Calcutta), false) - unix_timestamp(PickupTime#1241, yyyy-MM-dd HH:mm:ss, Some(Asia/Calcutta), false)) as double) / cast(60 as double)), 0) AS TripTimeInMinutes#1334]\n",
      "         +- Project [VendorID#550, PassengerCount#1230, TripDistance#1218, PickupTime#1241, DropTime#1252, PickupLocationId#1263, DropLocationId#1274, RatecodeID#1025, TotalAmount#1285, PaymentType#1296, TripYear#1307, month(cast(PickupTime#1241 as date)) AS TripMonth#1319, dayofmonth(cast(PickupTime#1241 as date)) AS TripDay#1320]\n",
      "            +- Project [VendorID#550, PassengerCount#1230, TripDistance#1218, PickupTime#1241, DropTime#1252, PickupLocationId#1263, DropLocationId#1274, RatecodeID#1025, TotalAmount#1285, PaymentType#1296, year(cast(PickupTime#1241 as date)) AS TripYear#1307]\n",
      "               +- Project [VendorID#550, PassengerCount#1230, TripDistance#1218, PickupTime#1241, DropTime#1252, PickupLocationId#1263, DropLocationId#1274, RatecodeID#1025, TotalAmount#1285, payment_type#1026 AS PaymentType#1296]\n",
      "                  +- Project [VendorID#550, PassengerCount#1230, TripDistance#1218, PickupTime#1241, DropTime#1252, PickupLocationId#1263, DropLocationId#1274, RatecodeID#1025, total_amount#566 AS TotalAmount#1285, payment_type#1026]\n",
      "                     +- Project [VendorID#550, PassengerCount#1230, TripDistance#1218, PickupTime#1241, DropTime#1252, PickupLocationId#1263, DOlocationID#558 AS DropLocationId#1274, RatecodeID#1025, total_amount#566, payment_type#1026]\n",
      "                        +- Project [VendorID#550, PassengerCount#1230, TripDistance#1218, PickupTime#1241, DropTime#1252, PUlocationID#557 AS PickupLocationId#1263, DOlocationID#558, RatecodeID#1025, total_amount#566, payment_type#1026]\n",
      "                           +- Project [VendorID#550, PassengerCount#1230, TripDistance#1218, PickupTime#1241, lpep_dropoff_datetime#552 AS DropTime#1252, PUlocationID#557, DOlocationID#558, RatecodeID#1025, total_amount#566, payment_type#1026]\n",
      "                              +- Project [VendorID#550, PassengerCount#1230, TripDistance#1218, lpep_pickup_datetime#551 AS PickupTime#1241, lpep_dropoff_datetime#552, PUlocationID#557, DOlocationID#558, RatecodeID#1025, total_amount#566, payment_type#1026]\n",
      "                                 +- Project [VendorID#550, passenger_count#1219 AS PassengerCount#1230, TripDistance#1218, lpep_pickup_datetime#551, lpep_dropoff_datetime#552, PUlocationID#557, DOlocationID#558, RatecodeID#1025, total_amount#566, payment_type#1026]\n",
      "                                    +- Project [VendorID#550, cast(passenger_count#553 as int) AS passenger_count#1219, trip_distance#554 AS TripDistance#1218, lpep_pickup_datetime#551, lpep_dropoff_datetime#552, PUlocationID#557, DOlocationID#558, RatecodeID#1025, total_amount#566, payment_type#1026]\n",
      "                                       +- Filter ((lpep_pickup_datetime#551 >= cast(2022-10-01 as timestamp)) AND (lpep_dropoff_datetime#552 < cast(2022-11-01 as timestamp)))\n",
      "                                          +- Deduplicate [lpep_dropoff_datetime#552, DOLocationID#558, improvement_surcharge#565, PULocationID#557, trip_distance#554, tolls_amount#564, RatecodeID#1025, VendorId#550, tip_amount#563, payment_type#1026, fare_amount#560, lpep_pickup_datetime#551, passenger_count#553, store_and_fwd_flag#556, extra#561, airport_fee#568, congestion_surcharge#567, total_amount#566, mta_tax#562]\n",
      "                                             +- Project [VendorId#550, lpep_pickup_datetime#551, lpep_dropoff_datetime#552, passenger_count#553, trip_distance#554, coalesce(nanvl(RatecodeID#555, cast(null as double)), cast(1 as double)) AS RatecodeID#1025, store_and_fwd_flag#556, PULocationID#557, DOLocationID#558, coalesce(payment_type#559, cast(5 as int)) AS payment_type#1026, fare_amount#560, extra#561, mta_tax#562, tip_amount#563, tolls_amount#564, improvement_surcharge#565, total_amount#566, congestion_surcharge#567, airport_fee#568]\n",
      "                                                +- Filter atleastnnonnulls(1, VendorId#550, lpep_pickup_datetime#551, lpep_dropoff_datetime#552, passenger_count#553, trip_distance#554, RatecodeID#555, store_and_fwd_flag#556, PULocationID#557, DOLocationID#558, payment_type#559, fare_amount#560, extra#561, mta_tax#562, tip_amount#563, tolls_amount#564, improvement_surcharge#565, total_amount#566, congestion_surcharge#567, airport_fee#568)\n",
      "                                                   +- Filter (trip_distance#554 > 0.0)\n",
      "                                                      +- Filter (passenger_count#553 > cast(0 as double))\n",
      "                                                         +- Relation [VendorId#550,lpep_pickup_datetime#551,lpep_dropoff_datetime#552,passenger_count#553,trip_distance#554,RatecodeID#555,store_and_fwd_flag#556,PULocationID#557,DOLocationID#558,payment_type#559,fare_amount#560,extra#561,mta_tax#562,tip_amount#563,tolls_amount#564,improvement_surcharge#565,total_amount#566,congestion_surcharge#567,airport_fee#568] csv\n",
      "\n",
      "== Analyzed Logical Plan ==\n",
      "VendorID: int, PassengerCount: int, TripDistance: double, PickupTime: timestamp, DropTime: timestamp, PickupLocationId: int, DropLocationId: int, TotalAmount: double, PaymentType: int, TripYear: int, TripMonth: int, TripDay: int, TripTimeInMinutes: double, TripType: string\n",
      "Project [VendorID#550, PassengerCount#1230, TripDistance#1218, PickupTime#1241, DropTime#1252, PickupLocationId#1263, DropLocationId#1274, TotalAmount#1285, PaymentType#1296, TripYear#1307, TripMonth#1319, TripDay#1320, TripTimeInMinutes#1349, TripType#1364]\n",
      "+- Project [VendorID#550, PassengerCount#1230, TripDistance#1218, PickupTime#1241, DropTime#1252, PickupLocationId#1263, DropLocationId#1274, RatecodeID#1025, TotalAmount#1285, PaymentType#1296, TripYear#1307, TripMonth#1319, TripDay#1320, TripTimeInMinutes#1349, CASE WHEN (RatecodeID#1025 = cast(6 as double)) THEN SharedTrip ELSE SoloTrip END AS TripType#1364]\n",
      "   +- Project [VendorID#550, PassengerCount#1230, TripDistance#1218, PickupTime#1241, DropTime#1252, PickupLocationId#1263, DropLocationId#1274, RatecodeID#1025, TotalAmount#1285, PaymentType#1296, TripYear#1307, TripMonth#1319, TripDay#1320, round((cast((unix_timestamp(DropTime#1252, yyyy-MM-dd HH:mm:ss, Some(Asia/Calcutta), false) - unix_timestamp(PickupTime#1241, yyyy-MM-dd HH:mm:ss, Some(Asia/Calcutta), false)) as double) / cast(60 as double)), 0) AS TripTimeInMinutes#1349]\n",
      "      +- Project [VendorID#550, PassengerCount#1230, TripDistance#1218, PickupTime#1241, DropTime#1252, PickupLocationId#1263, DropLocationId#1274, RatecodeID#1025, TotalAmount#1285, PaymentType#1296, TripYear#1307, TripMonth#1319, TripDay#1320, round((cast((unix_timestamp(DropTime#1252, yyyy-MM-dd HH:mm:ss, Some(Asia/Calcutta), false) - unix_timestamp(PickupTime#1241, yyyy-MM-dd HH:mm:ss, Some(Asia/Calcutta), false)) as double) / cast(60 as double)), 0) AS TripTimeInMinutes#1334]\n",
      "         +- Project [VendorID#550, PassengerCount#1230, TripDistance#1218, PickupTime#1241, DropTime#1252, PickupLocationId#1263, DropLocationId#1274, RatecodeID#1025, TotalAmount#1285, PaymentType#1296, TripYear#1307, month(cast(PickupTime#1241 as date)) AS TripMonth#1319, dayofmonth(cast(PickupTime#1241 as date)) AS TripDay#1320]\n",
      "            +- Project [VendorID#550, PassengerCount#1230, TripDistance#1218, PickupTime#1241, DropTime#1252, PickupLocationId#1263, DropLocationId#1274, RatecodeID#1025, TotalAmount#1285, PaymentType#1296, year(cast(PickupTime#1241 as date)) AS TripYear#1307]\n",
      "               +- Project [VendorID#550, PassengerCount#1230, TripDistance#1218, PickupTime#1241, DropTime#1252, PickupLocationId#1263, DropLocationId#1274, RatecodeID#1025, TotalAmount#1285, payment_type#1026 AS PaymentType#1296]\n",
      "                  +- Project [VendorID#550, PassengerCount#1230, TripDistance#1218, PickupTime#1241, DropTime#1252, PickupLocationId#1263, DropLocationId#1274, RatecodeID#1025, total_amount#566 AS TotalAmount#1285, payment_type#1026]\n",
      "                     +- Project [VendorID#550, PassengerCount#1230, TripDistance#1218, PickupTime#1241, DropTime#1252, PickupLocationId#1263, DOlocationID#558 AS DropLocationId#1274, RatecodeID#1025, total_amount#566, payment_type#1026]\n",
      "                        +- Project [VendorID#550, PassengerCount#1230, TripDistance#1218, PickupTime#1241, DropTime#1252, PUlocationID#557 AS PickupLocationId#1263, DOlocationID#558, RatecodeID#1025, total_amount#566, payment_type#1026]\n",
      "                           +- Project [VendorID#550, PassengerCount#1230, TripDistance#1218, PickupTime#1241, lpep_dropoff_datetime#552 AS DropTime#1252, PUlocationID#557, DOlocationID#558, RatecodeID#1025, total_amount#566, payment_type#1026]\n",
      "                              +- Project [VendorID#550, PassengerCount#1230, TripDistance#1218, lpep_pickup_datetime#551 AS PickupTime#1241, lpep_dropoff_datetime#552, PUlocationID#557, DOlocationID#558, RatecodeID#1025, total_amount#566, payment_type#1026]\n",
      "                                 +- Project [VendorID#550, passenger_count#1219 AS PassengerCount#1230, TripDistance#1218, lpep_pickup_datetime#551, lpep_dropoff_datetime#552, PUlocationID#557, DOlocationID#558, RatecodeID#1025, total_amount#566, payment_type#1026]\n",
      "                                    +- Project [VendorID#550, cast(passenger_count#553 as int) AS passenger_count#1219, trip_distance#554 AS TripDistance#1218, lpep_pickup_datetime#551, lpep_dropoff_datetime#552, PUlocationID#557, DOlocationID#558, RatecodeID#1025, total_amount#566, payment_type#1026]\n",
      "                                       +- Filter ((lpep_pickup_datetime#551 >= cast(2022-10-01 as timestamp)) AND (lpep_dropoff_datetime#552 < cast(2022-11-01 as timestamp)))\n",
      "                                          +- Deduplicate [lpep_dropoff_datetime#552, DOLocationID#558, improvement_surcharge#565, PULocationID#557, trip_distance#554, tolls_amount#564, RatecodeID#1025, VendorId#550, tip_amount#563, payment_type#1026, fare_amount#560, lpep_pickup_datetime#551, passenger_count#553, store_and_fwd_flag#556, extra#561, airport_fee#568, congestion_surcharge#567, total_amount#566, mta_tax#562]\n",
      "                                             +- Project [VendorId#550, lpep_pickup_datetime#551, lpep_dropoff_datetime#552, passenger_count#553, trip_distance#554, coalesce(nanvl(RatecodeID#555, cast(null as double)), cast(1 as double)) AS RatecodeID#1025, store_and_fwd_flag#556, PULocationID#557, DOLocationID#558, coalesce(payment_type#559, cast(5 as int)) AS payment_type#1026, fare_amount#560, extra#561, mta_tax#562, tip_amount#563, tolls_amount#564, improvement_surcharge#565, total_amount#566, congestion_surcharge#567, airport_fee#568]\n",
      "                                                +- Filter atleastnnonnulls(1, VendorId#550, lpep_pickup_datetime#551, lpep_dropoff_datetime#552, passenger_count#553, trip_distance#554, RatecodeID#555, store_and_fwd_flag#556, PULocationID#557, DOLocationID#558, payment_type#559, fare_amount#560, extra#561, mta_tax#562, tip_amount#563, tolls_amount#564, improvement_surcharge#565, total_amount#566, congestion_surcharge#567, airport_fee#568)\n",
      "                                                   +- Filter (trip_distance#554 > 0.0)\n",
      "                                                      +- Filter (passenger_count#553 > cast(0 as double))\n",
      "                                                         +- Relation [VendorId#550,lpep_pickup_datetime#551,lpep_dropoff_datetime#552,passenger_count#553,trip_distance#554,RatecodeID#555,store_and_fwd_flag#556,PULocationID#557,DOLocationID#558,payment_type#559,fare_amount#560,extra#561,mta_tax#562,tip_amount#563,tolls_amount#564,improvement_surcharge#565,total_amount#566,congestion_surcharge#567,airport_fee#568] csv\n",
      "\n",
      "== Optimized Logical Plan ==\n",
      "Aggregate [lpep_dropoff_datetime#552, DOLocationID#558, improvement_surcharge#565, PULocationID#557, trip_distance#554, tolls_amount#564, RatecodeID#1025, VendorId#550, tip_amount#563, payment_type#1026, fare_amount#560, lpep_pickup_datetime#551, passenger_count#553, store_and_fwd_flag#556, extra#561, airport_fee#568, congestion_surcharge#567, total_amount#566, mta_tax#562], [VendorID#550, cast(passenger_count#553 as int) AS PassengerCount#1230, trip_distance#554 AS TripDistance#1218, lpep_pickup_datetime#551 AS PickupTime#1241, lpep_dropoff_datetime#552 AS DropTime#1252, PUlocationID#557 AS PickupLocationId#1263, DOlocationID#558 AS DropLocationId#1274, total_amount#566 AS TotalAmount#1285, payment_type#1026 AS PaymentType#1296, year(cast(lpep_pickup_datetime#551 as date)) AS TripYear#1307, month(cast(lpep_pickup_datetime#551 as date)) AS TripMonth#1319, dayofmonth(cast(lpep_pickup_datetime#551 as date)) AS TripDay#1320, round((cast((unix_timestamp(lpep_dropoff_datetime#552, yyyy-MM-dd HH:mm:ss, Some(Asia/Calcutta), false) - unix_timestamp(lpep_pickup_datetime#551, yyyy-MM-dd HH:mm:ss, Some(Asia/Calcutta), false)) as double) / 60.0), 0) AS TripTimeInMinutes#1349, CASE WHEN (RatecodeID#1025 = 6.0) THEN SharedTrip ELSE SoloTrip END AS TripType#1364]\n",
      "+- Project [VendorId#550, lpep_pickup_datetime#551, lpep_dropoff_datetime#552, passenger_count#553, trip_distance#554, coalesce(nanvl(RatecodeID#555, null), 1.0) AS RatecodeID#1025, store_and_fwd_flag#556, PULocationID#557, DOLocationID#558, coalesce(payment_type#559, 5) AS payment_type#1026, fare_amount#560, extra#561, mta_tax#562, tip_amount#563, tolls_amount#564, improvement_surcharge#565, total_amount#566, congestion_surcharge#567, airport_fee#568]\n",
      "   +- Filter ((((isnotnull(passenger_count#553) AND isnotnull(trip_distance#554)) AND isnotnull(lpep_pickup_datetime#551)) AND isnotnull(lpep_dropoff_datetime#552)) AND (((passenger_count#553 > 0.0) AND (trip_distance#554 > 0.0)) AND ((atleastnnonnulls(1, VendorId#550, lpep_pickup_datetime#551, lpep_dropoff_datetime#552, passenger_count#553, trip_distance#554, RatecodeID#555, store_and_fwd_flag#556, PULocationID#557, DOLocationID#558, payment_type#559, fare_amount#560, extra#561, mta_tax#562, tip_amount#563, tolls_amount#564, improvement_surcharge#565, total_amount#566, congestion_surcharge#567, airport_fee#568) AND (lpep_pickup_datetime#551 >= 2022-10-01 00:00:00)) AND (lpep_dropoff_datetime#552 < 2022-11-01 00:00:00))))\n",
      "      +- Relation [VendorId#550,lpep_pickup_datetime#551,lpep_dropoff_datetime#552,passenger_count#553,trip_distance#554,RatecodeID#555,store_and_fwd_flag#556,PULocationID#557,DOLocationID#558,payment_type#559,fare_amount#560,extra#561,mta_tax#562,tip_amount#563,tolls_amount#564,improvement_surcharge#565,total_amount#566,congestion_surcharge#567,airport_fee#568] csv\n",
      "\n",
      "== Physical Plan ==\n",
      "*(2) HashAggregate(keys=[lpep_dropoff_datetime#552, DOLocationID#558, improvement_surcharge#565, PULocationID#557, trip_distance#554, tolls_amount#564, RatecodeID#1025, VendorId#550, tip_amount#563, payment_type#1026, fare_amount#560, lpep_pickup_datetime#551, passenger_count#553, store_and_fwd_flag#556, extra#561, airport_fee#568, congestion_surcharge#567, total_amount#566, mta_tax#562], functions=[], output=[VendorId#550, PassengerCount#1230, TripDistance#1218, PickupTime#1241, DropTime#1252, PickupLocationId#1263, DropLocationId#1274, TotalAmount#1285, PaymentType#1296, TripYear#1307, TripMonth#1319, TripDay#1320, TripTimeInMinutes#1349, TripType#1364])\n",
      "+- Exchange hashpartitioning(lpep_dropoff_datetime#552, DOLocationID#558, improvement_surcharge#565, PULocationID#557, trip_distance#554, tolls_amount#564, RatecodeID#1025, VendorId#550, tip_amount#563, payment_type#1026, fare_amount#560, lpep_pickup_datetime#551, passenger_count#553, store_and_fwd_flag#556, extra#561, airport_fee#568, congestion_surcharge#567, total_amount#566, mta_tax#562, 200), ENSURE_REQUIREMENTS, [plan_id=577]\n",
      "   +- *(1) HashAggregate(keys=[lpep_dropoff_datetime#552, DOLocationID#558, knownfloatingpointnormalized(normalizenanandzero(improvement_surcharge#565)) AS improvement_surcharge#565, PULocationID#557, knownfloatingpointnormalized(normalizenanandzero(trip_distance#554)) AS trip_distance#554, knownfloatingpointnormalized(normalizenanandzero(tolls_amount#564)) AS tolls_amount#564, knownfloatingpointnormalized(normalizenanandzero(RatecodeID#1025)) AS RatecodeID#1025, VendorId#550, knownfloatingpointnormalized(normalizenanandzero(tip_amount#563)) AS tip_amount#563, payment_type#1026, knownfloatingpointnormalized(normalizenanandzero(fare_amount#560)) AS fare_amount#560, lpep_pickup_datetime#551, knownfloatingpointnormalized(normalizenanandzero(passenger_count#553)) AS passenger_count#553, store_and_fwd_flag#556, knownfloatingpointnormalized(normalizenanandzero(extra#561)) AS extra#561, knownfloatingpointnormalized(normalizenanandzero(airport_fee#568)) AS airport_fee#568, knownfloatingpointnormalized(normalizenanandzero(congestion_surcharge#567)) AS congestion_surcharge#567, knownfloatingpointnormalized(normalizenanandzero(total_amount#566)) AS total_amount#566, knownfloatingpointnormalized(normalizenanandzero(mta_tax#562)) AS mta_tax#562], functions=[], output=[lpep_dropoff_datetime#552, DOLocationID#558, improvement_surcharge#565, PULocationID#557, trip_distance#554, tolls_amount#564, RatecodeID#1025, VendorId#550, tip_amount#563, payment_type#1026, fare_amount#560, lpep_pickup_datetime#551, passenger_count#553, store_and_fwd_flag#556, extra#561, airport_fee#568, congestion_surcharge#567, total_amount#566, mta_tax#562])\n",
      "      +- *(1) Project [VendorId#550, lpep_pickup_datetime#551, lpep_dropoff_datetime#552, passenger_count#553, trip_distance#554, coalesce(nanvl(RatecodeID#555, null), 1.0) AS RatecodeID#1025, store_and_fwd_flag#556, PULocationID#557, DOLocationID#558, coalesce(payment_type#559, 5) AS payment_type#1026, fare_amount#560, extra#561, mta_tax#562, tip_amount#563, tolls_amount#564, improvement_surcharge#565, total_amount#566, congestion_surcharge#567, airport_fee#568]\n",
      "         +- *(1) Filter ((((((((isnotnull(passenger_count#553) AND isnotnull(trip_distance#554)) AND isnotnull(lpep_pickup_datetime#551)) AND isnotnull(lpep_dropoff_datetime#552)) AND (passenger_count#553 > 0.0)) AND (trip_distance#554 > 0.0)) AND atleastnnonnulls(1, VendorId#550, lpep_pickup_datetime#551, lpep_dropoff_datetime#552, passenger_count#553, trip_distance#554, RatecodeID#555, store_and_fwd_flag#556, PULocationID#557, DOLocationID#558, payment_type#559, fare_amount#560, extra#561, mta_tax#562, tip_amount#563, tolls_amount#564, improvement_surcharge#565, total_amount#566, congestion_surcharge#567, airport_fee#568)) AND (lpep_pickup_datetime#551 >= 2022-10-01 00:00:00)) AND (lpep_dropoff_datetime#552 < 2022-11-01 00:00:00))\n",
      "            +- FileScan csv [VendorId#550,lpep_pickup_datetime#551,lpep_dropoff_datetime#552,passenger_count#553,trip_distance#554,RatecodeID#555,store_and_fwd_flag#556,PULocationID#557,DOLocationID#558,payment_type#559,fare_amount#560,extra#561,mta_tax#562,tip_amount#563,tolls_amount#564,improvement_surcharge#565,total_amount#566,congestion_surcharge#567,airport_fee#568] Batched: false, DataFilters: [isnotnull(passenger_count#553), isnotnull(trip_distance#554), isnotnull(lpep_pickup_datetime#551..., Format: CSV, Location: InMemoryFileIndex(1 paths)[file:/C:/SparkCourse/DataFiles/Raw/YellowTaxis_202210.csv], PartitionFilters: [], PushedFilters: [IsNotNull(passenger_count), IsNotNull(trip_distance), IsNotNull(lpep_pickup_datetime), IsNotNull..., ReadSchema: struct<VendorId:int,lpep_pickup_datetime:timestamp,lpep_dropoff_datetime:timestamp,passenger_coun...\n",
      "\n"
     ]
    }
   ],
   "source": [
    "yellowTaxiDF.explain( mode = \"extended\" )\n",
    "\n",
    "# Other modes - simple, codegen, cost, formatted"
   ]
  },
  {
   "cell_type": "code",
   "execution_count": null,
   "id": "a6255149",
   "metadata": {},
   "outputs": [],
   "source": [
    "# NOT IN VIDEO, RUN AND SEE PLAN IN SPARK\n",
    "\n",
    "yellowTaxiDF.show()"
   ]
  },
  {
   "cell_type": "markdown",
   "id": "646aac39",
   "metadata": {},
   "source": [
    "### Read JSON file using schema"
   ]
  },
  {
   "cell_type": "code",
   "execution_count": null,
   "id": "e71867b2",
   "metadata": {},
   "outputs": [],
   "source": [
    "taxiBasesSchema = (\n",
    "                    StructType\n",
    "                    ([\n",
    "                        StructField(\"License Number\"         , StringType()    , True),\n",
    "                        StructField(\"Entity Name\"            , StringType()    , True),\n",
    "                        StructField(\"Telephone Number\"       , LongType()      , True),\n",
    "                        StructField(\"SHL Endorsed\"           , StringType()    , True),\n",
    "                        StructField(\"Type of Base\"           , StringType()    , True),\n",
    "\n",
    "                        StructField(\"Address\", \n",
    "                                        StructType\n",
    "                                        ([\n",
    "                                            StructField(\"Building\"   , StringType(),   True),\n",
    "                                            StructField(\"Street\"     , StringType(),   True), \n",
    "                                            StructField(\"City\"       , StringType(),   True), \n",
    "                                            StructField(\"State\"      , StringType(),   True), \n",
    "                                            StructField(\"Postcode\"   , StringType(),   True)\n",
    "                                        ]),\n",
    "                                    True\n",
    "                                   ),\n",
    "                        \n",
    "                        StructField(\"GeoLocation\", \n",
    "                                        StructType\n",
    "                                        ([\n",
    "                                            StructField(\"Latitude\"   , StringType(),   True),\n",
    "                                            StructField(\"Longitude\"  , StringType(),   True), \n",
    "                                            StructField(\"Location\"   , StringType(),   True)\n",
    "                                        ]),\n",
    "                                    True\n",
    "                                   )  \n",
    "                  ])\n",
    "                )"
   ]
  },
  {
   "cell_type": "code",
   "execution_count": 39,
   "id": "7f747588",
   "metadata": {},
   "outputs": [
    {
     "name": "stdout",
     "output_type": "stream",
     "text": [
      "+--------------+--------------------------------------+----------------+------------+---------------------------+-----------------------------------------------------------+------------------------------------------------+\n",
      "|License Number|Entity Name                           |Telephone Number|SHL Endorsed|Type of Base               |Address                                                    |GeoLocation                                     |\n",
      "+--------------+--------------------------------------+----------------+------------+---------------------------+-----------------------------------------------------------+------------------------------------------------+\n",
      "|B02865        |VIER-NY,LLC                           |6466657536      |No          |BLACK CAR BASE             |{636, WEST   28 STREET, NEW YORK, NY, 10001}               |{40.75273, -74.006408, (40.75273, -74.006408)}  |\n",
      "|B02634        |VETERANS RADIO DISPATCHER CORP.       |7183647878      |No          |LIVERY BASE                |{131, KINGSBRIDGE ROAD, BRONX, NY, 10468}                  |{40.86927, -73.90281, (40.86927, -73.90281)}    |\n",
      "|B80094        |ALPHA VAN LINE                        |5162850750      |No          |COMMUTER VAN AUTHORITY BASE|{115-54, 238 STREET, ELMONT, NY, 11003}                    |{40.693473, -73.724446, (40.693473, -73.724446)}|\n",
      "|B02677        |A.T.B. CAR AND LIMOUSINE SERVICE, INC.|7184854444      |No          |LIVERY BASE                |{866, NEW LOTS AVENUE, BROOKLYN, NY, 11208}                |{40.667838, -73.8788, (40.667838, -73.8788)}    |\n",
      "|B02152        |KYOEI LIMOUSINE, INC.                 |7183263258      |No          |LUXURY/LIMOUSINE           |{57-48, MASPETH AVENUE, MASPETH, NY, 11378}                |{40.722961, -73.91031, (40.722961, -73.91031)}  |\n",
      "|B02844        |ENDOR CAR & DRIVER,LLC.               |4154758459      |No          |BLACK CAR BASE             |{31-00, 47 AVENUE  SUITE # 4123A, LIC, NY, 11101}          |{40.742082, -73.93552, (40.742082, -73.93552)}  |\n",
      "|B02841        |SKYWAY EXECUTIVE SERVICE, INC         |7183595959      |No          |BLACK CAR BASE             |{68-20A, FRESH MEADOW LANE, FRESH MEADOWS, NY, 11365}      |{40.733337, -73.794706, (40.733337, -73.794706)}|\n",
      "|B00472        |FARRELL'S LEASING CO.                 |2128616300      |No          |LUXURY/LIMOUSINE           |{22-11, 38 AVENUE, LIC, NY, 11101}                         |{40.757077, -73.937504, (40.757077, -73.937504)}|\n",
      "|B01739        |CITY CAR SERVICE CORP                 |7184182222      |No          |LIVERY BASE                |{429, SUTTER AVENUE, BROOKLYN, NY, 11212}                  |{40.668473, -73.903383, (40.668473, -73.903383)}|\n",
      "|B00248        |YELLOWSTONE TRANSPORTATION INC.       |7185397777      |No          |LIVERY BASE                |{41-31, MAIN STREET, FLUSHING, NY, 11355}                  |{40.758114, -73.82962, (40.758114, -73.82962)}  |\n",
      "|B02861        |ELTRI CAR SERVICE INC                 |7183820100      |No          |BLACK CAR BASE             |{1811, EAST    7 STREET, BROOKLYN, NY, 11223}              |{40.612302, -73.963221, (40.612302, -73.963221)}|\n",
      "|B02093        |V.J. CAR & LIMO SVC INC.              |7186417777      |No          |LIVERY BASE                |{104-08, 123RD STREET, RICHMOND HILL, NY, 11419}           |{40.691906, -73.82342, (40.691906, -73.82342)}  |\n",
      "|B02980        |ADVANTAGE LIMO OF NY INC              |3478655876      |No          |LUXURY/LIMOUSINE           |{6701, BAY PARKWAY  OFFICE #1 3RD FLR, BROOKLYN, NY, 11204}|{40.603784, -73.972558, (40.603784, -73.972558)}|\n",
      "|B02878        |ELF-NY,LLC                            |6466657540      |No          |BLACK CAR BASE             |{636, WEST   28 STREET, NEW YORK, NY, 10001}               |{40.75273, -74.00641, (40.75273, -74.00641)}    |\n",
      "|B90691        |ALTA MEDICAL TRANSPORTATION, INC.     |7188972582      |No          |PARATRANSIT BASE           |{85-02, 67 AVENUE  SUITE 1, REGO PARK, NY, 11374}          |{40.717275, -73.86211, (40.717275, -73.86211)}  |\n",
      "|B02840        |RAELEEN CAR CORP.                     |9176031815      |No          |BLACK CAR BASE             |{565, VAN NEST AVENUE, BRONX, NY, 10460}                   |{40.755734, -73.93795, (40.755734, -73.93795)}  |\n",
      "|B02658        |ASCONA CAR SERVICE INC.               |7186461611      |No          |LIVERY BASE                |{2421, BATH AVENUE, BROOKLYN, NY, 11214}                   |{40.595422, -73.992368, (40.595422, -73.992368)}|\n",
      "|B02331        |CHICO EXPRESS LIMO, INC.              |7182367777      |No          |BLACK CAR BASE             |{6318, 14 AVENUE, BROOKLYN, NY, 11219}                     |{40.625609, -73.998684, (40.625609, -73.998684)}|\n",
      "|B02969        |LYFE AUTO GROUP INC                   |7187066234      |No          |BLACK CAR BASE             |{32-10, GREENPOINT AVENUE, LIC, NY, 11101}                 |{40.734944, -73.935733, (40.734944, -73.935733)}|\n",
      "|B02651        |SAROS TRANSPORTATION GROUP INC.       |7185640084      |No          |BLACK CAR BASE             |{626, REXCORP PLAZA, UNIONDALE, NY, 11556}                 |{40.638931, -73.982954, (40.638931, -73.982954)}|\n",
      "+--------------+--------------------------------------+----------------+------------+---------------------------+-----------------------------------------------------------+------------------------------------------------+\n",
      "only showing top 20 rows\n",
      "\n"
     ]
    }
   ],
   "source": [
    "taxiBasesDF = (\n",
    "                  spark\n",
    "                    .read    \n",
    "                    .option(\"multiline\", \"true\")\n",
    "    \n",
    "                    .schema(taxiBasesSchema)\n",
    "    \n",
    "                    .json(\"C:\\SparkCourse\\DataFiles\\Raw\\TaxiBases.json\")\n",
    "              )\n",
    "\n",
    "taxiBasesDF.show(truncate=False)"
   ]
  },
  {
   "cell_type": "markdown",
   "id": "c509df1d",
   "metadata": {},
   "source": [
    "### Extract nested fields from JSON"
   ]
  },
  {
   "cell_type": "code",
   "execution_count": 40,
   "id": "9fc6e7c8",
   "metadata": {},
   "outputs": [
    {
     "name": "stdout",
     "output_type": "stream",
     "text": [
      "+-----------------+--------------------+---------------+--------------------+-------------+------------+---------------+-----------+------------+\n",
      "|BaseLicenseNumber|          EntityName|AddressBuilding|       AddressStreet|  AddressCity|AddressState|AddressPostCode|GeoLatitude|GeoLongitude|\n",
      "+-----------------+--------------------+---------------+--------------------+-------------+------------+---------------+-----------+------------+\n",
      "|           B02865|         VIER-NY,LLC|            636|    WEST   28 STREET|     NEW YORK|          NY|          10001|   40.75273|  -74.006408|\n",
      "|           B02634|VETERANS RADIO DI...|            131|    KINGSBRIDGE ROAD|        BRONX|          NY|          10468|   40.86927|   -73.90281|\n",
      "|           B80094|      ALPHA VAN LINE|         115-54|          238 STREET|       ELMONT|          NY|          11003|  40.693473|  -73.724446|\n",
      "|           B02677|A.T.B. CAR AND LI...|            866|     NEW LOTS AVENUE|     BROOKLYN|          NY|          11208|  40.667838|    -73.8788|\n",
      "|           B02152|KYOEI LIMOUSINE, ...|          57-48|      MASPETH AVENUE|      MASPETH|          NY|          11378|  40.722961|   -73.91031|\n",
      "|           B02844|ENDOR CAR & DRIVE...|          31-00|47 AVENUE  SUITE ...|          LIC|          NY|          11101|  40.742082|   -73.93552|\n",
      "|           B02841|SKYWAY EXECUTIVE ...|         68-20A|   FRESH MEADOW LANE|FRESH MEADOWS|          NY|          11365|  40.733337|  -73.794706|\n",
      "|           B00472|FARRELL'S LEASING...|          22-11|           38 AVENUE|          LIC|          NY|          11101|  40.757077|  -73.937504|\n",
      "|           B01739|CITY CAR SERVICE ...|            429|       SUTTER AVENUE|     BROOKLYN|          NY|          11212|  40.668473|  -73.903383|\n",
      "|           B00248|YELLOWSTONE TRANS...|          41-31|         MAIN STREET|     FLUSHING|          NY|          11355|  40.758114|   -73.82962|\n",
      "|           B02861|ELTRI CAR SERVICE...|           1811|    EAST    7 STREET|     BROOKLYN|          NY|          11223|  40.612302|  -73.963221|\n",
      "|           B02093|V.J. CAR & LIMO S...|         104-08|        123RD STREET|RICHMOND HILL|          NY|          11419|  40.691906|   -73.82342|\n",
      "|           B02980|ADVANTAGE LIMO OF...|           6701|BAY PARKWAY  OFFI...|     BROOKLYN|          NY|          11204|  40.603784|  -73.972558|\n",
      "|           B02878|          ELF-NY,LLC|            636|    WEST   28 STREET|     NEW YORK|          NY|          10001|   40.75273|   -74.00641|\n",
      "|           B90691|ALTA MEDICAL TRAN...|          85-02|  67 AVENUE  SUITE 1|    REGO PARK|          NY|          11374|  40.717275|   -73.86211|\n",
      "|           B02840|   RAELEEN CAR CORP.|            565|     VAN NEST AVENUE|        BRONX|          NY|          10460|  40.755734|   -73.93795|\n",
      "|           B02658|ASCONA CAR SERVIC...|           2421|         BATH AVENUE|     BROOKLYN|          NY|          11214|  40.595422|  -73.992368|\n",
      "|           B02331|CHICO EXPRESS LIM...|           6318|           14 AVENUE|     BROOKLYN|          NY|          11219|  40.625609|  -73.998684|\n",
      "|           B02969| LYFE AUTO GROUP INC|          32-10|   GREENPOINT AVENUE|          LIC|          NY|          11101|  40.734944|  -73.935733|\n",
      "|           B02651|SAROS TRANSPORTAT...|            626|       REXCORP PLAZA|    UNIONDALE|          NY|          11556|  40.638931|  -73.982954|\n",
      "+-----------------+--------------------+---------------+--------------------+-------------+------------+---------------+-----------+------------+\n",
      "only showing top 20 rows\n",
      "\n"
     ]
    }
   ],
   "source": [
    "taxiBasesFlatDF = (\n",
    "                        taxiBasesDF\n",
    "                            .select(\n",
    "                                      col(\"License Number\").alias(\"BaseLicenseNumber\"),\n",
    "                                      col(\"Entity Name\").alias(\"EntityName\"),\n",
    "\n",
    "                                      col(\"Address.Building\").alias(\"AddressBuilding\"),\n",
    "\n",
    "                                      col(\"Address.Street\").alias(\"AddressStreet\"),\n",
    "                                      col(\"Address.City\").alias(\"AddressCity\"),\n",
    "                                      col(\"Address.State\").alias(\"AddressState\"),\n",
    "                                      col(\"Address.Postcode\").alias(\"AddressPostCode\"),\n",
    "\n",
    "                                      col(\"GeoLocation.Latitude\").alias(\"GeoLatitude\"),\n",
    "                                      col(\"GeoLocation.Longitude\").alias(\"GeoLongitude\")\n",
    "                                   )\n",
    "                  )\n",
    "\n",
    "taxiBasesFlatDF.show()"
   ]
  },
  {
   "cell_type": "markdown",
   "id": "aa1606e8",
   "metadata": {},
   "source": [
    "### Aggregate Data"
   ]
  },
  {
   "cell_type": "code",
   "execution_count": 41,
   "id": "c5adaffc",
   "metadata": {},
   "outputs": [
    {
     "name": "stdout",
     "output_type": "stream",
     "text": [
      "+----------------+--------------+------------------+------------------+\n",
      "|PickupLocationId|DropLocationId|       AvgTripTime|         SumAmount|\n",
      "+----------------+--------------+------------------+------------------+\n",
      "|             265|           236|              68.0|            366.51|\n",
      "|             265|            91|              33.0|              49.8|\n",
      "|             265|            88|              66.0|              70.0|\n",
      "|             265|            93|43.333333333333336|            167.55|\n",
      "|             265|           264| 4.592592592592593|2377.5399999999995|\n",
      "|             265|           163|              49.0|            568.46|\n",
      "|             265|           216|              66.0|            126.85|\n",
      "|             265|            64|               5.0|               9.3|\n",
      "|             265|           134|              35.0|              30.0|\n",
      "|             265|            19|               5.0|              60.3|\n",
      "|             265|           126|              53.0|              48.0|\n",
      "|             265|           143|              39.0|            117.65|\n",
      "|             265|           162|              68.0|             89.16|\n",
      "|             265|           250|              36.0|             64.09|\n",
      "|             265|           164|             32.75|            378.62|\n",
      "|             265|            16|              19.0|             32.76|\n",
      "|             265|           113|              38.0|            113.05|\n",
      "|             265|           182|              17.0|              25.0|\n",
      "|             265|            68|              26.0|            244.51|\n",
      "|             265|           200|               4.0|               6.3|\n",
      "+----------------+--------------+------------------+------------------+\n",
      "only showing top 20 rows\n",
      "\n"
     ]
    }
   ],
   "source": [
    "yellowTaxiDFReport = (\n",
    "                         yellowTaxiDF\n",
    "    \n",
    "                                .groupBy( \"PickupLocationId\", \"DropLocationId\" )\n",
    "    \n",
    "                                .agg( \n",
    "                                        avg(\"TripTimeInMinutes\").alias(\"AvgTripTime\"),\n",
    "                                    \n",
    "                                        sum(\"TotalAmount\").alias(\"SumAmount\")\n",
    "                                    )\n",
    "    \n",
    "                                .orderBy( col(\"PickupLocationId\").desc() )\n",
    "                     )\n",
    "\n",
    "yellowTaxiDFReport.show()"
   ]
  },
  {
   "cell_type": "markdown",
   "id": "3a8097f6",
   "metadata": {},
   "source": [
    "### Exercises\n",
    "\n",
    "1. Based on PickupTime, add a new column with day text = Monday to Sunday\n",
    "\n",
    "2. Based on PickupTime, add a new column with month text = January to December\n",
    "\n",
    "3. Based on PickupTime, add a new column with value being the last day of month"
   ]
  },
  {
   "cell_type": "code",
   "execution_count": null,
   "id": "e206af59",
   "metadata": {},
   "outputs": [],
   "source": [
    "# Exercise 1: Answer\n",
    "\n"
   ]
  },
  {
   "cell_type": "code",
   "execution_count": null,
   "id": "6dc65f58",
   "metadata": {},
   "outputs": [],
   "source": [
    "# Exercise 2: Answer\n",
    "\n"
   ]
  },
  {
   "cell_type": "code",
   "execution_count": null,
   "id": "8f6f6f7b",
   "metadata": {},
   "outputs": [],
   "source": [
    "# Exercise 3: Answer\n",
    "\n"
   ]
  },
  {
   "cell_type": "code",
   "execution_count": 42,
   "id": "41e603ab",
   "metadata": {},
   "outputs": [
    {
     "data": {
      "text/plain": [
       "4"
      ]
     },
     "execution_count": 42,
     "metadata": {},
     "output_type": "execute_result"
    }
   ],
   "source": [
    "# Reduce number of DataFrame partitions to 4\n",
    "\n",
    "yellowTaxiDF = yellowTaxiDF.coalesce(4)\n",
    "\n",
    "yellowTaxiDF.rdd.getNumPartitions()"
   ]
  },
  {
   "cell_type": "markdown",
   "id": "4338d3de",
   "metadata": {},
   "source": [
    "### Save data in CSV format to storage"
   ]
  },
  {
   "cell_type": "code",
   "execution_count": 43,
   "id": "6d14c638",
   "metadata": {},
   "outputs": [],
   "source": [
    "(\n",
    "    yellowTaxiDF    \n",
    "            .write\n",
    "            \n",
    "            .option(\"header\", \"true\")\n",
    "            .option(\"dateFormat\", \"yyyy-MM-dd HH:mm:ss.S\")\n",
    "    \n",
    "            .mode(\"overwrite\")    # Options - Append, ErrorIfExists, Ignore, Overwrite\n",
    "    \n",
    "            .csv(\"C:\\SparkCourse\\DataFiles\\Output\\YellowTaxisOutput.csv\")\n",
    ")"
   ]
  },
  {
   "cell_type": "markdown",
   "id": "1df3fe38",
   "metadata": {},
   "source": [
    "### Save data in Parquet format to storage"
   ]
  },
  {
   "cell_type": "code",
   "execution_count": 44,
   "id": "70e3ea82",
   "metadata": {},
   "outputs": [],
   "source": [
    "(\n",
    "    yellowTaxiDF\n",
    "            .write\n",
    "    \n",
    "            .option(\"header\", \"true\")\n",
    "            .option(\"dateFormat\", \"yyyy-MM-dd HH:mm:ss.S\")\n",
    "    \n",
    "            .mode(\"overwrite\")\n",
    "    \n",
    "            .parquet(\"C:\\SparkCourse\\DataFiles\\Output\\YellowTaxisOutput.parquet\")\n",
    ")"
   ]
  },
  {
   "cell_type": "markdown",
   "id": "8717f072",
   "metadata": {},
   "source": [
    "### Save partitioned data in Parquet format to storage"
   ]
  },
  {
   "cell_type": "code",
   "execution_count": 45,
   "id": "033a65a9",
   "metadata": {},
   "outputs": [],
   "source": [
    "(\n",
    "    yellowTaxiDF\n",
    "            .write\n",
    "    \n",
    "            .partitionBy(\"VendorId\")\n",
    "            \n",
    "            .option(\"header\", \"true\")\n",
    "            .option(\"dateFormat\", \"yyyy-MM-dd HH:mm:ss.S\")\n",
    "    \n",
    "            .mode(\"overwrite\")\n",
    "    \n",
    "            .parquet(\"C:\\SparkCourse\\DataFiles\\Output\\YellowTaxisPartitionedOutput.parquet\")\n",
    ")"
   ]
  },
  {
   "cell_type": "markdown",
   "id": "b37a14af",
   "metadata": {},
   "source": [
    "### Check performance between non-partitioned & partitioned datasets"
   ]
  },
  {
   "cell_type": "markdown",
   "id": "7eef425a",
   "metadata": {},
   "source": [
    "#### 1. Performance check: Run query on non-partitioned dataset"
   ]
  },
  {
   "cell_type": "code",
   "execution_count": 46,
   "id": "7112d860",
   "metadata": {},
   "outputs": [
    {
     "name": "stdout",
     "output_type": "stream",
     "text": [
      "+----------------+------------------+\n",
      "|PickupLocationId|  avg(TotalAmount)|\n",
      "+----------------+------------------+\n",
      "|             148|19.995832255282632|\n",
      "|             243| 25.97614035087719|\n",
      "|              31| 26.21666666666667|\n",
      "|             137| 17.32748269082856|\n",
      "|              85| 27.50609756097561|\n",
      "|             251|            61.825|\n",
      "|              65|25.368939828080265|\n",
      "|             255|22.516063492063477|\n",
      "|              53| 39.64958333333333|\n",
      "|             133|33.552083333333336|\n",
      "|              78|              34.1|\n",
      "|             108| 49.70862068965516|\n",
      "|             155|            38.944|\n",
      "|             211| 18.86426906623371|\n",
      "|              34|28.052105263157895|\n",
      "|             193| 19.01872246696034|\n",
      "|             101|        36.5390625|\n",
      "|             126| 26.52592592592593|\n",
      "|              81| 37.83181818181818|\n",
      "|             210| 46.57599999999999|\n",
      "+----------------+------------------+\n",
      "only showing top 20 rows\n",
      "\n"
     ]
    }
   ],
   "source": [
    "# Run query on non-partitioned dataset\n",
    "\n",
    "outputDF = (\n",
    "                spark\n",
    "                    .read\n",
    "                    .parquet(\"C:\\SparkCourse\\DataFiles\\Output\\YellowTaxisOutput.parquet\")\n",
    "    \n",
    "                    .where(\"VendorId = 1\")\n",
    "    \n",
    "                    .groupBy(\"PickupLocationId\")\n",
    "                    .agg(avg(\"TotalAmount\"))\n",
    "           )\n",
    "\n",
    "outputDF.show()"
   ]
  },
  {
   "cell_type": "markdown",
   "id": "f96bc448",
   "metadata": {},
   "source": [
    "#### 2. Performance check: Run query on partitioned dataset"
   ]
  },
  {
   "cell_type": "code",
   "execution_count": 47,
   "id": "9f186c6d",
   "metadata": {},
   "outputs": [
    {
     "name": "stdout",
     "output_type": "stream",
     "text": [
      "+----------------+------------------+\n",
      "|PickupLocationId|  avg(TotalAmount)|\n",
      "+----------------+------------------+\n",
      "|             148|19.995832255282664|\n",
      "|             243| 25.97614035087719|\n",
      "|              31| 26.21666666666667|\n",
      "|             137| 17.32748269082855|\n",
      "|              85| 27.50609756097561|\n",
      "|             251|            61.825|\n",
      "|              65|25.368939828080272|\n",
      "|              53| 39.64958333333333|\n",
      "|             255|22.516063492063484|\n",
      "|             133|33.552083333333336|\n",
      "|              78|              34.1|\n",
      "|             108| 49.70862068965516|\n",
      "|             155|            38.944|\n",
      "|             211| 18.86426906623374|\n",
      "|             193| 19.01872246696034|\n",
      "|              34|28.052105263157895|\n",
      "|             101|        36.5390625|\n",
      "|             126| 26.52592592592593|\n",
      "|              81| 37.83181818181818|\n",
      "|              28| 35.15681818181818|\n",
      "+----------------+------------------+\n",
      "only showing top 20 rows\n",
      "\n"
     ]
    }
   ],
   "source": [
    "outputDF = (\n",
    "                spark\n",
    "                    .read\n",
    "                    .parquet(\"C:\\SparkCourse\\DataFiles\\Output\\YellowTaxisPartitionedOutput.parquet\")\n",
    "    \n",
    "                    .where(\"VendorId = 1\")\n",
    "    \n",
    "                    .groupBy(\"PickupLocationId\")\n",
    "                    .agg(avg(\"TotalAmount\"))\n",
    "           )\n",
    "\n",
    "outputDF.show()"
   ]
  },
  {
   "cell_type": "code",
   "execution_count": null,
   "id": "1412281d",
   "metadata": {},
   "outputs": [],
   "source": []
  },
  {
   "cell_type": "code",
   "execution_count": null,
   "id": "8e894f26",
   "metadata": {},
   "outputs": [],
   "source": []
  },
  {
   "cell_type": "code",
   "execution_count": null,
   "id": "143cb12b",
   "metadata": {},
   "outputs": [],
   "source": []
  },
  {
   "cell_type": "code",
   "execution_count": null,
   "id": "99e9ed63",
   "metadata": {},
   "outputs": [],
   "source": []
  },
  {
   "cell_type": "code",
   "execution_count": null,
   "id": "908ae9f5",
   "metadata": {},
   "outputs": [],
   "source": []
  },
  {
   "cell_type": "code",
   "execution_count": null,
   "id": "296e67ac",
   "metadata": {},
   "outputs": [],
   "source": []
  },
  {
   "cell_type": "code",
   "execution_count": null,
   "id": "ba3bc612",
   "metadata": {},
   "outputs": [],
   "source": []
  },
  {
   "cell_type": "code",
   "execution_count": null,
   "id": "c5c366f2",
   "metadata": {},
   "outputs": [],
   "source": []
  },
  {
   "cell_type": "code",
   "execution_count": null,
   "id": "997ec5a4",
   "metadata": {},
   "outputs": [],
   "source": []
  },
  {
   "cell_type": "code",
   "execution_count": null,
   "id": "f662c8d1",
   "metadata": {},
   "outputs": [],
   "source": []
  }
 ],
 "metadata": {
  "kernelspec": {
   "display_name": "Python 3 (ipykernel)",
   "language": "python",
   "name": "python3"
  },
  "language_info": {
   "codemirror_mode": {
    "name": "ipython",
    "version": 3
   },
   "file_extension": ".py",
   "mimetype": "text/x-python",
   "name": "python",
   "nbconvert_exporter": "python",
   "pygments_lexer": "ipython3",
   "version": "3.10.12"
  }
 },
 "nbformat": 4,
 "nbformat_minor": 5
}
