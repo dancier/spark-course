{
 "cells": [
  {
   "cell_type": "markdown",
   "id": "43614523-3598-4a63-a37f-c133c5813634",
   "metadata": {},
   "source": [
    "# Erzeugen von Dataframes"
   ]
  },
  {
   "cell_type": "markdown",
   "id": "b716d40e-9649-43cd-aa07-3c1a887fff58",
   "metadata": {},
   "source": [
    "* aus einem RDD oder einer beliebigen Python-Collection\n",
    "* aus anderen Dataframes\n",
    "* aus Dateien/Datenbanken\n",
    "\n",
    "Wir werden uns jede dieser Möglichkeiten anschauen."
   ]
  },
  {
   "cell_type": "markdown",
   "id": "ddcf1e4a-8562-4f7c-b5bc-1314b74e27e9",
   "metadata": {},
   "source": [
    "## Initialisieren einer Sparksession"
   ]
  },
  {
   "cell_type": "code",
   "execution_count": 1,
   "id": "e381b194-1084-4740-a4fd-2a661bf50190",
   "metadata": {
    "tags": []
   },
   "outputs": [
    {
     "name": "stderr",
     "output_type": "stream",
     "text": [
      "23/09/09 09:50:02 WARN Utils: Your hostname, pupil-a resolves to a loopback address: 127.0.1.1; using 23.88.105.62 instead (on interface eth0)\n",
      "23/09/09 09:50:02 WARN Utils: Set SPARK_LOCAL_IP if you need to bind to another address\n",
      "Setting default log level to \"WARN\".\n",
      "To adjust logging level use sc.setLogLevel(newLevel). For SparkR, use setLogLevel(newLevel).\n",
      "23/09/09 09:50:03 WARN NativeCodeLoader: Unable to load native-hadoop library for your platform... using builtin-java classes where applicable\n"
     ]
    },
    {
     "data": {
      "text/html": [
       "\n",
       "            <div>\n",
       "                <p><b>SparkSession - in-memory</b></p>\n",
       "                \n",
       "        <div>\n",
       "            <p><b>SparkContext</b></p>\n",
       "\n",
       "            <p><a href=\"http://pupil-a.bin-ich-tot.de:4040\">Spark UI</a></p>\n",
       "\n",
       "            <dl>\n",
       "              <dt>Version</dt>\n",
       "                <dd><code>v3.4.1</code></dd>\n",
       "              <dt>Master</dt>\n",
       "                <dd><code>local[4]</code></dd>\n",
       "              <dt>AppName</dt>\n",
       "                <dd><code>create-dataframes</code></dd>\n",
       "            </dl>\n",
       "        </div>\n",
       "        \n",
       "            </div>\n",
       "        "
      ],
      "text/plain": [
       "<pyspark.sql.session.SparkSession at 0x7f27ac0c7370>"
      ]
     },
     "execution_count": 1,
     "metadata": {},
     "output_type": "execute_result"
    }
   ],
   "source": [
    "from pyspark.sql import SparkSession\n",
    "\n",
    "from pyspark.sql.types import *\n",
    "from pyspark.sql.functions import col\n",
    "\n",
    "spark = (\n",
    "    SparkSession\n",
    "        .builder\n",
    "        .appName(\"create-dataframes\")\n",
    "        .master(\"local[4]\")  \n",
    "        .config(\"spark.dynamicAllocation.enabled\",False)\n",
    "        .config(\"spark.sql.adaptive.enabled\",False)\n",
    "        .getOrCreate()\n",
    ")\n",
    "sc = spark.sparkContext\n",
    "spark"
   ]
  },
  {
   "cell_type": "code",
   "execution_count": 2,
   "id": "62ad63ec-5097-46ec-a536-665c111724ad",
   "metadata": {
    "tags": []
   },
   "outputs": [
    {
     "data": {
      "text/html": [
       "<style>pre { white-space: pre !important; }</style>"
      ],
      "text/plain": [
       "<IPython.core.display.HTML object>"
      ]
     },
     "metadata": {},
     "output_type": "display_data"
    }
   ],
   "source": [
    "from IPython.display import *\n",
    "display(HTML(\"<style>pre { white-space: pre !important; }</style>\"))"
   ]
  },
  {
   "cell_type": "markdown",
   "id": "315d22f3-81be-4795-89a6-dcdcaa65b264",
   "metadata": {},
   "source": [
    "## Erzeugen aus einem RDD"
   ]
  },
  {
   "cell_type": "code",
   "execution_count": 9,
   "id": "8c4bf910-1dcf-41df-98f1-ae383175aa32",
   "metadata": {
    "tags": []
   },
   "outputs": [],
   "source": [
    "data = [\n",
    "    [1, \"Oliver\", 32],\n",
    "    [2, \"Xiaofei\", 19],\n",
    "    [3, \"Marc\", 31]\n",
    "]\n",
    "\n",
    "dozenten_rdd = sc.parallelize(data)"
   ]
  },
  {
   "cell_type": "code",
   "execution_count": 10,
   "id": "c51f6007-9347-429e-b5a8-455751c1a18c",
   "metadata": {
    "tags": []
   },
   "outputs": [],
   "source": [
    "dozenten_df = dozenten_rdd.toDF()"
   ]
  },
  {
   "cell_type": "code",
   "execution_count": 11,
   "id": "51333d49-abab-4ead-8911-9e530b9233e1",
   "metadata": {
    "tags": []
   },
   "outputs": [
    {
     "data": {
      "text/plain": [
       "pyspark.rdd.RDD"
      ]
     },
     "execution_count": 11,
     "metadata": {},
     "output_type": "execute_result"
    }
   ],
   "source": [
    "type(dozenten_rdd)"
   ]
  },
  {
   "cell_type": "code",
   "execution_count": 12,
   "id": "0bc891c1-e141-49f1-b4d1-1c8bc8514808",
   "metadata": {
    "tags": []
   },
   "outputs": [
    {
     "name": "stdout",
     "output_type": "stream",
     "text": [
      "+---+-------+---+\n",
      "| _1|     _2| _3|\n",
      "+---+-------+---+\n",
      "|  1| Oliver| 32|\n",
      "|  2|Xiaofei| 19|\n",
      "|  3|   Marc| 31|\n",
      "+---+-------+---+\n",
      "\n"
     ]
    }
   ],
   "source": [
    "dozenten_df.show()"
   ]
  },
  {
   "cell_type": "code",
   "execution_count": 13,
   "id": "59556128-5c44-4da4-8d9c-c254cfdab444",
   "metadata": {
    "tags": []
   },
   "outputs": [],
   "source": [
    "dozenten_df = dozenten_df.toDF(\"ID\", \"Name\", \"Age\")"
   ]
  },
  {
   "cell_type": "code",
   "execution_count": 14,
   "id": "dcd504db-594d-4101-a4eb-089805ea14db",
   "metadata": {
    "tags": []
   },
   "outputs": [
    {
     "name": "stdout",
     "output_type": "stream",
     "text": [
      "+---+-------+---+\n",
      "| ID|   Name|Age|\n",
      "+---+-------+---+\n",
      "|  1| Oliver| 32|\n",
      "|  2|Xiaofei| 19|\n",
      "|  3|   Marc| 31|\n",
      "+---+-------+---+\n",
      "\n"
     ]
    }
   ],
   "source": [
    "dozenten_df.show()"
   ]
  },
  {
   "cell_type": "code",
   "execution_count": 15,
   "id": "72fdcdb9-45b1-46d5-8f8d-63faaf386c46",
   "metadata": {
    "tags": []
   },
   "outputs": [
    {
     "name": "stdout",
     "output_type": "stream",
     "text": [
      "root\n",
      " |-- ID: long (nullable = true)\n",
      " |-- Name: string (nullable = true)\n",
      " |-- Age: long (nullable = true)\n",
      "\n"
     ]
    }
   ],
   "source": [
    "dozenten_df.printSchema()"
   ]
  },
  {
   "cell_type": "markdown",
   "id": "e4d118ce-d375-4190-b847-86588e9cb668",
   "metadata": {},
   "source": [
    "## Erzeugen eines Dataframe aus einer Collection"
   ]
  },
  {
   "cell_type": "code",
   "execution_count": 18,
   "id": "8d874592-7f56-4611-bfda-4d2e3d89bfa3",
   "metadata": {
    "tags": []
   },
   "outputs": [],
   "source": [
    "dozenten_df = (\n",
    "    spark.createDataFrame(\n",
    "        data,\n",
    "        \"Id: long, Name: string, Age: int\"\n",
    "    )\n",
    ")"
   ]
  },
  {
   "cell_type": "code",
   "execution_count": 19,
   "id": "bcac626b-f477-4782-b0e6-2400e2ca1612",
   "metadata": {
    "tags": []
   },
   "outputs": [
    {
     "name": "stdout",
     "output_type": "stream",
     "text": [
      "+---+-------+---+\n",
      "| Id|   Name|Age|\n",
      "+---+-------+---+\n",
      "|  1| Oliver| 32|\n",
      "|  2|Xiaofei| 19|\n",
      "|  3|   Marc| 31|\n",
      "+---+-------+---+\n",
      "\n"
     ]
    }
   ],
   "source": [
    "dozenten_df.show()"
   ]
  },
  {
   "cell_type": "code",
   "execution_count": 20,
   "id": "4515b9c1-cc41-4ecd-85d1-9d8e1c004229",
   "metadata": {
    "tags": []
   },
   "outputs": [
    {
     "name": "stdout",
     "output_type": "stream",
     "text": [
      "root\n",
      " |-- Id: long (nullable = true)\n",
      " |-- Name: string (nullable = true)\n",
      " |-- Age: integer (nullable = true)\n",
      "\n"
     ]
    }
   ],
   "source": [
    "dozenten_df.printSchema()"
   ]
  },
  {
   "cell_type": "markdown",
   "id": "2377c5f2-f539-4692-8eda-5bd320a18f8e",
   "metadata": {},
   "source": [
    "## Erzeugen aus einer Datei\n",
    "\n",
    "### CSV"
   ]
  },
  {
   "cell_type": "code",
   "execution_count": 23,
   "id": "db791e60-504e-43d6-b929-e4c73729d5e9",
   "metadata": {
    "tags": []
   },
   "outputs": [],
   "source": [
    "yellow_taxis_df = spark.read.csv(\"YellowTaxis_202210.csv.gz\")"
   ]
  },
  {
   "cell_type": "code",
   "execution_count": 24,
   "id": "dd6182ac-8d12-412b-ae0b-c37417ddb52e",
   "metadata": {
    "tags": []
   },
   "outputs": [
    {
     "name": "stdout",
     "output_type": "stream",
     "text": [
      "+--------+--------------------+--------------------+---------------+-------------+----------+------------------+------------+------------+------------+-----------+-----+-------+----------+------------+--------------------+------------+--------------------+-----------+\n",
      "|     _c0|                 _c1|                 _c2|            _c3|          _c4|       _c5|               _c6|         _c7|         _c8|         _c9|       _c10| _c11|   _c12|      _c13|        _c14|                _c15|        _c16|                _c17|       _c18|\n",
      "+--------+--------------------+--------------------+---------------+-------------+----------+------------------+------------+------------+------------+-----------+-----+-------+----------+------------+--------------------+------------+--------------------+-----------+\n",
      "|VendorID|tpep_pickup_datetime|tpep_dropoff_date...|passenger_count|trip_distance|RatecodeID|store_and_fwd_flag|PULocationID|DOLocationID|payment_type|fare_amount|extra|mta_tax|tip_amount|tolls_amount|improvement_surch...|total_amount|congestion_surcharge|airport_fee|\n",
      "|       1|2022-10-01T05:33:...|2022-10-01T05:48:...|            1.0|          1.7|       1.0|                 N|         249|         107|           1|        9.5|  3.0|    0.5|      2.65|         0.0|                 0.3|       15.95|                 2.5|        0.0|\n",
      "|       2|2022-10-01T05:44:...|2022-10-01T05:49:...|            2.0|         0.72|       1.0|                 N|         151|         238|           2|        5.5|  0.5|    0.5|       0.0|         0.0|                 0.3|         9.3|                 2.5|        0.0|\n",
      "|       2|2022-10-01T05:57:...|2022-10-01T06:07:...|            1.0|         1.74|       1.0|                 N|         238|         166|           1|        9.0|  0.5|    0.5|      2.06|         0.0|                 0.3|       12.36|                 0.0|        0.0|\n",
      "+--------+--------------------+--------------------+---------------+-------------+----------+------------------+------------+------------+------------+-----------+-----+-------+----------+------------+--------------------+------------+--------------------+-----------+\n",
      "only showing top 4 rows\n",
      "\n"
     ]
    }
   ],
   "source": [
    "yellow_taxis_df.show(4)"
   ]
  },
  {
   "cell_type": "code",
   "execution_count": 32,
   "id": "391dd298-1c0b-4b07-b9e8-df57bf1344a9",
   "metadata": {},
   "outputs": [],
   "source": [
    "yellow_taxis_df = spark.read.option(\"header\", True).csv(\"YellowTaxis_202210.csv.gz\")"
   ]
  },
  {
   "cell_type": "code",
   "execution_count": 33,
   "id": "83eae086-7978-4091-8787-8189b35cd108",
   "metadata": {},
   "outputs": [
    {
     "name": "stdout",
     "output_type": "stream",
     "text": [
      "+--------+--------------------+---------------------+---------------+-------------+----------+------------------+------------+------------+------------+-----------+-----+-------+----------+------------+---------------------+------------+--------------------+-----------+\n",
      "|VendorID|tpep_pickup_datetime|tpep_dropoff_datetime|passenger_count|trip_distance|RatecodeID|store_and_fwd_flag|PULocationID|DOLocationID|payment_type|fare_amount|extra|mta_tax|tip_amount|tolls_amount|improvement_surcharge|total_amount|congestion_surcharge|airport_fee|\n",
      "+--------+--------------------+---------------------+---------------+-------------+----------+------------------+------------+------------+------------+-----------+-----+-------+----------+------------+---------------------+------------+--------------------+-----------+\n",
      "|       1|2022-10-01T05:33:...| 2022-10-01T05:48:...|            1.0|          1.7|       1.0|                 N|         249|         107|           1|        9.5|  3.0|    0.5|      2.65|         0.0|                  0.3|       15.95|                 2.5|        0.0|\n",
      "|       2|2022-10-01T05:44:...| 2022-10-01T05:49:...|            2.0|         0.72|       1.0|                 N|         151|         238|           2|        5.5|  0.5|    0.5|       0.0|         0.0|                  0.3|         9.3|                 2.5|        0.0|\n",
      "|       2|2022-10-01T05:57:...| 2022-10-01T06:07:...|            1.0|         1.74|       1.0|                 N|         238|         166|           1|        9.0|  0.5|    0.5|      2.06|         0.0|                  0.3|       12.36|                 0.0|        0.0|\n",
      "|       1|2022-10-01T06:02:...| 2022-10-01T06:08:...|            0.0|          1.3|       1.0|                 N|         142|         239|           1|        6.5|  3.0|    0.5|      2.05|         0.0|                  0.3|       12.35|                 2.5|        0.0|\n",
      "+--------+--------------------+---------------------+---------------+-------------+----------+------------------+------------+------------+------------+-----------+-----+-------+----------+------------+---------------------+------------+--------------------+-----------+\n",
      "only showing top 4 rows\n",
      "\n"
     ]
    }
   ],
   "source": [
    "yellow_taxis_df.show(4)"
   ]
  },
  {
   "cell_type": "code",
   "execution_count": 34,
   "id": "aec5a1fc-f09c-499b-935c-03ac175c7356",
   "metadata": {},
   "outputs": [
    {
     "name": "stderr",
     "output_type": "stream",
     "text": [
      "                                                                                \r"
     ]
    },
    {
     "data": {
      "text/plain": [
       "3675412"
      ]
     },
     "execution_count": 34,
     "metadata": {},
     "output_type": "execute_result"
    }
   ],
   "source": [
    "yellow_taxis_df.count()"
   ]
  },
  {
   "cell_type": "code",
   "execution_count": 21,
   "id": "b1c12eb3-97ad-4952-b0b4-ed13d6048332",
   "metadata": {},
   "outputs": [
    {
     "name": "stdout",
     "output_type": "stream",
     "text": [
      "+--------+--------------------+---------------------+---------------+-------------+----------+------------------+------------+------------+------------+-----------+-----+-------+----------+------------+---------------------+------------+--------------------+-----------+\n",
      "|VendorID|tpep_pickup_datetime|tpep_dropoff_datetime|passenger_count|trip_distance|RatecodeID|store_and_fwd_flag|PULocationID|DOLocationID|payment_type|fare_amount|extra|mta_tax|tip_amount|tolls_amount|improvement_surcharge|total_amount|congestion_surcharge|airport_fee|\n",
      "+--------+--------------------+---------------------+---------------+-------------+----------+------------------+------------+------------+------------+-----------+-----+-------+----------+------------+---------------------+------------+--------------------+-----------+\n",
      "|       1|2022-10-01T05:33:...| 2022-10-01T05:48:...|            1.0|          1.7|       1.0|                 N|         249|         107|           1|        9.5|  3.0|    0.5|      2.65|         0.0|                  0.3|       15.95|                 2.5|        0.0|\n",
      "|       2|2022-10-01T05:44:...| 2022-10-01T05:49:...|            2.0|         0.72|       1.0|                 N|         151|         238|           2|        5.5|  0.5|    0.5|       0.0|         0.0|                  0.3|         9.3|                 2.5|        0.0|\n",
      "+--------+--------------------+---------------------+---------------+-------------+----------+------------------+------------+------------+------------+-----------+-----+-------+----------+------------+---------------------+------------+--------------------+-----------+\n",
      "only showing top 2 rows\n",
      "\n"
     ]
    }
   ],
   "source": [
    "yellow_taxis_df.show(2)"
   ]
  },
  {
   "cell_type": "code",
   "execution_count": 35,
   "id": "b4af0f6a-f920-4065-9440-2c3b4671f807",
   "metadata": {},
   "outputs": [
    {
     "name": "stdout",
     "output_type": "stream",
     "text": [
      "root\n",
      " |-- VendorID: string (nullable = true)\n",
      " |-- tpep_pickup_datetime: string (nullable = true)\n",
      " |-- tpep_dropoff_datetime: string (nullable = true)\n",
      " |-- passenger_count: string (nullable = true)\n",
      " |-- trip_distance: string (nullable = true)\n",
      " |-- RatecodeID: string (nullable = true)\n",
      " |-- store_and_fwd_flag: string (nullable = true)\n",
      " |-- PULocationID: string (nullable = true)\n",
      " |-- DOLocationID: string (nullable = true)\n",
      " |-- payment_type: string (nullable = true)\n",
      " |-- fare_amount: string (nullable = true)\n",
      " |-- extra: string (nullable = true)\n",
      " |-- mta_tax: string (nullable = true)\n",
      " |-- tip_amount: string (nullable = true)\n",
      " |-- tolls_amount: string (nullable = true)\n",
      " |-- improvement_surcharge: string (nullable = true)\n",
      " |-- total_amount: string (nullable = true)\n",
      " |-- congestion_surcharge: string (nullable = true)\n",
      " |-- airport_fee: string (nullable = true)\n",
      "\n"
     ]
    }
   ],
   "source": [
    "yellow_taxis_df.printSchema()"
   ]
  },
  {
   "cell_type": "markdown",
   "id": "38c3426b-f424-4131-ac53-0c3ce1665f9e",
   "metadata": {},
   "source": [
    "### TSV"
   ]
  },
  {
   "cell_type": "code",
   "execution_count": 28,
   "id": "f64f5d1c-09e0-48a8-a896-77d4a6ef5ca5",
   "metadata": {
    "tags": []
   },
   "outputs": [],
   "source": [
    "green_taxi_df = (\n",
    "    spark.read\n",
    "    .option(\"header\", \"true\")\n",
    "    .option(\"delimiter\", \"\\t\")\n",
    "    .csv(\"GreenTaxis_*.csv\") # beachte den Wildcard\n",
    ")"
   ]
  },
  {
   "cell_type": "code",
   "execution_count": 29,
   "id": "bf9639c1-45c3-4376-978b-9e55f09f1bd3",
   "metadata": {
    "tags": []
   },
   "outputs": [
    {
     "name": "stdout",
     "output_type": "stream",
     "text": [
      "+--------+--------------------+---------------------+---------------+-------------+----------+------------------+------------+------------+------------+-----------+-----+-------+----------+------------+---------------------+------------+--------------------+-----------+\n",
      "|VendorId|lpep_pickup_datetime|lpep_dropoff_datetime|passenger_count|trip_distance|RatecodeID|store_and_fwd_flag|PULocationID|DOLocationID|payment_type|fare_amount|extra|mta_tax|tip_amount|tolls_amount|improvement_surcharge|total_amount|congestion_surcharge|airport_fee|\n",
      "+--------+--------------------+---------------------+---------------+-------------+----------+------------------+------------+------------+------------+-----------+-----+-------+----------+------------+---------------------+------------+--------------------+-----------+\n",
      "|       2|2022-10-01T06:08:...| 2022-10-01T06:21:...|            1.0|         2.47|       1.0|                 N|         256|         225|         1.0|       11.5|  0.5|    0.5|      2.56|         0.0|                  0.3|       15.36|                 0.0|        0.0|\n",
      "|       2|2022-10-01T06:36:...| 2022-10-01T06:42:...|            1.0|         1.96|       1.0|                 N|         166|         152|         1.0|        7.5|  0.5|    0.5|       2.2|         0.0|                  0.3|        11.0|                 0.0|        0.0|\n",
      "|       2|2022-10-01T06:01:...| 2022-10-01T06:15:...|            1.0|         2.43|       1.0|                 N|          74|         262|         1.0|       11.5|  0.5|    0.5|       2.0|         0.0|                  0.3|       17.55|                2.75|        0.0|\n",
      "|       2|2022-10-01T06:21:...| 2022-10-01T06:28:...|            1.0|         2.25|       1.0|                 N|          74|          42|         1.0|        8.5|  0.5|    0.5|      1.96|         0.0|                  0.3|       11.76|                 0.0|        0.0|\n",
      "+--------+--------------------+---------------------+---------------+-------------+----------+------------------+------------+------------+------------+-----------+-----+-------+----------+------------+---------------------+------------+--------------------+-----------+\n",
      "only showing top 4 rows\n",
      "\n"
     ]
    }
   ],
   "source": [
    "green_taxi_df.show(4)"
   ]
  },
  {
   "cell_type": "markdown",
   "id": "0c0b6471-be17-4a6a-bc68-5c9174b0ad6e",
   "metadata": {},
   "source": [
    "Eine Spalte referenziert einen PaymentType, den laden wir mal aus einem Json nach"
   ]
  },
  {
   "cell_type": "markdown",
   "id": "d2de8007-1c23-432f-9db5-78ceb12fd6cc",
   "metadata": {},
   "source": [
    "### Json"
   ]
  },
  {
   "cell_type": "code",
   "execution_count": 42,
   "id": "ac5b230a-4377-4633-9f4f-3a320ceea2f7",
   "metadata": {},
   "outputs": [
    {
     "data": {
      "text/plain": [
       "{\"PaymentTypeID\":1,\"PaymentType\":\"Credit Card\"}\n",
       "{\"PaymentTypeID\":2,\"PaymentType\":\"Cash\"}\n",
       "{\"PaymentTypeID\":3,\"PaymentType\":\"No Charge\"}\n",
       "{\"PaymentTypeID\":4,\"PaymentType\":\"Dispute\"}\n",
       "{\"PaymentTypeID\":5,\"PaymentType\":\"Unknown\"}\n",
       "{\"PaymentTypeID\":6,\"PaymentType\":\"Voided Trip\"}\n"
      ]
     },
     "metadata": {},
     "output_type": "display_data"
    }
   ],
   "source": [
    "%less PaymentTypes.json"
   ]
  },
  {
   "cell_type": "code",
   "execution_count": 32,
   "id": "27cc3c6c-8273-414d-afbd-196eac0b9feb",
   "metadata": {
    "tags": []
   },
   "outputs": [],
   "source": [
    "payment_types_df = (\n",
    "    spark.read.json(\"PaymentTypes.json\") # es gibt auch spark.read.parquet, spark.read.jdbc, ...\n",
    ")"
   ]
  },
  {
   "cell_type": "code",
   "execution_count": 31,
   "id": "7b86831b-db69-47f6-b1a0-6aaba64fbfb5",
   "metadata": {
    "tags": []
   },
   "outputs": [
    {
     "name": "stdout",
     "output_type": "stream",
     "text": [
      "+-----------+-------------+\n",
      "|PaymentType|PaymentTypeID|\n",
      "+-----------+-------------+\n",
      "|Credit Card|            1|\n",
      "|       Cash|            2|\n",
      "|  No Charge|            3|\n",
      "|    Dispute|            4|\n",
      "|    Unknown|            5|\n",
      "|Voided Trip|            6|\n",
      "+-----------+-------------+\n",
      "\n"
     ]
    }
   ],
   "source": [
    "payment_types_df.show()"
   ]
  },
  {
   "cell_type": "code",
   "execution_count": null,
   "id": "50d6e1a9-b5ce-462d-be65-e86e0356d622",
   "metadata": {},
   "outputs": [],
   "source": []
  }
 ],
 "metadata": {
  "kernelspec": {
   "display_name": "Python 3 (ipykernel)",
   "language": "python",
   "name": "python3"
  },
  "language_info": {
   "codemirror_mode": {
    "name": "ipython",
    "version": 3
   },
   "file_extension": ".py",
   "mimetype": "text/x-python",
   "name": "python",
   "nbconvert_exporter": "python",
   "pygments_lexer": "ipython3",
   "version": "3.10.12"
  }
 },
 "nbformat": 4,
 "nbformat_minor": 5
}
