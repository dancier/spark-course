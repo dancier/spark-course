{
 "cells": [
  {
   "cell_type": "markdown",
   "id": "43614523-3598-4a63-a37f-c133c5813634",
   "metadata": {},
   "source": [
    "# Erzeugen von Dataframes"
   ]
  },
  {
   "cell_type": "markdown",
   "id": "b716d40e-9649-43cd-aa07-3c1a887fff58",
   "metadata": {},
   "source": [
    "* aus einem RDD oder einer beliebigen Python-Collections\n",
    "* aus anderen Dataframes\n",
    "* aus Dateien/Datenbanken\n",
    "\n",
    "Wir werden uns jede dieser Möglichkeiten anschauen."
   ]
  },
  {
   "cell_type": "markdown",
   "id": "ddcf1e4a-8562-4f7c-b5bc-1314b74e27e9",
   "metadata": {},
   "source": [
    "## Initialisieren einer Sparksession"
   ]
  },
  {
   "cell_type": "code",
   "execution_count": 22,
   "id": "e381b194-1084-4740-a4fd-2a661bf50190",
   "metadata": {},
   "outputs": [],
   "source": [
    "from pyspark.sql import SparkSession\n",
    "\n",
    "from pyspark.sql.types import *\n",
    "from pyspark.sql.functions import col\n",
    "\n",
    "spark = SparkSession.builder.appName(\"first-steps-with-dataframes\").master(\"local[4]\").getOrCreate()\n",
    "sc = spark.sparkContext"
   ]
  },
  {
   "cell_type": "code",
   "execution_count": 23,
   "id": "78788983-567e-427d-8ecf-94d62ad857bc",
   "metadata": {},
   "outputs": [
    {
     "data": {
      "text/html": [
       "\n",
       "            <div>\n",
       "                <p><b>SparkSession - in-memory</b></p>\n",
       "                \n",
       "        <div>\n",
       "            <p><b>SparkContext</b></p>\n",
       "\n",
       "            <p><a href=\"http://pupil-a.bin-ich-tot.de:4040\">Spark UI</a></p>\n",
       "\n",
       "            <dl>\n",
       "              <dt>Version</dt>\n",
       "                <dd><code>v3.4.1</code></dd>\n",
       "              <dt>Master</dt>\n",
       "                <dd><code>local[4]</code></dd>\n",
       "              <dt>AppName</dt>\n",
       "                <dd><code>first-steps-with-dataframes</code></dd>\n",
       "            </dl>\n",
       "        </div>\n",
       "        \n",
       "            </div>\n",
       "        "
      ],
      "text/plain": [
       "<pyspark.sql.session.SparkSession at 0x7f3409858940>"
      ]
     },
     "execution_count": 23,
     "metadata": {},
     "output_type": "execute_result"
    }
   ],
   "source": [
    "spark"
   ]
  },
  {
   "cell_type": "code",
   "execution_count": 40,
   "id": "62ad63ec-5097-46ec-a536-665c111724ad",
   "metadata": {},
   "outputs": [
    {
     "data": {
      "text/html": [
       "<style>pre { white-space: pre !important; }</style>"
      ],
      "text/plain": [
       "<IPython.core.display.HTML object>"
      ]
     },
     "metadata": {},
     "output_type": "display_data"
    }
   ],
   "source": [
    "from IPython.display import *\n",
    "display(HTML(\"<style>pre { white-space: pre !important; }</style>\"))"
   ]
  },
  {
   "cell_type": "markdown",
   "id": "315d22f3-81be-4795-89a6-dcdcaa65b264",
   "metadata": {},
   "source": [
    "## Erzeugen aus einem RDD"
   ]
  },
  {
   "cell_type": "code",
   "execution_count": 25,
   "id": "8c4bf910-1dcf-41df-98f1-ae383175aa32",
   "metadata": {},
   "outputs": [],
   "source": [
    "data = [\n",
    "    [1, \"Oliver\", 10],\n",
    "    [2, \"Xiaofei\", 20],\n",
    "    [3, \"Marc\", 40]\n",
    "]\n",
    "\n",
    "dozenten_rdd = sc.parallelize(data)"
   ]
  },
  {
   "cell_type": "code",
   "execution_count": 4,
   "id": "c51f6007-9347-429e-b5a8-455751c1a18c",
   "metadata": {},
   "outputs": [
    {
     "name": "stderr",
     "output_type": "stream",
     "text": [
      "                                                                                \r"
     ]
    }
   ],
   "source": [
    "dozenten_df = dozenten_rdd.toDF()"
   ]
  },
  {
   "cell_type": "code",
   "execution_count": 7,
   "id": "51333d49-abab-4ead-8911-9e530b9233e1",
   "metadata": {},
   "outputs": [
    {
     "data": {
      "text/plain": [
       "pyspark.rdd.RDD"
      ]
     },
     "execution_count": 7,
     "metadata": {},
     "output_type": "execute_result"
    }
   ],
   "source": [
    "type(dozenten_rdd)"
   ]
  },
  {
   "cell_type": "code",
   "execution_count": 8,
   "id": "0bc891c1-e141-49f1-b4d1-1c8bc8514808",
   "metadata": {},
   "outputs": [
    {
     "name": "stdout",
     "output_type": "stream",
     "text": [
      "+---+-------+---+\n",
      "| _1|     _2| _3|\n",
      "+---+-------+---+\n",
      "|  1| Oliver| 10|\n",
      "|  2|Xiaofei| 20|\n",
      "|  3|   Marc| 40|\n",
      "+---+-------+---+\n",
      "\n"
     ]
    },
    {
     "name": "stderr",
     "output_type": "stream",
     "text": [
      "                                                                                \r"
     ]
    }
   ],
   "source": [
    "dozenten_df.show()"
   ]
  },
  {
   "cell_type": "code",
   "execution_count": 26,
   "id": "59556128-5c44-4da4-8d9c-c254cfdab444",
   "metadata": {},
   "outputs": [],
   "source": [
    "dozenten_df = dozenten_df.toDF(\"ID\", \"Name\", \"Points\")"
   ]
  },
  {
   "cell_type": "code",
   "execution_count": 27,
   "id": "dcd504db-594d-4101-a4eb-089805ea14db",
   "metadata": {},
   "outputs": [
    {
     "name": "stdout",
     "output_type": "stream",
     "text": [
      "+---+-------+------+\n",
      "| ID|   Name|Points|\n",
      "+---+-------+------+\n",
      "|  1| Oliver|    10|\n",
      "|  2|Xiaofei|    20|\n",
      "|  3|   Marc|    40|\n",
      "+---+-------+------+\n",
      "\n"
     ]
    }
   ],
   "source": [
    "dozenten_df.show()"
   ]
  },
  {
   "cell_type": "code",
   "execution_count": 28,
   "id": "72fdcdb9-45b1-46d5-8f8d-63faaf386c46",
   "metadata": {},
   "outputs": [
    {
     "name": "stdout",
     "output_type": "stream",
     "text": [
      "root\n",
      " |-- ID: long (nullable = true)\n",
      " |-- Name: string (nullable = true)\n",
      " |-- Points: long (nullable = true)\n",
      "\n"
     ]
    }
   ],
   "source": [
    "dozenten_df.printSchema()"
   ]
  },
  {
   "cell_type": "markdown",
   "id": "e4d118ce-d375-4190-b847-86588e9cb668",
   "metadata": {},
   "source": [
    "## Erzeuge Dataframe aus einer Collection"
   ]
  },
  {
   "cell_type": "code",
   "execution_count": 15,
   "id": "8d874592-7f56-4611-bfda-4d2e3d89bfa3",
   "metadata": {},
   "outputs": [],
   "source": [
    "dozenten_df = (\n",
    "    spark.createDataFrame(\n",
    "        data,\n",
    "        \"Id: long, Name: string, Pointy: long\"\n",
    "    )\n",
    ")"
   ]
  },
  {
   "cell_type": "code",
   "execution_count": 16,
   "id": "bcac626b-f477-4782-b0e6-2400e2ca1612",
   "metadata": {},
   "outputs": [
    {
     "name": "stdout",
     "output_type": "stream",
     "text": [
      "+---+-------+------+\n",
      "| Id|   Name|Pointy|\n",
      "+---+-------+------+\n",
      "|  1| Oliver|    10|\n",
      "|  2|Xiaofei|    20|\n",
      "|  3|   Marc|    40|\n",
      "+---+-------+------+\n",
      "\n"
     ]
    }
   ],
   "source": [
    "dozenten_df.show()"
   ]
  },
  {
   "cell_type": "code",
   "execution_count": 17,
   "id": "4515b9c1-cc41-4ecd-85d1-9d8e1c004229",
   "metadata": {},
   "outputs": [
    {
     "name": "stdout",
     "output_type": "stream",
     "text": [
      "root\n",
      " |-- Id: long (nullable = true)\n",
      " |-- Name: string (nullable = true)\n",
      " |-- Pointy: long (nullable = true)\n",
      "\n"
     ]
    }
   ],
   "source": [
    "dozenten_df.printSchema()"
   ]
  },
  {
   "cell_type": "code",
   "execution_count": 18,
   "id": "3a064a6c-5a78-4c36-9fe1-3eaedc228baa",
   "metadata": {},
   "outputs": [
    {
     "data": {
      "text/plain": [
       "pyspark.sql.session.SparkSession"
      ]
     },
     "execution_count": 18,
     "metadata": {},
     "output_type": "execute_result"
    }
   ],
   "source": [
    "type(spark)"
   ]
  },
  {
   "cell_type": "markdown",
   "id": "2377c5f2-f539-4692-8eda-5bd320a18f8e",
   "metadata": {},
   "source": [
    "### Erzeugen aus einer Datei"
   ]
  },
  {
   "cell_type": "code",
   "execution_count": 30,
   "id": "db791e60-504e-43d6-b929-e4c73729d5e9",
   "metadata": {},
   "outputs": [],
   "source": [
    "yellow_taxis_df = spark.read.csv(\"YellowTaxis_202210.csv.gz\")"
   ]
  },
  {
   "cell_type": "code",
   "execution_count": 31,
   "id": "dd6182ac-8d12-412b-ae0b-c37417ddb52e",
   "metadata": {},
   "outputs": [
    {
     "name": "stdout",
     "output_type": "stream",
     "text": [
      "+--------+--------------------+--------------------+---------------+-------------+----------+------------------+------------+------------+------------+-----------+-----+-------+----------+------------+--------------------+------------+--------------------+-----------+\n",
      "|     _c0|                 _c1|                 _c2|            _c3|          _c4|       _c5|               _c6|         _c7|         _c8|         _c9|       _c10| _c11|   _c12|      _c13|        _c14|                _c15|        _c16|                _c17|       _c18|\n",
      "+--------+--------------------+--------------------+---------------+-------------+----------+------------------+------------+------------+------------+-----------+-----+-------+----------+------------+--------------------+------------+--------------------+-----------+\n",
      "|VendorID|tpep_pickup_datetime|tpep_dropoff_date...|passenger_count|trip_distance|RatecodeID|store_and_fwd_flag|PULocationID|DOLocationID|payment_type|fare_amount|extra|mta_tax|tip_amount|tolls_amount|improvement_surch...|total_amount|congestion_surcharge|airport_fee|\n",
      "|       1|2022-10-01T05:33:...|2022-10-01T05:48:...|            1.0|          1.7|       1.0|                 N|         249|         107|           1|        9.5|  3.0|    0.5|      2.65|         0.0|                 0.3|       15.95|                 2.5|        0.0|\n",
      "|       2|2022-10-01T05:44:...|2022-10-01T05:49:...|            2.0|         0.72|       1.0|                 N|         151|         238|           2|        5.5|  0.5|    0.5|       0.0|         0.0|                 0.3|         9.3|                 2.5|        0.0|\n",
      "|       2|2022-10-01T05:57:...|2022-10-01T06:07:...|            1.0|         1.74|       1.0|                 N|         238|         166|           1|        9.0|  0.5|    0.5|      2.06|         0.0|                 0.3|       12.36|                 0.0|        0.0|\n",
      "+--------+--------------------+--------------------+---------------+-------------+----------+------------------+------------+------------+------------+-----------+-----+-------+----------+------------+--------------------+------------+--------------------+-----------+\n",
      "only showing top 4 rows\n",
      "\n"
     ]
    }
   ],
   "source": [
    "yellow_taxis_df.show(4)"
   ]
  },
  {
   "cell_type": "code",
   "execution_count": 32,
   "id": "391dd298-1c0b-4b07-b9e8-df57bf1344a9",
   "metadata": {},
   "outputs": [],
   "source": [
    "yellow_taxis_df = spark.read.option(\"header\", True).csv(\"YellowTaxis_202210.csv.gz\")"
   ]
  },
  {
   "cell_type": "code",
   "execution_count": 33,
   "id": "83eae086-7978-4091-8787-8189b35cd108",
   "metadata": {},
   "outputs": [
    {
     "name": "stdout",
     "output_type": "stream",
     "text": [
      "+--------+--------------------+---------------------+---------------+-------------+----------+------------------+------------+------------+------------+-----------+-----+-------+----------+------------+---------------------+------------+--------------------+-----------+\n",
      "|VendorID|tpep_pickup_datetime|tpep_dropoff_datetime|passenger_count|trip_distance|RatecodeID|store_and_fwd_flag|PULocationID|DOLocationID|payment_type|fare_amount|extra|mta_tax|tip_amount|tolls_amount|improvement_surcharge|total_amount|congestion_surcharge|airport_fee|\n",
      "+--------+--------------------+---------------------+---------------+-------------+----------+------------------+------------+------------+------------+-----------+-----+-------+----------+------------+---------------------+------------+--------------------+-----------+\n",
      "|       1|2022-10-01T05:33:...| 2022-10-01T05:48:...|            1.0|          1.7|       1.0|                 N|         249|         107|           1|        9.5|  3.0|    0.5|      2.65|         0.0|                  0.3|       15.95|                 2.5|        0.0|\n",
      "|       2|2022-10-01T05:44:...| 2022-10-01T05:49:...|            2.0|         0.72|       1.0|                 N|         151|         238|           2|        5.5|  0.5|    0.5|       0.0|         0.0|                  0.3|         9.3|                 2.5|        0.0|\n",
      "|       2|2022-10-01T05:57:...| 2022-10-01T06:07:...|            1.0|         1.74|       1.0|                 N|         238|         166|           1|        9.0|  0.5|    0.5|      2.06|         0.0|                  0.3|       12.36|                 0.0|        0.0|\n",
      "|       1|2022-10-01T06:02:...| 2022-10-01T06:08:...|            0.0|          1.3|       1.0|                 N|         142|         239|           1|        6.5|  3.0|    0.5|      2.05|         0.0|                  0.3|       12.35|                 2.5|        0.0|\n",
      "+--------+--------------------+---------------------+---------------+-------------+----------+------------------+------------+------------+------------+-----------+-----+-------+----------+------------+---------------------+------------+--------------------+-----------+\n",
      "only showing top 4 rows\n",
      "\n"
     ]
    }
   ],
   "source": [
    "yellow_taxis_df.show(4)"
   ]
  },
  {
   "cell_type": "code",
   "execution_count": 34,
   "id": "aec5a1fc-f09c-499b-935c-03ac175c7356",
   "metadata": {},
   "outputs": [
    {
     "name": "stderr",
     "output_type": "stream",
     "text": [
      "                                                                                \r"
     ]
    },
    {
     "data": {
      "text/plain": [
       "3675412"
      ]
     },
     "execution_count": 34,
     "metadata": {},
     "output_type": "execute_result"
    }
   ],
   "source": [
    "yellow_taxis_df.count()"
   ]
  },
  {
   "cell_type": "code",
   "execution_count": 21,
   "id": "b1c12eb3-97ad-4952-b0b4-ed13d6048332",
   "metadata": {},
   "outputs": [
    {
     "name": "stdout",
     "output_type": "stream",
     "text": [
      "+--------+--------------------+---------------------+---------------+-------------+----------+------------------+------------+------------+------------+-----------+-----+-------+----------+------------+---------------------+------------+--------------------+-----------+\n",
      "|VendorID|tpep_pickup_datetime|tpep_dropoff_datetime|passenger_count|trip_distance|RatecodeID|store_and_fwd_flag|PULocationID|DOLocationID|payment_type|fare_amount|extra|mta_tax|tip_amount|tolls_amount|improvement_surcharge|total_amount|congestion_surcharge|airport_fee|\n",
      "+--------+--------------------+---------------------+---------------+-------------+----------+------------------+------------+------------+------------+-----------+-----+-------+----------+------------+---------------------+------------+--------------------+-----------+\n",
      "|       1|2022-10-01T05:33:...| 2022-10-01T05:48:...|            1.0|          1.7|       1.0|                 N|         249|         107|           1|        9.5|  3.0|    0.5|      2.65|         0.0|                  0.3|       15.95|                 2.5|        0.0|\n",
      "|       2|2022-10-01T05:44:...| 2022-10-01T05:49:...|            2.0|         0.72|       1.0|                 N|         151|         238|           2|        5.5|  0.5|    0.5|       0.0|         0.0|                  0.3|         9.3|                 2.5|        0.0|\n",
      "+--------+--------------------+---------------------+---------------+-------------+----------+------------------+------------+------------+------------+-----------+-----+-------+----------+------------+---------------------+------------+--------------------+-----------+\n",
      "only showing top 2 rows\n",
      "\n"
     ]
    }
   ],
   "source": [
    "yellow_taxis_df.show(2)"
   ]
  },
  {
   "cell_type": "code",
   "execution_count": 35,
   "id": "b4af0f6a-f920-4065-9440-2c3b4671f807",
   "metadata": {},
   "outputs": [
    {
     "name": "stdout",
     "output_type": "stream",
     "text": [
      "root\n",
      " |-- VendorID: string (nullable = true)\n",
      " |-- tpep_pickup_datetime: string (nullable = true)\n",
      " |-- tpep_dropoff_datetime: string (nullable = true)\n",
      " |-- passenger_count: string (nullable = true)\n",
      " |-- trip_distance: string (nullable = true)\n",
      " |-- RatecodeID: string (nullable = true)\n",
      " |-- store_and_fwd_flag: string (nullable = true)\n",
      " |-- PULocationID: string (nullable = true)\n",
      " |-- DOLocationID: string (nullable = true)\n",
      " |-- payment_type: string (nullable = true)\n",
      " |-- fare_amount: string (nullable = true)\n",
      " |-- extra: string (nullable = true)\n",
      " |-- mta_tax: string (nullable = true)\n",
      " |-- tip_amount: string (nullable = true)\n",
      " |-- tolls_amount: string (nullable = true)\n",
      " |-- improvement_surcharge: string (nullable = true)\n",
      " |-- total_amount: string (nullable = true)\n",
      " |-- congestion_surcharge: string (nullable = true)\n",
      " |-- airport_fee: string (nullable = true)\n",
      "\n"
     ]
    }
   ],
   "source": [
    "yellow_taxis_df.printSchema()"
   ]
  },
  {
   "cell_type": "markdown",
   "id": "38c3426b-f424-4131-ac53-0c3ce1665f9e",
   "metadata": {},
   "source": [
    "*Nun aus einm TSV*"
   ]
  },
  {
   "cell_type": "code",
   "execution_count": 38,
   "id": "f64f5d1c-09e0-48a8-a896-77d4a6ef5ca5",
   "metadata": {},
   "outputs": [],
   "source": [
    "green_taxi_df = (\n",
    "    spark.read\n",
    "    .option(\"header\", \"true\")\n",
    "    .option(\"delimiter\", \"\\t\")\n",
    "    .csv(\"GreenTaxis_202210.csv\")\n",
    ")"
   ]
  },
  {
   "cell_type": "code",
   "execution_count": 39,
   "id": "bf9639c1-45c3-4376-978b-9e55f09f1bd3",
   "metadata": {},
   "outputs": [
    {
     "name": "stdout",
     "output_type": "stream",
     "text": [
      "+--------+--------------------+---------------------+---------------+-------------+----------+------------------+------------+------------+------------+-----------+-----+-------+----------+------------+---------------------+------------+--------------------+-----------+\n",
      "|VendorId|lpep_pickup_datetime|lpep_dropoff_datetime|passenger_count|trip_distance|RatecodeID|store_and_fwd_flag|PULocationID|DOLocationID|payment_type|fare_amount|extra|mta_tax|tip_amount|tolls_amount|improvement_surcharge|total_amount|congestion_surcharge|airport_fee|\n",
      "+--------+--------------------+---------------------+---------------+-------------+----------+------------------+------------+------------+------------+-----------+-----+-------+----------+------------+---------------------+------------+--------------------+-----------+\n",
      "|       2|2022-10-01T06:08:...| 2022-10-01T06:21:...|            1.0|         2.47|       1.0|                 N|         256|         225|         1.0|       11.5|  0.5|    0.5|      2.56|         0.0|                  0.3|       15.36|                 0.0|        0.0|\n",
      "|       2|2022-10-01T06:36:...| 2022-10-01T06:42:...|            1.0|         1.96|       1.0|                 N|         166|         152|         1.0|        7.5|  0.5|    0.5|       2.2|         0.0|                  0.3|        11.0|                 0.0|        0.0|\n",
      "|       2|2022-10-01T06:01:...| 2022-10-01T06:15:...|            1.0|         2.43|       1.0|                 N|          74|         262|         1.0|       11.5|  0.5|    0.5|       2.0|         0.0|                  0.3|       17.55|                2.75|        0.0|\n",
      "|       2|2022-10-01T06:21:...| 2022-10-01T06:28:...|            1.0|         2.25|       1.0|                 N|          74|          42|         1.0|        8.5|  0.5|    0.5|      1.96|         0.0|                  0.3|       11.76|                 0.0|        0.0|\n",
      "+--------+--------------------+---------------------+---------------+-------------+----------+------------------+------------+------------+------------+-----------+-----+-------+----------+------------+---------------------+------------+--------------------+-----------+\n",
      "only showing top 4 rows\n",
      "\n"
     ]
    }
   ],
   "source": [
    "green_taxi_df.show(4)"
   ]
  },
  {
   "cell_type": "markdown",
   "id": "d2de8007-1c23-432f-9db5-78ceb12fd6cc",
   "metadata": {},
   "source": [
    "*Nun ein Json-File*"
   ]
  },
  {
   "cell_type": "code",
   "execution_count": 42,
   "id": "ac5b230a-4377-4633-9f4f-3a320ceea2f7",
   "metadata": {},
   "outputs": [
    {
     "data": {
      "text/plain": [
       "{\"PaymentTypeID\":1,\"PaymentType\":\"Credit Card\"}\n",
       "{\"PaymentTypeID\":2,\"PaymentType\":\"Cash\"}\n",
       "{\"PaymentTypeID\":3,\"PaymentType\":\"No Charge\"}\n",
       "{\"PaymentTypeID\":4,\"PaymentType\":\"Dispute\"}\n",
       "{\"PaymentTypeID\":5,\"PaymentType\":\"Unknown\"}\n",
       "{\"PaymentTypeID\":6,\"PaymentType\":\"Voided Trip\"}\n"
      ]
     },
     "metadata": {},
     "output_type": "display_data"
    }
   ],
   "source": [
    "%less PaymentTypes.json"
   ]
  },
  {
   "cell_type": "code",
   "execution_count": 47,
   "id": "27cc3c6c-8273-414d-afbd-196eac0b9feb",
   "metadata": {},
   "outputs": [],
   "source": [
    "paymen_types_df = (\n",
    "    spark.read.json(\"PaymentTypes.json\")\n",
    ")"
   ]
  },
  {
   "cell_type": "code",
   "execution_count": 49,
   "id": "7b86831b-db69-47f6-b1a0-6aaba64fbfb5",
   "metadata": {},
   "outputs": [
    {
     "name": "stdout",
     "output_type": "stream",
     "text": [
      "+-----------+-------------+\n",
      "|PaymentType|PaymentTypeID|\n",
      "+-----------+-------------+\n",
      "|Credit Card|            1|\n",
      "|       Cash|            2|\n",
      "|  No Charge|            3|\n",
      "|    Dispute|            4|\n",
      "|    Unknown|            5|\n",
      "|Voided Trip|            6|\n",
      "+-----------+-------------+\n",
      "\n"
     ]
    }
   ],
   "source": [
    "paymen_types_df.show()"
   ]
  },
  {
   "cell_type": "markdown",
   "id": "43f3d337-9736-43e6-994e-d6934d3d8628",
   "metadata": {},
   "source": [
    "# DAS kann man wohl löschen wenn es schon durch die anderen Kapitel abgedeckt ist"
   ]
  },
  {
   "cell_type": "markdown",
   "id": "752dedf9-7f67-499f-8365-59049b1cb1b7",
   "metadata": {},
   "source": [
    "## Qualitätschecks"
   ]
  },
  {
   "cell_type": "markdown",
   "id": "fee7bb12-9e89-4861-85ef-3f1ed3888bf5",
   "metadata": {},
   "source": [
    " * Entferne nicht vollständige Datensätze\n",
    " * Entferne Dublikate\n",
    " * Entferne nicht mehr gültige Daten\n",
    "   "
   ]
  },
  {
   "cell_type": "code",
   "execution_count": 22,
   "id": "2391d0dd-4d78-4035-a2eb-163cf4647d3f",
   "metadata": {},
   "outputs": [
    {
     "data": {
      "text/plain": [
       "[Row(VendorID='1', tpep_pickup_datetime='2022-10-01T05:33:41.000+05:30', tpep_dropoff_datetime='2022-10-01T05:48:39.000+05:30', passenger_count='1.0', trip_distance='1.7', RatecodeID='1.0', store_and_fwd_flag='N', PULocationID='249', DOLocationID='107', payment_type='1', fare_amount='9.5', extra='3.0', mta_tax='0.5', tip_amount='2.65', tolls_amount='0.0', improvement_surcharge='0.3', total_amount='15.95', congestion_surcharge='2.5', airport_fee='0.0'),\n",
       " Row(VendorID='2', tpep_pickup_datetime='2022-10-01T05:44:30.000+05:30', tpep_dropoff_datetime='2022-10-01T05:49:48.000+05:30', passenger_count='2.0', trip_distance='0.72', RatecodeID='1.0', store_and_fwd_flag='N', PULocationID='151', DOLocationID='238', payment_type='2', fare_amount='5.5', extra='0.5', mta_tax='0.5', tip_amount='0.0', tolls_amount='0.0', improvement_surcharge='0.3', total_amount='9.3', congestion_surcharge='2.5', airport_fee='0.0')]"
      ]
     },
     "execution_count": 22,
     "metadata": {},
     "output_type": "execute_result"
    }
   ],
   "source": [
    "yellow_taxis_df.take(2)"
   ]
  },
  {
   "cell_type": "code",
   "execution_count": 23,
   "id": "3b993d89-f99d-49a2-a892-901218089862",
   "metadata": {},
   "outputs": [],
   "source": [
    "yellow_taxis_analyzed_df = (\n",
    "    yellow_taxis_df.describe(\"passenger_count\", \"trip_distance\")\n",
    ")"
   ]
  },
  {
   "cell_type": "code",
   "execution_count": 24,
   "id": "f2f3d9d6-31d2-47f5-8f7f-2c5ea8b34af1",
   "metadata": {},
   "outputs": [
    {
     "name": "stderr",
     "output_type": "stream",
     "text": [
      "[Stage 12:>                                                         (0 + 1) / 1]\r"
     ]
    },
    {
     "name": "stdout",
     "output_type": "stream",
     "text": [
      "+-------+------------------+-----------------+\n",
      "|summary|   passenger_count|    trip_distance|\n",
      "+-------+------------------+-----------------+\n",
      "|  count|           3542392|          3675412|\n",
      "|   mean|1.3846934500755421|6.206976298167039|\n",
      "| stddev|0.9302303297406955|640.8236808320255|\n",
      "|    min|               0.0|              0.0|\n",
      "|    max|               9.0|            99.89|\n",
      "+-------+------------------+-----------------+\n",
      "\n"
     ]
    },
    {
     "name": "stderr",
     "output_type": "stream",
     "text": [
      "                                                                                \r"
     ]
    }
   ],
   "source": [
    "yellow_taxis_analyzed_df.show()"
   ]
  },
  {
   "cell_type": "code",
   "execution_count": 34,
   "id": "f5f850a0-113d-4c8f-9c24-7c38f534c841",
   "metadata": {},
   "outputs": [],
   "source": [
    "yellow_taxis_df = (\n",
    "    yellow_taxis_df.where(\"passenger_count > 0 \").filter(col(\"trip_distance\") > 0.0)\n",
    ")"
   ]
  },
  {
   "cell_type": "code",
   "execution_count": 35,
   "id": "864e7e67-172b-44b3-a018-edcc55ccf467",
   "metadata": {},
   "outputs": [
    {
     "name": "stderr",
     "output_type": "stream",
     "text": [
      "[Stage 16:>                                                         (0 + 1) / 1]\r"
     ]
    },
    {
     "name": "stdout",
     "output_type": "stream",
     "text": [
      "+-------+------------------+------------------+\n",
      "|summary|   passenger_count|     trip_distance|\n",
      "+-------+------------------+------------------+\n",
      "|  count|           3422296|           3422296|\n",
      "|   mean|1.4132877460044369|3.6868047912858457|\n",
      "| stddev|0.9196558392175687| 22.54992281754558|\n",
      "|    min|               1.0|              0.01|\n",
      "|    max|               9.0|             99.89|\n",
      "+-------+------------------+------------------+\n",
      "\n"
     ]
    },
    {
     "name": "stderr",
     "output_type": "stream",
     "text": [
      "                                                                                \r"
     ]
    }
   ],
   "source": [
    "yellow_taxis_df.describe(\"passenger_count\", \"trip_distance\").show()"
   ]
  },
  {
   "cell_type": "code",
   "execution_count": 59,
   "id": "705c0223-43bb-4498-91f0-ae33a912378f",
   "metadata": {},
   "outputs": [
    {
     "name": "stdout",
     "output_type": "stream",
     "text": [
      "root\n",
      " |-- VendorID: string (nullable = true)\n",
      " |-- tpep_pickup_datetime: string (nullable = true)\n",
      " |-- tpep_dropoff_datetime: string (nullable = true)\n",
      " |-- passenger_count: string (nullable = true)\n",
      " |-- trip_distance: string (nullable = true)\n",
      " |-- RatecodeID: string (nullable = true)\n",
      " |-- store_and_fwd_flag: string (nullable = true)\n",
      " |-- PULocationID: string (nullable = true)\n",
      " |-- DOLocationID: string (nullable = true)\n",
      " |-- payment_type: string (nullable = true)\n",
      " |-- fare_amount: string (nullable = true)\n",
      " |-- extra: string (nullable = true)\n",
      " |-- mta_tax: string (nullable = true)\n",
      " |-- tip_amount: string (nullable = true)\n",
      " |-- tolls_amount: string (nullable = true)\n",
      " |-- improvement_surcharge: string (nullable = true)\n",
      " |-- total_amount: string (nullable = true)\n",
      " |-- congestion_surcharge: string (nullable = true)\n",
      " |-- airport_fee: string (nullable = true)\n",
      "\n"
     ]
    }
   ],
   "source": [
    "yellow_taxis_df.printSchema()"
   ]
  },
  {
   "cell_type": "code",
   "execution_count": 61,
   "id": "6e1bb898-a284-48f6-aeef-752b58f4d7d8",
   "metadata": {},
   "outputs": [
    {
     "name": "stderr",
     "output_type": "stream",
     "text": [
      "[Stage 40:>                                                         (0 + 1) / 1]\r"
     ]
    },
    {
     "name": "stdout",
     "output_type": "stream",
     "text": [
      "+-------+--------------------+---------------------+\n",
      "|summary|tpep_pickup_datetime|tpep_dropoff_datetime|\n",
      "+-------+--------------------+---------------------+\n",
      "|  count|             3675412|              3675412|\n",
      "|   mean|                null|                 null|\n",
      "| stddev|                null|                 null|\n",
      "|    min|2009-01-01T04:32:...| 2009-01-01T07:50:...|\n",
      "|    max|2022-11-01T06:57:...| 2022-11-03T22:56:...|\n",
      "+-------+--------------------+---------------------+\n",
      "\n"
     ]
    },
    {
     "name": "stderr",
     "output_type": "stream",
     "text": [
      "                                                                                \r"
     ]
    }
   ],
   "source": [
    "yellow_taxis_df.describe(\"tpep_pickup_datetime\", \"tpep_dropoff_datetime\").show()"
   ]
  },
  {
   "cell_type": "code",
   "execution_count": 36,
   "id": "cab00bd3-7df3-4abf-b1a3-08bb7551a99b",
   "metadata": {},
   "outputs": [
    {
     "name": "stderr",
     "output_type": "stream",
     "text": [
      "                                                                                \r"
     ]
    },
    {
     "data": {
      "text/plain": [
       "3422296"
      ]
     },
     "execution_count": 36,
     "metadata": {},
     "output_type": "execute_result"
    }
   ],
   "source": [
    "yellow_taxis_df.count()"
   ]
  },
  {
   "cell_type": "markdown",
   "id": "4a329682-cc30-45ad-8a83-b42b6662cafb",
   "metadata": {},
   "source": [
    "### Drop Null Einträge"
   ]
  },
  {
   "cell_type": "code",
   "execution_count": 37,
   "id": "69b6fb31-e19c-4d95-ab1b-b90bb87e6f62",
   "metadata": {},
   "outputs": [
    {
     "name": "stderr",
     "output_type": "stream",
     "text": [
      "[Stage 20:>                                                         (0 + 1) / 1]\r"
     ]
    },
    {
     "name": "stdout",
     "output_type": "stream",
     "text": [
      "Vor dem droppen: 3422296\n"
     ]
    },
    {
     "name": "stderr",
     "output_type": "stream",
     "text": [
      "                                                                                \r"
     ]
    }
   ],
   "source": [
    "print(\"Vor dem droppen: \" + str(yellow_taxis_df.count()))"
   ]
  },
  {
   "cell_type": "code",
   "execution_count": 38,
   "id": "55635b27-82c6-4c2a-87a7-0f5b80409601",
   "metadata": {},
   "outputs": [],
   "source": [
    "yellow_taxis_df = yellow_taxis_df.na.drop('all')"
   ]
  },
  {
   "cell_type": "code",
   "execution_count": 39,
   "id": "4509354c-3b24-496b-b409-4b18ec75ad69",
   "metadata": {},
   "outputs": [
    {
     "name": "stderr",
     "output_type": "stream",
     "text": [
      "[Stage 22:>                                                         (0 + 1) / 1]\r"
     ]
    },
    {
     "name": "stdout",
     "output_type": "stream",
     "text": [
      "Nach dem droppen: 3422296\n"
     ]
    },
    {
     "name": "stderr",
     "output_type": "stream",
     "text": [
      "                                                                                \r"
     ]
    }
   ],
   "source": [
    "print(\"Nach dem droppen: \" + str(yellow_taxis_df.count()))"
   ]
  },
  {
   "cell_type": "code",
   "execution_count": 40,
   "id": "683c4e83-bab1-454e-994e-21e09ff4e75a",
   "metadata": {},
   "outputs": [],
   "source": [
    "default_value_map = {\n",
    "    'payment_type': 5,\n",
    "    'RateCodeID': 1\n",
    "}"
   ]
  },
  {
   "cell_type": "code",
   "execution_count": 41,
   "id": "38c33df0-ee90-43f9-8ad1-640db724163b",
   "metadata": {},
   "outputs": [],
   "source": [
    "yellow_taxis_df = yellow_taxis_df.na.fill(default_value_map)"
   ]
  },
  {
   "cell_type": "code",
   "execution_count": 42,
   "id": "0a16ec6a-a99f-4255-b392-6ce88a23dfc6",
   "metadata": {},
   "outputs": [
    {
     "name": "stderr",
     "output_type": "stream",
     "text": [
      "                                                                                \r"
     ]
    },
    {
     "data": {
      "text/plain": [
       "3422296"
      ]
     },
     "execution_count": 42,
     "metadata": {},
     "output_type": "execute_result"
    }
   ],
   "source": [
    "yellow_taxis_df.count()"
   ]
  },
  {
   "cell_type": "code",
   "execution_count": 43,
   "id": "dddc257a-a21d-4677-8671-1c545a52f84f",
   "metadata": {},
   "outputs": [
    {
     "name": "stderr",
     "output_type": "stream",
     "text": [
      "[Stage 26:>                                                         (0 + 1) / 1]\r"
     ]
    },
    {
     "name": "stdout",
     "output_type": "stream",
     "text": [
      "Before operation = 3422296\n"
     ]
    },
    {
     "name": "stderr",
     "output_type": "stream",
     "text": [
      "                                                                                \r"
     ]
    }
   ],
   "source": [
    "print(\"Before operation = \" + str(yellow_taxis_df.count()))"
   ]
  },
  {
   "cell_type": "code",
   "execution_count": 44,
   "id": "d59794c8-08a2-4010-ac4c-48ab6e516d53",
   "metadata": {},
   "outputs": [],
   "source": [
    "yellow_taxis_df = yellow_taxis_df.dropDuplicates()"
   ]
  },
  {
   "cell_type": "code",
   "execution_count": 45,
   "id": "9b07faae-bd6a-468f-85a5-83c80b1a76c4",
   "metadata": {},
   "outputs": [
    {
     "name": "stderr",
     "output_type": "stream",
     "text": [
      "[Stage 29:====================================================> (196 + 4) / 200]\r"
     ]
    },
    {
     "name": "stdout",
     "output_type": "stream",
     "text": [
      "After operation = 3422295\n"
     ]
    },
    {
     "name": "stderr",
     "output_type": "stream",
     "text": [
      "                                                                                \r"
     ]
    }
   ],
   "source": [
    "print(\"After operation = \" + str(yellow_taxis_df.count()))"
   ]
  },
  {
   "cell_type": "markdown",
   "id": "6f3e4028-5281-41b6-a971-0e141a58956c",
   "metadata": {},
   "source": [
    "### Schrenke den Zeitraum ein"
   ]
  },
  {
   "cell_type": "code",
   "execution_count": 46,
   "id": "3f3f9da4-34e8-4858-af76-a1e94c1cd897",
   "metadata": {},
   "outputs": [
    {
     "name": "stderr",
     "output_type": "stream",
     "text": [
      "[Stage 32:=====================================================>(199 + 1) / 200]\r"
     ]
    },
    {
     "name": "stdout",
     "output_type": "stream",
     "text": [
      "Before operation = 3422295\n"
     ]
    },
    {
     "name": "stderr",
     "output_type": "stream",
     "text": [
      "                                                                                \r"
     ]
    }
   ],
   "source": [
    "print( \"Before operation = \" + str( yellow_taxis_df.count()))"
   ]
  },
  {
   "cell_type": "code",
   "execution_count": 47,
   "id": "d6914829-3b00-415a-bd4a-72a7b17c0d78",
   "metadata": {},
   "outputs": [
    {
     "name": "stderr",
     "output_type": "stream",
     "text": [
      "[Stage 34:>                                                         (0 + 1) / 1]\r"
     ]
    },
    {
     "name": "stdout",
     "output_type": "stream",
     "text": [
      "+--------+--------------------+---------------------+---------------+-------------+----------+------------------+------------+------------+------------+-----------+-----+-------+----------+------------+---------------------+------------+--------------------+-----------+\n",
      "|VendorID|tpep_pickup_datetime|tpep_dropoff_datetime|passenger_count|trip_distance|RatecodeID|store_and_fwd_flag|PULocationID|DOLocationID|payment_type|fare_amount|extra|mta_tax|tip_amount|tolls_amount|improvement_surcharge|total_amount|congestion_surcharge|airport_fee|\n",
      "+--------+--------------------+---------------------+---------------+-------------+----------+------------------+------------+------------+------------+-----------+-----+-------+----------+------------+---------------------+------------+--------------------+-----------+\n",
      "|       2|2022-10-11T18:28:...| 2022-10-11T18:58:...|            2.0|        13.55|       3.0|                 N|         158|           1|           2|        0.0|  0.0|    0.0|       0.0|         0.0|                 -0.3|        -0.3|                 0.0|        0.0|\n",
      "|       2|2022-10-01T13:44:...| 2022-10-01T14:14:...|            1.0|        19.47|       3.0|                 N|          48|           1|           1|       70.0|  0.0|    0.0|     17.66|        18.0|                  0.3|      105.96|                 0.0|        0.0|\n",
      "+--------+--------------------+---------------------+---------------+-------------+----------+------------------+------------+------------+------------+-----------+-----+-------+----------+------------+---------------------+------------+--------------------+-----------+\n",
      "only showing top 2 rows\n",
      "\n"
     ]
    },
    {
     "name": "stderr",
     "output_type": "stream",
     "text": [
      "                                                                                \r"
     ]
    }
   ],
   "source": [
    "yellow_taxis_df.show(2)"
   ]
  },
  {
   "cell_type": "code",
   "execution_count": 48,
   "id": "1fc8fe62-be54-4ce6-b95b-e071df6cb945",
   "metadata": {},
   "outputs": [
    {
     "name": "stdout",
     "output_type": "stream",
     "text": [
      "root\n",
      " |-- VendorID: string (nullable = true)\n",
      " |-- tpep_pickup_datetime: string (nullable = true)\n",
      " |-- tpep_dropoff_datetime: string (nullable = true)\n",
      " |-- passenger_count: string (nullable = true)\n",
      " |-- trip_distance: string (nullable = true)\n",
      " |-- RatecodeID: string (nullable = false)\n",
      " |-- store_and_fwd_flag: string (nullable = true)\n",
      " |-- PULocationID: string (nullable = true)\n",
      " |-- DOLocationID: string (nullable = true)\n",
      " |-- payment_type: string (nullable = false)\n",
      " |-- fare_amount: string (nullable = true)\n",
      " |-- extra: string (nullable = true)\n",
      " |-- mta_tax: string (nullable = true)\n",
      " |-- tip_amount: string (nullable = true)\n",
      " |-- tolls_amount: string (nullable = true)\n",
      " |-- improvement_surcharge: string (nullable = true)\n",
      " |-- total_amount: string (nullable = true)\n",
      " |-- congestion_surcharge: string (nullable = true)\n",
      " |-- airport_fee: string (nullable = true)\n",
      "\n"
     ]
    }
   ],
   "source": [
    "yellow_taxis_df.printSchema()"
   ]
  },
  {
   "cell_type": "code",
   "execution_count": 49,
   "id": "79cfe93a-a791-4dc6-9b64-f207a8c48b39",
   "metadata": {},
   "outputs": [
    {
     "ename": "AnalysisException",
     "evalue": "[UNRESOLVED_COLUMN.WITH_SUGGESTION] A column or function parameter with name `lpep_pickup_datetime` cannot be resolved. Did you mean one of the following? [`tpep_pickup_datetime`, `tpep_dropoff_datetime`, `trip_distance`, `airport_fee`, `payment_type`].; line 1 pos 0;\n'Filter (('lpep_pickup_datetime >= 2022-10-01) AND ('lpep_dropoff_datetime < 2022-11-01))\n+- Deduplicate [DOLocationID#82, improvement_surcharge#89, tpep_dropoff_datetime#76, PULocationID#81, trip_distance#78, tolls_amount#88, RatecodeID#1568, VendorID#74, tip_amount#87, payment_type#1569, fare_amount#84, passenger_count#77, store_and_fwd_flag#80, extra#85, airport_fee#92, congestion_surcharge#91, total_amount#90, tpep_pickup_datetime#75, mta_tax#86]\n   +- Project [VendorID#74, tpep_pickup_datetime#75, tpep_dropoff_datetime#76, passenger_count#77, trip_distance#78, coalesce(RatecodeID#79, cast(1 as string)) AS RatecodeID#1568, store_and_fwd_flag#80, PULocationID#81, DOLocationID#82, coalesce(payment_type#83, cast(5 as string)) AS payment_type#1569, fare_amount#84, extra#85, mta_tax#86, tip_amount#87, tolls_amount#88, improvement_surcharge#89, total_amount#90, congestion_surcharge#91, airport_fee#92]\n      +- Filter atleastnnonnulls(1, VendorID#74, tpep_pickup_datetime#75, tpep_dropoff_datetime#76, passenger_count#77, trip_distance#78, RatecodeID#79, store_and_fwd_flag#80, PULocationID#81, DOLocationID#82, payment_type#83, fare_amount#84, extra#85, mta_tax#86, tip_amount#87, tolls_amount#88, improvement_surcharge#89, total_amount#90, congestion_surcharge#91, airport_fee#92)\n         +- Filter (cast(trip_distance#78 as double) > 0.0)\n            +- Filter (cast(passenger_count#77 as int) > 0)\n               +- Relation [VendorID#74,tpep_pickup_datetime#75,tpep_dropoff_datetime#76,passenger_count#77,trip_distance#78,RatecodeID#79,store_and_fwd_flag#80,PULocationID#81,DOLocationID#82,payment_type#83,fare_amount#84,extra#85,mta_tax#86,tip_amount#87,tolls_amount#88,improvement_surcharge#89,total_amount#90,congestion_surcharge#91,airport_fee#92] csv\n",
     "output_type": "error",
     "traceback": [
      "\u001b[0;31m---------------------------------------------------------------------------\u001b[0m",
      "\u001b[0;31mAnalysisException\u001b[0m                         Traceback (most recent call last)",
      "Cell \u001b[0;32mIn[49], line 1\u001b[0m\n\u001b[0;32m----> 1\u001b[0m yellow_taxis_df \u001b[38;5;241m=\u001b[39m \u001b[43myellow_taxis_df\u001b[49m\u001b[38;5;241;43m.\u001b[39;49m\u001b[43mwhere\u001b[49m\u001b[43m(\u001b[49m\u001b[38;5;124;43m\"\u001b[39;49m\u001b[38;5;124;43mlpep_pickup_datetime >= \u001b[39;49m\u001b[38;5;124;43m'\u001b[39;49m\u001b[38;5;124;43m2022-10-01\u001b[39;49m\u001b[38;5;124;43m'\u001b[39;49m\u001b[38;5;124;43m AND lpep_dropoff_datetime < \u001b[39;49m\u001b[38;5;124;43m'\u001b[39;49m\u001b[38;5;124;43m2022-11-01\u001b[39;49m\u001b[38;5;124;43m'\u001b[39;49m\u001b[38;5;124;43m\"\u001b[39;49m\u001b[43m)\u001b[49m\n",
      "File \u001b[0;32m/usr/local/lib/python3.10/dist-packages/pyspark/sql/dataframe.py:3136\u001b[0m, in \u001b[0;36mDataFrame.filter\u001b[0;34m(self, condition)\u001b[0m\n\u001b[1;32m   3080\u001b[0m \u001b[38;5;250m\u001b[39m\u001b[38;5;124;03m\"\"\"Filters rows using the given condition.\u001b[39;00m\n\u001b[1;32m   3081\u001b[0m \n\u001b[1;32m   3082\u001b[0m \u001b[38;5;124;03m:func:`where` is an alias for :func:`filter`.\u001b[39;00m\n\u001b[0;32m   (...)\u001b[0m\n\u001b[1;32m   3133\u001b[0m \u001b[38;5;124;03m+---+-----+\u001b[39;00m\n\u001b[1;32m   3134\u001b[0m \u001b[38;5;124;03m\"\"\"\u001b[39;00m\n\u001b[1;32m   3135\u001b[0m \u001b[38;5;28;01mif\u001b[39;00m \u001b[38;5;28misinstance\u001b[39m(condition, \u001b[38;5;28mstr\u001b[39m):\n\u001b[0;32m-> 3136\u001b[0m     jdf \u001b[38;5;241m=\u001b[39m \u001b[38;5;28;43mself\u001b[39;49m\u001b[38;5;241;43m.\u001b[39;49m\u001b[43m_jdf\u001b[49m\u001b[38;5;241;43m.\u001b[39;49m\u001b[43mfilter\u001b[49m\u001b[43m(\u001b[49m\u001b[43mcondition\u001b[49m\u001b[43m)\u001b[49m\n\u001b[1;32m   3137\u001b[0m \u001b[38;5;28;01melif\u001b[39;00m \u001b[38;5;28misinstance\u001b[39m(condition, Column):\n\u001b[1;32m   3138\u001b[0m     jdf \u001b[38;5;241m=\u001b[39m \u001b[38;5;28mself\u001b[39m\u001b[38;5;241m.\u001b[39m_jdf\u001b[38;5;241m.\u001b[39mfilter(condition\u001b[38;5;241m.\u001b[39m_jc)\n",
      "File \u001b[0;32m/usr/local/lib/python3.10/dist-packages/py4j/java_gateway.py:1322\u001b[0m, in \u001b[0;36mJavaMember.__call__\u001b[0;34m(self, *args)\u001b[0m\n\u001b[1;32m   1316\u001b[0m command \u001b[38;5;241m=\u001b[39m proto\u001b[38;5;241m.\u001b[39mCALL_COMMAND_NAME \u001b[38;5;241m+\u001b[39m\\\n\u001b[1;32m   1317\u001b[0m     \u001b[38;5;28mself\u001b[39m\u001b[38;5;241m.\u001b[39mcommand_header \u001b[38;5;241m+\u001b[39m\\\n\u001b[1;32m   1318\u001b[0m     args_command \u001b[38;5;241m+\u001b[39m\\\n\u001b[1;32m   1319\u001b[0m     proto\u001b[38;5;241m.\u001b[39mEND_COMMAND_PART\n\u001b[1;32m   1321\u001b[0m answer \u001b[38;5;241m=\u001b[39m \u001b[38;5;28mself\u001b[39m\u001b[38;5;241m.\u001b[39mgateway_client\u001b[38;5;241m.\u001b[39msend_command(command)\n\u001b[0;32m-> 1322\u001b[0m return_value \u001b[38;5;241m=\u001b[39m \u001b[43mget_return_value\u001b[49m\u001b[43m(\u001b[49m\n\u001b[1;32m   1323\u001b[0m \u001b[43m    \u001b[49m\u001b[43manswer\u001b[49m\u001b[43m,\u001b[49m\u001b[43m \u001b[49m\u001b[38;5;28;43mself\u001b[39;49m\u001b[38;5;241;43m.\u001b[39;49m\u001b[43mgateway_client\u001b[49m\u001b[43m,\u001b[49m\u001b[43m \u001b[49m\u001b[38;5;28;43mself\u001b[39;49m\u001b[38;5;241;43m.\u001b[39;49m\u001b[43mtarget_id\u001b[49m\u001b[43m,\u001b[49m\u001b[43m \u001b[49m\u001b[38;5;28;43mself\u001b[39;49m\u001b[38;5;241;43m.\u001b[39;49m\u001b[43mname\u001b[49m\u001b[43m)\u001b[49m\n\u001b[1;32m   1325\u001b[0m \u001b[38;5;28;01mfor\u001b[39;00m temp_arg \u001b[38;5;129;01min\u001b[39;00m temp_args:\n\u001b[1;32m   1326\u001b[0m     \u001b[38;5;28;01mif\u001b[39;00m \u001b[38;5;28mhasattr\u001b[39m(temp_arg, \u001b[38;5;124m\"\u001b[39m\u001b[38;5;124m_detach\u001b[39m\u001b[38;5;124m\"\u001b[39m):\n",
      "File \u001b[0;32m/usr/local/lib/python3.10/dist-packages/pyspark/errors/exceptions/captured.py:175\u001b[0m, in \u001b[0;36mcapture_sql_exception.<locals>.deco\u001b[0;34m(*a, **kw)\u001b[0m\n\u001b[1;32m    171\u001b[0m converted \u001b[38;5;241m=\u001b[39m convert_exception(e\u001b[38;5;241m.\u001b[39mjava_exception)\n\u001b[1;32m    172\u001b[0m \u001b[38;5;28;01mif\u001b[39;00m \u001b[38;5;129;01mnot\u001b[39;00m \u001b[38;5;28misinstance\u001b[39m(converted, UnknownException):\n\u001b[1;32m    173\u001b[0m     \u001b[38;5;66;03m# Hide where the exception came from that shows a non-Pythonic\u001b[39;00m\n\u001b[1;32m    174\u001b[0m     \u001b[38;5;66;03m# JVM exception message.\u001b[39;00m\n\u001b[0;32m--> 175\u001b[0m     \u001b[38;5;28;01mraise\u001b[39;00m converted \u001b[38;5;28;01mfrom\u001b[39;00m \u001b[38;5;28;01mNone\u001b[39;00m\n\u001b[1;32m    176\u001b[0m \u001b[38;5;28;01melse\u001b[39;00m:\n\u001b[1;32m    177\u001b[0m     \u001b[38;5;28;01mraise\u001b[39;00m\n",
      "\u001b[0;31mAnalysisException\u001b[0m: [UNRESOLVED_COLUMN.WITH_SUGGESTION] A column or function parameter with name `lpep_pickup_datetime` cannot be resolved. Did you mean one of the following? [`tpep_pickup_datetime`, `tpep_dropoff_datetime`, `trip_distance`, `airport_fee`, `payment_type`].; line 1 pos 0;\n'Filter (('lpep_pickup_datetime >= 2022-10-01) AND ('lpep_dropoff_datetime < 2022-11-01))\n+- Deduplicate [DOLocationID#82, improvement_surcharge#89, tpep_dropoff_datetime#76, PULocationID#81, trip_distance#78, tolls_amount#88, RatecodeID#1568, VendorID#74, tip_amount#87, payment_type#1569, fare_amount#84, passenger_count#77, store_and_fwd_flag#80, extra#85, airport_fee#92, congestion_surcharge#91, total_amount#90, tpep_pickup_datetime#75, mta_tax#86]\n   +- Project [VendorID#74, tpep_pickup_datetime#75, tpep_dropoff_datetime#76, passenger_count#77, trip_distance#78, coalesce(RatecodeID#79, cast(1 as string)) AS RatecodeID#1568, store_and_fwd_flag#80, PULocationID#81, DOLocationID#82, coalesce(payment_type#83, cast(5 as string)) AS payment_type#1569, fare_amount#84, extra#85, mta_tax#86, tip_amount#87, tolls_amount#88, improvement_surcharge#89, total_amount#90, congestion_surcharge#91, airport_fee#92]\n      +- Filter atleastnnonnulls(1, VendorID#74, tpep_pickup_datetime#75, tpep_dropoff_datetime#76, passenger_count#77, trip_distance#78, RatecodeID#79, store_and_fwd_flag#80, PULocationID#81, DOLocationID#82, payment_type#83, fare_amount#84, extra#85, mta_tax#86, tip_amount#87, tolls_amount#88, improvement_surcharge#89, total_amount#90, congestion_surcharge#91, airport_fee#92)\n         +- Filter (cast(trip_distance#78 as double) > 0.0)\n            +- Filter (cast(passenger_count#77 as int) > 0)\n               +- Relation [VendorID#74,tpep_pickup_datetime#75,tpep_dropoff_datetime#76,passenger_count#77,trip_distance#78,RatecodeID#79,store_and_fwd_flag#80,PULocationID#81,DOLocationID#82,payment_type#83,fare_amount#84,extra#85,mta_tax#86,tip_amount#87,tolls_amount#88,improvement_surcharge#89,total_amount#90,congestion_surcharge#91,airport_fee#92] csv\n"
     ]
    }
   ],
   "source": [
    "yellow_taxis_df = yellow_taxis_df.where(\"lpep_pickup_datetime >= '2022-10-01' AND lpep_dropoff_datetime < '2022-11-01'\")"
   ]
  },
  {
   "cell_type": "code",
   "execution_count": 62,
   "id": "aa0211dc-2a87-4268-841a-522669761eaa",
   "metadata": {},
   "outputs": [
    {
     "name": "stdout",
     "output_type": "stream",
     "text": [
      "root\n",
      " |-- VendorID: string (nullable = true)\n",
      " |-- tpep_pickup_datetime: string (nullable = true)\n",
      " |-- tpep_dropoff_datetime: string (nullable = true)\n",
      " |-- passenger_count: string (nullable = true)\n",
      " |-- trip_distance: string (nullable = true)\n",
      " |-- RatecodeID: string (nullable = true)\n",
      " |-- store_and_fwd_flag: string (nullable = true)\n",
      " |-- PULocationID: string (nullable = true)\n",
      " |-- DOLocationID: string (nullable = true)\n",
      " |-- payment_type: string (nullable = true)\n",
      " |-- fare_amount: string (nullable = true)\n",
      " |-- extra: string (nullable = true)\n",
      " |-- mta_tax: string (nullable = true)\n",
      " |-- tip_amount: string (nullable = true)\n",
      " |-- tolls_amount: string (nullable = true)\n",
      " |-- improvement_surcharge: string (nullable = true)\n",
      " |-- total_amount: string (nullable = true)\n",
      " |-- congestion_surcharge: string (nullable = true)\n",
      " |-- airport_fee: string (nullable = true)\n",
      "\n"
     ]
    }
   ],
   "source": [
    "yellow_taxis_df.printSchema()"
   ]
  },
  {
   "cell_type": "code",
   "execution_count": 63,
   "id": "e21c7be2-ab2f-4f5a-b7de-2ec38138e572",
   "metadata": {},
   "outputs": [],
   "source": [
    "tmp = yellow_taxis_df.select(\"VendorId\")"
   ]
  },
  {
   "cell_type": "code",
   "execution_count": 64,
   "id": "b04e5320-757b-473b-adeb-5a3941b5e733",
   "metadata": {},
   "outputs": [
    {
     "name": "stdout",
     "output_type": "stream",
     "text": [
      "+--------+\n",
      "|VendorId|\n",
      "+--------+\n",
      "|       1|\n",
      "|       2|\n",
      "|       2|\n",
      "|       1|\n",
      "+--------+\n",
      "only showing top 4 rows\n",
      "\n"
     ]
    }
   ],
   "source": [
    "tmp.show(4)"
   ]
  },
  {
   "cell_type": "code",
   "execution_count": 75,
   "id": "69dc27ef-551a-4ef3-8bb1-ee7a1ad38563",
   "metadata": {},
   "outputs": [],
   "source": [
    "tmp = yellow_taxis_df.select(\"VendorID\", col(\"passenger_count\").cast(IntegerType()),   col(\"trip_distance\").alias(\"Tripper\"))"
   ]
  },
  {
   "cell_type": "code",
   "execution_count": 76,
   "id": "0ec9bc5a-dd57-4bea-a331-77d0c9612238",
   "metadata": {},
   "outputs": [
    {
     "name": "stdout",
     "output_type": "stream",
     "text": [
      "+--------+---------------+-------+\n",
      "|VendorID|passenger_count|Tripper|\n",
      "+--------+---------------+-------+\n",
      "|       1|              1|    1.7|\n",
      "|       2|              2|   0.72|\n",
      "+--------+---------------+-------+\n",
      "only showing top 2 rows\n",
      "\n"
     ]
    }
   ],
   "source": [
    "tmp.show(2)"
   ]
  },
  {
   "cell_type": "code",
   "execution_count": 77,
   "id": "7015bf37-32da-45b6-a253-c49ca1b22636",
   "metadata": {},
   "outputs": [
    {
     "name": "stdout",
     "output_type": "stream",
     "text": [
      "root\n",
      " |-- VendorID: string (nullable = true)\n",
      " |-- tpep_pickup_datetime: string (nullable = true)\n",
      " |-- tpep_dropoff_datetime: string (nullable = true)\n",
      " |-- passenger_count: string (nullable = true)\n",
      " |-- trip_distance: string (nullable = true)\n",
      " |-- RatecodeID: string (nullable = true)\n",
      " |-- store_and_fwd_flag: string (nullable = true)\n",
      " |-- PULocationID: string (nullable = true)\n",
      " |-- DOLocationID: string (nullable = true)\n",
      " |-- payment_type: string (nullable = true)\n",
      " |-- fare_amount: string (nullable = true)\n",
      " |-- extra: string (nullable = true)\n",
      " |-- mta_tax: string (nullable = true)\n",
      " |-- tip_amount: string (nullable = true)\n",
      " |-- tolls_amount: string (nullable = true)\n",
      " |-- improvement_surcharge: string (nullable = true)\n",
      " |-- total_amount: string (nullable = true)\n",
      " |-- congestion_surcharge: string (nullable = true)\n",
      " |-- airport_fee: string (nullable = true)\n",
      "\n"
     ]
    }
   ],
   "source": [
    "yellow_taxis_df.printSchema()"
   ]
  },
  {
   "cell_type": "code",
   "execution_count": 78,
   "id": "0cdc6a68-bd85-4b0e-93c4-da0cde9ca229",
   "metadata": {},
   "outputs": [
    {
     "name": "stdout",
     "output_type": "stream",
     "text": [
      "root\n",
      " |-- VendorID: string (nullable = true)\n",
      " |-- tpep_pickup_datetime: string (nullable = true)\n",
      " |-- tpep_dropoff_datetime: string (nullable = true)\n",
      " |-- passenger_count: string (nullable = true)\n",
      " |-- trip_distance: string (nullable = true)\n",
      " |-- RatecodeID: string (nullable = true)\n",
      " |-- store_and_fwd_flag: string (nullable = true)\n",
      " |-- PULocationID: string (nullable = true)\n",
      " |-- DOLocationID: string (nullable = true)\n",
      " |-- payment_type: string (nullable = true)\n",
      " |-- fare_amount: string (nullable = true)\n",
      " |-- extra: string (nullable = true)\n",
      " |-- mta_tax: string (nullable = true)\n",
      " |-- tip_amount: string (nullable = true)\n",
      " |-- tolls_amount: string (nullable = true)\n",
      " |-- improvement_surcharge: string (nullable = true)\n",
      " |-- total_amount: string (nullable = true)\n",
      " |-- congestion_surcharge: string (nullable = true)\n",
      "\n"
     ]
    }
   ],
   "source": [
    "yellow_taxis_df.drop(\"airport_fee\").printSchema()"
   ]
  },
  {
   "cell_type": "code",
   "execution_count": 79,
   "id": "f1ea1eca-1ff4-4988-a2cd-a83e03aeae02",
   "metadata": {},
   "outputs": [
    {
     "name": "stdout",
     "output_type": "stream",
     "text": [
      "== Parsed Logical Plan ==\n",
      "Relation [VendorID#1970,tpep_pickup_datetime#1971,tpep_dropoff_datetime#1972,passenger_count#1973,trip_distance#1974,RatecodeID#1975,store_and_fwd_flag#1976,PULocationID#1977,DOLocationID#1978,payment_type#1979,fare_amount#1980,extra#1981,mta_tax#1982,tip_amount#1983,tolls_amount#1984,improvement_surcharge#1985,total_amount#1986,congestion_surcharge#1987,airport_fee#1988] csv\n",
      "\n",
      "== Analyzed Logical Plan ==\n",
      "VendorID: string, tpep_pickup_datetime: string, tpep_dropoff_datetime: string, passenger_count: string, trip_distance: string, RatecodeID: string, store_and_fwd_flag: string, PULocationID: string, DOLocationID: string, payment_type: string, fare_amount: string, extra: string, mta_tax: string, tip_amount: string, tolls_amount: string, improvement_surcharge: string, total_amount: string, congestion_surcharge: string, airport_fee: string\n",
      "Relation [VendorID#1970,tpep_pickup_datetime#1971,tpep_dropoff_datetime#1972,passenger_count#1973,trip_distance#1974,RatecodeID#1975,store_and_fwd_flag#1976,PULocationID#1977,DOLocationID#1978,payment_type#1979,fare_amount#1980,extra#1981,mta_tax#1982,tip_amount#1983,tolls_amount#1984,improvement_surcharge#1985,total_amount#1986,congestion_surcharge#1987,airport_fee#1988] csv\n",
      "\n",
      "== Optimized Logical Plan ==\n",
      "Relation [VendorID#1970,tpep_pickup_datetime#1971,tpep_dropoff_datetime#1972,passenger_count#1973,trip_distance#1974,RatecodeID#1975,store_and_fwd_flag#1976,PULocationID#1977,DOLocationID#1978,payment_type#1979,fare_amount#1980,extra#1981,mta_tax#1982,tip_amount#1983,tolls_amount#1984,improvement_surcharge#1985,total_amount#1986,congestion_surcharge#1987,airport_fee#1988] csv\n",
      "\n",
      "== Physical Plan ==\n",
      "FileScan csv [VendorID#1970,tpep_pickup_datetime#1971,tpep_dropoff_datetime#1972,passenger_count#1973,trip_distance#1974,RatecodeID#1975,store_and_fwd_flag#1976,PULocationID#1977,DOLocationID#1978,payment_type#1979,fare_amount#1980,extra#1981,mta_tax#1982,tip_amount#1983,tolls_amount#1984,improvement_surcharge#1985,total_amount#1986,congestion_surcharge#1987,airport_fee#1988] Batched: false, DataFilters: [], Format: CSV, Location: InMemoryFileIndex(1 paths)[file:/home/pupil/spark-course/course/02-Dataframes/YellowTaxis_202210...., PartitionFilters: [], PushedFilters: [], ReadSchema: struct<VendorID:string,tpep_pickup_datetime:string,tpep_dropoff_datetime:string,passenger_count:s...\n",
      "\n"
     ]
    }
   ],
   "source": [
    "yellow_taxis_df.explain(mode=\"extended\")"
   ]
  },
  {
   "cell_type": "code",
   "execution_count": 80,
   "id": "20ff4daf-93d5-420e-a473-26b277a933d9",
   "metadata": {},
   "outputs": [
    {
     "name": "stdout",
     "output_type": "stream",
     "text": [
      "== Optimized Logical Plan ==\n",
      "Relation [VendorID#1970,tpep_pickup_datetime#1971,tpep_dropoff_datetime#1972,passenger_count#1973,trip_distance#1974,RatecodeID#1975,store_and_fwd_flag#1976,PULocationID#1977,DOLocationID#1978,payment_type#1979,fare_amount#1980,extra#1981,mta_tax#1982,tip_amount#1983,tolls_amount#1984,improvement_surcharge#1985,total_amount#1986,congestion_surcharge#1987,airport_fee#1988] csv, Statistics(sizeInBytes=71.7 MiB)\n",
      "\n",
      "== Physical Plan ==\n",
      "FileScan csv [VendorID#1970,tpep_pickup_datetime#1971,tpep_dropoff_datetime#1972,passenger_count#1973,trip_distance#1974,RatecodeID#1975,store_and_fwd_flag#1976,PULocationID#1977,DOLocationID#1978,payment_type#1979,fare_amount#1980,extra#1981,mta_tax#1982,tip_amount#1983,tolls_amount#1984,improvement_surcharge#1985,total_amount#1986,congestion_surcharge#1987,airport_fee#1988] Batched: false, DataFilters: [], Format: CSV, Location: InMemoryFileIndex(1 paths)[file:/home/pupil/spark-course/course/02-Dataframes/YellowTaxis_202210...., PartitionFilters: [], PushedFilters: [], ReadSchema: struct<VendorID:string,tpep_pickup_datetime:string,tpep_dropoff_datetime:string,passenger_count:s...\n",
      "\n",
      "\n"
     ]
    }
   ],
   "source": [
    "yellow_taxis_df.explain(mode=\"cost\")"
   ]
  },
  {
   "cell_type": "code",
   "execution_count": 81,
   "id": "ad5688e2-1a4d-4d6f-84dc-17db5ace3c8b",
   "metadata": {},
   "outputs": [
    {
     "data": {
      "text/plain": [
       "{\"RateCodeID\":1,\"RateCode\":\"Standard rate\"}\n",
       "{\"RateCodeID\":2,\"RateCode\":\"JFK\"}\n",
       "{\"RateCodeID\":3,\"RateCode\":\"Newark\"}\n",
       "{\"RateCodeID\":},\"RateCode\":\"Westchester\"}\n",
       "{\"RateCodeID\":5,\"RateCode\":\"Negotiated fare\"}\n",
       "{\"RateCodeID\":6,\"RateCode\":\"Group ride\"}\n",
       "\n"
      ]
     },
     "metadata": {},
     "output_type": "display_data"
    }
   ],
   "source": [
    "less RateCodes.json"
   ]
  },
  {
   "cell_type": "code",
   "execution_count": 83,
   "id": "358f76b5-cb1a-40e9-aed0-eafa90f7c7d6",
   "metadata": {},
   "outputs": [],
   "source": [
    "rate_codes_csv = (\n",
    "    spark.read.option(\"header\", \"true\").option(\"mode\", \"PERMISSIVE\").csv(\"RateCodes.csv\")\n",
    ")"
   ]
  },
  {
   "cell_type": "code",
   "execution_count": 85,
   "id": "b046565b-0032-405a-9fe6-0f8d548f4e2d",
   "metadata": {},
   "outputs": [
    {
     "name": "stdout",
     "output_type": "stream",
     "text": [
      "+-----------+---------------+----------+\n",
      "|RateCodeID |RateCode       |IsApproved|\n",
      "+-----------+---------------+----------+\n",
      "|1          |Standard Rate  |Yes       |\n",
      "|2          |JFK            |Yes       |\n",
      "|3          |Newark         |Yes       |\n",
      "|4          |null           |null      |\n",
      "|Westchester|Yes            |null      |\n",
      "|5          |Negotiated fare|null      |\n",
      "|6          |GroupRide      |Yes       |\n",
      "+-----------+---------------+----------+\n",
      "\n"
     ]
    }
   ],
   "source": [
    "rate_codes_csv.show(truncate=False)"
   ]
  },
  {
   "cell_type": "code",
   "execution_count": 89,
   "id": "eb9138fc-f103-4129-912b-5d93e21e649e",
   "metadata": {},
   "outputs": [
    {
     "data": {
      "text/plain": [
       "DataFrame[VendorID: string, tpep_pickup_datetime: string, tpep_dropoff_datetime: string, passenger_count: string, trip_distance: string, RatecodeID: string, store_and_fwd_flag: string, PULocationID: string, DOLocationID: string, payment_type: string, fare_amount: string, extra: string, mta_tax: string, tip_amount: string, tolls_amount: string, improvement_surcharge: string, total_amount: string, congestion_surcharge: string, airport_fee: string]"
      ]
     },
     "execution_count": 89,
     "metadata": {},
     "output_type": "execute_result"
    }
   ],
   "source": [
    "yellow_taxis_df.coalesce(4)"
   ]
  },
  {
   "cell_type": "code",
   "execution_count": 90,
   "id": "7693d805-618f-44af-9ba7-526100e68703",
   "metadata": {},
   "outputs": [
    {
     "data": {
      "text/plain": [
       "1"
      ]
     },
     "execution_count": 90,
     "metadata": {},
     "output_type": "execute_result"
    }
   ],
   "source": [
    "yellow_taxis_df.rdd.getNumPartitions()"
   ]
  },
  {
   "cell_type": "code",
   "execution_count": 97,
   "id": "cf8ba3b8-436b-44f8-a609-92591a759038",
   "metadata": {},
   "outputs": [],
   "source": [
    "yellow_taxis_df = (\n",
    "    spark.read.option(\"header\", \"true\").option(\"mode\", \"PERMISSIVE\").csv(\"YellowTaxis_202210.csv.gz\")\n",
    ")"
   ]
  },
  {
   "cell_type": "code",
   "execution_count": 98,
   "id": "048086e4-f523-4895-b494-4859f2d19f38",
   "metadata": {},
   "outputs": [
    {
     "name": "stderr",
     "output_type": "stream",
     "text": [
      "                                                                                \r"
     ]
    },
    {
     "data": {
      "text/plain": [
       "3675412"
      ]
     },
     "execution_count": 98,
     "metadata": {},
     "output_type": "execute_result"
    }
   ],
   "source": [
    "yellow_taxis_df.count()"
   ]
  },
  {
   "cell_type": "code",
   "execution_count": 99,
   "id": "f2db2425-36c9-42de-a547-78e5cee9e0dd",
   "metadata": {},
   "outputs": [
    {
     "data": {
      "text/plain": [
       "1"
      ]
     },
     "execution_count": 99,
     "metadata": {},
     "output_type": "execute_result"
    }
   ],
   "source": [
    "yellow_taxis_df.rdd.getNumPartitions()"
   ]
  },
  {
   "cell_type": "code",
   "execution_count": 106,
   "id": "7f3d1ffa-09f1-4d8f-9548-222773219cc8",
   "metadata": {},
   "outputs": [],
   "source": [
    "yellow_taxis_df = yellow_taxis_df.repartition(100)"
   ]
  },
  {
   "cell_type": "code",
   "execution_count": 107,
   "id": "4ba03f63-1940-4cc3-b7bb-7c82dee1cef6",
   "metadata": {},
   "outputs": [
    {
     "data": {
      "text/plain": [
       "100"
      ]
     },
     "execution_count": 107,
     "metadata": {},
     "output_type": "execute_result"
    }
   ],
   "source": [
    "yellow_taxis_df.rdd.getNumPartitions()"
   ]
  },
  {
   "cell_type": "code",
   "execution_count": 108,
   "id": "e499b92a-fcb6-4351-a9b7-2010067972d0",
   "metadata": {},
   "outputs": [
    {
     "name": "stderr",
     "output_type": "stream",
     "text": [
      "                                                                                \r"
     ]
    }
   ],
   "source": [
    "yellow_taxis_df.write.option(\"header\", \"true\").option(\"dateFormat\", \"yyyy-MM-dd HH:mm:ss.S\").mode(\"overwrite\").csv(\"bla.csv\")"
   ]
  },
  {
   "cell_type": "code",
   "execution_count": 109,
   "id": "12dc1056-f077-4609-9d30-e5ff2c06bb98",
   "metadata": {},
   "outputs": [
    {
     "name": "stderr",
     "output_type": "stream",
     "text": [
      "                                                                                \r"
     ]
    }
   ],
   "source": [
    "yellow_taxis_df.write.option(\"header\", True).option(\"dateFormat\", \"yyyy-MM-dd HH:mm:ss.S\").mode(\"overwrite\").parquet(\"foo.parquet\")"
   ]
  },
  {
   "cell_type": "code",
   "execution_count": null,
   "id": "b966c41e-f261-4683-9792-a1eeb406a52c",
   "metadata": {},
   "outputs": [],
   "source": []
  }
 ],
 "metadata": {
  "kernelspec": {
   "display_name": "Python 3 (ipykernel)",
   "language": "python",
   "name": "python3"
  },
  "language_info": {
   "codemirror_mode": {
    "name": "ipython",
    "version": 3
   },
   "file_extension": ".py",
   "mimetype": "text/x-python",
   "name": "python",
   "nbconvert_exporter": "python",
   "pygments_lexer": "ipython3",
   "version": "3.10.12"
  }
 },
 "nbformat": 4,
 "nbformat_minor": 5
}
