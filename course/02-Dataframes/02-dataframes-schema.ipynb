{
 "cells": [
  {
   "cell_type": "markdown",
   "id": "43614523-3598-4a63-a37f-c133c5813634",
   "metadata": {},
   "source": [
    "# Schemata anwenden"
   ]
  },
  {
   "cell_type": "code",
   "execution_count": 16,
   "id": "46599c56-1ac3-4aeb-8b79-00823ac9a2df",
   "metadata": {},
   "outputs": [
    {
     "name": "stderr",
     "output_type": "stream",
     "text": [
      "23/08/28 17:22:45 WARN SparkSession: Using an existing Spark session; only runtime SQL configurations will take effect.\n"
     ]
    },
    {
     "data": {
      "text/html": [
       "\n",
       "            <div>\n",
       "                <p><b>SparkSession - in-memory</b></p>\n",
       "                \n",
       "        <div>\n",
       "            <p><b>SparkContext</b></p>\n",
       "\n",
       "            <p><a href=\"http://pupil-a.bin-ich-tot.de:4040\">Spark UI</a></p>\n",
       "\n",
       "            <dl>\n",
       "              <dt>Version</dt>\n",
       "                <dd><code>v3.4.1</code></dd>\n",
       "              <dt>Master</dt>\n",
       "                <dd><code>local[4]</code></dd>\n",
       "              <dt>AppName</dt>\n",
       "                <dd><code>schemata</code></dd>\n",
       "            </dl>\n",
       "        </div>\n",
       "        \n",
       "            </div>\n",
       "        "
      ],
      "text/plain": [
       "<pyspark.sql.session.SparkSession at 0x7f7ef7e44970>"
      ]
     },
     "execution_count": 16,
     "metadata": {},
     "output_type": "execute_result"
    }
   ],
   "source": [
    "from pyspark.sql import SparkSession\n",
    "\n",
    "spark = (SparkSession\n",
    "         .builder\n",
    "         .appName(\"schemata\")\n",
    "         .master(\"local[4]\")\n",
    "         .config(\"spark.dynamicAllocation.enabled\", \"false\")\n",
    "         .config(\"spark.sql.adaptive.enabled\", \"false\")\n",
    "         .getOrCreate()\n",
    "        )\n",
    "sc = spark.sparkContext\n",
    "spark"
   ]
  },
  {
   "cell_type": "code",
   "execution_count": 2,
   "id": "893b1ca3-ba74-496c-9ebe-1172be794869",
   "metadata": {},
   "outputs": [
    {
     "data": {
      "text/html": [
       "<style>pre { white-space: pre !important; }</style>"
      ],
      "text/plain": [
       "<IPython.core.display.HTML object>"
      ]
     },
     "metadata": {},
     "output_type": "display_data"
    }
   ],
   "source": [
    "from IPython.display import *\n",
    "display(HTML(\"<style>pre { white-space: pre !important; }</style>\"))"
   ]
  },
  {
   "cell_type": "code",
   "execution_count": 3,
   "id": "939ee4cf-74b5-47f6-8958-34c0f8aea99d",
   "metadata": {},
   "outputs": [
    {
     "name": "stdout",
     "output_type": "stream",
     "text": [
      "root\n",
      " |-- VendorID: string (nullable = true)\n",
      " |-- tpep_pickup_datetime: string (nullable = true)\n",
      " |-- tpep_dropoff_datetime: string (nullable = true)\n",
      " |-- passenger_count: string (nullable = true)\n",
      " |-- trip_distance: string (nullable = true)\n",
      " |-- RatecodeID: string (nullable = true)\n",
      " |-- store_and_fwd_flag: string (nullable = true)\n",
      " |-- PULocationID: string (nullable = true)\n",
      " |-- DOLocationID: string (nullable = true)\n",
      " |-- payment_type: string (nullable = true)\n",
      " |-- fare_amount: string (nullable = true)\n",
      " |-- extra: string (nullable = true)\n",
      " |-- mta_tax: string (nullable = true)\n",
      " |-- tip_amount: string (nullable = true)\n",
      " |-- tolls_amount: string (nullable = true)\n",
      " |-- improvement_surcharge: string (nullable = true)\n",
      " |-- total_amount: string (nullable = true)\n",
      " |-- congestion_surcharge: string (nullable = true)\n",
      " |-- airport_fee: string (nullable = true)\n",
      "\n"
     ]
    }
   ],
   "source": [
    "yellow_taxi_df = spark.read.option(\"header\", True).csv(\"YellowTaxis_202210.csv.gz\")\n",
    "yellow_taxi_df.printSchema()"
   ]
  },
  {
   "cell_type": "markdown",
   "id": "133b0bea-35ab-4753-87a1-b7439945a16b",
   "metadata": {},
   "source": [
    "In Spark UI checken, dass ein Job erzeugt wurde. Aber eigentlich ist das Lesen doch eine Transformation?\n",
    "Wieso dann ein Job?\n",
    "Was zum SQL/DataFrame Tab in Spark UI sagen\n",
    "darauf stoßen, dass die Datentypen nocht niht korrekt sind.\n"
   ]
  },
  {
   "cell_type": "code",
   "execution_count": 4,
   "id": "e9c9e577-9094-489c-8ec8-9419bf133bf0",
   "metadata": {},
   "outputs": [
    {
     "name": "stderr",
     "output_type": "stream",
     "text": [
      "[Stage 2:>                                                          (0 + 1) / 1]\r"
     ]
    },
    {
     "name": "stdout",
     "output_type": "stream",
     "text": [
      "root\n",
      " |-- VendorID: integer (nullable = true)\n",
      " |-- tpep_pickup_datetime: timestamp (nullable = true)\n",
      " |-- tpep_dropoff_datetime: timestamp (nullable = true)\n",
      " |-- passenger_count: double (nullable = true)\n",
      " |-- trip_distance: double (nullable = true)\n",
      " |-- RatecodeID: double (nullable = true)\n",
      " |-- store_and_fwd_flag: string (nullable = true)\n",
      " |-- PULocationID: integer (nullable = true)\n",
      " |-- DOLocationID: integer (nullable = true)\n",
      " |-- payment_type: integer (nullable = true)\n",
      " |-- fare_amount: double (nullable = true)\n",
      " |-- extra: double (nullable = true)\n",
      " |-- mta_tax: double (nullable = true)\n",
      " |-- tip_amount: double (nullable = true)\n",
      " |-- tolls_amount: double (nullable = true)\n",
      " |-- improvement_surcharge: double (nullable = true)\n",
      " |-- total_amount: double (nullable = true)\n",
      " |-- congestion_surcharge: double (nullable = true)\n",
      " |-- airport_fee: double (nullable = true)\n",
      "\n"
     ]
    },
    {
     "name": "stderr",
     "output_type": "stream",
     "text": [
      "                                                                                \r"
     ]
    }
   ],
   "source": [
    "yellow_taxi_df = spark.read.option(\"header\", True).option(\"inferSchema\", True).csv(\"YellowTaxis_202210.csv.gz\")\n",
    "yellow_taxi_df.printSchema()"
   ]
  },
  {
   "cell_type": "markdown",
   "id": "b692c3c9-d1e9-4252-b8d0-e768f029b95a",
   "metadata": {},
   "source": [
    "Pro/Cons automatisches erkennen des Schemas\n",
    "\n",
    "\n",
    "Pro\n",
    "\n",
    "gut während der Entwicklung um sich mit den Datenvertraut zu machen\n",
    "\n",
    "Cons\n",
    "Fehler in den Daten führen zu falschem Schema\n",
    "dauert lange\n",
    "\n",
    "Für produktive Spark Applikatione ist es deswegen empfohlen Schemata manuell anzugeben\n",
    "\n"
   ]
  },
  {
   "cell_type": "code",
   "execution_count": 5,
   "id": "a1d0ca4e-8a2b-40b5-95a7-f6ac7575c6fa",
   "metadata": {},
   "outputs": [],
   "source": [
    "from pyspark.sql.types import *"
   ]
  },
  {
   "cell_type": "code",
   "execution_count": 6,
   "id": "31ddba32-ad12-4138-bdfe-46e108fcded9",
   "metadata": {},
   "outputs": [],
   "source": [
    "yellow_taxi_schema  =  (  StructType\n",
    "                        ([ \n",
    "                            StructField(\"VendorId\"               , IntegerType()   , True),\n",
    "                            StructField(\"lpep_pickup_datetime\"   , TimestampType() , True),\n",
    "                            StructField(\"lpep_dropoff_datetime\"  , TimestampType() , True),\n",
    "                            StructField(\"passenger_count\"        , DoubleType()    , True),\n",
    "                            StructField(\"trip_distance\"          , DoubleType()    , True),\n",
    "                            StructField(\"RatecodeID\"             , DoubleType()    , True),\n",
    "                            StructField(\"store_and_fwd_flag\"     , StringType()    , True),\n",
    "                            StructField(\"PULocationID\"           , IntegerType()   , True),\n",
    "                            StructField(\"DOLocationID\"           , IntegerType()   , True),\n",
    "                            StructField(\"payment_type\"           , IntegerType()   , True),\n",
    "                            StructField(\"fare_amount\"            , DoubleType()    , True),\n",
    "                            StructField(\"extra\"                  , DoubleType()    , True),\n",
    "                            StructField(\"mta_tax\"                , DoubleType()    , True),\n",
    "                            StructField(\"tip_amount\"             , DoubleType()    , True),\n",
    "                            StructField(\"tolls_amount\"           , DoubleType()    , True),\n",
    "                            StructField(\"improvement_surcharge\"  , DoubleType()    , True),\n",
    "                            StructField(\"total_amount\"           , DoubleType()    , True),\n",
    "                            StructField(\"congestion_surcharge\"   , DoubleType()    , True),\n",
    "                            StructField(\"airport_fee\"            , DoubleType()    , True)\n",
    "                        ])\n",
    "                       )"
   ]
  },
  {
   "cell_type": "code",
   "execution_count": 7,
   "id": "2b8cd8f9-6a17-4c91-85f4-1206389b4d2d",
   "metadata": {},
   "outputs": [],
   "source": [
    "yellow_taxi_df = spark.read.option(\"header\", True).schema(yellow_taxi_schema).csv(\"YellowTaxis_202210.csv.gz\")"
   ]
  },
  {
   "cell_type": "code",
   "execution_count": 8,
   "id": "16809c4d-81cf-4ae2-a2ea-6ea699b78b75",
   "metadata": {},
   "outputs": [
    {
     "name": "stdout",
     "output_type": "stream",
     "text": [
      "root\n",
      " |-- VendorId: integer (nullable = true)\n",
      " |-- lpep_pickup_datetime: timestamp (nullable = true)\n",
      " |-- lpep_dropoff_datetime: timestamp (nullable = true)\n",
      " |-- passenger_count: double (nullable = true)\n",
      " |-- trip_distance: double (nullable = true)\n",
      " |-- RatecodeID: double (nullable = true)\n",
      " |-- store_and_fwd_flag: string (nullable = true)\n",
      " |-- PULocationID: integer (nullable = true)\n",
      " |-- DOLocationID: integer (nullable = true)\n",
      " |-- payment_type: integer (nullable = true)\n",
      " |-- fare_amount: double (nullable = true)\n",
      " |-- extra: double (nullable = true)\n",
      " |-- mta_tax: double (nullable = true)\n",
      " |-- tip_amount: double (nullable = true)\n",
      " |-- tolls_amount: double (nullable = true)\n",
      " |-- improvement_surcharge: double (nullable = true)\n",
      " |-- total_amount: double (nullable = true)\n",
      " |-- congestion_surcharge: double (nullable = true)\n",
      " |-- airport_fee: double (nullable = true)\n",
      "\n"
     ]
    }
   ],
   "source": [
    "yellow_taxi_df.printSchema()"
   ]
  },
  {
   "cell_type": "markdown",
   "id": "ce6edf96-4f3b-4e6e-8bf1-42b632c017ec",
   "metadata": {},
   "source": [
    "## Nun mit einem Json File"
   ]
  },
  {
   "cell_type": "code",
   "execution_count": 9,
   "id": "3c5fce2e-4bf6-4cec-b58d-959f314554da",
   "metadata": {},
   "outputs": [],
   "source": [
    "taxi_bases_df = spark.read.json(\"TaxiBases.json\")"
   ]
  },
  {
   "cell_type": "code",
   "execution_count": 10,
   "id": "6d2742c8-cbf4-4b33-9513-63c4213ca8e0",
   "metadata": {},
   "outputs": [
    {
     "ename": "AnalysisException",
     "evalue": "Since Spark 2.3, the queries from raw JSON/CSV files are disallowed when the\nreferenced columns only include the internal corrupt record column\n(named _corrupt_record by default). For example:\nspark.read.schema(schema).csv(file).filter($\"_corrupt_record\".isNotNull).count()\nand spark.read.schema(schema).csv(file).select(\"_corrupt_record\").show().\nInstead, you can cache or save the parsed results and then send the same query.\nFor example, val df = spark.read.schema(schema).csv(file).cache() and then\ndf.filter($\"_corrupt_record\".isNotNull).count().",
     "output_type": "error",
     "traceback": [
      "\u001b[0;31m---------------------------------------------------------------------------\u001b[0m",
      "\u001b[0;31mAnalysisException\u001b[0m                         Traceback (most recent call last)",
      "Cell \u001b[0;32mIn[10], line 1\u001b[0m\n\u001b[0;32m----> 1\u001b[0m \u001b[43mtaxi_bases_df\u001b[49m\u001b[38;5;241;43m.\u001b[39;49m\u001b[43mshow\u001b[49m\u001b[43m(\u001b[49m\u001b[43m)\u001b[49m\n",
      "File \u001b[0;32m/usr/local/lib/python3.10/dist-packages/pyspark/sql/dataframe.py:899\u001b[0m, in \u001b[0;36mDataFrame.show\u001b[0;34m(self, n, truncate, vertical)\u001b[0m\n\u001b[1;32m    893\u001b[0m     \u001b[38;5;28;01mraise\u001b[39;00m PySparkTypeError(\n\u001b[1;32m    894\u001b[0m         error_class\u001b[38;5;241m=\u001b[39m\u001b[38;5;124m\"\u001b[39m\u001b[38;5;124mNOT_BOOL\u001b[39m\u001b[38;5;124m\"\u001b[39m,\n\u001b[1;32m    895\u001b[0m         message_parameters\u001b[38;5;241m=\u001b[39m{\u001b[38;5;124m\"\u001b[39m\u001b[38;5;124marg_name\u001b[39m\u001b[38;5;124m\"\u001b[39m: \u001b[38;5;124m\"\u001b[39m\u001b[38;5;124mvertical\u001b[39m\u001b[38;5;124m\"\u001b[39m, \u001b[38;5;124m\"\u001b[39m\u001b[38;5;124marg_type\u001b[39m\u001b[38;5;124m\"\u001b[39m: \u001b[38;5;28mtype\u001b[39m(vertical)\u001b[38;5;241m.\u001b[39m\u001b[38;5;18m__name__\u001b[39m},\n\u001b[1;32m    896\u001b[0m     )\n\u001b[1;32m    898\u001b[0m \u001b[38;5;28;01mif\u001b[39;00m \u001b[38;5;28misinstance\u001b[39m(truncate, \u001b[38;5;28mbool\u001b[39m) \u001b[38;5;129;01mand\u001b[39;00m truncate:\n\u001b[0;32m--> 899\u001b[0m     \u001b[38;5;28mprint\u001b[39m(\u001b[38;5;28;43mself\u001b[39;49m\u001b[38;5;241;43m.\u001b[39;49m\u001b[43m_jdf\u001b[49m\u001b[38;5;241;43m.\u001b[39;49m\u001b[43mshowString\u001b[49m\u001b[43m(\u001b[49m\u001b[43mn\u001b[49m\u001b[43m,\u001b[49m\u001b[43m \u001b[49m\u001b[38;5;241;43m20\u001b[39;49m\u001b[43m,\u001b[49m\u001b[43m \u001b[49m\u001b[43mvertical\u001b[49m\u001b[43m)\u001b[49m)\n\u001b[1;32m    900\u001b[0m \u001b[38;5;28;01melse\u001b[39;00m:\n\u001b[1;32m    901\u001b[0m     \u001b[38;5;28;01mtry\u001b[39;00m:\n",
      "File \u001b[0;32m/usr/local/lib/python3.10/dist-packages/py4j/java_gateway.py:1322\u001b[0m, in \u001b[0;36mJavaMember.__call__\u001b[0;34m(self, *args)\u001b[0m\n\u001b[1;32m   1316\u001b[0m command \u001b[38;5;241m=\u001b[39m proto\u001b[38;5;241m.\u001b[39mCALL_COMMAND_NAME \u001b[38;5;241m+\u001b[39m\\\n\u001b[1;32m   1317\u001b[0m     \u001b[38;5;28mself\u001b[39m\u001b[38;5;241m.\u001b[39mcommand_header \u001b[38;5;241m+\u001b[39m\\\n\u001b[1;32m   1318\u001b[0m     args_command \u001b[38;5;241m+\u001b[39m\\\n\u001b[1;32m   1319\u001b[0m     proto\u001b[38;5;241m.\u001b[39mEND_COMMAND_PART\n\u001b[1;32m   1321\u001b[0m answer \u001b[38;5;241m=\u001b[39m \u001b[38;5;28mself\u001b[39m\u001b[38;5;241m.\u001b[39mgateway_client\u001b[38;5;241m.\u001b[39msend_command(command)\n\u001b[0;32m-> 1322\u001b[0m return_value \u001b[38;5;241m=\u001b[39m \u001b[43mget_return_value\u001b[49m\u001b[43m(\u001b[49m\n\u001b[1;32m   1323\u001b[0m \u001b[43m    \u001b[49m\u001b[43manswer\u001b[49m\u001b[43m,\u001b[49m\u001b[43m \u001b[49m\u001b[38;5;28;43mself\u001b[39;49m\u001b[38;5;241;43m.\u001b[39;49m\u001b[43mgateway_client\u001b[49m\u001b[43m,\u001b[49m\u001b[43m \u001b[49m\u001b[38;5;28;43mself\u001b[39;49m\u001b[38;5;241;43m.\u001b[39;49m\u001b[43mtarget_id\u001b[49m\u001b[43m,\u001b[49m\u001b[43m \u001b[49m\u001b[38;5;28;43mself\u001b[39;49m\u001b[38;5;241;43m.\u001b[39;49m\u001b[43mname\u001b[49m\u001b[43m)\u001b[49m\n\u001b[1;32m   1325\u001b[0m \u001b[38;5;28;01mfor\u001b[39;00m temp_arg \u001b[38;5;129;01min\u001b[39;00m temp_args:\n\u001b[1;32m   1326\u001b[0m     \u001b[38;5;28;01mif\u001b[39;00m \u001b[38;5;28mhasattr\u001b[39m(temp_arg, \u001b[38;5;124m\"\u001b[39m\u001b[38;5;124m_detach\u001b[39m\u001b[38;5;124m\"\u001b[39m):\n",
      "File \u001b[0;32m/usr/local/lib/python3.10/dist-packages/pyspark/errors/exceptions/captured.py:175\u001b[0m, in \u001b[0;36mcapture_sql_exception.<locals>.deco\u001b[0;34m(*a, **kw)\u001b[0m\n\u001b[1;32m    171\u001b[0m converted \u001b[38;5;241m=\u001b[39m convert_exception(e\u001b[38;5;241m.\u001b[39mjava_exception)\n\u001b[1;32m    172\u001b[0m \u001b[38;5;28;01mif\u001b[39;00m \u001b[38;5;129;01mnot\u001b[39;00m \u001b[38;5;28misinstance\u001b[39m(converted, UnknownException):\n\u001b[1;32m    173\u001b[0m     \u001b[38;5;66;03m# Hide where the exception came from that shows a non-Pythonic\u001b[39;00m\n\u001b[1;32m    174\u001b[0m     \u001b[38;5;66;03m# JVM exception message.\u001b[39;00m\n\u001b[0;32m--> 175\u001b[0m     \u001b[38;5;28;01mraise\u001b[39;00m converted \u001b[38;5;28;01mfrom\u001b[39;00m \u001b[38;5;28;01mNone\u001b[39;00m\n\u001b[1;32m    176\u001b[0m \u001b[38;5;28;01melse\u001b[39;00m:\n\u001b[1;32m    177\u001b[0m     \u001b[38;5;28;01mraise\u001b[39;00m\n",
      "\u001b[0;31mAnalysisException\u001b[0m: Since Spark 2.3, the queries from raw JSON/CSV files are disallowed when the\nreferenced columns only include the internal corrupt record column\n(named _corrupt_record by default). For example:\nspark.read.schema(schema).csv(file).filter($\"_corrupt_record\".isNotNull).count()\nand spark.read.schema(schema).csv(file).select(\"_corrupt_record\").show().\nInstead, you can cache or save the parsed results and then send the same query.\nFor example, val df = spark.read.schema(schema).csv(file).cache() and then\ndf.filter($\"_corrupt_record\".isNotNull).count()."
     ]
    }
   ],
   "source": [
    "taxi_bases_df.show()"
   ]
  },
  {
   "cell_type": "code",
   "execution_count": 11,
   "id": "9f328ade-e1ff-4bd3-a942-938658490eea",
   "metadata": {},
   "outputs": [],
   "source": [
    "taxi_bases_df = spark.read.option(\"multiline\", True).json(\"TaxiBases.json\")"
   ]
  },
  {
   "cell_type": "code",
   "execution_count": 12,
   "id": "10a4d48c-5f96-47c4-b19c-5116137cbcbb",
   "metadata": {},
   "outputs": [
    {
     "name": "stdout",
     "output_type": "stream",
     "text": [
      "+--------------------------------------------+----------+-------------------------------+------------------------------------------------+--------------+------------+----------------+--------+---------------------------+\n",
      "|Address                                     |Date      |Entity Name                    |GeoLocation                                     |License Number|SHL Endorsed|Telephone Number|Time    |Type of Base               |\n",
      "+--------------------------------------------+----------+-------------------------------+------------------------------------------------+--------------+------------+----------------+--------+---------------------------+\n",
      "|{636, NEW YORK, 10001, NY, WEST   28 STREET}|08/15/2019|VIER-NY,LLC                    |{40.75273, (40.75273, -74.006408), -74.006408}  |B02865        |No          |6466657536      |18:03:31|BLACK CAR BASE             |\n",
      "|{131, BRONX, 10468, NY, KINGSBRIDGE ROAD}   |08/15/2019|VETERANS RADIO DISPATCHER CORP.|{40.86927, (40.86927, -73.90281), -73.90281}    |B02634        |No          |7183647878      |18:03:31|LIVERY BASE                |\n",
      "|{115-54, ELMONT, 11003, NY, 238 STREET}     |08/15/2019|ALPHA VAN LINE                 |{40.693473, (40.693473, -73.724446), -73.724446}|B80094        |No          |5162850750      |18:03:31|COMMUTER VAN AUTHORITY BASE|\n",
      "+--------------------------------------------+----------+-------------------------------+------------------------------------------------+--------------+------------+----------------+--------+---------------------------+\n",
      "only showing top 3 rows\n",
      "\n"
     ]
    }
   ],
   "source": [
    "taxi_bases_df.show(3, truncate=False)"
   ]
  },
  {
   "cell_type": "code",
   "execution_count": 13,
   "id": "0ba90716-4ee3-4519-b8aa-ce7f5426a03d",
   "metadata": {},
   "outputs": [
    {
     "name": "stdout",
     "output_type": "stream",
     "text": [
      "root\n",
      " |-- Address: struct (nullable = true)\n",
      " |    |-- Building: string (nullable = true)\n",
      " |    |-- City: string (nullable = true)\n",
      " |    |-- Postcode: long (nullable = true)\n",
      " |    |-- State: string (nullable = true)\n",
      " |    |-- Street: string (nullable = true)\n",
      " |-- Date: string (nullable = true)\n",
      " |-- Entity Name: string (nullable = true)\n",
      " |-- GeoLocation: struct (nullable = true)\n",
      " |    |-- Latitude: double (nullable = true)\n",
      " |    |-- Location: string (nullable = true)\n",
      " |    |-- Longitude: double (nullable = true)\n",
      " |-- License Number: string (nullable = true)\n",
      " |-- SHL Endorsed: string (nullable = true)\n",
      " |-- Telephone Number: long (nullable = true)\n",
      " |-- Time: string (nullable = true)\n",
      " |-- Type of Base: string (nullable = true)\n",
      "\n"
     ]
    }
   ],
   "source": [
    "taxi_bases_df.printSchema()"
   ]
  },
  {
   "cell_type": "code",
   "execution_count": 14,
   "id": "3c9cf71d-a953-4b44-8c0c-748fefb5c856",
   "metadata": {},
   "outputs": [],
   "source": [
    "taxi_bases_schema = (\n",
    "                    StructType\n",
    "                    ([\n",
    "                        StructField(\"License Number\"         , StringType()    , True),\n",
    "                        StructField(\"Entity Name\"            , StringType()    , True),\n",
    "                        StructField(\"Telephone Number\"       , LongType()      , True),\n",
    "                        StructField(\"SHL Endorsed\"           , StringType()    , True),\n",
    "                        StructField(\"Type of Base\"           , StringType()    , True),\n",
    "\n",
    "                        StructField(\"Address\", \n",
    "                                        StructType\n",
    "                                        ([\n",
    "                                            StructField(\"Building\"   , StringType(),   True),\n",
    "                                            StructField(\"Street\"     , StringType(),   True), \n",
    "                                            StructField(\"City\"       , StringType(),   True), \n",
    "                                            StructField(\"State\"      , StringType(),   True), \n",
    "                                            StructField(\"Postcode\"   , StringType(),   True)\n",
    "                                        ]),\n",
    "                                    True\n",
    "                                   ),\n",
    "                        \n",
    "                        StructField(\"GeoLocation\", \n",
    "                                        StructType\n",
    "                                        ([\n",
    "                                            StructField(\"Latitude\"   , StringType(),   True),\n",
    "                                            StructField(\"Longitude\"  , StringType(),   True), \n",
    "                                            StructField(\"Location\"   , StringType(),   True)\n",
    "                                        ]),\n",
    "                                    True\n",
    "                                   )  \n",
    "                  ])\n",
    "                )"
   ]
  },
  {
   "cell_type": "code",
   "execution_count": 15,
   "id": "1eb4fcb8-2402-49a4-9ecb-b8737c556d34",
   "metadata": {},
   "outputs": [
    {
     "name": "stdout",
     "output_type": "stream",
     "text": [
      "+--------------+--------------------------------------+----------------+------------+---------------------------+-----------------------------------------------------------+------------------------------------------------+\n",
      "|License Number|Entity Name                           |Telephone Number|SHL Endorsed|Type of Base               |Address                                                    |GeoLocation                                     |\n",
      "+--------------+--------------------------------------+----------------+------------+---------------------------+-----------------------------------------------------------+------------------------------------------------+\n",
      "|B02865        |VIER-NY,LLC                           |6466657536      |No          |BLACK CAR BASE             |{636, WEST   28 STREET, NEW YORK, NY, 10001}               |{40.75273, -74.006408, (40.75273, -74.006408)}  |\n",
      "|B02634        |VETERANS RADIO DISPATCHER CORP.       |7183647878      |No          |LIVERY BASE                |{131, KINGSBRIDGE ROAD, BRONX, NY, 10468}                  |{40.86927, -73.90281, (40.86927, -73.90281)}    |\n",
      "|B80094        |ALPHA VAN LINE                        |5162850750      |No          |COMMUTER VAN AUTHORITY BASE|{115-54, 238 STREET, ELMONT, NY, 11003}                    |{40.693473, -73.724446, (40.693473, -73.724446)}|\n",
      "|B02677        |A.T.B. CAR AND LIMOUSINE SERVICE, INC.|7184854444      |No          |LIVERY BASE                |{866, NEW LOTS AVENUE, BROOKLYN, NY, 11208}                |{40.667838, -73.8788, (40.667838, -73.8788)}    |\n",
      "|B02152        |KYOEI LIMOUSINE, INC.                 |7183263258      |No          |LUXURY/LIMOUSINE           |{57-48, MASPETH AVENUE, MASPETH, NY, 11378}                |{40.722961, -73.91031, (40.722961, -73.91031)}  |\n",
      "|B02844        |ENDOR CAR & DRIVER,LLC.               |4154758459      |No          |BLACK CAR BASE             |{31-00, 47 AVENUE  SUITE # 4123A, LIC, NY, 11101}          |{40.742082, -73.93552, (40.742082, -73.93552)}  |\n",
      "|B02841        |SKYWAY EXECUTIVE SERVICE, INC         |7183595959      |No          |BLACK CAR BASE             |{68-20A, FRESH MEADOW LANE, FRESH MEADOWS, NY, 11365}      |{40.733337, -73.794706, (40.733337, -73.794706)}|\n",
      "|B00472        |FARRELL'S LEASING CO.                 |2128616300      |No          |LUXURY/LIMOUSINE           |{22-11, 38 AVENUE, LIC, NY, 11101}                         |{40.757077, -73.937504, (40.757077, -73.937504)}|\n",
      "|B01739        |CITY CAR SERVICE CORP                 |7184182222      |No          |LIVERY BASE                |{429, SUTTER AVENUE, BROOKLYN, NY, 11212}                  |{40.668473, -73.903383, (40.668473, -73.903383)}|\n",
      "|B00248        |YELLOWSTONE TRANSPORTATION INC.       |7185397777      |No          |LIVERY BASE                |{41-31, MAIN STREET, FLUSHING, NY, 11355}                  |{40.758114, -73.82962, (40.758114, -73.82962)}  |\n",
      "|B02861        |ELTRI CAR SERVICE INC                 |7183820100      |No          |BLACK CAR BASE             |{1811, EAST    7 STREET, BROOKLYN, NY, 11223}              |{40.612302, -73.963221, (40.612302, -73.963221)}|\n",
      "|B02093        |V.J. CAR & LIMO SVC INC.              |7186417777      |No          |LIVERY BASE                |{104-08, 123RD STREET, RICHMOND HILL, NY, 11419}           |{40.691906, -73.82342, (40.691906, -73.82342)}  |\n",
      "|B02980        |ADVANTAGE LIMO OF NY INC              |3478655876      |No          |LUXURY/LIMOUSINE           |{6701, BAY PARKWAY  OFFICE #1 3RD FLR, BROOKLYN, NY, 11204}|{40.603784, -73.972558, (40.603784, -73.972558)}|\n",
      "|B02878        |ELF-NY,LLC                            |6466657540      |No          |BLACK CAR BASE             |{636, WEST   28 STREET, NEW YORK, NY, 10001}               |{40.75273, -74.00641, (40.75273, -74.00641)}    |\n",
      "|B90691        |ALTA MEDICAL TRANSPORTATION, INC.     |7188972582      |No          |PARATRANSIT BASE           |{85-02, 67 AVENUE  SUITE 1, REGO PARK, NY, 11374}          |{40.717275, -73.86211, (40.717275, -73.86211)}  |\n",
      "|B02840        |RAELEEN CAR CORP.                     |9176031815      |No          |BLACK CAR BASE             |{565, VAN NEST AVENUE, BRONX, NY, 10460}                   |{40.755734, -73.93795, (40.755734, -73.93795)}  |\n",
      "|B02658        |ASCONA CAR SERVICE INC.               |7186461611      |No          |LIVERY BASE                |{2421, BATH AVENUE, BROOKLYN, NY, 11214}                   |{40.595422, -73.992368, (40.595422, -73.992368)}|\n",
      "|B02331        |CHICO EXPRESS LIMO, INC.              |7182367777      |No          |BLACK CAR BASE             |{6318, 14 AVENUE, BROOKLYN, NY, 11219}                     |{40.625609, -73.998684, (40.625609, -73.998684)}|\n",
      "|B02969        |LYFE AUTO GROUP INC                   |7187066234      |No          |BLACK CAR BASE             |{32-10, GREENPOINT AVENUE, LIC, NY, 11101}                 |{40.734944, -73.935733, (40.734944, -73.935733)}|\n",
      "|B02651        |SAROS TRANSPORTATION GROUP INC.       |7185640084      |No          |BLACK CAR BASE             |{626, REXCORP PLAZA, UNIONDALE, NY, 11556}                 |{40.638931, -73.982954, (40.638931, -73.982954)}|\n",
      "+--------------+--------------------------------------+----------------+------------+---------------------------+-----------------------------------------------------------+------------------------------------------------+\n",
      "only showing top 20 rows\n",
      "\n"
     ]
    }
   ],
   "source": [
    "taxi_bases_df = spark.read.option(\"multiline\", True).schema(taxi_bases_schema).json(\"TaxiBases.json\")\n",
    "taxi_bases_df.show(truncate=False)"
   ]
  },
  {
   "cell_type": "markdown",
   "id": "3c54e62b-1a1c-45f6-a222-b094cfd311c7",
   "metadata": {},
   "source": [
    "Was nimmst Du aus dieser Lektion mit?\n",
    "\n",
    "Du kannst ein Schema automatisch erkennen, aber das dauert teils lange und kann auch zu nicht korrekten Ergebnissen führen. Deswegen ist es in der Praxis empfehleungswert Schemata manuell zu erzeugen und anzugeben.\n"
   ]
  }
 ],
 "metadata": {
  "kernelspec": {
   "display_name": "Python 3 (ipykernel)",
   "language": "python",
   "name": "python3"
  },
  "language_info": {
   "codemirror_mode": {
    "name": "ipython",
    "version": 3
   },
   "file_extension": ".py",
   "mimetype": "text/x-python",
   "name": "python",
   "nbconvert_exporter": "python",
   "pygments_lexer": "ipython3",
   "version": "3.10.12"
  }
 },
 "nbformat": 4,
 "nbformat_minor": 5
}
