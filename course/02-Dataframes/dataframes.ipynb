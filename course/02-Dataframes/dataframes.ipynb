{
 "cells": [
  {
   "cell_type": "markdown",
   "id": "43614523-3598-4a63-a37f-c133c5813634",
   "metadata": {},
   "source": [
    "# Cleaning Data"
   ]
  },
  {
   "cell_type": "code",
   "execution_count": 11,
   "id": "4e92a1c9-82de-4f82-af19-ef5759c2905e",
   "metadata": {},
   "outputs": [
    {
     "ename": "SyntaxError",
     "evalue": "invalid syntax (991598742.py, line 1)",
     "output_type": "error",
     "traceback": [
      "\u001b[0;36m  Cell \u001b[0;32mIn[11], line 1\u001b[0;36m\u001b[0m\n\u001b[0;31m    we are now switching to a higher level api:\u001b[0m\n\u001b[0m       ^\u001b[0m\n\u001b[0;31mSyntaxError\u001b[0m\u001b[0;31m:\u001b[0m invalid syntax\n"
     ]
    }
   ],
   "source": [
    "we are now switching to a higher level api:\n",
    "\n",
    "Dataframes\n",
    "\n",
    "they are build upon RDD but will make our life much simpleer\n",
    "\n",
    "They will inherit some of the greate attributes of RDD:\n",
    "\n",
    " * in memory\n",
    " * partitioned\n",
    " * resilient\n",
    " * read only\n",
    "\n",
    "Treats the Data similar like relational databases:\n",
    "\n",
    "Set of Rows where each row has columns of certain types\n",
    "\n",
    "\n",
    "Dataframes\n",
    "\n",
    "will alow spark to apply optimazations that plain rdd will now allow\n",
    "\n",
    "this leads to less development effort\n",
    "\n",
    "current an future developtment of spark is mostly on dataframe apis\n",
    "\n",
    "when you have no proper reason, default to dataframes\n",
    "\n",
    "\n",
    "Optimizations on build time\n",
    "by catalyst optimizer for query optimization\n",
    "\n",
    "and with tungsten on runtime\n"
   ]
  },
  {
   "cell_type": "code",
   "execution_count": 12,
   "id": "e381b194-1084-4740-a4fd-2a661bf50190",
   "metadata": {},
   "outputs": [],
   "source": [
    "from pyspark.sql import SparkSession\n",
    "\n",
    "spark = SparkSession.builder.appName(\"dataframes\").master(\"local[4]\").getOrCreate()"
   ]
  },
  {
   "cell_type": "code",
   "execution_count": 13,
   "id": "78788983-567e-427d-8ecf-94d62ad857bc",
   "metadata": {},
   "outputs": [
    {
     "data": {
      "text/html": [
       "\n",
       "            <div>\n",
       "                <p><b>SparkSession - in-memory</b></p>\n",
       "                \n",
       "        <div>\n",
       "            <p><b>SparkContext</b></p>\n",
       "\n",
       "            <p><a href=\"http://pupil-a.bin-ich-tot.de:4040\">Spark UI</a></p>\n",
       "\n",
       "            <dl>\n",
       "              <dt>Version</dt>\n",
       "                <dd><code>v3.4.1</code></dd>\n",
       "              <dt>Master</dt>\n",
       "                <dd><code>local[4]</code></dd>\n",
       "              <dt>AppName</dt>\n",
       "                <dd><code>dataframes</code></dd>\n",
       "            </dl>\n",
       "        </div>\n",
       "        \n",
       "            </div>\n",
       "        "
      ],
      "text/plain": [
       "<pyspark.sql.session.SparkSession at 0x7f57e8e04940>"
      ]
     },
     "execution_count": 13,
     "metadata": {},
     "output_type": "execute_result"
    }
   ],
   "source": [
    "spark"
   ]
  },
  {
   "cell_type": "code",
   "execution_count": 24,
   "id": "2c654120-25b9-42e9-8ab0-df0f1114cacb",
   "metadata": {},
   "outputs": [
    {
     "data": {
      "text/html": [
       "<style>pre { white-space: pre !important; }</style>"
      ],
      "text/plain": [
       "<IPython.core.display.HTML object>"
      ]
     },
     "metadata": {},
     "output_type": "display_data"
    }
   ],
   "source": [
    "from IPython.display import *\n",
    "display(HTML(\"<style>pre { white-space: pre !important; }</style>\"))"
   ]
  },
  {
   "cell_type": "markdown",
   "id": "15f73719-b90c-49c7-80a2-ba1ff9b2ffb4",
   "metadata": {},
   "source": [
    "![alt text](../../slides/history-of-spark.drawio.svg \"Spark Optimization Engines\")"
   ]
  },
  {
   "cell_type": "markdown",
   "id": "fbd0924a-0301-4738-9111-abaf134403c9",
   "metadata": {},
   "source": [
    "## Catalyst Optimizer"
   ]
  },
  {
   "cell_type": "markdown",
   "id": "27391fae-687a-4f10-a67c-3ddb99dd0753",
   "metadata": {},
   "source": [
    "Query Optimer to produce optimued query plan\n",
    "\n",
    "## Tungsten Engine\n",
    "\n",
    "Imporoves efficizeniez ddruing \n",
    "P\n",
    "\n",
    "Phases\n",
    "\n",
    "* Analysis\n",
    "* logigcal Optimzzation\n",
    "* Pyhsical Planning\n",
    "* Code Generation\n",
    "* \n",
    "\n"
   ]
  },
  {
   "cell_type": "markdown",
   "id": "5b44904e-d0a5-460a-b2f4-f5c780092a49",
   "metadata": {},
   "source": [
    "### One Example Process\n",
    "\n",
    "\n",
    "1. Analysis Phase\n",
    "2. Create an unresolved logical plan\n",
    "   Just syntax errors. no data types checks\n",
    "   of if the exist att all\n",
    "3. Than catalyst looks up the catalog for columns and its types\n",
    "4. Than it creates the logical plan and run logical optimization\n",
    "   it applies rules, constant folding, predicate pushdown\n",
    "5. this results in the optimized logical plan\n",
    "6. than the pysical plan\n",
    "7. then a costmodel is applied\n",
    "8. the we have a concrete pyshical plan\n",
    "9. rdd code is being generated\n",
    "10. "
   ]
  },
  {
   "cell_type": "markdown",
   "id": "dfb017e0-3944-4a71-abb6-f686bf7afabc",
   "metadata": {},
   "source": [
    "keep in mind that rdd code does  not get any of these optimizations!"
   ]
  },
  {
   "cell_type": "markdown",
   "id": "645c01da-4955-4a56-bff8-7fa9295c1389",
   "metadata": {},
   "source": [
    "\n",
    "\n",
    "show performance comparisoin  scala python rdd, dataframe\n"
   ]
  },
  {
   "cell_type": "markdown",
   "id": "91f080ad-ebf1-4476-9be3-423073eac660",
   "metadata": {},
   "source": [
    "# Wie kannst Du Dataframes erzeugen\n",
    "\n",
    "* aus einem RDD oder einer beliebigen Python-Collections\n",
    "* aus anderen Dataframes\n",
    "* aus Dateien/Datenbanken"
   ]
  },
  {
   "cell_type": "code",
   "execution_count": 23,
   "id": "32c67e70-1fed-48cc-8c87-08212b513aca",
   "metadata": {},
   "outputs": [
    {
     "data": {
      "text/html": [
       "\n",
       "            <div>\n",
       "                <p><b>SparkSession - in-memory</b></p>\n",
       "                \n",
       "        <div>\n",
       "            <p><b>SparkContext</b></p>\n",
       "\n",
       "            <p><a href=\"http://pupil-a.bin-ich-tot.de:4040\">Spark UI</a></p>\n",
       "\n",
       "            <dl>\n",
       "              <dt>Version</dt>\n",
       "                <dd><code>v3.4.1</code></dd>\n",
       "              <dt>Master</dt>\n",
       "                <dd><code>local[4]</code></dd>\n",
       "              <dt>AppName</dt>\n",
       "                <dd><code>dataframes</code></dd>\n",
       "            </dl>\n",
       "        </div>\n",
       "        \n",
       "            </div>\n",
       "        "
      ],
      "text/plain": [
       "<pyspark.sql.session.SparkSession at 0x7f57e8e04940>"
      ]
     },
     "execution_count": 23,
     "metadata": {},
     "output_type": "execute_result"
    }
   ],
   "source": [
    "spark = (\n",
    "    SparkSession\n",
    "    .builder\n",
    "    .appName(\"TaxiOperationsDataFrameApp\")\n",
    "    .master(\"local[4]\")\n",
    "    .config(\"spark.dynamicAllocation.enabled\", \"false\")\n",
    "    .config(\"spark.sql.adaptive.enabled\", \"false\")\n",
    "    .getOrCreate()\n",
    ")\n",
    "sc = spark.sparkContext\n",
    "spark"
   ]
  },
  {
   "cell_type": "markdown",
   "id": "315d22f3-81be-4795-89a6-dcdcaa65b264",
   "metadata": {},
   "source": [
    "### Erzeuge ein Dataframe aus einem RDD"
   ]
  },
  {
   "cell_type": "code",
   "execution_count": 25,
   "id": "8c4bf910-1dcf-41df-98f1-ae383175aa32",
   "metadata": {},
   "outputs": [],
   "source": [
    "data = [\n",
    "    [1, \"Oliver\", 10],\n",
    "    [2, \"Xiaofei\", 20],\n",
    "    [3, \"Marc\", 40]\n",
    "]\n",
    "\n",
    "dozenten_rdd = sc.parallelize(data)"
   ]
  },
  {
   "cell_type": "code",
   "execution_count": 26,
   "id": "c51f6007-9347-429e-b5a8-455751c1a18c",
   "metadata": {},
   "outputs": [
    {
     "name": "stderr",
     "output_type": "stream",
     "text": [
      "                                                                                \r"
     ]
    }
   ],
   "source": [
    "dozenten_df = dozenten_rdd.toDF()"
   ]
  },
  {
   "cell_type": "code",
   "execution_count": 27,
   "id": "0bc891c1-e141-49f1-b4d1-1c8bc8514808",
   "metadata": {},
   "outputs": [
    {
     "name": "stdout",
     "output_type": "stream",
     "text": [
      "+---+-------+---+\n",
      "| _1|     _2| _3|\n",
      "+---+-------+---+\n",
      "|  1| Oliver| 10|\n",
      "|  2|Xiaofei| 20|\n",
      "|  3|   Marc| 40|\n",
      "+---+-------+---+\n",
      "\n"
     ]
    }
   ],
   "source": [
    "dozenten_df.show()"
   ]
  },
  {
   "cell_type": "code",
   "execution_count": 28,
   "id": "59556128-5c44-4da4-8d9c-c254cfdab444",
   "metadata": {},
   "outputs": [],
   "source": [
    "dozenten_df = dozenten_df.toDF(\"ID\", \"Name\", \"Points\")"
   ]
  },
  {
   "cell_type": "code",
   "execution_count": 29,
   "id": "dcd504db-594d-4101-a4eb-089805ea14db",
   "metadata": {},
   "outputs": [
    {
     "name": "stdout",
     "output_type": "stream",
     "text": [
      "+---+-------+------+\n",
      "| ID|   Name|Points|\n",
      "+---+-------+------+\n",
      "|  1| Oliver|    10|\n",
      "|  2|Xiaofei|    20|\n",
      "|  3|   Marc|    40|\n",
      "+---+-------+------+\n",
      "\n"
     ]
    }
   ],
   "source": [
    "dozenten_df.show()"
   ]
  },
  {
   "cell_type": "code",
   "execution_count": 30,
   "id": "72fdcdb9-45b1-46d5-8f8d-63faaf386c46",
   "metadata": {},
   "outputs": [
    {
     "name": "stdout",
     "output_type": "stream",
     "text": [
      "root\n",
      " |-- ID: long (nullable = true)\n",
      " |-- Name: string (nullable = true)\n",
      " |-- Points: long (nullable = true)\n",
      "\n"
     ]
    }
   ],
   "source": [
    "dozenten_df.printSchema()"
   ]
  },
  {
   "cell_type": "markdown",
   "id": "e4d118ce-d375-4190-b847-86588e9cb668",
   "metadata": {},
   "source": [
    "### Erzeuge Dataframe aus einer Collection"
   ]
  },
  {
   "cell_type": "code",
   "execution_count": 39,
   "id": "8d874592-7f56-4611-bfda-4d2e3d89bfa3",
   "metadata": {},
   "outputs": [],
   "source": [
    "dozenten_df = (\n",
    "    spark.createDataFrame(\n",
    "        data,\n",
    "        \"Id: long, Name: string, Pointy: long\"\n",
    "    )\n",
    ")"
   ]
  },
  {
   "cell_type": "code",
   "execution_count": 34,
   "id": "bcac626b-f477-4782-b0e6-2400e2ca1612",
   "metadata": {},
   "outputs": [
    {
     "name": "stdout",
     "output_type": "stream",
     "text": [
      "+---+-------+------+\n",
      "| Id|   Name|Pointy|\n",
      "+---+-------+------+\n",
      "|  1| Oliver|    10|\n",
      "|  2|Xiaofei|    20|\n",
      "|  3|   Marc|    40|\n",
      "+---+-------+------+\n",
      "\n"
     ]
    }
   ],
   "source": [
    "dozenten_df.show()"
   ]
  },
  {
   "cell_type": "code",
   "execution_count": 36,
   "id": "4515b9c1-cc41-4ecd-85d1-9d8e1c004229",
   "metadata": {},
   "outputs": [
    {
     "name": "stdout",
     "output_type": "stream",
     "text": [
      "root\n",
      " |-- Id: long (nullable = true)\n",
      " |-- Name: string (nullable = true)\n",
      " |-- Pointy: string (nullable = true)\n",
      "\n"
     ]
    }
   ],
   "source": [
    "dozenten_df.printSchema()"
   ]
  },
  {
   "cell_type": "code",
   "execution_count": 40,
   "id": "3a064a6c-5a78-4c36-9fe1-3eaedc228baa",
   "metadata": {},
   "outputs": [
    {
     "data": {
      "text/plain": [
       "pyspark.sql.session.SparkSession"
      ]
     },
     "execution_count": 40,
     "metadata": {},
     "output_type": "execute_result"
    }
   ],
   "source": [
    "type(spark)"
   ]
  },
  {
   "cell_type": "markdown",
   "id": "2377c5f2-f539-4692-8eda-5bd320a18f8e",
   "metadata": {},
   "source": [
    "### Erzeuge ein Dataframe aus einer Datei"
   ]
  },
  {
   "cell_type": "code",
   "execution_count": 41,
   "id": "391dd298-1c0b-4b07-b9e8-df57bf1344a9",
   "metadata": {},
   "outputs": [],
   "source": [
    "yellow_taxis_df = spark.read.csv(\"YellowTaxis_202210.csv\", header=True)"
   ]
  },
  {
   "cell_type": "code",
   "execution_count": 43,
   "id": "aec5a1fc-f09c-499b-935c-03ac175c7356",
   "metadata": {},
   "outputs": [
    {
     "name": "stdout",
     "output_type": "stream",
     "text": [
      "+--------+--------------------+---------------------+---------------+-------------+----------+------------------+------------+------------+------------+-----------+-----+-------+----------+------------+---------------------+------------+--------------------+-----------+\n",
      "|VendorID|tpep_pickup_datetime|tpep_dropoff_datetime|passenger_count|trip_distance|RatecodeID|store_and_fwd_flag|PULocationID|DOLocationID|payment_type|fare_amount|extra|mta_tax|tip_amount|tolls_amount|improvement_surcharge|total_amount|congestion_surcharge|airport_fee|\n",
      "+--------+--------------------+---------------------+---------------+-------------+----------+------------------+------------+------------+------------+-----------+-----+-------+----------+------------+---------------------+------------+--------------------+-----------+\n",
      "|       1|2022-10-01T05:33:...| 2022-10-01T05:48:...|            1.0|          1.7|       1.0|                 N|         249|         107|           1|        9.5|  3.0|    0.5|      2.65|         0.0|                  0.3|       15.95|                 2.5|        0.0|\n",
      "|       2|2022-10-01T05:44:...| 2022-10-01T05:49:...|            2.0|         0.72|       1.0|                 N|         151|         238|           2|        5.5|  0.5|    0.5|       0.0|         0.0|                  0.3|         9.3|                 2.5|        0.0|\n",
      "|       2|2022-10-01T05:57:...| 2022-10-01T06:07:...|            1.0|         1.74|       1.0|                 N|         238|         166|           1|        9.0|  0.5|    0.5|      2.06|         0.0|                  0.3|       12.36|                 0.0|        0.0|\n",
      "|       1|2022-10-01T06:02:...| 2022-10-01T06:08:...|            0.0|          1.3|       1.0|                 N|         142|         239|           1|        6.5|  3.0|    0.5|      2.05|         0.0|                  0.3|       12.35|                 2.5|        0.0|\n",
      "|       1|2022-10-01T06:14:...| 2022-10-01T06:20:...|            0.0|          1.0|       1.0|                 N|         238|         166|           1|        6.0|  0.5|    0.5|       1.8|         0.0|                  0.3|         9.1|                 0.0|        0.0|\n",
      "|       1|2022-10-01T05:52:...| 2022-10-01T06:22:...|            1.0|          6.8|       1.0|                 Y|         186|          41|           2|       25.5|  3.0|    0.5|       0.0|         0.0|                  0.3|        29.3|                 2.5|        0.0|\n",
      "|       2|2022-10-01T06:03:...| 2022-10-01T06:14:...|            3.0|         1.88|       1.0|                 N|         162|         145|           2|       10.5|  0.5|    0.5|       0.0|         0.0|                  0.3|        14.3|                 2.5|        0.0|\n",
      "|       1|2022-10-01T05:32:...| 2022-10-01T06:20:...|            1.0|         12.2|       1.0|                 N|         100|          22|           1|       41.0|  3.0|    0.5|       3.0|         0.0|                  0.3|        47.8|                 2.5|        0.0|\n",
      "|       2|2022-10-01T05:36:...| 2022-10-01T05:54:...|            1.0|         7.79|       1.0|                 N|         138|         112|           1|       23.5|  0.5|    0.5|      4.96|         0.0|                  0.3|       31.01|                 0.0|       1.25|\n",
      "|       2|2022-10-01T05:59:...| 2022-10-01T06:13:...|            1.0|         4.72|       1.0|                 N|         145|          75|           1|       14.5|  0.5|    0.5|       1.5|         0.0|                  0.3|        19.8|                 2.5|        0.0|\n",
      "|       1|2022-10-01T05:31:...| 2022-10-01T05:50:...|            1.0|          8.8|       1.0|                 N|         138|         236|           1|       26.0| 4.25|    0.5|      5.64|        6.55|                  0.3|       43.24|                 2.5|       1.25|\n",
      "|       1|2022-10-01T05:57:...| 2022-10-01T06:29:...|            1.0|          8.6|       1.0|                 N|         140|          36|           1|       29.5|  3.0|    0.5|       6.0|         0.0|                  0.3|        39.3|                 2.5|        0.0|\n",
      "|       1|2022-10-01T05:35:...| 2022-10-01T06:05:...|            4.0|         12.0|       1.0|                 N|          70|         230|           2|       36.5|  3.0|    0.5|       0.0|        6.55|                  0.3|       46.85|                 2.5|        0.0|\n",
      "|       1|2022-10-01T06:08:...| 2022-10-01T06:18:...|            2.0|          1.4|       1.0|                 N|         230|          68|           1|        8.5|  3.0|    0.5|      3.05|         0.0|                  0.3|       15.35|                 2.5|        0.0|\n",
      "|       2|2022-10-01T05:54:...| 2022-10-01T06:00:...|            1.0|         0.76|       1.0|                 N|          79|         113|           1|        5.5|  0.5|    0.5|      0.93|         0.0|                  0.3|       10.23|                 2.5|        0.0|\n",
      "|       2|2022-10-01T06:02:...| 2022-10-01T06:28:...|            1.0|          7.8|       1.0|                 N|         113|         116|           1|       26.5|  0.5|    0.5|      6.06|         0.0|                  0.3|       36.36|                 2.5|        0.0|\n",
      "|       2|2022-10-01T05:47:...| 2022-10-01T06:00:...|            2.0|          2.9|       1.0|                 N|          13|         249|           1|       12.0|  0.5|    0.5|       2.8|         0.0|                  0.3|        18.6|                 2.5|        0.0|\n",
      "|       2|2022-10-01T06:02:...| 2022-10-01T06:14:...|            1.0|         1.71|       1.0|                 N|         249|          79|           1|        9.0|  0.5|    0.5|      2.56|         0.0|                  0.3|       15.36|                 2.5|        0.0|\n",
      "|       2|2022-10-01T05:39:...| 2022-10-01T05:51:...|            1.0|          2.3|       1.0|                 N|          48|         249|           1|       10.0|  0.5|    0.5|      2.76|         0.0|                  0.3|       16.56|                 2.5|        0.0|\n",
      "|       2|2022-10-01T05:52:...| 2022-10-01T06:03:...|            2.0|         1.67|       1.0|                 N|         249|         224|           1|        8.5|  0.5|    0.5|      2.46|         0.0|                  0.3|       14.76|                 2.5|        0.0|\n",
      "+--------+--------------------+---------------------+---------------+-------------+----------+------------------+------------+------------+------------+-----------+-----+-------+----------+------------+---------------------+------------+--------------------+-----------+\n",
      "only showing top 20 rows\n",
      "\n"
     ]
    }
   ],
   "source": [
    "yellow_taxis_df.show()"
   ]
  },
  {
   "cell_type": "code",
   "execution_count": 42,
   "id": "b4af0f6a-f920-4065-9440-2c3b4671f807",
   "metadata": {},
   "outputs": [
    {
     "name": "stdout",
     "output_type": "stream",
     "text": [
      "root\n",
      " |-- VendorID: string (nullable = true)\n",
      " |-- tpep_pickup_datetime: string (nullable = true)\n",
      " |-- tpep_dropoff_datetime: string (nullable = true)\n",
      " |-- passenger_count: string (nullable = true)\n",
      " |-- trip_distance: string (nullable = true)\n",
      " |-- RatecodeID: string (nullable = true)\n",
      " |-- store_and_fwd_flag: string (nullable = true)\n",
      " |-- PULocationID: string (nullable = true)\n",
      " |-- DOLocationID: string (nullable = true)\n",
      " |-- payment_type: string (nullable = true)\n",
      " |-- fare_amount: string (nullable = true)\n",
      " |-- extra: string (nullable = true)\n",
      " |-- mta_tax: string (nullable = true)\n",
      " |-- tip_amount: string (nullable = true)\n",
      " |-- tolls_amount: string (nullable = true)\n",
      " |-- improvement_surcharge: string (nullable = true)\n",
      " |-- total_amount: string (nullable = true)\n",
      " |-- congestion_surcharge: string (nullable = true)\n",
      " |-- airport_fee: string (nullable = true)\n",
      "\n"
     ]
    }
   ],
   "source": [
    "yellow_taxis_df.printSchema()"
   ]
  },
  {
   "cell_type": "code",
   "execution_count": 45,
   "id": "f64f5d1c-09e0-48a8-a896-77d4a6ef5ca5",
   "metadata": {},
   "outputs": [],
   "source": [
    "green_taxi_df = (\n",
    "    spark.read.option(\"header\", \"true\").option(\"delimiter\", \"\\t\").csv(\"GreenTaxis_202210.csv\")\n",
    ")"
   ]
  },
  {
   "cell_type": "code",
   "execution_count": 46,
   "id": "bf9639c1-45c3-4376-978b-9e55f09f1bd3",
   "metadata": {},
   "outputs": [
    {
     "name": "stdout",
     "output_type": "stream",
     "text": [
      "+--------+--------------------+---------------------+---------------+-------------+----------+------------------+------------+------------+------------+-----------+-----+-------+----------+------------+---------------------+------------+--------------------+-----------+\n",
      "|VendorId|lpep_pickup_datetime|lpep_dropoff_datetime|passenger_count|trip_distance|RatecodeID|store_and_fwd_flag|PULocationID|DOLocationID|payment_type|fare_amount|extra|mta_tax|tip_amount|tolls_amount|improvement_surcharge|total_amount|congestion_surcharge|airport_fee|\n",
      "+--------+--------------------+---------------------+---------------+-------------+----------+------------------+------------+------------+------------+-----------+-----+-------+----------+------------+---------------------+------------+--------------------+-----------+\n",
      "|       2|2022-10-01T06:08:...| 2022-10-01T06:21:...|            1.0|         2.47|       1.0|                 N|         256|         225|         1.0|       11.5|  0.5|    0.5|      2.56|         0.0|                  0.3|       15.36|                 0.0|        0.0|\n",
      "|       2|2022-10-01T06:36:...| 2022-10-01T06:42:...|            1.0|         1.96|       1.0|                 N|         166|         152|         1.0|        7.5|  0.5|    0.5|       2.2|         0.0|                  0.3|        11.0|                 0.0|        0.0|\n",
      "|       2|2022-10-01T06:01:...| 2022-10-01T06:15:...|            1.0|         2.43|       1.0|                 N|          74|         262|         1.0|       11.5|  0.5|    0.5|       2.0|         0.0|                  0.3|       17.55|                2.75|        0.0|\n",
      "|       2|2022-10-01T06:21:...| 2022-10-01T06:28:...|            1.0|         2.25|       1.0|                 N|          74|          42|         1.0|        8.5|  0.5|    0.5|      1.96|         0.0|                  0.3|       11.76|                 0.0|        0.0|\n",
      "|       1|2022-10-01T06:12:...| 2022-10-01T06:24:...|            1.0|          0.0|       1.0|                 N|          74|         247|         1.0|       17.2|  0.0|    0.5|       0.0|         0.0|                  0.3|        18.0|                 0.0|        0.0|\n",
      "|       2|2022-10-01T05:55:...| 2022-10-01T06:05:...|            2.0|          4.5|       1.0|                 N|         134|          57|         2.0|       14.0|  0.5|    0.5|       0.0|         0.0|                  0.3|        15.3|                 0.0|        0.0|\n",
      "|       2|2022-10-01T05:48:...| 2022-10-01T06:00:...|            1.0|         1.65|       1.0|                 N|          83|           7|         1.0|        9.5|  0.5|    0.5|      1.62|         0.0|                  0.3|       12.42|                 0.0|        0.0|\n",
      "|       2|2022-10-01T06:06:...| 2022-10-01T06:22:...|            1.0|          3.0|       1.0|                 N|          33|         125|         1.0|       13.5|  0.5|    0.5|      3.51|         0.0|                  0.3|       21.06|                2.75|        0.0|\n",
      "|       2|2022-10-01T05:40:...| 2022-10-01T05:58:...|            1.0|         3.92|       5.0|                 N|          95|         216|         2.0|       25.0|  0.0|    0.0|       0.0|         0.0|                  0.3|        25.3|                 0.0|        0.0|\n",
      "|       2|2022-10-01T05:52:...| 2022-10-01T06:07:...|            1.0|         2.94|       5.0|                 N|         130|         216|         2.0|       20.0|  0.0|    0.0|       0.0|         0.0|                  0.3|        20.3|                 0.0|        0.0|\n",
      "|       2|2022-10-01T06:05:...| 2022-10-01T06:21:...|            2.0|         6.48|       1.0|                 N|         116|          68|         1.0|       20.5|  0.5|    0.5|      4.91|         0.0|                  0.3|       29.46|                2.75|        0.0|\n",
      "|       2|2022-10-01T05:48:...| 2022-10-01T05:53:...|            1.0|         0.74|       1.0|                 N|         166|          41|         1.0|        5.0|  0.5|    0.5|      1.89|         0.0|                  0.3|        8.19|                 0.0|        0.0|\n",
      "|       2|2022-10-01T06:08:...| 2022-10-01T06:14:...|            1.0|         1.02|       1.0|                 N|          42|          42|         2.0|        6.0|  0.5|    0.5|       0.0|         0.0|                  0.3|         7.3|                 0.0|        0.0|\n",
      "|       2|2022-10-01T05:36:...| 2022-10-01T05:41:...|            3.0|         0.64|       1.0|                 N|         255|         255|         1.0|        5.0|  0.5|    0.5|      1.26|         0.0|                  0.3|       10.06|                 0.0|        0.0|\n",
      "|       2|2022-10-01T06:11:...| 2022-10-01T06:12:...|            1.0|          0.0|       1.0|                 N|         260|         260|         2.0|        2.5|  0.5|    0.5|       0.0|         0.0|                  0.3|         3.8|                 0.0|        0.0|\n",
      "|       2|2022-10-01T06:21:...| 2022-10-01T06:33:...|            1.0|         1.06|       1.0|                 N|         260|         260|         1.0|        9.5|  0.5|    0.5|      10.0|         0.0|                  0.3|        20.8|                 0.0|        0.0|\n",
      "|       2|2022-10-01T05:36:...| 2022-10-01T05:45:...|            1.0|         1.69|       1.0|                 N|           7|         223|         1.0|        7.5|  0.5|    0.5|      1.76|         0.0|                  0.3|       10.56|                 0.0|        0.0|\n",
      "|       2|2022-10-01T06:31:...| 2022-10-01T06:52:...|            1.0|         6.03|       1.0|                 N|          75|         235|         1.0|       19.5|  0.5|    0.5|       6.0|         0.0|                  0.3|        26.8|                 0.0|        0.0|\n",
      "|       2|2022-10-01T06:09:...| 2022-10-01T06:23:...|            1.0|         3.61|       1.0|                 N|          74|          69|         1.0|       13.5|  0.5|    0.5|      2.96|         0.0|                  0.3|       17.76|                 0.0|        0.0|\n",
      "|       2|2022-10-01T05:57:...| 2022-10-01T06:07:...|            1.0|         2.74|       1.0|                 N|          75|          42|         1.0|       10.5|  0.5|    0.5|       0.0|         0.0|                  0.3|        11.8|                 0.0|        0.0|\n",
      "+--------+--------------------+---------------------+---------------+-------------+----------+------------------+------------+------------+------------+-----------+-----+-------+----------+------------+---------------------+------------+--------------------+-----------+\n",
      "only showing top 20 rows\n",
      "\n"
     ]
    }
   ],
   "source": [
    "green_taxi_df.show()"
   ]
  },
  {
   "cell_type": "code",
   "execution_count": 47,
   "id": "27cc3c6c-8273-414d-afbd-196eac0b9feb",
   "metadata": {},
   "outputs": [],
   "source": [
    "paymen_types_df = (\n",
    "    spark.read.json(\"PaymentTypes.json\")\n",
    ")"
   ]
  },
  {
   "cell_type": "code",
   "execution_count": 49,
   "id": "7b86831b-db69-47f6-b1a0-6aaba64fbfb5",
   "metadata": {},
   "outputs": [
    {
     "name": "stdout",
     "output_type": "stream",
     "text": [
      "+-----------+-------------+\n",
      "|PaymentType|PaymentTypeID|\n",
      "+-----------+-------------+\n",
      "|Credit Card|            1|\n",
      "|       Cash|            2|\n",
      "|  No Charge|            3|\n",
      "|    Dispute|            4|\n",
      "|    Unknown|            5|\n",
      "|Voided Trip|            6|\n",
      "+-----------+-------------+\n",
      "\n"
     ]
    }
   ],
   "source": [
    "paymen_types_df.show()"
   ]
  },
  {
   "cell_type": "code",
   "execution_count": 50,
   "id": "f54db304-e588-4b17-8488-be9e8d885d22",
   "metadata": {},
   "outputs": [
    {
     "name": "stderr",
     "output_type": "stream",
     "text": [
      "UsageError: Missing filename.\n"
     ]
    }
   ],
   "source": [
    "less"
   ]
  },
  {
   "cell_type": "code",
   "execution_count": 51,
   "id": "de472a0f-2413-44c0-829e-deab96e00b47",
   "metadata": {},
   "outputs": [
    {
     "name": "stdout",
     "output_type": "stream",
     "text": [
      " dataframes.ipynb           PaymentTypes.json        YellowTaxis_202210.zip\n",
      " GreenTaxis_202210.csv      quickstart_df.ipynb\n",
      "'m5.1 - DataFrames.ipynb'   YellowTaxis_202210.csv\n"
     ]
    }
   ],
   "source": [
    "ls"
   ]
  },
  {
   "cell_type": "code",
   "execution_count": 52,
   "id": "611aac06-20b5-4034-a546-605f89f3343e",
   "metadata": {},
   "outputs": [
    {
     "name": "stdout",
     "output_type": "stream",
     "text": [
      "{\"PaymentTypeID\":1,\"PaymentType\":\"Credit Card\"}\n",
      "{\"PaymentTypeID\":2,\"PaymentType\":\"Cash\"}\n",
      "{\"PaymentTypeID\":3,\"PaymentType\":\"No Charge\"}\n",
      "{\"PaymentTypeID\":4,\"PaymentType\":\"Dispute\"}\n",
      "{\"PaymentTypeID\":5,\"PaymentType\":\"Unknown\"}\n",
      "{\"PaymentTypeID\":6,\"PaymentType\":\"Voided Trip\"}\n"
     ]
    }
   ],
   "source": [
    "cat PaymentTypes.json"
   ]
  },
  {
   "cell_type": "code",
   "execution_count": 53,
   "id": "41b2b3e3-7f6b-4a08-855e-8bd8b73e7eb2",
   "metadata": {},
   "outputs": [
    {
     "data": {
      "text/plain": [
       "{\"PaymentTypeID\":1,\"PaymentType\":\"Credit Card\"}\n",
       "{\"PaymentTypeID\":2,\"PaymentType\":\"Cash\"}\n",
       "{\"PaymentTypeID\":3,\"PaymentType\":\"No Charge\"}\n",
       "{\"PaymentTypeID\":4,\"PaymentType\":\"Dispute\"}\n",
       "{\"PaymentTypeID\":5,\"PaymentType\":\"Unknown\"}\n",
       "{\"PaymentTypeID\":6,\"PaymentType\":\"Voided Trip\"}\n"
      ]
     },
     "metadata": {},
     "output_type": "display_data"
    }
   ],
   "source": [
    "less PaymentTypes.json"
   ]
  },
  {
   "cell_type": "code",
   "execution_count": 65,
   "id": "64805dcb-3a93-435a-a4c9-6ea0c689a71c",
   "metadata": {},
   "outputs": [
    {
     "name": "stderr",
     "output_type": "stream",
     "text": [
      "                                                                                \r"
     ]
    }
   ],
   "source": [
    "yellow_taxis_df = (\n",
    "    spark\n",
    "    .read\n",
    "    .option(\"header\", \"true\")\n",
    "    .option(\"inferSchema\", \"true\")\n",
    "    .csv(\"YellowTaxis_202210.csv\")\n",
    ")"
   ]
  },
  {
   "cell_type": "code",
   "execution_count": 66,
   "id": "fc7ce301-cda4-4734-bd5e-712b753ccfa1",
   "metadata": {},
   "outputs": [
    {
     "name": "stdout",
     "output_type": "stream",
     "text": [
      "root\n",
      " |-- VendorID: integer (nullable = true)\n",
      " |-- tpep_pickup_datetime: timestamp (nullable = true)\n",
      " |-- tpep_dropoff_datetime: timestamp (nullable = true)\n",
      " |-- passenger_count: double (nullable = true)\n",
      " |-- trip_distance: double (nullable = true)\n",
      " |-- RatecodeID: double (nullable = true)\n",
      " |-- store_and_fwd_flag: string (nullable = true)\n",
      " |-- PULocationID: integer (nullable = true)\n",
      " |-- DOLocationID: integer (nullable = true)\n",
      " |-- payment_type: integer (nullable = true)\n",
      " |-- fare_amount: double (nullable = true)\n",
      " |-- extra: double (nullable = true)\n",
      " |-- mta_tax: double (nullable = true)\n",
      " |-- tip_amount: double (nullable = true)\n",
      " |-- tolls_amount: double (nullable = true)\n",
      " |-- improvement_surcharge: double (nullable = true)\n",
      " |-- total_amount: double (nullable = true)\n",
      " |-- congestion_surcharge: double (nullable = true)\n",
      " |-- airport_fee: double (nullable = true)\n",
      "\n"
     ]
    }
   ],
   "source": [
    "yellow_taxis_df.printSchema()"
   ]
  },
  {
   "cell_type": "code",
   "execution_count": null,
   "id": "c1e42c67-ebd5-4783-ac6d-8ced0fbba32a",
   "metadata": {},
   "outputs": [],
   "source": []
  }
 ],
 "metadata": {
  "kernelspec": {
   "display_name": "Python 3 (ipykernel)",
   "language": "python",
   "name": "python3"
  },
  "language_info": {
   "codemirror_mode": {
    "name": "ipython",
    "version": 3
   },
   "file_extension": ".py",
   "mimetype": "text/x-python",
   "name": "python",
   "nbconvert_exporter": "python",
   "pygments_lexer": "ipython3",
   "version": "3.10.12"
  }
 },
 "nbformat": 4,
 "nbformat_minor": 5
}
