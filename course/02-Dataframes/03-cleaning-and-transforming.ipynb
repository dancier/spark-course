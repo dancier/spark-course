{
 "cells": [
  {
   "cell_type": "markdown",
   "id": "c7c14a1e-c4ff-4ba5-b64a-172eb64bbc09",
   "metadata": {},
   "source": [
    "# Analysieren und Bereinigen von Daten"
   ]
  },
  {
   "cell_type": "markdown",
   "id": "f66b929a-a1eb-4745-991b-941f805561e3",
   "metadata": {},
   "source": [
    "Worauf prüfen wir?\n",
    "\n",
    "* **Komplettheit** wir können entsprechende Einträge entfernen oder die Werte angemessen auffüllen\n",
    "* **Einzigartigkeit** entfernen von Duplikaten\n",
    "* **Aktualität** Zeiträume eingrenzen\n",
    "* **Akuratheit** entfernen von korrupten Daten\n",
    "  "
   ]
  },
  {
   "cell_type": "code",
   "execution_count": 2,
   "id": "beb9ad8a-a579-4ab8-823c-88366201d885",
   "metadata": {
    "tags": []
   },
   "outputs": [
    {
     "data": {
      "text/html": [
       "<style>pre { white-space: pre !important; }</style>"
      ],
      "text/plain": [
       "<IPython.core.display.HTML object>"
      ]
     },
     "metadata": {},
     "output_type": "display_data"
    },
    {
     "data": {
      "text/html": [
       "\n",
       "            <div>\n",
       "                <p><b>SparkSession - in-memory</b></p>\n",
       "                \n",
       "        <div>\n",
       "            <p><b>SparkContext</b></p>\n",
       "\n",
       "            <p><a href=\"http://pupil-a.bin-ich-tot.de:4040\">Spark UI</a></p>\n",
       "\n",
       "            <dl>\n",
       "              <dt>Version</dt>\n",
       "                <dd><code>v3.4.1</code></dd>\n",
       "              <dt>Master</dt>\n",
       "                <dd><code>local[4]</code></dd>\n",
       "              <dt>AppName</dt>\n",
       "                <dd><code>analyse</code></dd>\n",
       "            </dl>\n",
       "        </div>\n",
       "        \n",
       "            </div>\n",
       "        "
      ],
      "text/plain": [
       "<pyspark.sql.session.SparkSession at 0x7f88ed079450>"
      ]
     },
     "execution_count": 2,
     "metadata": {},
     "output_type": "execute_result"
    }
   ],
   "source": [
    "import findspark\n",
    "findspark.init()\n",
    "findspark.find()\n",
    "\n",
    "from pyspark.sql import SparkSession\n",
    "from pyspark.sql.functions import * \n",
    "from pyspark.sql.types import *\n",
    "\n",
    "import schemata\n",
    "\n",
    "spark = (\n",
    "    SparkSession\n",
    "    .builder\n",
    "    .config(\"spark.dynamicAllocation.enabled\", \"false\")\n",
    "    .config(\"spark.sql.adaptive.enabled\", \"false\")\n",
    "    .appName(\"analyse\")\n",
    "    .master(\"local[4]\")\n",
    "    .getOrCreate()\n",
    ")\n",
    "sc = spark.sparkContext\n",
    "\n",
    "from IPython.display import *\n",
    "display(HTML(\"<style>pre { white-space: pre !important; }</style>\"))\n",
    "\n",
    "spark"
   ]
  },
  {
   "cell_type": "code",
   "execution_count": 3,
   "id": "8e5f252e-5c1d-4f13-8bf0-25c3e602d3e1",
   "metadata": {
    "tags": []
   },
   "outputs": [
    {
     "name": "stdout",
     "output_type": "stream",
     "text": [
      "root\n",
      " |-- VendorId: integer (nullable = true)\n",
      " |-- tpep_pickup_datetime: timestamp (nullable = true)\n",
      " |-- tpep_dropoff_datetime: timestamp (nullable = true)\n",
      " |-- passenger_count: double (nullable = true)\n",
      " |-- trip_distance: double (nullable = true)\n",
      " |-- RatecodeID: double (nullable = true)\n",
      " |-- store_and_fwd_flag: string (nullable = true)\n",
      " |-- PULocationID: integer (nullable = true)\n",
      " |-- DOLocationID: integer (nullable = true)\n",
      " |-- payment_type: integer (nullable = true)\n",
      " |-- fare_amount: double (nullable = true)\n",
      " |-- extra: double (nullable = true)\n",
      " |-- mta_tax: double (nullable = true)\n",
      " |-- tip_amount: double (nullable = true)\n",
      " |-- tolls_amount: double (nullable = true)\n",
      " |-- improvement_surcharge: double (nullable = true)\n",
      " |-- total_amount: double (nullable = true)\n",
      " |-- congestion_surcharge: double (nullable = true)\n",
      " |-- airport_fee: double (nullable = true)\n",
      "\n"
     ]
    }
   ],
   "source": [
    "yellow_taxi_df = (\n",
    "    spark\n",
    "        .read\n",
    "        .option(\"header\", True)\n",
    "        .schema(schemata.yellow_taxi_schema)\n",
    "        .csv(\"YellowTaxis_202210.csv.gz\")\n",
    ")\n",
    "yellow_taxi_df.printSchema()"
   ]
  },
  {
   "cell_type": "markdown",
   "id": "57910e92-84bd-413a-a32d-96231f1e8e3c",
   "metadata": {},
   "source": [
    "Dateframes haben eine nützliche Methode, mit der wir uns einen guten Überblick über den Wertebereich von Spalten verschaffen können.\n",
    "\n",
    "[Api-Doc](https://spark.apache.org/docs/latest/api/python/reference/pyspark.sql/api/pyspark.sql.DataFrame.describe.html#pyspark.sql.DataFrame.describe)"
   ]
  },
  {
   "cell_type": "code",
   "execution_count": 5,
   "id": "ce234c76-9a91-4dc0-820e-41112d37d489",
   "metadata": {
    "tags": []
   },
   "outputs": [
    {
     "name": "stderr",
     "output_type": "stream",
     "text": [
      "[Stage 2:>                                                          (0 + 1) / 1]\r"
     ]
    },
    {
     "name": "stdout",
     "output_type": "stream",
     "text": [
      "+-------+------------------+-----------------+\n",
      "|summary|   passenger_count|    trip_distance|\n",
      "+-------+------------------+-----------------+\n",
      "|  count|           3542392|          3675412|\n",
      "|   mean|1.3846934500755421|6.206976298167039|\n",
      "| stddev|0.9302303297406955|640.8236808320255|\n",
      "|    min|               0.0|              0.0|\n",
      "|    max|               9.0|        389678.46|\n",
      "+-------+------------------+-----------------+\n",
      "\n"
     ]
    },
    {
     "name": "stderr",
     "output_type": "stream",
     "text": [
      "                                                                                \r"
     ]
    }
   ],
   "source": [
    "yellow_taxi_analyzed_df = yellow_taxi_df.describe(\"passenger_count\", \"trip_distance\")\n",
    "yellow_taxi_analyzed_df.show()"
   ]
  },
  {
   "cell_type": "markdown",
   "id": "d45888ec-2bea-4e1a-b4b4-6c7c71c81e1a",
   "metadata": {},
   "source": [
    "Wir haben hier schon ein paar Hinweise auf Datenfehler:\n",
    " \n",
    " * 0 Passagiere sind wohl ein Fehler\n",
    " * 9 Gäste sind verboten und damit auch ein Fehler\n"
   ]
  },
  {
   "cell_type": "markdown",
   "id": "c91dafc8-e9a0-4987-a230-1fb25c8e3353",
   "metadata": {},
   "source": [
    "## Ausfiltern nicht akkurater Daten"
   ]
  },
  {
   "cell_type": "code",
   "execution_count": 14,
   "id": "f28a3c79-58a5-4f9b-beb2-89d3295fe7e5",
   "metadata": {
    "tags": []
   },
   "outputs": [
    {
     "name": "stderr",
     "output_type": "stream",
     "text": [
      "                                                                                \r"
     ]
    },
    {
     "name": "stdout",
     "output_type": "stream",
     "text": [
      "Vor dem Filtern: 3421416\n"
     ]
    },
    {
     "name": "stderr",
     "output_type": "stream",
     "text": [
      "[Stage 27:>                                                         (0 + 1) / 1]\r"
     ]
    },
    {
     "name": "stdout",
     "output_type": "stream",
     "text": [
      "Nachdem Filtern: 3421416\n"
     ]
    },
    {
     "name": "stderr",
     "output_type": "stream",
     "text": [
      "                                                                                \r"
     ]
    }
   ],
   "source": [
    "print(\"Vor dem Filtern: \" + str(yellow_taxi_df.count()))\n",
    "yellow_taxi_df = (\n",
    "    yellow_taxi_df\n",
    "        .where(\"passenger_count > 0\")\n",
    "        .filter(col(\"trip_distance\") > 0.0)\n",
    ")\n",
    "print(\"Nachdem Filtern: \" + str(yellow_taxi_df.count()))"
   ]
  },
  {
   "cell_type": "markdown",
   "id": "c0e64350-b4f0-486b-8e3e-8857fc01fb4f",
   "metadata": {},
   "source": [
    "In Spark-UI checken (Predicate Pushdown, Dataframe SQL-Tab"
   ]
  },
  {
   "cell_type": "markdown",
   "id": "0c98c20f-6413-465a-8a0e-543add6e96ef",
   "metadata": {},
   "source": [
    "## Null filtern"
   ]
  },
  {
   "cell_type": "code",
   "execution_count": 15,
   "id": "4fb3f028-563d-47b7-a0b4-19f9c078f50e",
   "metadata": {
    "tags": []
   },
   "outputs": [
    {
     "name": "stderr",
     "output_type": "stream",
     "text": [
      "                                                                                \r"
     ]
    },
    {
     "name": "stdout",
     "output_type": "stream",
     "text": [
      "Vor dem Filtern: 3421416\n"
     ]
    },
    {
     "name": "stderr",
     "output_type": "stream",
     "text": [
      "[Stage 31:>                                                         (0 + 1) / 1]\r"
     ]
    },
    {
     "name": "stdout",
     "output_type": "stream",
     "text": [
      "Nach dem Filtern: 3421416\n"
     ]
    },
    {
     "name": "stderr",
     "output_type": "stream",
     "text": [
      "                                                                                \r"
     ]
    }
   ],
   "source": [
    "print(\"Vor dem Filtern: \" + str(yellow_taxi_df.count()))\n",
    "\n",
    "yellow_taxi_df = yellow_taxi_df.na.drop(\"all\") # all=all columns are null, any=with null in one column\n",
    "\n",
    "print(\"Nach dem Filtern: \" + str(yellow_taxi_df.count()))\n"
   ]
  },
  {
   "cell_type": "markdown",
   "id": "b647fb61-ff07-4abb-9c9f-1afed7dd926d",
   "metadata": {},
   "source": [
    "## Nullwerte mit anderen Werten auffüllen\n"
   ]
  },
  {
   "cell_type": "code",
   "execution_count": 16,
   "id": "69af17b6-aff6-4e29-ae27-46fb555557a5",
   "metadata": {
    "tags": []
   },
   "outputs": [],
   "source": [
    "default_value_map = {'payment_type': 5, 'RateCodeId': 1}\n",
    "\n",
    "yellow_taxi_df = yellow_taxi_df.na.fill(default_value_map)\n"
   ]
  },
  {
   "cell_type": "markdown",
   "id": "9c4966bc-5307-4f81-a2c7-72b3b8d9be05",
   "metadata": {},
   "source": [
    "## Duplikate entfernen"
   ]
  },
  {
   "cell_type": "code",
   "execution_count": 17,
   "id": "cf11a176-a398-4e0c-9dfa-7b3d0c5ac46e",
   "metadata": {
    "tags": []
   },
   "outputs": [
    {
     "name": "stderr",
     "output_type": "stream",
     "text": [
      "                                                                                \r"
     ]
    },
    {
     "name": "stdout",
     "output_type": "stream",
     "text": [
      "Vor der Operation: 3421416\n"
     ]
    },
    {
     "name": "stderr",
     "output_type": "stream",
     "text": [
      "[Stage 36:====================================================> (194 + 4) / 200]\r"
     ]
    },
    {
     "name": "stdout",
     "output_type": "stream",
     "text": [
      "Nach der Operation: 3421415\n"
     ]
    },
    {
     "name": "stderr",
     "output_type": "stream",
     "text": [
      "                                                                                \r"
     ]
    }
   ],
   "source": [
    "print(\"Vor der Operation: \" + str(yellow_taxi_df.count()))\n",
    "\n",
    "# Du kannst auch eine Liste von Spalten angeben, die für die Dublikatserkennung genutzt werden\n",
    "yellow_taxi_without_dup_df = yellow_taxi_df.drop_duplicates()\n",
    "\n",
    "print(\"Nach der Operation: \" + str(yellow_taxi_without_dup_df.count()))"
   ]
  },
  {
   "cell_type": "markdown",
   "id": "0c2df291-99f8-4bdb-a779-da6be6c5053a",
   "metadata": {},
   "source": [
    "## Beschränke Zeiträume"
   ]
  },
  {
   "cell_type": "code",
   "execution_count": 12,
   "id": "0a3f3cec-34d2-4247-99d4-356583354d66",
   "metadata": {
    "tags": []
   },
   "outputs": [
    {
     "name": "stdout",
     "output_type": "stream",
     "text": [
      "root\n",
      " |-- VendorId: integer (nullable = true)\n",
      " |-- tpep_pickup_datetime: timestamp (nullable = true)\n",
      " |-- tpep_dropoff_datetime: timestamp (nullable = true)\n",
      " |-- passenger_count: double (nullable = true)\n",
      " |-- trip_distance: double (nullable = true)\n",
      " |-- RatecodeID: double (nullable = false)\n",
      " |-- store_and_fwd_flag: string (nullable = true)\n",
      " |-- PULocationID: integer (nullable = true)\n",
      " |-- DOLocationID: integer (nullable = true)\n",
      " |-- payment_type: integer (nullable = false)\n",
      " |-- fare_amount: double (nullable = true)\n",
      " |-- extra: double (nullable = true)\n",
      " |-- mta_tax: double (nullable = true)\n",
      " |-- tip_amount: double (nullable = true)\n",
      " |-- tolls_amount: double (nullable = true)\n",
      " |-- improvement_surcharge: double (nullable = true)\n",
      " |-- total_amount: double (nullable = true)\n",
      " |-- congestion_surcharge: double (nullable = true)\n",
      " |-- airport_fee: double (nullable = true)\n",
      "\n"
     ]
    }
   ],
   "source": [
    "# wir haben auch Timestamp-Datentypen\n",
    "yellow_taxi_df.printSchema()"
   ]
  },
  {
   "cell_type": "code",
   "execution_count": 18,
   "id": "0f78e50e-647d-46d9-a22b-8eabdc1fa8b1",
   "metadata": {
    "tags": []
   },
   "outputs": [
    {
     "name": "stderr",
     "output_type": "stream",
     "text": [
      "                                                                                \r"
     ]
    },
    {
     "name": "stdout",
     "output_type": "stream",
     "text": [
      "Vor dem Einschränken: 3421416\n"
     ]
    },
    {
     "name": "stderr",
     "output_type": "stream",
     "text": [
      "[Stage 40:>                                                         (0 + 1) / 1]\r"
     ]
    },
    {
     "name": "stdout",
     "output_type": "stream",
     "text": [
      "Nach dem Einschränken: 3421416\n"
     ]
    },
    {
     "name": "stderr",
     "output_type": "stream",
     "text": [
      "                                                                                \r"
     ]
    }
   ],
   "source": [
    "print(\"Vor dem Einschränken: \" + str(yellow_taxi_df.count()))\n",
    "\n",
    "yellow_taxi_df = yellow_taxi_df.where(\"tpep_pickup_datetime >= '2022-10-01' AND tpep_dropoff_datetime < '2022-11-01'\")\n",
    "\n",
    "print (\"Nach dem Einschränken: \" + str(yellow_taxi_df.count()))"
   ]
  },
  {
   "cell_type": "markdown",
   "id": "b92b8128-93f9-4ee3-86b0-f95bd5d92cae",
   "metadata": {},
   "source": [
    "## Alles zusammen machen\n"
   ]
  },
  {
   "cell_type": "code",
   "execution_count": 19,
   "id": "2ca950d1-9802-4a69-b797-bfd303a43ac2",
   "metadata": {
    "tags": []
   },
   "outputs": [
    {
     "name": "stderr",
     "output_type": "stream",
     "text": [
      "                                                                                \r"
     ]
    },
    {
     "name": "stdout",
     "output_type": "stream",
     "text": [
      "Vor dem Filtern: 3675412\n"
     ]
    },
    {
     "name": "stderr",
     "output_type": "stream",
     "text": [
      "[Stage 45:===================================================>  (189 + 4) / 200]\r"
     ]
    },
    {
     "name": "stdout",
     "output_type": "stream",
     "text": [
      "Nach dem Filtern: + 3421415\n"
     ]
    },
    {
     "name": "stderr",
     "output_type": "stream",
     "text": [
      "                                                                                \r"
     ]
    }
   ],
   "source": [
    "default_value_map = {'payment_type': 5, 'RateCodeId': 1}\n",
    "\n",
    "yellow_taxi_df = spark.read.option(\"header\", True).schema(schemata.yellow_taxi_schema).csv(\"YellowTaxis_202210.csv.gz\")\n",
    "\n",
    "print(\"Vor dem Filtern: \" + str(yellow_taxi_df.count()))\n",
    "\n",
    "yellow_taxi_df = (\n",
    "    yellow_taxi_df\n",
    "    .where(\"passenger_count > 0\")\n",
    "    .filter(col(\"trip_distance\") > 0.0)\n",
    "    .na.drop(\"all\")\n",
    "    .na.fill(default_value_map)\n",
    "    .drop_duplicates()\n",
    "    .where(\"tpep_pickup_datetime >= '2022-10-01' AND tpep_dropoff_datetime < '2022-11-01'\")\n",
    ")\n",
    "\n",
    "print(\"Nach dem Filtern: + \" + str(yellow_taxi_df.count()))\n"
   ]
  },
  {
   "cell_type": "markdown",
   "id": "26e17a37-dd1b-4d6a-8cd2-c0f242e568b2",
   "metadata": {},
   "source": [
    "# Transformieren"
   ]
  },
  {
   "cell_type": "markdown",
   "id": "74b09b5d-7b3e-4bdc-9703-a9692495abbd",
   "metadata": {},
   "source": [
    "## Spalten limitieren\n"
   ]
  },
  {
   "cell_type": "code",
   "execution_count": 10,
   "id": "98adb257-02c9-416d-bf9f-f1b7005dcdc3",
   "metadata": {},
   "outputs": [
    {
     "name": "stdout",
     "output_type": "stream",
     "text": [
      "root\n",
      " |-- VendorId: integer (nullable = true)\n",
      " |-- tpep_pickup_datetime: timestamp (nullable = true)\n",
      " |-- tpep_dropoff_datetime: timestamp (nullable = true)\n",
      " |-- passenger_count: double (nullable = true)\n",
      " |-- trip_distance: double (nullable = true)\n",
      " |-- RatecodeID: double (nullable = false)\n",
      " |-- store_and_fwd_flag: string (nullable = true)\n",
      " |-- PULocationID: integer (nullable = true)\n",
      " |-- DOLocationID: integer (nullable = true)\n",
      " |-- payment_type: integer (nullable = false)\n",
      " |-- fare_amount: double (nullable = true)\n",
      " |-- extra: double (nullable = true)\n",
      " |-- mta_tax: double (nullable = true)\n",
      " |-- tip_amount: double (nullable = true)\n",
      " |-- tolls_amount: double (nullable = true)\n",
      " |-- improvement_surcharge: double (nullable = true)\n",
      " |-- total_amount: double (nullable = true)\n",
      " |-- congestion_surcharge: double (nullable = true)\n",
      " |-- airport_fee: double (nullable = true)\n",
      "\n"
     ]
    }
   ],
   "source": [
    "yellow_taxi_df.printSchema()"
   ]
  },
  {
   "cell_type": "code",
   "execution_count": 20,
   "id": "fad325eb-8de6-4fb2-b7ce-c82e4e5c7aeb",
   "metadata": {
    "tags": []
   },
   "outputs": [
    {
     "name": "stdout",
     "output_type": "stream",
     "text": [
      "root\n",
      " |-- VendorID: integer (nullable = true)\n",
      " |-- passenger_count: integer (nullable = true)\n",
      " |-- TripDistance: double (nullable = true)\n",
      " |-- tpep_pickup_datetime: timestamp (nullable = true)\n",
      " |-- tpep_dropoff_datetime: timestamp (nullable = true)\n",
      " |-- PULocationID: integer (nullable = true)\n",
      " |-- DOLocationID: integer (nullable = true)\n",
      " |-- RatecodeID: double (nullable = false)\n",
      " |-- total_amount: double (nullable = true)\n",
      " |-- payment_type: integer (nullable = false)\n",
      "\n"
     ]
    }
   ],
   "source": [
    "yellow_taxi_df = (\n",
    "    yellow_taxi_df.select(\n",
    "        \"VendorID\",                                    # Spaltenname als Literal\n",
    "        col(\"passenger_count\").cast(IntegerType()),    # Spalte über die col funktion und mit Cast in einen Int überführen\n",
    "        column(\"trip_distance\").alias(\"TripDistance\"), # Auswählen und umbennen\n",
    "        yellow_taxi_df.tpep_pickup_datetime,           # als Attribute des Dataframe\n",
    "        \"tpep_dropoff_datetime\",\n",
    "        \"PULocationID\",\n",
    "        \"DOLocationID\",\n",
    "        \"RatecodeID\",\n",
    "        \"total_amount\",\n",
    "        \"payment_type\"\n",
    "        )\n",
    ")\n",
    "yellow_taxi_df.printSchema()"
   ]
  },
  {
   "cell_type": "markdown",
   "id": "3502deff-9fe5-4886-ab9d-fc02b6df201c",
   "metadata": {},
   "source": [
    "Das schränkt auch die Größe des Dataframes ein und macht die Verarbeitung so schneller."
   ]
  },
  {
   "cell_type": "markdown",
   "id": "ca4326f6-728c-4fc8-bc78-80db1d7c6804",
   "metadata": {},
   "source": [
    "## Spalten umbenennen"
   ]
  },
  {
   "cell_type": "code",
   "execution_count": 21,
   "id": "a096644e-b91f-43cc-93ee-6eceddd7dbbe",
   "metadata": {
    "tags": []
   },
   "outputs": [
    {
     "name": "stdout",
     "output_type": "stream",
     "text": [
      "root\n",
      " |-- VendorID: integer (nullable = true)\n",
      " |-- PassengerCount: integer (nullable = true)\n",
      " |-- TripDistance: double (nullable = true)\n",
      " |-- PickupTime: timestamp (nullable = true)\n",
      " |-- DropTime: timestamp (nullable = true)\n",
      " |-- PickupLocationId: integer (nullable = true)\n",
      " |-- DropLocationId: integer (nullable = true)\n",
      " |-- RatecodeID: double (nullable = false)\n",
      " |-- TotalAmount: double (nullable = true)\n",
      " |-- PaymentType: integer (nullable = false)\n",
      "\n"
     ]
    }
   ],
   "source": [
    "yellow_taxi_df = (\n",
    "    yellow_taxi_df\n",
    "        .withColumnRenamed(\"passenger_count\", \"PassengerCount\")\n",
    "        .withColumnRenamed(\"tpep_pickup_datetime\", \"PickupTime\")\n",
    "        .withColumnRenamed(\"tpep_dropoff_datetime\", \"DropTime\")\n",
    "        .withColumnRenamed(\"PULocationID\", \"PickupLocationId\")\n",
    "        .withColumnRenamed(\"DOLocationID\", \"DropLocationId\")\n",
    "        .withColumnRenamed(\"total_amount\", \"TotalAmount\")\n",
    "        .withColumnRenamed(\"payment_type\", \"PaymentType\")\n",
    ")\n",
    "yellow_taxi_df.printSchema()\n"
   ]
  },
  {
   "cell_type": "markdown",
   "id": "61bde2bf-b914-49d8-a888-920f82fdc64d",
   "metadata": {},
   "source": [
    "## Abgeleitete Spalten erzeugen"
   ]
  },
  {
   "cell_type": "code",
   "execution_count": 35,
   "id": "e6f1f0a8-63e0-4549-ba6c-1cd1b3d868e8",
   "metadata": {
    "tags": []
   },
   "outputs": [
    {
     "name": "stdout",
     "output_type": "stream",
     "text": [
      "root\n",
      " |-- VendorID: integer (nullable = true)\n",
      " |-- PassengerCount: integer (nullable = true)\n",
      " |-- TripDistance: double (nullable = true)\n",
      " |-- PickupTime: timestamp (nullable = true)\n",
      " |-- DropTime: timestamp (nullable = true)\n",
      " |-- PickupLocationId: integer (nullable = true)\n",
      " |-- DropLocationId: integer (nullable = true)\n",
      " |-- TotalAmount: double (nullable = true)\n",
      " |-- PaymentType: integer (nullable = false)\n",
      " |-- TripYear: integer (nullable = true)\n",
      " |-- TripMonth: integer (nullable = true)\n",
      " |-- TripDay: integer (nullable = true)\n",
      " |-- TripMonth: integer (nullable = true)\n",
      " |-- TripDay: integer (nullable = true)\n",
      " |-- TripTimeInMinutes: double (nullable = true)\n",
      " |-- NextTripTimeInMinutes: double (nullable = true)\n",
      " |-- TripType: string (nullable = false)\n",
      " |-- TripMonth: integer (nullable = true)\n",
      " |-- TripDay: integer (nullable = true)\n",
      " |-- TripMonth: integer (nullable = true)\n",
      " |-- TripDay: integer (nullable = true)\n",
      "\n"
     ]
    }
   ],
   "source": [
    "yellow_taxi_df = (\n",
    "    yellow_taxi_df\n",
    "        .withColumn(\"TripYear\", year(col(\"PickupTime\")))   # withColum-Style\n",
    "        .select(                                           # SQL-Style\n",
    "            \"*\",\n",
    "            expr(\"month(PickupTime) AS TripMonth\"),        # SQL Funktionen aufrufen\n",
    "            dayofmonth(col(\"PickupTime\")).alias(\"TripDay\") # Python Funktionen\n",
    "        )\n",
    ")\n",
    "yellow_taxi_df.printSchema()"
   ]
  },
  {
   "cell_type": "markdown",
   "id": "a178d2f3-e098-4c5a-a0e7-57c05be72253",
   "metadata": {},
   "source": [
    "## Noch weitere Spalten berechnen lassen"
   ]
  },
  {
   "cell_type": "code",
   "execution_count": 24,
   "id": "f63790f7-d2ef-4958-9c61-9aa65b883ae6",
   "metadata": {
    "tags": []
   },
   "outputs": [
    {
     "name": "stdout",
     "output_type": "stream",
     "text": [
      "root\n",
      " |-- VendorID: integer (nullable = true)\n",
      " |-- PassengerCount: integer (nullable = true)\n",
      " |-- TripDistance: double (nullable = true)\n",
      " |-- PickupTime: timestamp (nullable = true)\n",
      " |-- DropTime: timestamp (nullable = true)\n",
      " |-- PickupLocationId: integer (nullable = true)\n",
      " |-- DropLocationId: integer (nullable = true)\n",
      " |-- RatecodeID: double (nullable = false)\n",
      " |-- TotalAmount: double (nullable = true)\n",
      " |-- PaymentType: integer (nullable = false)\n",
      " |-- TripYear: integer (nullable = true)\n",
      " |-- TripMonth: integer (nullable = true)\n",
      " |-- TripDay: integer (nullable = true)\n",
      " |-- TripMonth: integer (nullable = true)\n",
      " |-- TripDay: integer (nullable = true)\n",
      " |-- TripTimeInMinutes: double (nullable = true)\n",
      "\n"
     ]
    }
   ],
   "source": [
    "# Trip Time in Minutes Option 1\n",
    "yellow_taxi_df = (\n",
    "    yellow_taxi_df\n",
    "        .withColumn(\"TripTimeInMinutes\",\n",
    "                    round(\n",
    "                        (unix_timestamp(col(\"DropTime\"))-unix_timestamp(col(\"PickupTime\")))/60 \n",
    "                    )\n",
    "                   )\n",
    ")\n",
    "yellow_taxi_df.printSchema()"
   ]
  },
  {
   "cell_type": "code",
   "execution_count": 25,
   "id": "90f7bbcc-0360-4289-b56c-06bee57c2b27",
   "metadata": {
    "tags": []
   },
   "outputs": [
    {
     "name": "stdout",
     "output_type": "stream",
     "text": [
      "root\n",
      " |-- VendorID: integer (nullable = true)\n",
      " |-- PassengerCount: integer (nullable = true)\n",
      " |-- TripDistance: double (nullable = true)\n",
      " |-- PickupTime: timestamp (nullable = true)\n",
      " |-- DropTime: timestamp (nullable = true)\n",
      " |-- PickupLocationId: integer (nullable = true)\n",
      " |-- DropLocationId: integer (nullable = true)\n",
      " |-- RatecodeID: double (nullable = false)\n",
      " |-- TotalAmount: double (nullable = true)\n",
      " |-- PaymentType: integer (nullable = false)\n",
      " |-- TripYear: integer (nullable = true)\n",
      " |-- TripMonth: integer (nullable = true)\n",
      " |-- TripDay: integer (nullable = true)\n",
      " |-- TripMonth: integer (nullable = true)\n",
      " |-- TripDay: integer (nullable = true)\n",
      " |-- TripTimeInMinutes: double (nullable = true)\n",
      " |-- NextTripTimeInMinutes: double (nullable = true)\n",
      "\n"
     ]
    }
   ],
   "source": [
    "# wir können den code auch auslagern damit das wartbarer wird\n",
    "\n",
    "trip_time_in_seconds_expr = unix_timestamp(col(\"DropTime\")) - unix_timestamp(col(\"PickupTime\"))\n",
    "\n",
    "trip_time_in_minutes_expr = round(trip_time_in_seconds_expr / 60)\n",
    "\n",
    "\n",
    "yellow_taxi_df = (\n",
    "    yellow_taxi_df.withColumn(\"NextTripTimeInMinutes\", trip_time_in_minutes_expr)\n",
    ")\n",
    "yellow_taxi_df.printSchema()\n",
    "                                        "
   ]
  },
  {
   "cell_type": "markdown",
   "id": "61615cb5-b3b0-47ed-bae1-cf5ed9dc6b89",
   "metadata": {},
   "source": [
    "## Berechnete Werte zum Dritten"
   ]
  },
  {
   "cell_type": "code",
   "execution_count": 26,
   "id": "204877e5-0eb0-4ca8-8772-9a9c8c051566",
   "metadata": {
    "tags": []
   },
   "outputs": [
    {
     "name": "stdout",
     "output_type": "stream",
     "text": [
      "root\n",
      " |-- VendorID: integer (nullable = true)\n",
      " |-- PassengerCount: integer (nullable = true)\n",
      " |-- TripDistance: double (nullable = true)\n",
      " |-- PickupTime: timestamp (nullable = true)\n",
      " |-- DropTime: timestamp (nullable = true)\n",
      " |-- PickupLocationId: integer (nullable = true)\n",
      " |-- DropLocationId: integer (nullable = true)\n",
      " |-- TotalAmount: double (nullable = true)\n",
      " |-- PaymentType: integer (nullable = false)\n",
      " |-- TripYear: integer (nullable = true)\n",
      " |-- TripMonth: integer (nullable = true)\n",
      " |-- TripDay: integer (nullable = true)\n",
      " |-- TripMonth: integer (nullable = true)\n",
      " |-- TripDay: integer (nullable = true)\n",
      " |-- TripTimeInMinutes: double (nullable = true)\n",
      " |-- NextTripTimeInMinutes: double (nullable = true)\n",
      " |-- TripType: string (nullable = false)\n",
      "\n"
     ]
    }
   ],
   "source": [
    "trip_type_column_expr = (\n",
    "    when(\n",
    "        col(\"RatecodeID\") == 6, \"SharedTrip\"\n",
    "    ).otherwise(\"SoloTrip\")\n",
    ")\n",
    "\n",
    "yellow_taxi_df = yellow_taxi_df.withColumn(\"TripType\", trip_type_column_expr).drop(\"RateCodeId\")\n",
    "yellow_taxi_df.printSchema()"
   ]
  },
  {
   "cell_type": "markdown",
   "id": "ff41129d-11e8-4741-a5c4-0b9f6ca723da",
   "metadata": {},
   "source": [
    "### Ausführpläne"
   ]
  },
  {
   "cell_type": "code",
   "execution_count": 17,
   "id": "215371ba-4da8-4fd0-bc22-9b2af148d392",
   "metadata": {},
   "outputs": [
    {
     "name": "stdout",
     "output_type": "stream",
     "text": [
      "== Parsed Logical Plan ==\n",
      "Project [VendorID#319, PassengerCount#496, TripDistance#484, PickupTime#507, DropTime#518, PickupLocationId#529, DropLocationId#540, TotalAmount#551, PaymentType#562, TripYear#573, TripMonth#585, TripDay#586, TripTimeInMinutes#600, NextTripTimeInMinutes#615, TripType#631]\n",
      "+- Project [VendorID#319, PassengerCount#496, TripDistance#484, PickupTime#507, DropTime#518, PickupLocationId#529, DropLocationId#540, RatecodeID#420, TotalAmount#551, PaymentType#562, TripYear#573, TripMonth#585, TripDay#586, TripTimeInMinutes#600, NextTripTimeInMinutes#615, CASE WHEN (RatecodeID#420 = cast(6 as double)) THEN SharedTrip ELSE SoloTrip END AS TripType#631]\n",
      "   +- Project [VendorID#319, PassengerCount#496, TripDistance#484, PickupTime#507, DropTime#518, PickupLocationId#529, DropLocationId#540, RatecodeID#420, TotalAmount#551, PaymentType#562, TripYear#573, TripMonth#585, TripDay#586, TripTimeInMinutes#600, round((cast((unix_timestamp(DropTime#518, yyyy-MM-dd HH:mm:ss, Some(Etc/UTC), false) - unix_timestamp(PickupTime#507, yyyy-MM-dd HH:mm:ss, Some(Etc/UTC), false)) as double) / cast(60 as double)), 0) AS NextTripTimeInMinutes#615]\n",
      "      +- Project [VendorID#319, PassengerCount#496, TripDistance#484, PickupTime#507, DropTime#518, PickupLocationId#529, DropLocationId#540, RatecodeID#420, TotalAmount#551, PaymentType#562, TripYear#573, TripMonth#585, TripDay#586, round((cast((unix_timestamp(DropTime#518, yyyy-MM-dd HH:mm:ss, Some(Etc/UTC), false) - unix_timestamp(PickupTime#507, yyyy-MM-dd HH:mm:ss, Some(Etc/UTC), false)) as double) / cast(60 as double)), 0) AS TripTimeInMinutes#600]\n",
      "         +- Project [VendorID#319, PassengerCount#496, TripDistance#484, PickupTime#507, DropTime#518, PickupLocationId#529, DropLocationId#540, RatecodeID#420, TotalAmount#551, PaymentType#562, TripYear#573, month(cast(PickupTime#507 as date)) AS TripMonth#585, dayofmonth(cast(PickupTime#507 as date)) AS TripDay#586]\n",
      "            +- Project [VendorID#319, PassengerCount#496, TripDistance#484, PickupTime#507, DropTime#518, PickupLocationId#529, DropLocationId#540, RatecodeID#420, TotalAmount#551, PaymentType#562, year(cast(PickupTime#507 as date)) AS TripYear#573]\n",
      "               +- Project [VendorID#319, PassengerCount#496, TripDistance#484, PickupTime#507, DropTime#518, PickupLocationId#529, DropLocationId#540, RatecodeID#420, TotalAmount#551, payment_type#421 AS PaymentType#562]\n",
      "                  +- Project [VendorID#319, PassengerCount#496, TripDistance#484, PickupTime#507, DropTime#518, PickupLocationId#529, DropLocationId#540, RatecodeID#420, total_amount#335 AS TotalAmount#551, payment_type#421]\n",
      "                     +- Project [VendorID#319, PassengerCount#496, TripDistance#484, PickupTime#507, DropTime#518, PickupLocationId#529, DOLocationID#327 AS DropLocationId#540, RatecodeID#420, total_amount#335, payment_type#421]\n",
      "                        +- Project [VendorID#319, PassengerCount#496, TripDistance#484, PickupTime#507, DropTime#518, PULocationID#326 AS PickupLocationId#529, DOLocationID#327, RatecodeID#420, total_amount#335, payment_type#421]\n",
      "                           +- Project [VendorID#319, PassengerCount#496, TripDistance#484, PickupTime#507, tpep_dropoff_datetime#321 AS DropTime#518, PULocationID#326, DOLocationID#327, RatecodeID#420, total_amount#335, payment_type#421]\n",
      "                              +- Project [VendorID#319, PassengerCount#496, TripDistance#484, tpep_pickup_datetime#320 AS PickupTime#507, tpep_dropoff_datetime#321, PULocationID#326, DOLocationID#327, RatecodeID#420, total_amount#335, payment_type#421]\n",
      "                                 +- Project [VendorID#319, passenger_count#485 AS PassengerCount#496, TripDistance#484, tpep_pickup_datetime#320, tpep_dropoff_datetime#321, PULocationID#326, DOLocationID#327, RatecodeID#420, total_amount#335, payment_type#421]\n",
      "                                    +- Project [VendorID#319, cast(passenger_count#322 as int) AS passenger_count#485, trip_distance#323 AS TripDistance#484, tpep_pickup_datetime#320, tpep_dropoff_datetime#321, PULocationID#326, DOLocationID#327, RatecodeID#420, total_amount#335, payment_type#421]\n",
      "                                       +- Filter ((tpep_pickup_datetime#320 >= cast(2022-10-01 as timestamp)) AND (tpep_dropoff_datetime#321 < cast(2022-11-01 as timestamp)))\n",
      "                                          +- Deduplicate [DOLocationID#327, improvement_surcharge#334, tpep_dropoff_datetime#321, PULocationID#326, trip_distance#323, tolls_amount#333, RatecodeID#420, VendorId#319, tip_amount#332, payment_type#421, fare_amount#329, passenger_count#322, store_and_fwd_flag#325, extra#330, airport_fee#337, congestion_surcharge#336, total_amount#335, tpep_pickup_datetime#320, mta_tax#331]\n",
      "                                             +- Project [VendorId#319, tpep_pickup_datetime#320, tpep_dropoff_datetime#321, passenger_count#322, trip_distance#323, coalesce(nanvl(RatecodeID#324, cast(null as double)), cast(1 as double)) AS RatecodeID#420, store_and_fwd_flag#325, PULocationID#326, DOLocationID#327, coalesce(payment_type#328, cast(5 as int)) AS payment_type#421, fare_amount#329, extra#330, mta_tax#331, tip_amount#332, tolls_amount#333, improvement_surcharge#334, total_amount#335, congestion_surcharge#336, airport_fee#337]\n",
      "                                                +- Filter atleastnnonnulls(1, VendorId#319, tpep_pickup_datetime#320, tpep_dropoff_datetime#321, passenger_count#322, trip_distance#323, RatecodeID#324, store_and_fwd_flag#325, PULocationID#326, DOLocationID#327, payment_type#328, fare_amount#329, extra#330, mta_tax#331, tip_amount#332, tolls_amount#333, improvement_surcharge#334, total_amount#335, congestion_surcharge#336, airport_fee#337)\n",
      "                                                   +- Filter (trip_distance#323 > 0.0)\n",
      "                                                      +- Filter (passenger_count#322 > cast(0 as double))\n",
      "                                                         +- Relation [VendorId#319,tpep_pickup_datetime#320,tpep_dropoff_datetime#321,passenger_count#322,trip_distance#323,RatecodeID#324,store_and_fwd_flag#325,PULocationID#326,DOLocationID#327,payment_type#328,fare_amount#329,extra#330,mta_tax#331,tip_amount#332,tolls_amount#333,improvement_surcharge#334,total_amount#335,congestion_surcharge#336,airport_fee#337] csv\n",
      "\n",
      "== Analyzed Logical Plan ==\n",
      "VendorID: int, PassengerCount: int, TripDistance: double, PickupTime: timestamp, DropTime: timestamp, PickupLocationId: int, DropLocationId: int, TotalAmount: double, PaymentType: int, TripYear: int, TripMonth: int, TripDay: int, TripTimeInMinutes: double, NextTripTimeInMinutes: double, TripType: string\n",
      "Project [VendorID#319, PassengerCount#496, TripDistance#484, PickupTime#507, DropTime#518, PickupLocationId#529, DropLocationId#540, TotalAmount#551, PaymentType#562, TripYear#573, TripMonth#585, TripDay#586, TripTimeInMinutes#600, NextTripTimeInMinutes#615, TripType#631]\n",
      "+- Project [VendorID#319, PassengerCount#496, TripDistance#484, PickupTime#507, DropTime#518, PickupLocationId#529, DropLocationId#540, RatecodeID#420, TotalAmount#551, PaymentType#562, TripYear#573, TripMonth#585, TripDay#586, TripTimeInMinutes#600, NextTripTimeInMinutes#615, CASE WHEN (RatecodeID#420 = cast(6 as double)) THEN SharedTrip ELSE SoloTrip END AS TripType#631]\n",
      "   +- Project [VendorID#319, PassengerCount#496, TripDistance#484, PickupTime#507, DropTime#518, PickupLocationId#529, DropLocationId#540, RatecodeID#420, TotalAmount#551, PaymentType#562, TripYear#573, TripMonth#585, TripDay#586, TripTimeInMinutes#600, round((cast((unix_timestamp(DropTime#518, yyyy-MM-dd HH:mm:ss, Some(Etc/UTC), false) - unix_timestamp(PickupTime#507, yyyy-MM-dd HH:mm:ss, Some(Etc/UTC), false)) as double) / cast(60 as double)), 0) AS NextTripTimeInMinutes#615]\n",
      "      +- Project [VendorID#319, PassengerCount#496, TripDistance#484, PickupTime#507, DropTime#518, PickupLocationId#529, DropLocationId#540, RatecodeID#420, TotalAmount#551, PaymentType#562, TripYear#573, TripMonth#585, TripDay#586, round((cast((unix_timestamp(DropTime#518, yyyy-MM-dd HH:mm:ss, Some(Etc/UTC), false) - unix_timestamp(PickupTime#507, yyyy-MM-dd HH:mm:ss, Some(Etc/UTC), false)) as double) / cast(60 as double)), 0) AS TripTimeInMinutes#600]\n",
      "         +- Project [VendorID#319, PassengerCount#496, TripDistance#484, PickupTime#507, DropTime#518, PickupLocationId#529, DropLocationId#540, RatecodeID#420, TotalAmount#551, PaymentType#562, TripYear#573, month(cast(PickupTime#507 as date)) AS TripMonth#585, dayofmonth(cast(PickupTime#507 as date)) AS TripDay#586]\n",
      "            +- Project [VendorID#319, PassengerCount#496, TripDistance#484, PickupTime#507, DropTime#518, PickupLocationId#529, DropLocationId#540, RatecodeID#420, TotalAmount#551, PaymentType#562, year(cast(PickupTime#507 as date)) AS TripYear#573]\n",
      "               +- Project [VendorID#319, PassengerCount#496, TripDistance#484, PickupTime#507, DropTime#518, PickupLocationId#529, DropLocationId#540, RatecodeID#420, TotalAmount#551, payment_type#421 AS PaymentType#562]\n",
      "                  +- Project [VendorID#319, PassengerCount#496, TripDistance#484, PickupTime#507, DropTime#518, PickupLocationId#529, DropLocationId#540, RatecodeID#420, total_amount#335 AS TotalAmount#551, payment_type#421]\n",
      "                     +- Project [VendorID#319, PassengerCount#496, TripDistance#484, PickupTime#507, DropTime#518, PickupLocationId#529, DOLocationID#327 AS DropLocationId#540, RatecodeID#420, total_amount#335, payment_type#421]\n",
      "                        +- Project [VendorID#319, PassengerCount#496, TripDistance#484, PickupTime#507, DropTime#518, PULocationID#326 AS PickupLocationId#529, DOLocationID#327, RatecodeID#420, total_amount#335, payment_type#421]\n",
      "                           +- Project [VendorID#319, PassengerCount#496, TripDistance#484, PickupTime#507, tpep_dropoff_datetime#321 AS DropTime#518, PULocationID#326, DOLocationID#327, RatecodeID#420, total_amount#335, payment_type#421]\n",
      "                              +- Project [VendorID#319, PassengerCount#496, TripDistance#484, tpep_pickup_datetime#320 AS PickupTime#507, tpep_dropoff_datetime#321, PULocationID#326, DOLocationID#327, RatecodeID#420, total_amount#335, payment_type#421]\n",
      "                                 +- Project [VendorID#319, passenger_count#485 AS PassengerCount#496, TripDistance#484, tpep_pickup_datetime#320, tpep_dropoff_datetime#321, PULocationID#326, DOLocationID#327, RatecodeID#420, total_amount#335, payment_type#421]\n",
      "                                    +- Project [VendorID#319, cast(passenger_count#322 as int) AS passenger_count#485, trip_distance#323 AS TripDistance#484, tpep_pickup_datetime#320, tpep_dropoff_datetime#321, PULocationID#326, DOLocationID#327, RatecodeID#420, total_amount#335, payment_type#421]\n",
      "                                       +- Filter ((tpep_pickup_datetime#320 >= cast(2022-10-01 as timestamp)) AND (tpep_dropoff_datetime#321 < cast(2022-11-01 as timestamp)))\n",
      "                                          +- Deduplicate [DOLocationID#327, improvement_surcharge#334, tpep_dropoff_datetime#321, PULocationID#326, trip_distance#323, tolls_amount#333, RatecodeID#420, VendorId#319, tip_amount#332, payment_type#421, fare_amount#329, passenger_count#322, store_and_fwd_flag#325, extra#330, airport_fee#337, congestion_surcharge#336, total_amount#335, tpep_pickup_datetime#320, mta_tax#331]\n",
      "                                             +- Project [VendorId#319, tpep_pickup_datetime#320, tpep_dropoff_datetime#321, passenger_count#322, trip_distance#323, coalesce(nanvl(RatecodeID#324, cast(null as double)), cast(1 as double)) AS RatecodeID#420, store_and_fwd_flag#325, PULocationID#326, DOLocationID#327, coalesce(payment_type#328, cast(5 as int)) AS payment_type#421, fare_amount#329, extra#330, mta_tax#331, tip_amount#332, tolls_amount#333, improvement_surcharge#334, total_amount#335, congestion_surcharge#336, airport_fee#337]\n",
      "                                                +- Filter atleastnnonnulls(1, VendorId#319, tpep_pickup_datetime#320, tpep_dropoff_datetime#321, passenger_count#322, trip_distance#323, RatecodeID#324, store_and_fwd_flag#325, PULocationID#326, DOLocationID#327, payment_type#328, fare_amount#329, extra#330, mta_tax#331, tip_amount#332, tolls_amount#333, improvement_surcharge#334, total_amount#335, congestion_surcharge#336, airport_fee#337)\n",
      "                                                   +- Filter (trip_distance#323 > 0.0)\n",
      "                                                      +- Filter (passenger_count#322 > cast(0 as double))\n",
      "                                                         +- Relation [VendorId#319,tpep_pickup_datetime#320,tpep_dropoff_datetime#321,passenger_count#322,trip_distance#323,RatecodeID#324,store_and_fwd_flag#325,PULocationID#326,DOLocationID#327,payment_type#328,fare_amount#329,extra#330,mta_tax#331,tip_amount#332,tolls_amount#333,improvement_surcharge#334,total_amount#335,congestion_surcharge#336,airport_fee#337] csv\n",
      "\n",
      "== Optimized Logical Plan ==\n",
      "Aggregate [DOLocationID#327, improvement_surcharge#334, tpep_dropoff_datetime#321, PULocationID#326, trip_distance#323, tolls_amount#333, RatecodeID#420, VendorId#319, tip_amount#332, payment_type#421, fare_amount#329, passenger_count#322, store_and_fwd_flag#325, extra#330, airport_fee#337, congestion_surcharge#336, total_amount#335, tpep_pickup_datetime#320, mta_tax#331], [VendorID#319, cast(passenger_count#322 as int) AS PassengerCount#496, trip_distance#323 AS TripDistance#484, tpep_pickup_datetime#320 AS PickupTime#507, tpep_dropoff_datetime#321 AS DropTime#518, PULocationID#326 AS PickupLocationId#529, DOLocationID#327 AS DropLocationId#540, total_amount#335 AS TotalAmount#551, payment_type#421 AS PaymentType#562, year(cast(tpep_pickup_datetime#320 as date)) AS TripYear#573, month(cast(tpep_pickup_datetime#320 as date)) AS TripMonth#585, dayofmonth(cast(tpep_pickup_datetime#320 as date)) AS TripDay#586, round((cast((unix_timestamp(tpep_dropoff_datetime#321, yyyy-MM-dd HH:mm:ss, Some(Etc/UTC), false) - unix_timestamp(tpep_pickup_datetime#320, yyyy-MM-dd HH:mm:ss, Some(Etc/UTC), false)) as double) / 60.0), 0) AS TripTimeInMinutes#600, round((cast((unix_timestamp(tpep_dropoff_datetime#321, yyyy-MM-dd HH:mm:ss, Some(Etc/UTC), false) - unix_timestamp(tpep_pickup_datetime#320, yyyy-MM-dd HH:mm:ss, Some(Etc/UTC), false)) as double) / 60.0), 0) AS NextTripTimeInMinutes#615, CASE WHEN (RatecodeID#420 = 6.0) THEN SharedTrip ELSE SoloTrip END AS TripType#631]\n",
      "+- Project [VendorId#319, tpep_pickup_datetime#320, tpep_dropoff_datetime#321, passenger_count#322, trip_distance#323, coalesce(nanvl(RatecodeID#324, null), 1.0) AS RatecodeID#420, store_and_fwd_flag#325, PULocationID#326, DOLocationID#327, coalesce(payment_type#328, 5) AS payment_type#421, fare_amount#329, extra#330, mta_tax#331, tip_amount#332, tolls_amount#333, improvement_surcharge#334, total_amount#335, congestion_surcharge#336, airport_fee#337]\n",
      "   +- Filter ((((isnotnull(passenger_count#322) AND isnotnull(trip_distance#323)) AND isnotnull(tpep_pickup_datetime#320)) AND isnotnull(tpep_dropoff_datetime#321)) AND (((passenger_count#322 > 0.0) AND (trip_distance#323 > 0.0)) AND ((atleastnnonnulls(1, VendorId#319, tpep_pickup_datetime#320, tpep_dropoff_datetime#321, passenger_count#322, trip_distance#323, RatecodeID#324, store_and_fwd_flag#325, PULocationID#326, DOLocationID#327, payment_type#328, fare_amount#329, extra#330, mta_tax#331, tip_amount#332, tolls_amount#333, improvement_surcharge#334, total_amount#335, congestion_surcharge#336, airport_fee#337) AND (tpep_pickup_datetime#320 >= 2022-10-01 00:00:00)) AND (tpep_dropoff_datetime#321 < 2022-11-01 00:00:00))))\n",
      "      +- Relation [VendorId#319,tpep_pickup_datetime#320,tpep_dropoff_datetime#321,passenger_count#322,trip_distance#323,RatecodeID#324,store_and_fwd_flag#325,PULocationID#326,DOLocationID#327,payment_type#328,fare_amount#329,extra#330,mta_tax#331,tip_amount#332,tolls_amount#333,improvement_surcharge#334,total_amount#335,congestion_surcharge#336,airport_fee#337] csv\n",
      "\n",
      "== Physical Plan ==\n",
      "*(2) HashAggregate(keys=[DOLocationID#327, improvement_surcharge#334, tpep_dropoff_datetime#321, PULocationID#326, trip_distance#323, tolls_amount#333, RatecodeID#420, VendorId#319, tip_amount#332, payment_type#421, fare_amount#329, passenger_count#322, store_and_fwd_flag#325, extra#330, airport_fee#337, congestion_surcharge#336, total_amount#335, tpep_pickup_datetime#320, mta_tax#331], functions=[], output=[VendorId#319, PassengerCount#496, TripDistance#484, PickupTime#507, DropTime#518, PickupLocationId#529, DropLocationId#540, TotalAmount#551, PaymentType#562, TripYear#573, TripMonth#585, TripDay#586, TripTimeInMinutes#600, NextTripTimeInMinutes#615, TripType#631])\n",
      "+- Exchange hashpartitioning(DOLocationID#327, improvement_surcharge#334, tpep_dropoff_datetime#321, PULocationID#326, trip_distance#323, tolls_amount#333, RatecodeID#420, VendorId#319, tip_amount#332, payment_type#421, fare_amount#329, passenger_count#322, store_and_fwd_flag#325, extra#330, airport_fee#337, congestion_surcharge#336, total_amount#335, tpep_pickup_datetime#320, mta_tax#331, 200), ENSURE_REQUIREMENTS, [plan_id=211]\n",
      "   +- *(1) HashAggregate(keys=[DOLocationID#327, knownfloatingpointnormalized(normalizenanandzero(improvement_surcharge#334)) AS improvement_surcharge#334, tpep_dropoff_datetime#321, PULocationID#326, knownfloatingpointnormalized(normalizenanandzero(trip_distance#323)) AS trip_distance#323, knownfloatingpointnormalized(normalizenanandzero(tolls_amount#333)) AS tolls_amount#333, knownfloatingpointnormalized(normalizenanandzero(RatecodeID#420)) AS RatecodeID#420, VendorId#319, knownfloatingpointnormalized(normalizenanandzero(tip_amount#332)) AS tip_amount#332, payment_type#421, knownfloatingpointnormalized(normalizenanandzero(fare_amount#329)) AS fare_amount#329, knownfloatingpointnormalized(normalizenanandzero(passenger_count#322)) AS passenger_count#322, store_and_fwd_flag#325, knownfloatingpointnormalized(normalizenanandzero(extra#330)) AS extra#330, knownfloatingpointnormalized(normalizenanandzero(airport_fee#337)) AS airport_fee#337, knownfloatingpointnormalized(normalizenanandzero(congestion_surcharge#336)) AS congestion_surcharge#336, knownfloatingpointnormalized(normalizenanandzero(total_amount#335)) AS total_amount#335, tpep_pickup_datetime#320, knownfloatingpointnormalized(normalizenanandzero(mta_tax#331)) AS mta_tax#331], functions=[], output=[DOLocationID#327, improvement_surcharge#334, tpep_dropoff_datetime#321, PULocationID#326, trip_distance#323, tolls_amount#333, RatecodeID#420, VendorId#319, tip_amount#332, payment_type#421, fare_amount#329, passenger_count#322, store_and_fwd_flag#325, extra#330, airport_fee#337, congestion_surcharge#336, total_amount#335, tpep_pickup_datetime#320, mta_tax#331])\n",
      "      +- *(1) Project [VendorId#319, tpep_pickup_datetime#320, tpep_dropoff_datetime#321, passenger_count#322, trip_distance#323, coalesce(nanvl(RatecodeID#324, null), 1.0) AS RatecodeID#420, store_and_fwd_flag#325, PULocationID#326, DOLocationID#327, coalesce(payment_type#328, 5) AS payment_type#421, fare_amount#329, extra#330, mta_tax#331, tip_amount#332, tolls_amount#333, improvement_surcharge#334, total_amount#335, congestion_surcharge#336, airport_fee#337]\n",
      "         +- *(1) Filter ((((((((isnotnull(passenger_count#322) AND isnotnull(trip_distance#323)) AND isnotnull(tpep_pickup_datetime#320)) AND isnotnull(tpep_dropoff_datetime#321)) AND (passenger_count#322 > 0.0)) AND (trip_distance#323 > 0.0)) AND atleastnnonnulls(1, VendorId#319, tpep_pickup_datetime#320, tpep_dropoff_datetime#321, passenger_count#322, trip_distance#323, RatecodeID#324, store_and_fwd_flag#325, PULocationID#326, DOLocationID#327, payment_type#328, fare_amount#329, extra#330, mta_tax#331, tip_amount#332, tolls_amount#333, improvement_surcharge#334, total_amount#335, congestion_surcharge#336, airport_fee#337)) AND (tpep_pickup_datetime#320 >= 2022-10-01 00:00:00)) AND (tpep_dropoff_datetime#321 < 2022-11-01 00:00:00))\n",
      "            +- FileScan csv [VendorId#319,tpep_pickup_datetime#320,tpep_dropoff_datetime#321,passenger_count#322,trip_distance#323,RatecodeID#324,store_and_fwd_flag#325,PULocationID#326,DOLocationID#327,payment_type#328,fare_amount#329,extra#330,mta_tax#331,tip_amount#332,tolls_amount#333,improvement_surcharge#334,total_amount#335,congestion_surcharge#336,airport_fee#337] Batched: false, DataFilters: [isnotnull(passenger_count#322), isnotnull(trip_distance#323), isnotnull(tpep_pickup_datetime#320..., Format: CSV, Location: InMemoryFileIndex(1 paths)[file:/home/pupil/spark-course/course/02-Dataframes/YellowTaxis_202210...., PartitionFilters: [], PushedFilters: [IsNotNull(passenger_count), IsNotNull(trip_distance), IsNotNull(tpep_pickup_datetime), IsNotNull..., ReadSchema: struct<VendorId:int,tpep_pickup_datetime:timestamp,tpep_dropoff_datetime:timestamp,passenger_coun...\n",
      "\n"
     ]
    }
   ],
   "source": [
    "yellow_taxi_df.explain(mode=\"extended\")"
   ]
  },
  {
   "cell_type": "markdown",
   "id": "3ab562d9-88d8-42b3-bc2c-65201e354386",
   "metadata": {},
   "source": [
    "## Zugriffe auf nested Json Content"
   ]
  },
  {
   "cell_type": "code",
   "execution_count": 29,
   "id": "8d93a829-646f-49b4-9727-27be927af352",
   "metadata": {
    "tags": []
   },
   "outputs": [
    {
     "name": "stdout",
     "output_type": "stream",
     "text": [
      "+--------------+--------------------------------------+----------------+------------+---------------------------+-----------------------------------------------------------+------------------------------------------------+\n",
      "|License Number|Entity Name                           |Telephone Number|SHL Endorsed|Type of Base               |Address                                                    |GeoLocation                                     |\n",
      "+--------------+--------------------------------------+----------------+------------+---------------------------+-----------------------------------------------------------+------------------------------------------------+\n",
      "|B02865        |VIER-NY,LLC                           |6466657536      |No          |BLACK CAR BASE             |{636, WEST   28 STREET, NEW YORK, NY, 10001}               |{40.75273, -74.006408, (40.75273, -74.006408)}  |\n",
      "|B02634        |VETERANS RADIO DISPATCHER CORP.       |7183647878      |No          |LIVERY BASE                |{131, KINGSBRIDGE ROAD, BRONX, NY, 10468}                  |{40.86927, -73.90281, (40.86927, -73.90281)}    |\n",
      "|B80094        |ALPHA VAN LINE                        |5162850750      |No          |COMMUTER VAN AUTHORITY BASE|{115-54, 238 STREET, ELMONT, NY, 11003}                    |{40.693473, -73.724446, (40.693473, -73.724446)}|\n",
      "|B02677        |A.T.B. CAR AND LIMOUSINE SERVICE, INC.|7184854444      |No          |LIVERY BASE                |{866, NEW LOTS AVENUE, BROOKLYN, NY, 11208}                |{40.667838, -73.8788, (40.667838, -73.8788)}    |\n",
      "|B02152        |KYOEI LIMOUSINE, INC.                 |7183263258      |No          |LUXURY/LIMOUSINE           |{57-48, MASPETH AVENUE, MASPETH, NY, 11378}                |{40.722961, -73.91031, (40.722961, -73.91031)}  |\n",
      "|B02844        |ENDOR CAR & DRIVER,LLC.               |4154758459      |No          |BLACK CAR BASE             |{31-00, 47 AVENUE  SUITE # 4123A, LIC, NY, 11101}          |{40.742082, -73.93552, (40.742082, -73.93552)}  |\n",
      "|B02841        |SKYWAY EXECUTIVE SERVICE, INC         |7183595959      |No          |BLACK CAR BASE             |{68-20A, FRESH MEADOW LANE, FRESH MEADOWS, NY, 11365}      |{40.733337, -73.794706, (40.733337, -73.794706)}|\n",
      "|B00472        |FARRELL'S LEASING CO.                 |2128616300      |No          |LUXURY/LIMOUSINE           |{22-11, 38 AVENUE, LIC, NY, 11101}                         |{40.757077, -73.937504, (40.757077, -73.937504)}|\n",
      "|B01739        |CITY CAR SERVICE CORP                 |7184182222      |No          |LIVERY BASE                |{429, SUTTER AVENUE, BROOKLYN, NY, 11212}                  |{40.668473, -73.903383, (40.668473, -73.903383)}|\n",
      "|B00248        |YELLOWSTONE TRANSPORTATION INC.       |7185397777      |No          |LIVERY BASE                |{41-31, MAIN STREET, FLUSHING, NY, 11355}                  |{40.758114, -73.82962, (40.758114, -73.82962)}  |\n",
      "|B02861        |ELTRI CAR SERVICE INC                 |7183820100      |No          |BLACK CAR BASE             |{1811, EAST    7 STREET, BROOKLYN, NY, 11223}              |{40.612302, -73.963221, (40.612302, -73.963221)}|\n",
      "|B02093        |V.J. CAR & LIMO SVC INC.              |7186417777      |No          |LIVERY BASE                |{104-08, 123RD STREET, RICHMOND HILL, NY, 11419}           |{40.691906, -73.82342, (40.691906, -73.82342)}  |\n",
      "|B02980        |ADVANTAGE LIMO OF NY INC              |3478655876      |No          |LUXURY/LIMOUSINE           |{6701, BAY PARKWAY  OFFICE #1 3RD FLR, BROOKLYN, NY, 11204}|{40.603784, -73.972558, (40.603784, -73.972558)}|\n",
      "|B02878        |ELF-NY,LLC                            |6466657540      |No          |BLACK CAR BASE             |{636, WEST   28 STREET, NEW YORK, NY, 10001}               |{40.75273, -74.00641, (40.75273, -74.00641)}    |\n",
      "|B90691        |ALTA MEDICAL TRANSPORTATION, INC.     |7188972582      |No          |PARATRANSIT BASE           |{85-02, 67 AVENUE  SUITE 1, REGO PARK, NY, 11374}          |{40.717275, -73.86211, (40.717275, -73.86211)}  |\n",
      "|B02840        |RAELEEN CAR CORP.                     |9176031815      |No          |BLACK CAR BASE             |{565, VAN NEST AVENUE, BRONX, NY, 10460}                   |{40.755734, -73.93795, (40.755734, -73.93795)}  |\n",
      "|B02658        |ASCONA CAR SERVICE INC.               |7186461611      |No          |LIVERY BASE                |{2421, BATH AVENUE, BROOKLYN, NY, 11214}                   |{40.595422, -73.992368, (40.595422, -73.992368)}|\n",
      "|B02331        |CHICO EXPRESS LIMO, INC.              |7182367777      |No          |BLACK CAR BASE             |{6318, 14 AVENUE, BROOKLYN, NY, 11219}                     |{40.625609, -73.998684, (40.625609, -73.998684)}|\n",
      "|B02969        |LYFE AUTO GROUP INC                   |7187066234      |No          |BLACK CAR BASE             |{32-10, GREENPOINT AVENUE, LIC, NY, 11101}                 |{40.734944, -73.935733, (40.734944, -73.935733)}|\n",
      "|B02651        |SAROS TRANSPORTATION GROUP INC.       |7185640084      |No          |BLACK CAR BASE             |{626, REXCORP PLAZA, UNIONDALE, NY, 11556}                 |{40.638931, -73.982954, (40.638931, -73.982954)}|\n",
      "+--------------+--------------------------------------+----------------+------------+---------------------------+-----------------------------------------------------------+------------------------------------------------+\n",
      "only showing top 20 rows\n",
      "\n"
     ]
    }
   ],
   "source": [
    "import schemata\n",
    "\n",
    "taxi_bases_df = (\n",
    "    spark\n",
    "        .read\n",
    "        .option(\"multiline\", True)\n",
    "        .schema(schemata.taxi_bases_schema)\n",
    "        .json(\"TaxiBases.json\")\n",
    ")\n",
    "taxi_bases_df.show(truncate=False)"
   ]
  },
  {
   "cell_type": "code",
   "execution_count": 31,
   "id": "f29e66a5-0d5b-4c12-a8bc-396850293e58",
   "metadata": {
    "tags": []
   },
   "outputs": [
    {
     "name": "stdout",
     "output_type": "stream",
     "text": [
      "+-----------------+--------------------------------------+---------------+------------------------------+-------------+------------+---------------+-----------+------------+\n",
      "|BaseLicenseNumber|EntityName                            |AddressBuilding|AddressStreet                 |AddressCity  |AddressState|AddressPostCode|GeoLatitude|GeoLongitude|\n",
      "+-----------------+--------------------------------------+---------------+------------------------------+-------------+------------+---------------+-----------+------------+\n",
      "|B02865           |VIER-NY,LLC                           |636            |WEST   28 STREET              |NEW YORK     |NY          |10001          |40.75273   |-74.006408  |\n",
      "|B02634           |VETERANS RADIO DISPATCHER CORP.       |131            |KINGSBRIDGE ROAD              |BRONX        |NY          |10468          |40.86927   |-73.90281   |\n",
      "|B80094           |ALPHA VAN LINE                        |115-54         |238 STREET                    |ELMONT       |NY          |11003          |40.693473  |-73.724446  |\n",
      "|B02677           |A.T.B. CAR AND LIMOUSINE SERVICE, INC.|866            |NEW LOTS AVENUE               |BROOKLYN     |NY          |11208          |40.667838  |-73.8788    |\n",
      "|B02152           |KYOEI LIMOUSINE, INC.                 |57-48          |MASPETH AVENUE                |MASPETH      |NY          |11378          |40.722961  |-73.91031   |\n",
      "|B02844           |ENDOR CAR & DRIVER,LLC.               |31-00          |47 AVENUE  SUITE # 4123A      |LIC          |NY          |11101          |40.742082  |-73.93552   |\n",
      "|B02841           |SKYWAY EXECUTIVE SERVICE, INC         |68-20A         |FRESH MEADOW LANE             |FRESH MEADOWS|NY          |11365          |40.733337  |-73.794706  |\n",
      "|B00472           |FARRELL'S LEASING CO.                 |22-11          |38 AVENUE                     |LIC          |NY          |11101          |40.757077  |-73.937504  |\n",
      "|B01739           |CITY CAR SERVICE CORP                 |429            |SUTTER AVENUE                 |BROOKLYN     |NY          |11212          |40.668473  |-73.903383  |\n",
      "|B00248           |YELLOWSTONE TRANSPORTATION INC.       |41-31          |MAIN STREET                   |FLUSHING     |NY          |11355          |40.758114  |-73.82962   |\n",
      "|B02861           |ELTRI CAR SERVICE INC                 |1811           |EAST    7 STREET              |BROOKLYN     |NY          |11223          |40.612302  |-73.963221  |\n",
      "|B02093           |V.J. CAR & LIMO SVC INC.              |104-08         |123RD STREET                  |RICHMOND HILL|NY          |11419          |40.691906  |-73.82342   |\n",
      "|B02980           |ADVANTAGE LIMO OF NY INC              |6701           |BAY PARKWAY  OFFICE #1 3RD FLR|BROOKLYN     |NY          |11204          |40.603784  |-73.972558  |\n",
      "|B02878           |ELF-NY,LLC                            |636            |WEST   28 STREET              |NEW YORK     |NY          |10001          |40.75273   |-74.00641   |\n",
      "|B90691           |ALTA MEDICAL TRANSPORTATION, INC.     |85-02          |67 AVENUE  SUITE 1            |REGO PARK    |NY          |11374          |40.717275  |-73.86211   |\n",
      "|B02840           |RAELEEN CAR CORP.                     |565            |VAN NEST AVENUE               |BRONX        |NY          |10460          |40.755734  |-73.93795   |\n",
      "|B02658           |ASCONA CAR SERVICE INC.               |2421           |BATH AVENUE                   |BROOKLYN     |NY          |11214          |40.595422  |-73.992368  |\n",
      "|B02331           |CHICO EXPRESS LIMO, INC.              |6318           |14 AVENUE                     |BROOKLYN     |NY          |11219          |40.625609  |-73.998684  |\n",
      "|B02969           |LYFE AUTO GROUP INC                   |32-10          |GREENPOINT AVENUE             |LIC          |NY          |11101          |40.734944  |-73.935733  |\n",
      "|B02651           |SAROS TRANSPORTATION GROUP INC.       |626            |REXCORP PLAZA                 |UNIONDALE    |NY          |11556          |40.638931  |-73.982954  |\n",
      "+-----------------+--------------------------------------+---------------+------------------------------+-------------+------------+---------------+-----------+------------+\n",
      "only showing top 20 rows\n",
      "\n"
     ]
    }
   ],
   "source": [
    "taxi_bases_flat_df = (\n",
    "    taxi_bases_df.select(\n",
    "        col(\"License Number\").alias(\"BaseLicenseNumber\"),\n",
    "        col(\"Entity Name\").alias(\"EntityName\"),\n",
    "        col(\"Address.Building\").alias(\"AddressBuilding\"),\n",
    "        col(\"Address.Street\").alias(\"AddressStreet\"),\n",
    "        col(\"Address.City\").alias(\"AddressCity\"),\n",
    "        col(\"Address.State\").alias(\"AddressState\"),\n",
    "        col(\"Address.Postcode\").alias(\"AddressPostCode\"),\n",
    "\n",
    "        col(\"Geolocation.Latitude\").alias(\"GeoLatitude\"),\n",
    "        col(\"Geolocation.Longitude\").alias(\"GeoLongitude\")\n",
    "    )\n",
    ")\n",
    "taxi_bases_flat_df.show(truncate=False)"
   ]
  },
  {
   "cell_type": "markdown",
   "id": "660ff81c-ccde-4231-95b5-2fc429ad9621",
   "metadata": {},
   "source": [
    "## Aggregationen"
   ]
  },
  {
   "cell_type": "code",
   "execution_count": 32,
   "id": "c6975f02-3fbe-4b37-a606-0c7ff0f795fe",
   "metadata": {
    "tags": []
   },
   "outputs": [
    {
     "name": "stderr",
     "output_type": "stream",
     "text": [
      "[Stage 53:=====================================================>(199 + 1) / 200]\r"
     ]
    },
    {
     "name": "stdout",
     "output_type": "stream",
     "text": [
      "+----------------+--------------+------------------+------------------+\n",
      "|PickupLocationId|DropLocationId|       AvgTripTime|         SumAmount|\n",
      "+----------------+--------------+------------------+------------------+\n",
      "|             265|            16|              19.0|             32.76|\n",
      "|             265|           230|              37.0|            383.34|\n",
      "|             265|            86|23.666666666666668|              68.8|\n",
      "|             265|           116|              40.0|             53.16|\n",
      "|             265|           170|              40.0|350.43999999999994|\n",
      "|             265|           231|              10.0|              15.3|\n",
      "|             265|           218|              23.0|              45.0|\n",
      "|             265|           233|              45.0|             78.85|\n",
      "|             265|           132|              31.9|            598.71|\n",
      "|             265|            23|               2.0|              41.6|\n",
      "|             265|           144|              17.0|              16.8|\n",
      "|             265|            10|              11.0|             14.55|\n",
      "|             265|           135|              22.6|             291.0|\n",
      "|             265|           107|              27.5|            101.59|\n",
      "|             265|            28|              19.0|              58.0|\n",
      "|             265|            39|              24.0|              37.3|\n",
      "|             265|           114|              60.0|             220.8|\n",
      "|             265|           194|              38.0|             88.08|\n",
      "|             265|           139|              19.0|              20.0|\n",
      "|             265|           203|              41.0|             130.8|\n",
      "+----------------+--------------+------------------+------------------+\n",
      "only showing top 20 rows\n",
      "\n"
     ]
    },
    {
     "name": "stderr",
     "output_type": "stream",
     "text": [
      "                                                                                \r"
     ]
    }
   ],
   "source": [
    "yellow_taxi_report_df = (\n",
    "    yellow_taxi_df\n",
    "        .groupby(\"PickupLocationId\", \"DropLocationId\")\n",
    "        .agg(\n",
    "            avg(\"TripTimeInMinutes\").alias(\"AvgTripTime\"),\n",
    "            sum(\"TotalAmount\").alias(\"SumAmount\")\n",
    "        )\n",
    "        .orderBy(col(\"PickupLocationId\").desc())\n",
    ")\n",
    "yellow_taxi_report_df.show()\n"
   ]
  },
  {
   "cell_type": "markdown",
   "id": "5a2b5c62-508e-4e12-9753-9ec796f616f8",
   "metadata": {},
   "source": [
    "**Aufgaben**\n",
    "\n",
    "\n",
    "* Neben einer Spalte für Durchschnitt basierend auf Trip-Time noch eine weitere für Max und Min einfügen.\n",
    "* Basierend auf der Spalte PickupTime füge eine Spalte hinzu mit dem Namen des Monats hinzu.\n",
    "\n",
    "[Doc zu strftime](https://www.programiz.com/python-programming/datetime/strftime)\n",
    "\n",
    "[Api Doc PySpark Functions](https://spark.apache.org/docs/latest/api/python/reference/pyspark.sql/functions.html#datetime-functions)"
   ]
  },
  {
   "cell_type": "code",
   "execution_count": null,
   "id": "c5f323ee-dbbb-4b29-ab3d-bab8e5a3210b",
   "metadata": {
    "tags": []
   },
   "outputs": [],
   "source": []
  }
 ],
 "metadata": {
  "kernelspec": {
   "display_name": "Python 3 (ipykernel)",
   "language": "python",
   "name": "python3"
  },
  "language_info": {
   "codemirror_mode": {
    "name": "ipython",
    "version": 3
   },
   "file_extension": ".py",
   "mimetype": "text/x-python",
   "name": "python",
   "nbconvert_exporter": "python",
   "pygments_lexer": "ipython3",
   "version": "3.10.12"
  },
  "toc-autonumbering": false,
  "toc-showmarkdowntxt": false,
  "toc-showtags": false
 },
 "nbformat": 4,
 "nbformat_minor": 5
}
