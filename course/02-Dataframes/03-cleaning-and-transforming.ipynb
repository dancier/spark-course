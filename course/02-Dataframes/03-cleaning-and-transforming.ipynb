{
 "cells": [
  {
   "cell_type": "markdown",
   "id": "c7c14a1e-c4ff-4ba5-b64a-172eb64bbc09",
   "metadata": {},
   "source": [
    "# Analysieren und Bereinigen von Daten"
   ]
  },
  {
   "cell_type": "markdown",
   "id": "f66b929a-a1eb-4745-991b-941f805561e3",
   "metadata": {},
   "source": [
    "Was kann alles schief laufen?\n",
    "\n",
    "* Komplettheit\n",
    "  Wir können entsprechende Einträge entfernen oder die Werte angemessen auffüllen\n",
    "\n",
    "* Einzigartigkeit\n",
    "  Entfernen von Duplikaten\n",
    "\n",
    "* Aktualität\n",
    "  Zeiträume eingrenzen\n",
    "\n",
    "* Akuratheit\n",
    "  Entfernen von korrupten Daten\n",
    "  "
   ]
  },
  {
   "cell_type": "markdown",
   "id": "54ee2128-751e-4ff9-96d6-b547d9dd794e",
   "metadata": {},
   "source": [
    "## Analysieren der Daten"
   ]
  },
  {
   "cell_type": "code",
   "execution_count": 4,
   "id": "beb9ad8a-a579-4ab8-823c-88366201d885",
   "metadata": {},
   "outputs": [
    {
     "name": "stderr",
     "output_type": "stream",
     "text": [
      "23/09/02 11:07:07 WARN Utils: Your hostname, pupil-a resolves to a loopback address: 127.0.1.1; using 167.235.141.210 instead (on interface eth0)\n",
      "23/09/02 11:07:07 WARN Utils: Set SPARK_LOCAL_IP if you need to bind to another address\n",
      "Setting default log level to \"WARN\".\n",
      "To adjust logging level use sc.setLogLevel(newLevel). For SparkR, use setLogLevel(newLevel).\n",
      "23/09/02 11:07:09 WARN NativeCodeLoader: Unable to load native-hadoop library for your platform... using builtin-java classes where applicable\n"
     ]
    },
    {
     "data": {
      "text/html": [
       "<style>pre { white-space: pre !important; }</style>"
      ],
      "text/plain": [
       "<IPython.core.display.HTML object>"
      ]
     },
     "metadata": {},
     "output_type": "display_data"
    },
    {
     "data": {
      "text/html": [
       "\n",
       "            <div>\n",
       "                <p><b>SparkSession - in-memory</b></p>\n",
       "                \n",
       "        <div>\n",
       "            <p><b>SparkContext</b></p>\n",
       "\n",
       "            <p><a href=\"http://pupil-a.bin-ich-tot.de:4040\">Spark UI</a></p>\n",
       "\n",
       "            <dl>\n",
       "              <dt>Version</dt>\n",
       "                <dd><code>v3.4.1</code></dd>\n",
       "              <dt>Master</dt>\n",
       "                <dd><code>local[4]</code></dd>\n",
       "              <dt>AppName</dt>\n",
       "                <dd><code>analyse</code></dd>\n",
       "            </dl>\n",
       "        </div>\n",
       "        \n",
       "            </div>\n",
       "        "
      ],
      "text/plain": [
       "<pyspark.sql.session.SparkSession at 0x7fe086e6c910>"
      ]
     },
     "execution_count": 4,
     "metadata": {},
     "output_type": "execute_result"
    }
   ],
   "source": [
    "import findspark\n",
    "findspark.init()\n",
    "findspark.find()\n",
    "\n",
    "\n",
    "from pyspark.sql import SparkSession\n",
    "from pyspark.sql.functions import * \n",
    "from pyspark.sql.types import *\n",
    "\n",
    "import schemata\n",
    "\n",
    "spark = (\n",
    "    SparkSession\n",
    "    .builder\n",
    "    .config(\"spark.dynamicAllocation.enabled\", \"false\")\n",
    "    .config(\"spark.sql.adaptive.enabled\", \"false\")\n",
    "    .appName(\"analyse\")\n",
    "    .master(\"local[4]\")\n",
    "    .getOrCreate()\n",
    ")\n",
    "sc = spark.sparkContext\n",
    "\n",
    "from IPython.display import *\n",
    "display(HTML(\"<style>pre { white-space: pre !important; }</style>\"))\n",
    "\n",
    "spark"
   ]
  },
  {
   "cell_type": "code",
   "execution_count": 5,
   "id": "8e5f252e-5c1d-4f13-8bf0-25c3e602d3e1",
   "metadata": {},
   "outputs": [
    {
     "name": "stdout",
     "output_type": "stream",
     "text": [
      "root\n",
      " |-- VendorId: integer (nullable = true)\n",
      " |-- lpep_pickup_datetime: timestamp (nullable = true)\n",
      " |-- lpep_dropoff_datetime: timestamp (nullable = true)\n",
      " |-- passenger_count: double (nullable = true)\n",
      " |-- trip_distance: double (nullable = true)\n",
      " |-- RatecodeID: double (nullable = true)\n",
      " |-- store_and_fwd_flag: string (nullable = true)\n",
      " |-- PULocationID: integer (nullable = true)\n",
      " |-- DOLocationID: integer (nullable = true)\n",
      " |-- payment_type: integer (nullable = true)\n",
      " |-- fare_amount: double (nullable = true)\n",
      " |-- extra: double (nullable = true)\n",
      " |-- mta_tax: double (nullable = true)\n",
      " |-- tip_amount: double (nullable = true)\n",
      " |-- tolls_amount: double (nullable = true)\n",
      " |-- improvement_surcharge: double (nullable = true)\n",
      " |-- total_amount: double (nullable = true)\n",
      " |-- congestion_surcharge: double (nullable = true)\n",
      " |-- airport_fee: double (nullable = true)\n",
      "\n"
     ]
    }
   ],
   "source": [
    "yellow_taxi_df = spark.read.option(\"header\", True).schema(schemata.yellow_taxi_schema).csv(\"YellowTaxis_202210.csv.gz\")\n",
    "yellow_taxi_df.printSchema()"
   ]
  },
  {
   "cell_type": "code",
   "execution_count": 6,
   "id": "ce234c76-9a91-4dc0-820e-41112d37d489",
   "metadata": {},
   "outputs": [
    {
     "name": "stderr",
     "output_type": "stream",
     "text": [
      "[Stage 0:>                                                          (0 + 1) / 1]\r"
     ]
    },
    {
     "name": "stdout",
     "output_type": "stream",
     "text": [
      "+-------+------------------+-----------------+\n",
      "|summary|   passenger_count|    trip_distance|\n",
      "+-------+------------------+-----------------+\n",
      "|  count|           3542392|          3675412|\n",
      "|   mean|1.3846934500755421|6.206976298167039|\n",
      "| stddev|0.9302303297406955|640.8236808320255|\n",
      "|    min|               0.0|              0.0|\n",
      "|    max|               9.0|        389678.46|\n",
      "+-------+------------------+-----------------+\n",
      "\n"
     ]
    },
    {
     "name": "stderr",
     "output_type": "stream",
     "text": [
      "                                                                                \r"
     ]
    }
   ],
   "source": [
    "yellow_taxi_analyzed_df = yellow_taxi_df.describe(\"passenger_count\", \"trip_distance\")\n",
    "yellow_taxi_analyzed_df.show()"
   ]
  },
  {
   "cell_type": "markdown",
   "id": "d45888ec-2bea-4e1a-b4b4-6c7c71c81e1a",
   "metadata": {},
   "source": [
    "Wir können hier schon ein paar wahrscheinliche Datenfehler erkennen.\n",
    "0 Passagiere sind wohl ein Fehler, 9 Gäste ist verboten und wohl auch ein Fehler\n",
    "\n"
   ]
  },
  {
   "cell_type": "markdown",
   "id": "c91dafc8-e9a0-4987-a230-1fb25c8e3353",
   "metadata": {},
   "source": [
    "### Weg filtern nicht akkurater Daten"
   ]
  },
  {
   "cell_type": "code",
   "execution_count": 7,
   "id": "f28a3c79-58a5-4f9b-beb2-89d3295fe7e5",
   "metadata": {},
   "outputs": [
    {
     "name": "stderr",
     "output_type": "stream",
     "text": [
      "                                                                                \r"
     ]
    },
    {
     "name": "stdout",
     "output_type": "stream",
     "text": [
      "Before: 3675412\n"
     ]
    },
    {
     "name": "stderr",
     "output_type": "stream",
     "text": [
      "[Stage 4:>                                                          (0 + 1) / 1]\r"
     ]
    },
    {
     "name": "stdout",
     "output_type": "stream",
     "text": [
      "After: 3422296\n"
     ]
    },
    {
     "name": "stderr",
     "output_type": "stream",
     "text": [
      "                                                                                \r"
     ]
    }
   ],
   "source": [
    "yellow_taxi_df.rdd.repartition(4)\n",
    "print(\"Before: \" + str(yellow_taxi_df.count()))\n",
    "yellow_taxi_df = yellow_taxi_df.where(\"passenger_count > 0\").filter(col(\"trip_distance\") > 0.0)\n",
    "print(\"After: \" + str(yellow_taxi_df.count()))"
   ]
  },
  {
   "cell_type": "code",
   "execution_count": 8,
   "id": "dcece6dc-49c3-4b8c-9c4f-fd3129b7d716",
   "metadata": {},
   "outputs": [
    {
     "data": {
      "text/plain": [
       "1"
      ]
     },
     "execution_count": 8,
     "metadata": {},
     "output_type": "execute_result"
    }
   ],
   "source": [
    "yellow_taxi_df.rdd.getNumPartitions()"
   ]
  },
  {
   "cell_type": "markdown",
   "id": "0c98c20f-6413-465a-8a0e-543add6e96ef",
   "metadata": {},
   "source": [
    "## Nun Zeilen mit Null filtern\n"
   ]
  },
  {
   "cell_type": "code",
   "execution_count": 9,
   "id": "4fb3f028-563d-47b7-a0b4-19f9c078f50e",
   "metadata": {},
   "outputs": [
    {
     "name": "stderr",
     "output_type": "stream",
     "text": [
      "                                                                                \r"
     ]
    },
    {
     "name": "stdout",
     "output_type": "stream",
     "text": [
      "Vor dem Filtern3422296\n"
     ]
    },
    {
     "name": "stderr",
     "output_type": "stream",
     "text": [
      "23/09/02 11:08:44 WARN CSVHeaderChecker: CSV header does not conform to the schema.\n",
      " Header: VendorID, tpep_pickup_datetime, tpep_dropoff_datetime, passenger_count, trip_distance, RatecodeID, store_and_fwd_flag, PULocationID, DOLocationID, payment_type, fare_amount, extra, mta_tax, tip_amount, tolls_amount, improvement_surcharge, total_amount, congestion_surcharge, airport_fee\n",
      " Schema: VendorId, lpep_pickup_datetime, lpep_dropoff_datetime, passenger_count, trip_distance, RatecodeID, store_and_fwd_flag, PULocationID, DOLocationID, payment_type, fare_amount, extra, mta_tax, tip_amount, tolls_amount, improvement_surcharge, total_amount, congestion_surcharge, airport_fee\n",
      "Expected: lpep_pickup_datetime but found: tpep_pickup_datetime\n",
      "CSV file: file:///home/pupil/spark-course/course/02-Dataframes/YellowTaxis_202210.csv.gz\n",
      "[Stage 8:>                                                          (0 + 1) / 1]\r"
     ]
    },
    {
     "name": "stdout",
     "output_type": "stream",
     "text": [
      "After operation = 3422296\n"
     ]
    },
    {
     "name": "stderr",
     "output_type": "stream",
     "text": [
      "                                                                                \r"
     ]
    }
   ],
   "source": [
    "print(\"Vor dem Filtern\" + str(yellow_taxi_df.count()))\n",
    "\n",
    "yellow_taxi_df = yellow_taxi_df.na.drop(\"all\")\n",
    "\n",
    "print(\"After operation = \" + str(yellow_taxi_df.count()))\n"
   ]
  },
  {
   "cell_type": "markdown",
   "id": "b647fb61-ff07-4abb-9c9f-1afed7dd926d",
   "metadata": {},
   "source": [
    "## Nun Nullwerte mit anderen Werten auffüllen\n"
   ]
  },
  {
   "cell_type": "code",
   "execution_count": 11,
   "id": "69af17b6-aff6-4e29-ae27-46fb555557a5",
   "metadata": {},
   "outputs": [],
   "source": [
    "default_value_map = {'payment_type': 5, 'RateCodeId': 1}\n",
    "\n",
    "yellow_taxi_df = yellow_taxi_df.na.fill(default_value_map)"
   ]
  },
  {
   "cell_type": "markdown",
   "id": "9c4966bc-5307-4f81-a2c7-72b3b8d9be05",
   "metadata": {},
   "source": [
    "## Duplikate entfernen\n"
   ]
  },
  {
   "cell_type": "code",
   "execution_count": 12,
   "id": "cf11a176-a398-4e0c-9dfa-7b3d0c5ac46e",
   "metadata": {},
   "outputs": [
    {
     "name": "stderr",
     "output_type": "stream",
     "text": [
      "23/09/02 11:09:21 WARN CSVHeaderChecker: CSV header does not conform to the schema.\n",
      " Header: VendorID, tpep_pickup_datetime, tpep_dropoff_datetime, passenger_count, trip_distance, RatecodeID, store_and_fwd_flag, PULocationID, DOLocationID, payment_type, fare_amount, extra, mta_tax, tip_amount, tolls_amount, improvement_surcharge, total_amount, congestion_surcharge, airport_fee\n",
      " Schema: VendorId, lpep_pickup_datetime, lpep_dropoff_datetime, passenger_count, trip_distance, RatecodeID, store_and_fwd_flag, PULocationID, DOLocationID, payment_type, fare_amount, extra, mta_tax, tip_amount, tolls_amount, improvement_surcharge, total_amount, congestion_surcharge, airport_fee\n",
      "Expected: lpep_pickup_datetime but found: tpep_pickup_datetime\n",
      "CSV file: file:///home/pupil/spark-course/course/02-Dataframes/YellowTaxis_202210.csv.gz\n",
      "                                                                                \r"
     ]
    },
    {
     "name": "stdout",
     "output_type": "stream",
     "text": [
      "Vor der Operation: 3422296\n"
     ]
    },
    {
     "name": "stderr",
     "output_type": "stream",
     "text": [
      "23/09/02 11:09:57 WARN CSVHeaderChecker: CSV header does not conform to the schema.\n",
      " Header: VendorID, tpep_pickup_datetime, tpep_dropoff_datetime, passenger_count, trip_distance, RatecodeID, store_and_fwd_flag, PULocationID, DOLocationID, payment_type, fare_amount, extra, mta_tax, tip_amount, tolls_amount, improvement_surcharge, total_amount, congestion_surcharge, airport_fee\n",
      " Schema: VendorId, lpep_pickup_datetime, lpep_dropoff_datetime, passenger_count, trip_distance, RatecodeID, store_and_fwd_flag, PULocationID, DOLocationID, payment_type, fare_amount, extra, mta_tax, tip_amount, tolls_amount, improvement_surcharge, total_amount, congestion_surcharge, airport_fee\n",
      "Expected: lpep_pickup_datetime but found: tpep_pickup_datetime\n",
      "CSV file: file:///home/pupil/spark-course/course/02-Dataframes/YellowTaxis_202210.csv.gz\n",
      "[Stage 13:=====================================================>(197 + 3) / 200]\r"
     ]
    },
    {
     "name": "stdout",
     "output_type": "stream",
     "text": [
      "Nach der Operation: 3422295\n"
     ]
    },
    {
     "name": "stderr",
     "output_type": "stream",
     "text": [
      "                                                                                \r"
     ]
    }
   ],
   "source": [
    "print(\"Vor der Operation: \" + str(yellow_taxi_df.count()))\n",
    "\n",
    "\n",
    "# you can also specify column-names for identifying duplicates\n",
    "yellow_taxi_without_dup_df = yellow_taxi_df.drop_duplicates()\n",
    "\n",
    "print(\"Nach der Operation: \" + str(yellow_taxi_without_dup_df.count()))"
   ]
  },
  {
   "cell_type": "markdown",
   "id": "0c2df291-99f8-4bdb-a779-da6be6c5053a",
   "metadata": {},
   "source": [
    "## Beschränke Zeiträume"
   ]
  },
  {
   "cell_type": "code",
   "execution_count": 13,
   "id": "0a3f3cec-34d2-4247-99d4-356583354d66",
   "metadata": {},
   "outputs": [
    {
     "name": "stdout",
     "output_type": "stream",
     "text": [
      "root\n",
      " |-- VendorId: integer (nullable = true)\n",
      " |-- lpep_pickup_datetime: timestamp (nullable = true)\n",
      " |-- lpep_dropoff_datetime: timestamp (nullable = true)\n",
      " |-- passenger_count: double (nullable = true)\n",
      " |-- trip_distance: double (nullable = true)\n",
      " |-- RatecodeID: double (nullable = false)\n",
      " |-- store_and_fwd_flag: string (nullable = true)\n",
      " |-- PULocationID: integer (nullable = true)\n",
      " |-- DOLocationID: integer (nullable = true)\n",
      " |-- payment_type: integer (nullable = false)\n",
      " |-- fare_amount: double (nullable = true)\n",
      " |-- extra: double (nullable = true)\n",
      " |-- mta_tax: double (nullable = true)\n",
      " |-- tip_amount: double (nullable = true)\n",
      " |-- tolls_amount: double (nullable = true)\n",
      " |-- improvement_surcharge: double (nullable = true)\n",
      " |-- total_amount: double (nullable = true)\n",
      " |-- congestion_surcharge: double (nullable = true)\n",
      " |-- airport_fee: double (nullable = true)\n",
      "\n"
     ]
    }
   ],
   "source": [
    "yellow_taxi_df.printSchema()"
   ]
  },
  {
   "cell_type": "code",
   "execution_count": 14,
   "id": "0f78e50e-647d-46d9-a22b-8eabdc1fa8b1",
   "metadata": {},
   "outputs": [
    {
     "name": "stderr",
     "output_type": "stream",
     "text": [
      "                                                                                \r"
     ]
    },
    {
     "name": "stdout",
     "output_type": "stream",
     "text": [
      "Vor dem Filtern : 3421415\n"
     ]
    },
    {
     "name": "stderr",
     "output_type": "stream",
     "text": [
      "[Stage 57:====================================================> (195 + 4) / 200]\r"
     ]
    },
    {
     "name": "stdout",
     "output_type": "stream",
     "text": [
      "Nach dem Filtern : 3421415\n"
     ]
    },
    {
     "name": "stderr",
     "output_type": "stream",
     "text": [
      "                                                                                \r"
     ]
    }
   ],
   "source": [
    "print(\"Vor dem Filtern : \" + str(yellow_taxi_df.count()))\n",
    "\n",
    "yellow_taxi_df = yellow_taxi_df.where(\"tpep_pickup_datetime >= '2022-10-01' AND tpep_dropoff_datetime < '2022-11-01'\")\n",
    "\n",
    "print (\"Nach dem Filtern : \" + str(yellow_taxi_df.count()))"
   ]
  },
  {
   "cell_type": "markdown",
   "id": "b92b8128-93f9-4ee3-86b0-f95bd5d92cae",
   "metadata": {},
   "source": [
    "## Alles zusammen machen\n"
   ]
  },
  {
   "cell_type": "code",
   "execution_count": 15,
   "id": "2ca950d1-9802-4a69-b797-bfd303a43ac2",
   "metadata": {},
   "outputs": [
    {
     "name": "stderr",
     "output_type": "stream",
     "text": [
      "                                                                                \r"
     ]
    },
    {
     "name": "stdout",
     "output_type": "stream",
     "text": [
      "Vor dem Filtern: 3675412\n"
     ]
    },
    {
     "name": "stderr",
     "output_type": "stream",
     "text": [
      "[Stage 64:=====================================================>(197 + 3) / 200]\r"
     ]
    },
    {
     "name": "stdout",
     "output_type": "stream",
     "text": [
      "Nach dem Filtern: + 3421415\n"
     ]
    },
    {
     "name": "stderr",
     "output_type": "stream",
     "text": [
      "                                                                                \r"
     ]
    }
   ],
   "source": [
    "default_value_map = {'payment_type': 5, 'RateCodeId': 1}\n",
    "\n",
    "yellow_taxi_df = spark.read.option(\"header\", True).schema(schemata.yellow_taxi_schema).csv(\"YellowTaxis_202210.csv.gz\")\n",
    "\n",
    "print(\"Vor dem Filtern: \" + str(yellow_taxi_df.count()))\n",
    "\n",
    "yellow_taxi_df = (\n",
    "    yellow_taxi_df\n",
    "    .where(\"passenger_count > 0\")\n",
    "    .filter(col(\"trip_distance\") > 0.0)\n",
    "    .na.drop(\"all\")\n",
    "    .na.fill(default_value_map)\n",
    "    .drop_duplicates()\n",
    "    .where(\"tpep_pickup_datetime >= '2022-10-01' AND tpep_dropoff_datetime < '2022-11-01'\")\n",
    ")\n",
    "\n",
    "print(\"Nach dem Filtern: + \" + str(yellow_taxi_df.count()))\n"
   ]
  },
  {
   "cell_type": "markdown",
   "id": "26e17a37-dd1b-4d6a-8cd2-c0f242e568b2",
   "metadata": {},
   "source": [
    "# Transformieren"
   ]
  },
  {
   "cell_type": "markdown",
   "id": "74b09b5d-7b3e-4bdc-9703-a9692495abbd",
   "metadata": {},
   "source": [
    "## Spalten limitieren\n"
   ]
  },
  {
   "cell_type": "code",
   "execution_count": 16,
   "id": "98adb257-02c9-416d-bf9f-f1b7005dcdc3",
   "metadata": {},
   "outputs": [
    {
     "name": "stdout",
     "output_type": "stream",
     "text": [
      "root\n",
      " |-- VendorID: integer (nullable = true)\n",
      " |-- tpep_pickup_datetime: timestamp (nullable = true)\n",
      " |-- tpep_dropoff_datetime: timestamp (nullable = true)\n",
      " |-- passenger_count: double (nullable = true)\n",
      " |-- trip_distance: double (nullable = true)\n",
      " |-- RatecodeID: double (nullable = false)\n",
      " |-- store_and_fwd_flag: string (nullable = true)\n",
      " |-- PULocationID: integer (nullable = true)\n",
      " |-- DOLocationID: integer (nullable = true)\n",
      " |-- payment_type: integer (nullable = false)\n",
      " |-- fare_amount: double (nullable = true)\n",
      " |-- extra: double (nullable = true)\n",
      " |-- mta_tax: double (nullable = true)\n",
      " |-- tip_amount: double (nullable = true)\n",
      " |-- tolls_amount: double (nullable = true)\n",
      " |-- improvement_surcharge: double (nullable = true)\n",
      " |-- total_amount: double (nullable = true)\n",
      " |-- congestion_surcharge: double (nullable = true)\n",
      " |-- airport_fee: double (nullable = true)\n",
      "\n"
     ]
    }
   ],
   "source": [
    "yellow_taxi_df.printSchema()"
   ]
  },
  {
   "cell_type": "code",
   "execution_count": 18,
   "id": "fad325eb-8de6-4fb2-b7ce-c82e4e5c7aeb",
   "metadata": {},
   "outputs": [
    {
     "ename": "NameError",
     "evalue": "name 'IntegerType' is not defined",
     "output_type": "error",
     "traceback": [
      "\u001b[0;31m---------------------------------------------------------------------------\u001b[0m",
      "\u001b[0;31mNameError\u001b[0m                                 Traceback (most recent call last)",
      "Cell \u001b[0;32mIn[18], line 4\u001b[0m\n\u001b[1;32m      1\u001b[0m yellow_taxi_df \u001b[38;5;241m=\u001b[39m (\n\u001b[1;32m      2\u001b[0m     yellow_taxi_df\u001b[38;5;241m.\u001b[39mselect(\n\u001b[1;32m      3\u001b[0m         \u001b[38;5;124m\"\u001b[39m\u001b[38;5;124mVendorID\u001b[39m\u001b[38;5;124m\"\u001b[39m,\n\u001b[0;32m----> 4\u001b[0m         col(\u001b[38;5;124m\"\u001b[39m\u001b[38;5;124mpassenger_count\u001b[39m\u001b[38;5;124m\"\u001b[39m)\u001b[38;5;241m.\u001b[39mcast(\u001b[43mIntegerType\u001b[49m()),\n\u001b[1;32m      5\u001b[0m         column(\u001b[38;5;124m\"\u001b[39m\u001b[38;5;124mtrip_distance\u001b[39m\u001b[38;5;124m\"\u001b[39m)\u001b[38;5;241m.\u001b[39malias(\u001b[38;5;124m\"\u001b[39m\u001b[38;5;124mTripDistance\u001b[39m\u001b[38;5;124m\"\u001b[39m),\n\u001b[1;32m      6\u001b[0m         yellow_taxi_df\u001b[38;5;241m.\u001b[39mtpep_pickup_datetime,\n\u001b[1;32m      7\u001b[0m         \u001b[38;5;124m\"\u001b[39m\u001b[38;5;124mtpep_dropoff_datetime\u001b[39m\u001b[38;5;124m\"\u001b[39m,\n\u001b[1;32m      8\u001b[0m         \u001b[38;5;124m\"\u001b[39m\u001b[38;5;124mPULocationID\u001b[39m\u001b[38;5;124m\"\u001b[39m,\n\u001b[1;32m      9\u001b[0m         \u001b[38;5;124m\"\u001b[39m\u001b[38;5;124mDOLocationID\u001b[39m\u001b[38;5;124m\"\u001b[39m,\n\u001b[1;32m     10\u001b[0m         \u001b[38;5;124m\"\u001b[39m\u001b[38;5;124mRatecodeID\u001b[39m\u001b[38;5;124m\"\u001b[39m,\n\u001b[1;32m     11\u001b[0m         \u001b[38;5;124m\"\u001b[39m\u001b[38;5;124mtotal_amount\u001b[39m\u001b[38;5;124m\"\u001b[39m,\n\u001b[1;32m     12\u001b[0m         \u001b[38;5;124m\"\u001b[39m\u001b[38;5;124mpayment_type\u001b[39m\u001b[38;5;124m\"\u001b[39m\n\u001b[1;32m     13\u001b[0m         )\n\u001b[1;32m     14\u001b[0m )\n\u001b[1;32m     15\u001b[0m yellow_taxi_df\u001b[38;5;241m.\u001b[39mprintSchema()\n",
      "\u001b[0;31mNameError\u001b[0m: name 'IntegerType' is not defined"
     ]
    }
   ],
   "source": [
    "yellow_taxi_df = (\n",
    "    yellow_taxi_df.select(\n",
    "        \"VendorID\",\n",
    "        col(\"passenger_count\").cast(IntegerType()),\n",
    "        column(\"trip_distance\").alias(\"TripDistance\"),\n",
    "        yellow_taxi_df.tpep_pickup_datetime,\n",
    "        \"tpep_dropoff_datetime\",\n",
    "        \"PULocationID\",\n",
    "        \"DOLocationID\",\n",
    "        \"RatecodeID\",\n",
    "        \"total_amount\",\n",
    "        \"payment_type\"\n",
    "        )\n",
    ")\n",
    "yellow_taxi_df.printSchema()"
   ]
  },
  {
   "cell_type": "markdown",
   "id": "3502deff-9fe5-4886-ab9d-fc02b6df201c",
   "metadata": {},
   "source": [
    "das schränkt auf die größe des Dataframes ein und macht die Verarbeitung schneller\n"
   ]
  },
  {
   "cell_type": "markdown",
   "id": "ca4326f6-728c-4fc8-bc78-80db1d7c6804",
   "metadata": {},
   "source": [
    "### Spalten umbenennen"
   ]
  },
  {
   "cell_type": "markdown",
   "id": "61bde2bf-b914-49d8-a888-920f82fdc64d",
   "metadata": {},
   "source": [
    "### Abgeleitete Spalten erzeugen"
   ]
  },
  {
   "cell_type": "markdown",
   "id": "ff41129d-11e8-4741-a5c4-0b9f6ca723da",
   "metadata": {},
   "source": [
    "### Ausführpläne\n"
   ]
  },
  {
   "cell_type": "code",
   "execution_count": 41,
   "id": "215371ba-4da8-4fd0-bc22-9b2af148d392",
   "metadata": {},
   "outputs": [
    {
     "name": "stdout",
     "output_type": "stream",
     "text": [
      "== Parsed Logical Plan ==\n",
      "'Filter (('tpep_pickup_datetime >= 2022-10-01) AND ('tpep_dropoff_datetime < 2022-11-01))\n",
      "+- Deduplicate [DOLocationID#2058, improvement_surcharge#2065, tpep_dropoff_datetime#2052, PULocationID#2057, trip_distance#2054, tolls_amount#2064, RatecodeID#2151, VendorID#2050, tip_amount#2063, payment_type#2152, fare_amount#2060, passenger_count#2053, store_and_fwd_flag#2056, extra#2061, airport_fee#2068, congestion_surcharge#2067, total_amount#2066, tpep_pickup_datetime#2051, mta_tax#2062]\n",
      "   +- Project [VendorID#2050, tpep_pickup_datetime#2051, tpep_dropoff_datetime#2052, passenger_count#2053, trip_distance#2054, coalesce(nanvl(RatecodeID#2055, cast(null as double)), cast(1 as double)) AS RatecodeID#2151, store_and_fwd_flag#2056, PULocationID#2057, DOLocationID#2058, coalesce(payment_type#2059, cast(5 as int)) AS payment_type#2152, fare_amount#2060, extra#2061, mta_tax#2062, tip_amount#2063, tolls_amount#2064, improvement_surcharge#2065, total_amount#2066, congestion_surcharge#2067, airport_fee#2068]\n",
      "      +- Filter atleastnnonnulls(1, VendorID#2050, tpep_pickup_datetime#2051, tpep_dropoff_datetime#2052, passenger_count#2053, trip_distance#2054, RatecodeID#2055, store_and_fwd_flag#2056, PULocationID#2057, DOLocationID#2058, payment_type#2059, fare_amount#2060, extra#2061, mta_tax#2062, tip_amount#2063, tolls_amount#2064, improvement_surcharge#2065, total_amount#2066, congestion_surcharge#2067, airport_fee#2068)\n",
      "         +- Filter (trip_distance#2054 > 0.0)\n",
      "            +- Filter (passenger_count#2053 > cast(0 as double))\n",
      "               +- Relation [VendorID#2050,tpep_pickup_datetime#2051,tpep_dropoff_datetime#2052,passenger_count#2053,trip_distance#2054,RatecodeID#2055,store_and_fwd_flag#2056,PULocationID#2057,DOLocationID#2058,payment_type#2059,fare_amount#2060,extra#2061,mta_tax#2062,tip_amount#2063,tolls_amount#2064,improvement_surcharge#2065,total_amount#2066,congestion_surcharge#2067,airport_fee#2068] csv\n",
      "\n",
      "== Analyzed Logical Plan ==\n",
      "VendorID: int, tpep_pickup_datetime: timestamp, tpep_dropoff_datetime: timestamp, passenger_count: double, trip_distance: double, RatecodeID: double, store_and_fwd_flag: string, PULocationID: int, DOLocationID: int, payment_type: int, fare_amount: double, extra: double, mta_tax: double, tip_amount: double, tolls_amount: double, improvement_surcharge: double, total_amount: double, congestion_surcharge: double, airport_fee: double\n",
      "Filter ((tpep_pickup_datetime#2051 >= cast(2022-10-01 as timestamp)) AND (tpep_dropoff_datetime#2052 < cast(2022-11-01 as timestamp)))\n",
      "+- Deduplicate [DOLocationID#2058, improvement_surcharge#2065, tpep_dropoff_datetime#2052, PULocationID#2057, trip_distance#2054, tolls_amount#2064, RatecodeID#2151, VendorID#2050, tip_amount#2063, payment_type#2152, fare_amount#2060, passenger_count#2053, store_and_fwd_flag#2056, extra#2061, airport_fee#2068, congestion_surcharge#2067, total_amount#2066, tpep_pickup_datetime#2051, mta_tax#2062]\n",
      "   +- Project [VendorID#2050, tpep_pickup_datetime#2051, tpep_dropoff_datetime#2052, passenger_count#2053, trip_distance#2054, coalesce(nanvl(RatecodeID#2055, cast(null as double)), cast(1 as double)) AS RatecodeID#2151, store_and_fwd_flag#2056, PULocationID#2057, DOLocationID#2058, coalesce(payment_type#2059, cast(5 as int)) AS payment_type#2152, fare_amount#2060, extra#2061, mta_tax#2062, tip_amount#2063, tolls_amount#2064, improvement_surcharge#2065, total_amount#2066, congestion_surcharge#2067, airport_fee#2068]\n",
      "      +- Filter atleastnnonnulls(1, VendorID#2050, tpep_pickup_datetime#2051, tpep_dropoff_datetime#2052, passenger_count#2053, trip_distance#2054, RatecodeID#2055, store_and_fwd_flag#2056, PULocationID#2057, DOLocationID#2058, payment_type#2059, fare_amount#2060, extra#2061, mta_tax#2062, tip_amount#2063, tolls_amount#2064, improvement_surcharge#2065, total_amount#2066, congestion_surcharge#2067, airport_fee#2068)\n",
      "         +- Filter (trip_distance#2054 > 0.0)\n",
      "            +- Filter (passenger_count#2053 > cast(0 as double))\n",
      "               +- Relation [VendorID#2050,tpep_pickup_datetime#2051,tpep_dropoff_datetime#2052,passenger_count#2053,trip_distance#2054,RatecodeID#2055,store_and_fwd_flag#2056,PULocationID#2057,DOLocationID#2058,payment_type#2059,fare_amount#2060,extra#2061,mta_tax#2062,tip_amount#2063,tolls_amount#2064,improvement_surcharge#2065,total_amount#2066,congestion_surcharge#2067,airport_fee#2068] csv\n",
      "\n",
      "== Optimized Logical Plan ==\n",
      "Aggregate [DOLocationID#2058, improvement_surcharge#2065, tpep_dropoff_datetime#2052, PULocationID#2057, trip_distance#2054, tolls_amount#2064, RatecodeID#2151, VendorID#2050, tip_amount#2063, payment_type#2152, fare_amount#2060, passenger_count#2053, store_and_fwd_flag#2056, extra#2061, airport_fee#2068, congestion_surcharge#2067, total_amount#2066, tpep_pickup_datetime#2051, mta_tax#2062], [VendorID#2050, tpep_pickup_datetime#2051, tpep_dropoff_datetime#2052, passenger_count#2053, trip_distance#2054, RatecodeID#2151, store_and_fwd_flag#2056, PULocationID#2057, DOLocationID#2058, payment_type#2152, fare_amount#2060, extra#2061, mta_tax#2062, tip_amount#2063, tolls_amount#2064, improvement_surcharge#2065, total_amount#2066, congestion_surcharge#2067, airport_fee#2068]\n",
      "+- Project [VendorID#2050, tpep_pickup_datetime#2051, tpep_dropoff_datetime#2052, passenger_count#2053, trip_distance#2054, coalesce(nanvl(RatecodeID#2055, null), 1.0) AS RatecodeID#2151, store_and_fwd_flag#2056, PULocationID#2057, DOLocationID#2058, coalesce(payment_type#2059, 5) AS payment_type#2152, fare_amount#2060, extra#2061, mta_tax#2062, tip_amount#2063, tolls_amount#2064, improvement_surcharge#2065, total_amount#2066, congestion_surcharge#2067, airport_fee#2068]\n",
      "   +- Filter ((((isnotnull(passenger_count#2053) AND isnotnull(trip_distance#2054)) AND isnotnull(tpep_pickup_datetime#2051)) AND isnotnull(tpep_dropoff_datetime#2052)) AND (((passenger_count#2053 > 0.0) AND (trip_distance#2054 > 0.0)) AND ((atleastnnonnulls(1, VendorID#2050, tpep_pickup_datetime#2051, tpep_dropoff_datetime#2052, passenger_count#2053, trip_distance#2054, RatecodeID#2055, store_and_fwd_flag#2056, PULocationID#2057, DOLocationID#2058, payment_type#2059, fare_amount#2060, extra#2061, mta_tax#2062, tip_amount#2063, tolls_amount#2064, improvement_surcharge#2065, total_amount#2066, congestion_surcharge#2067, airport_fee#2068) AND (tpep_pickup_datetime#2051 >= 2022-10-01 00:00:00)) AND (tpep_dropoff_datetime#2052 < 2022-11-01 00:00:00))))\n",
      "      +- Relation [VendorID#2050,tpep_pickup_datetime#2051,tpep_dropoff_datetime#2052,passenger_count#2053,trip_distance#2054,RatecodeID#2055,store_and_fwd_flag#2056,PULocationID#2057,DOLocationID#2058,payment_type#2059,fare_amount#2060,extra#2061,mta_tax#2062,tip_amount#2063,tolls_amount#2064,improvement_surcharge#2065,total_amount#2066,congestion_surcharge#2067,airport_fee#2068] csv\n",
      "\n",
      "== Physical Plan ==\n",
      "*(2) HashAggregate(keys=[DOLocationID#2058, improvement_surcharge#2065, tpep_dropoff_datetime#2052, PULocationID#2057, trip_distance#2054, tolls_amount#2064, RatecodeID#2151, VendorID#2050, tip_amount#2063, payment_type#2152, fare_amount#2060, passenger_count#2053, store_and_fwd_flag#2056, extra#2061, airport_fee#2068, congestion_surcharge#2067, total_amount#2066, tpep_pickup_datetime#2051, mta_tax#2062], functions=[], output=[VendorID#2050, tpep_pickup_datetime#2051, tpep_dropoff_datetime#2052, passenger_count#2053, trip_distance#2054, RatecodeID#2151, store_and_fwd_flag#2056, PULocationID#2057, DOLocationID#2058, payment_type#2152, fare_amount#2060, extra#2061, mta_tax#2062, tip_amount#2063, tolls_amount#2064, improvement_surcharge#2065, total_amount#2066, congestion_surcharge#2067, airport_fee#2068])\n",
      "+- Exchange hashpartitioning(DOLocationID#2058, improvement_surcharge#2065, tpep_dropoff_datetime#2052, PULocationID#2057, trip_distance#2054, tolls_amount#2064, RatecodeID#2151, VendorID#2050, tip_amount#2063, payment_type#2152, fare_amount#2060, passenger_count#2053, store_and_fwd_flag#2056, extra#2061, airport_fee#2068, congestion_surcharge#2067, total_amount#2066, tpep_pickup_datetime#2051, mta_tax#2062, 200), ENSURE_REQUIREMENTS, [plan_id=1477]\n",
      "   +- *(1) HashAggregate(keys=[DOLocationID#2058, knownfloatingpointnormalized(normalizenanandzero(improvement_surcharge#2065)) AS improvement_surcharge#2065, tpep_dropoff_datetime#2052, PULocationID#2057, knownfloatingpointnormalized(normalizenanandzero(trip_distance#2054)) AS trip_distance#2054, knownfloatingpointnormalized(normalizenanandzero(tolls_amount#2064)) AS tolls_amount#2064, knownfloatingpointnormalized(normalizenanandzero(RatecodeID#2151)) AS RatecodeID#2151, VendorID#2050, knownfloatingpointnormalized(normalizenanandzero(tip_amount#2063)) AS tip_amount#2063, payment_type#2152, knownfloatingpointnormalized(normalizenanandzero(fare_amount#2060)) AS fare_amount#2060, knownfloatingpointnormalized(normalizenanandzero(passenger_count#2053)) AS passenger_count#2053, store_and_fwd_flag#2056, knownfloatingpointnormalized(normalizenanandzero(extra#2061)) AS extra#2061, knownfloatingpointnormalized(normalizenanandzero(airport_fee#2068)) AS airport_fee#2068, knownfloatingpointnormalized(normalizenanandzero(congestion_surcharge#2067)) AS congestion_surcharge#2067, knownfloatingpointnormalized(normalizenanandzero(total_amount#2066)) AS total_amount#2066, tpep_pickup_datetime#2051, knownfloatingpointnormalized(normalizenanandzero(mta_tax#2062)) AS mta_tax#2062], functions=[], output=[DOLocationID#2058, improvement_surcharge#2065, tpep_dropoff_datetime#2052, PULocationID#2057, trip_distance#2054, tolls_amount#2064, RatecodeID#2151, VendorID#2050, tip_amount#2063, payment_type#2152, fare_amount#2060, passenger_count#2053, store_and_fwd_flag#2056, extra#2061, airport_fee#2068, congestion_surcharge#2067, total_amount#2066, tpep_pickup_datetime#2051, mta_tax#2062])\n",
      "      +- *(1) Project [VendorID#2050, tpep_pickup_datetime#2051, tpep_dropoff_datetime#2052, passenger_count#2053, trip_distance#2054, coalesce(nanvl(RatecodeID#2055, null), 1.0) AS RatecodeID#2151, store_and_fwd_flag#2056, PULocationID#2057, DOLocationID#2058, coalesce(payment_type#2059, 5) AS payment_type#2152, fare_amount#2060, extra#2061, mta_tax#2062, tip_amount#2063, tolls_amount#2064, improvement_surcharge#2065, total_amount#2066, congestion_surcharge#2067, airport_fee#2068]\n",
      "         +- *(1) Filter ((((((((isnotnull(passenger_count#2053) AND isnotnull(trip_distance#2054)) AND isnotnull(tpep_pickup_datetime#2051)) AND isnotnull(tpep_dropoff_datetime#2052)) AND (passenger_count#2053 > 0.0)) AND (trip_distance#2054 > 0.0)) AND atleastnnonnulls(1, VendorID#2050, tpep_pickup_datetime#2051, tpep_dropoff_datetime#2052, passenger_count#2053, trip_distance#2054, RatecodeID#2055, store_and_fwd_flag#2056, PULocationID#2057, DOLocationID#2058, payment_type#2059, fare_amount#2060, extra#2061, mta_tax#2062, tip_amount#2063, tolls_amount#2064, improvement_surcharge#2065, total_amount#2066, congestion_surcharge#2067, airport_fee#2068)) AND (tpep_pickup_datetime#2051 >= 2022-10-01 00:00:00)) AND (tpep_dropoff_datetime#2052 < 2022-11-01 00:00:00))\n",
      "            +- FileScan csv [VendorID#2050,tpep_pickup_datetime#2051,tpep_dropoff_datetime#2052,passenger_count#2053,trip_distance#2054,RatecodeID#2055,store_and_fwd_flag#2056,PULocationID#2057,DOLocationID#2058,payment_type#2059,fare_amount#2060,extra#2061,mta_tax#2062,tip_amount#2063,tolls_amount#2064,improvement_surcharge#2065,total_amount#2066,congestion_surcharge#2067,airport_fee#2068] Batched: false, DataFilters: [isnotnull(passenger_count#2053), isnotnull(trip_distance#2054), isnotnull(tpep_pickup_datetime#2..., Format: CSV, Location: InMemoryFileIndex(1 paths)[file:/home/pupil/spark-course/course/02-Dataframes/YellowTaxis_202210...., PartitionFilters: [], PushedFilters: [IsNotNull(passenger_count), IsNotNull(trip_distance), IsNotNull(tpep_pickup_datetime), IsNotNull..., ReadSchema: struct<VendorID:int,tpep_pickup_datetime:timestamp,tpep_dropoff_datetime:timestamp,passenger_coun...\n",
      "\n"
     ]
    }
   ],
   "source": [
    "yellow_taxi_df.explain(mode=\"extended\")"
   ]
  },
  {
   "cell_type": "markdown",
   "id": "3ab562d9-88d8-42b3-bc2c-65201e354386",
   "metadata": {},
   "source": [
    "## Zugriffe auf nested Json Content"
   ]
  },
  {
   "cell_type": "code",
   "execution_count": 42,
   "id": "707ef0b9-f4ee-4ef0-b9fd-7722b232c69f",
   "metadata": {},
   "outputs": [
    {
     "name": "stdout",
     "output_type": "stream",
     "text": [
      "foo\n"
     ]
    }
   ],
   "source": [
    "import schemata"
   ]
  },
  {
   "cell_type": "markdown",
   "id": "660ff81c-ccde-4231-95b5-2fc429ad9621",
   "metadata": {},
   "source": [
    "### Aggregationen"
   ]
  },
  {
   "cell_type": "code",
   "execution_count": null,
   "id": "beea6d95-0e89-4c8c-9e50-259a124d8c4c",
   "metadata": {},
   "outputs": [],
   "source": [
    "yel"
   ]
  },
  {
   "cell_type": "code",
   "execution_count": null,
   "id": "c6975f02-3fbe-4b37-a606-0c7ff0f795fe",
   "metadata": {},
   "outputs": [],
   "source": []
  }
 ],
 "metadata": {
  "kernelspec": {
   "display_name": "Python 3 (ipykernel)",
   "language": "python",
   "name": "python3"
  },
  "language_info": {
   "codemirror_mode": {
    "name": "ipython",
    "version": 3
   },
   "file_extension": ".py",
   "mimetype": "text/x-python",
   "name": "python",
   "nbconvert_exporter": "python",
   "pygments_lexer": "ipython3",
   "version": "3.10.12"
  }
 },
 "nbformat": 4,
 "nbformat_minor": 5
}
