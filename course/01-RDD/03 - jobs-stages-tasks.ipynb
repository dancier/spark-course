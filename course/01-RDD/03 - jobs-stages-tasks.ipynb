{
 "cells": [
  {
   "cell_type": "markdown",
   "id": "7eb362c8-9df3-4564-8989-159e18cef193",
   "metadata": {
    "tags": []
   },
   "source": [
    "# Transformations and Actions\n",
    "\n",
    "Es gibt nur diese zwei verschiedene Operationen auf RDDs. Es ist wichtig, dass wir diese verstehen und auseinanderhalten können.\n",
    "\n",
    "## Transformationen\n",
    "\n",
    "* Eine Operation welche aus einem RDD einen neuen RDD erzeugt.\n",
    "* Sie bauen den Lineage Graph auf\n",
    "\n",
    "Bespiele sind:\n",
    "\n",
    "* Lesen einer Datei\n",
    "* Mappen einer Spalte in einen anderen Wert\n",
    "* Filter eines RDDs (nur Personen aus Hamburg)\n",
    "\n",
    "Sie werden **lazy** ausgeführt: erst wenn eine Action-Operation ausgeführt wird\n",
    "\n",
    "![](RDD-lineage-graph.dio.svg)\n",
    "\n",
    "## Actions\n",
    "\n",
    "* Gibt das Ergebniss von RDD-Anwendungen aus\n",
    "* Stößt die Anwendung von Transformationen über den Lineage-Graph an\n",
    "\n",
    "Bespiele sind:\n",
    "\n",
    "* Schreibe eine Ausgabe auf die Festplatte\n",
    "* Gebe die Ausgabe auf dem Bildschirm aus\n",
    "* Gib die Anzahl aus\n"
   ]
  },
  {
   "cell_type": "code",
   "execution_count": 2,
   "id": "4a66de77-e72c-49e9-ab3b-e17fd2f39925",
   "metadata": {
    "tags": []
   },
   "outputs": [
    {
     "data": {
      "text/plain": [
       "'/usr/local/lib/python3.10/dist-packages/pyspark'"
      ]
     },
     "execution_count": 2,
     "metadata": {},
     "output_type": "execute_result"
    }
   ],
   "source": [
    "import findspark\n",
    "findspark.init()\n",
    "findspark.find()"
   ]
  },
  {
   "cell_type": "code",
   "execution_count": 3,
   "id": "d2f7bd87-9fe7-403f-8813-8ab947c687a5",
   "metadata": {
    "tags": []
   },
   "outputs": [
    {
     "name": "stderr",
     "output_type": "stream",
     "text": [
      "23/09/10 07:56:01 WARN Utils: Your hostname, pupil-a resolves to a loopback address: 127.0.1.1; using 5.75.165.200 instead (on interface eth0)\n",
      "23/09/10 07:56:01 WARN Utils: Set SPARK_LOCAL_IP if you need to bind to another address\n",
      "Setting default log level to \"WARN\".\n",
      "To adjust logging level use sc.setLogLevel(newLevel). For SparkR, use setLogLevel(newLevel).\n",
      "23/09/10 07:56:02 WARN NativeCodeLoader: Unable to load native-hadoop library for your platform... using builtin-java classes where applicable\n"
     ]
    },
    {
     "data": {
      "text/html": [
       "\n",
       "            <div>\n",
       "                <p><b>SparkSession - in-memory</b></p>\n",
       "                \n",
       "        <div>\n",
       "            <p><b>SparkContext</b></p>\n",
       "\n",
       "            <p><a href=\"http://pupil-a.bin-ich-tot.de:4040\">Spark UI</a></p>\n",
       "\n",
       "            <dl>\n",
       "              <dt>Version</dt>\n",
       "                <dd><code>v3.4.1</code></dd>\n",
       "              <dt>Master</dt>\n",
       "                <dd><code>local[4]</code></dd>\n",
       "              <dt>AppName</dt>\n",
       "                <dd><code>RDD-Basic-Operations</code></dd>\n",
       "            </dl>\n",
       "        </div>\n",
       "        \n",
       "            </div>\n",
       "        "
      ],
      "text/plain": [
       "<pyspark.sql.session.SparkSession at 0x7fcc2bf8e890>"
      ]
     },
     "execution_count": 3,
     "metadata": {},
     "output_type": "execute_result"
    }
   ],
   "source": [
    "from pyspark.sql import SparkSession\n",
    "from pyspark.sql.types import *\n",
    "\n",
    "spark = (\n",
    "    SparkSession\n",
    "        .builder\n",
    "        .appName(\"RDD-Basic-Operations\")\n",
    "        .master(\"local[4]\")\n",
    "        .getOrCreate()\n",
    ")\n",
    "\n",
    "sc = spark.sparkContext\n",
    "\n",
    "spark"
   ]
  },
  {
   "cell_type": "code",
   "execution_count": 4,
   "id": "834894b2-b84f-4424-9999-6fad709fcb03",
   "metadata": {
    "tags": []
   },
   "outputs": [],
   "source": [
    "# erzeuge RDD mit Hilfe des Spark Kontext\n",
    "\n",
    "numbers_rdd = sc.parallelize([1, 2, 3, 4, 5])"
   ]
  },
  {
   "cell_type": "markdown",
   "id": "44bc19f8-fa40-4374-b8c0-0083f7baf593",
   "metadata": {},
   "source": [
    "Wurde die Operation wirklich ausgeführt?\n",
    "\n",
    "Nein: sie wurde nur dem Lineage Graph hinzugefügt.\n",
    "\n",
    "Wir können das in der Spark-UI überprüfen."
   ]
  },
  {
   "cell_type": "code",
   "execution_count": 5,
   "id": "56bacbf6-f89f-4929-a964-f639a59d0eec",
   "metadata": {
    "tags": []
   },
   "outputs": [
    {
     "name": "stderr",
     "output_type": "stream",
     "text": [
      "                                                                                \r"
     ]
    },
    {
     "data": {
      "text/plain": [
       "[1, 2, 3, 4, 5]"
      ]
     },
     "execution_count": 5,
     "metadata": {},
     "output_type": "execute_result"
    }
   ],
   "source": [
    "# Nun geben wir den RDD aus\n",
    "\n",
    "numbers_rdd.collect()"
   ]
  },
  {
   "cell_type": "markdown",
   "id": "0f20bb0e-14b5-48a8-a06c-ae842dae280d",
   "metadata": {},
   "source": [
    "In der Spark-UI sehen wir nun **1** Job und **4** Tasks."
   ]
  },
  {
   "cell_type": "code",
   "execution_count": 6,
   "id": "b9e715a5-10a1-4d5f-b7e5-ab1cd1de9862",
   "metadata": {
    "tags": []
   },
   "outputs": [
    {
     "name": "stderr",
     "output_type": "stream",
     "text": [
      "                                                                                \r"
     ]
    },
    {
     "data": {
      "text/plain": [
       "1"
      ]
     },
     "execution_count": 6,
     "metadata": {},
     "output_type": "execute_result"
    }
   ],
   "source": [
    "# Nun das erste Element ausgeben\n",
    "\n",
    "numbers_rdd.first()"
   ]
  },
  {
   "cell_type": "markdown",
   "id": "e639c6cc-aa3e-43ea-9811-4ec6170eb4ed",
   "metadata": {},
   "source": [
    "Wir sehen in der Spark UI einen neuen Job mit genau einem Task."
   ]
  },
  {
   "cell_type": "code",
   "execution_count": 7,
   "id": "d8162e45-5948-427f-b2d6-803c891da69a",
   "metadata": {
    "tags": []
   },
   "outputs": [],
   "source": [
    "# Nun führen wir mehere Operationen hintereinander aus\n",
    "\n",
    "taxi_zones_rdd = sc.textFile(\"TaxiZones.csv\")\n",
    "\n",
    "# aufsplitten\n",
    "taxi_zones_with_cols_rdd = taxi_zones_rdd.map(lambda zone: zone.split(\",\"))\n",
    "\n",
    "# Pair RDD über die Bezirke\n",
    "\n",
    "taxi_zones_by_bezirk = taxi_zones_with_cols_rdd.map(lambda zone: (zone[1],1))\n",
    "\n",
    "# aufsummieren\n",
    "taxi_zones_count_bezirke = taxi_zones_by_bezirk.reduceByKey( lambda a, b: a + b)\n",
    "\n",
    "# filtern\n",
    "\n",
    "only_big_bezirke = taxi_zones_count_bezirke.filter( lambda row: row[1] > 10 )\n"
   ]
  },
  {
   "cell_type": "code",
   "execution_count": 8,
   "id": "bcab54e6-f201-4a47-83c2-de9f168edf63",
   "metadata": {
    "tags": []
   },
   "outputs": [
    {
     "name": "stderr",
     "output_type": "stream",
     "text": [
      "                                                                                \r"
     ]
    },
    {
     "data": {
      "text/plain": [
       "[('Manhattan', 69),\n",
       " ('Brooklyn', 61),\n",
       " ('Queens', 69),\n",
       " ('Bronx', 43),\n",
       " ('Staten Island', 20)]"
      ]
     },
     "execution_count": 8,
     "metadata": {},
     "output_type": "execute_result"
    }
   ],
   "source": [
    "only_big_bezirke.collect()"
   ]
  },
  {
   "cell_type": "markdown",
   "id": "eb4099d0-3a1c-4804-9be4-494d3ae9d2f8",
   "metadata": {},
   "source": [
    "Nun in der Spark-UI prüfen was passiert ist..."
   ]
  },
  {
   "cell_type": "markdown",
   "id": "239a853f-5365-472e-a44f-6da7ac6501f0",
   "metadata": {
    "tags": []
   },
   "source": [
    "## Narrow Transformations\n",
    "\n",
    "Wir erinnern uns: es gibt zwei Arten von Transformationen. Narrow und Wide. Wir schauen uns nun Narrow Transformations an.\n",
    "\n",
    "**Definition**\n",
    "\n",
    "Eine Narrow Transformation ist eine Transformation mit der für eine Output-Partition nur genau eine Eingabe Partition genutzt wird.\n",
    "\n",
    "![](RDD-narrow.dio.svg)\n",
    "\n",
    "Beispiele:\n",
    "* Map\n",
    "* MapPartition\n",
    "* Filter\n",
    "* Sample\n",
    "* Union\n",
    "* ...\n",
    "\n",
    "**Eigenschaften**\n",
    "\n",
    "* Die Anzahl der Eingabe Partitionen ist in der Regel gleich der der Ausgabe-Partitionen.\n",
    "* Sehr schnell. Zwischen den Partitionen werden keine Daten ausgetauscht.\n",
    "\n",
    "\n",
    "## Wide Transformation\n",
    "\n",
    "\n",
    "**Definition**\n",
    "\n",
    "Eine Wide-Transformationen besteht aus zwei Schritten und führt eine sogenannte Shuffle-Partition ein.\n",
    "\n",
    "(GroupBySum)\n",
    "\n",
    "![](RDD-wide.dio.svg)\n",
    "\n",
    "Was können wir hier sehen?\n",
    "\n",
    "* Es entstehen zwei Stages(Schritte) mit jeweils zwei Tasks\n",
    "* Es entsteht eine Serialisierung\n",
    "* Der letzte Schritt ist wieder eine Narrow-Transformation\n",
    "* Wir sehen hier auch klar das bei der Wide-Transformation eine Partition mehrfach verwendet wurde um eine Output-Partition zu erzeugen\n",
    "\n",
    "**Bespiele**\n",
    "\n",
    "* ReduceByKey\n",
    "* Distinct\n",
    "* GroupBy\n",
    "* OrderBy\n",
    "* Distinct\n",
    "* Intersection\n",
    "* ....\n",
    "\n",
    "**Eigenschaften**\n",
    "\n",
    "* Daten müssen zwischen Partitionen hin und herbewegt werden\n",
    "* Teure Operation, Daten müssen geschrieben und gelesen werden (Disk/Network/..)\n",
    "* Es entsteht ein weiterer Schritt. Dieser muss erst komplett beendet werden, dann kann mit dem nächsten begonnen werden\n",
    "* Anzahl Shuffle-Partitionen kann von den Eingangspartitionen abweichen\n"
   ]
  },
  {
   "cell_type": "markdown",
   "id": "1422ed23-2a1b-4089-8ee7-c10e6687df2a",
   "metadata": {},
   "source": [
    "# Jobs, Stages and Tasks"
   ]
  },
  {
   "cell_type": "markdown",
   "id": "c7ada90f-0938-473a-9d90-c04709230630",
   "metadata": {
    "tags": []
   },
   "source": [
    "Nun möchten wir uns ein paar grundsätzliche Konzepte von Spark anschauen, um besser verstehen zu können was dort passiert."
   ]
  },
  {
   "cell_type": "markdown",
   "id": "0a129bad-9b6e-4f5a-a4cd-6e7ea0305c57",
   "metadata": {
    "tags": []
   },
   "source": [
    "![](RDD-Jobs-Stages-Tasks.dio.svg)\n",
    "\n",
    "**Beachte**\n",
    "\n",
    "* Anzahl der Jobs ist gleich der Anzahl der Action Operation\n",
    "* Job 2 macht hier Zeugs doppelt! Das liegt an der Lazyness der Operationen. Dies kann man optimieren, wir sparen das für diesen Kurs aber aus.\n",
    "\n",
    "Lass uns das nun ganz konkret an einem praktischen Beispiel sehen."
   ]
  },
  {
   "cell_type": "markdown",
   "id": "a7e128cb-dff0-4124-8d89-b819bef1e718",
   "metadata": {},
   "source": [
    "## Erster Schritt ist das Lesen der Datei"
   ]
  },
  {
   "cell_type": "code",
   "execution_count": 9,
   "id": "48230e51-1247-4045-a3ee-a09032f2ec42",
   "metadata": {
    "tags": []
   },
   "outputs": [
    {
     "data": {
      "text/plain": [
       "['1,EWR,Newark Airport,EWR',\n",
       " '2,Queens,Jamaica Bay,Boro Zone',\n",
       " '3,Bronx,Allerton/Pelham Gardens,Boro Zone',\n",
       " '4,Manhattan,Alphabet City,Yellow Zone',\n",
       " '5,Staten Island,Arden Heights,Boro Zone',\n",
       " '6,Staten Island,Arrochar/Fort Wadsworth,Boro Zone',\n",
       " '7,Queens,Astoria,Boro Zone',\n",
       " '8,Queens,Astoria Park,Boro Zone',\n",
       " '9,Queens,Auburndale,Boro Zone',\n",
       " '10,Queens,Baisley Park,Boro Zone',\n",
       " '11,Brooklyn,Bath Beach,Boro Zone',\n",
       " '12,Manhattan,Battery Park,Yellow Zone',\n",
       " '13,Manhattan,Battery Park City,Yellow Zone',\n",
       " '14,Brooklyn,Bay Ridge,Boro Zone',\n",
       " '15,Queens,Bay Terrace/Fort Totten,Boro Zone',\n",
       " '16,Queens,Bayside,Boro Zone',\n",
       " '17,Brooklyn,Bedford,Boro Zone',\n",
       " '18,Bronx,Bedford Park,Boro Zone',\n",
       " '19,Queens,Bellerose,Boro Zone',\n",
       " '20,Bronx,Belmont,Boro Zone',\n",
       " '21,Brooklyn,Bensonhurst East,Boro Zone',\n",
       " '22,Brooklyn,Bensonhurst West,Boro Zone',\n",
       " '23,Staten Island,Bloomfield/Emerson Hill,Boro Zone',\n",
       " '24,Manhattan,Bloomingdale,Yellow Zone',\n",
       " '25,Brooklyn,Boerum Hill,Boro Zone',\n",
       " '26,Brooklyn,Borough Park,Boro Zone',\n",
       " '27,Queens,Breezy Point/Fort Tilden/Riis Beach,Boro Zone',\n",
       " '28,Queens,Briarwood/Jamaica Hills,Boro Zone',\n",
       " '29,Brooklyn,Brighton Beach,Boro Zone',\n",
       " '30,Queens,Broad Channel,Boro Zone',\n",
       " '31,Bronx,Bronx Park,Boro Zone',\n",
       " '32,Bronx,Bronxdale,Boro Zone',\n",
       " '33,Brooklyn,Brooklyn Heights,Boro Zone',\n",
       " '34,Brooklyn,Brooklyn Navy Yard,Boro Zone',\n",
       " '35,Brooklyn,Brownsville,Boro Zone',\n",
       " '36,Brooklyn,Bushwick North,Boro Zone',\n",
       " '37,Brooklyn,Bushwick South,Boro Zone',\n",
       " '38,Queens,Cambria Heights,Boro Zone',\n",
       " '39,Brooklyn,Canarsie,Boro Zone',\n",
       " '40,Brooklyn,Carroll Gardens,Boro Zone',\n",
       " '41,Manhattan,Central Harlem,Boro Zone',\n",
       " '42,Manhattan,Central Harlem North,Boro Zone',\n",
       " '43,Manhattan,Central Park,Yellow Zone',\n",
       " '44,Staten Island,Charleston/Tottenville,Boro Zone',\n",
       " '45,Manhattan,Chinatown,Yellow Zone',\n",
       " '46,Bronx,City Island,Boro Zone',\n",
       " '47,Bronx,Claremont/Bathgate,Boro Zone',\n",
       " '48,Manhattan,Clinton East,Yellow Zone',\n",
       " '49,Brooklyn,Clinton Hill,Boro Zone',\n",
       " '50,Manhattan,Clinton West,Yellow Zone',\n",
       " '51,Bronx,Co-Op City,Boro Zone',\n",
       " '52,Brooklyn,Cobble Hill,Boro Zone',\n",
       " '53,Queens,College Point,Boro Zone',\n",
       " '54,Brooklyn,Columbia Street,Boro Zone',\n",
       " '55,Brooklyn,Coney Island,Boro Zone',\n",
       " '56,Queens,Corona,Boro Zone',\n",
       " '57,Queens,Corona,Boro Zone',\n",
       " '58,Bronx,Country Club,Boro Zone',\n",
       " '59,Bronx,Crotona Park,Boro Zone',\n",
       " '60,Bronx,Crotona Park East,Boro Zone',\n",
       " '61,Brooklyn,Crown Heights North,Boro Zone',\n",
       " '62,Brooklyn,Crown Heights South,Boro Zone',\n",
       " '63,Brooklyn,Cypress Hills,Boro Zone',\n",
       " '64,Queens,Douglaston,Boro Zone',\n",
       " '65,Brooklyn,Downtown Brooklyn/MetroTech,Boro Zone',\n",
       " '66,Brooklyn,DUMBO/Vinegar Hill,Boro Zone',\n",
       " '67,Brooklyn,Dyker Heights,Boro Zone',\n",
       " '68,Manhattan,East Chelsea,Yellow Zone',\n",
       " '69,Bronx,East Concourse/Concourse Village,Boro Zone',\n",
       " '70,Queens,East Elmhurst,Boro Zone',\n",
       " '71,Brooklyn,East Flatbush/Farragut,Boro Zone',\n",
       " '72,Brooklyn,East Flatbush/Remsen Village,Boro Zone',\n",
       " '73,Queens,East Flushing,Boro Zone',\n",
       " '74,Manhattan,East Harlem North,Boro Zone',\n",
       " '75,Manhattan,East Harlem South,Boro Zone',\n",
       " '76,Brooklyn,East New York,Boro Zone',\n",
       " '77,Brooklyn,East New York/Pennsylvania Avenue,Boro Zone',\n",
       " '78,Bronx,East Tremont,Boro Zone',\n",
       " '79,Manhattan,East Village,Yellow Zone',\n",
       " '80,Brooklyn,East Williamsburg,Boro Zone',\n",
       " '81,Bronx,Eastchester,Boro Zone',\n",
       " '82,Queens,Elmhurst,Boro Zone',\n",
       " '83,Queens,Elmhurst/Maspeth,Boro Zone',\n",
       " \"84,Staten Island,Eltingville/Annadale/Prince's Bay,Boro Zone\",\n",
       " '85,Brooklyn,Erasmus,Boro Zone',\n",
       " '86,Queens,Far Rockaway,Boro Zone',\n",
       " '87,Manhattan,Financial District North,Yellow Zone',\n",
       " '88,Manhattan,Financial District South,Yellow Zone',\n",
       " '89,Brooklyn,Flatbush/Ditmas Park,Boro Zone',\n",
       " '90,Manhattan,Flatiron,Yellow Zone',\n",
       " '91,Brooklyn,Flatlands,Boro Zone',\n",
       " '92,Queens,Flushing,Boro Zone',\n",
       " '93,Queens,Flushing Meadows-Corona Park,Boro Zone',\n",
       " '94,Bronx,Fordham South,Boro Zone',\n",
       " '95,Queens,Forest Hills,Boro Zone',\n",
       " '96,Queens,Forest Park/Highland Park,Boro Zone',\n",
       " '97,Brooklyn,Fort Greene,Boro Zone',\n",
       " '98,Queens,Fresh Meadows,Boro Zone',\n",
       " '99,Staten Island,Freshkills Park,Boro Zone',\n",
       " '100,Manhattan,Garment District,Yellow Zone',\n",
       " '101,Queens,Glen Oaks,Boro Zone',\n",
       " '102,Queens,Glendale,Boro Zone',\n",
       " \"103,Manhattan,Governor's Island/Ellis Island/Liberty Island,Yellow Zone\",\n",
       " \"104,Manhattan,Governor's Island/Ellis Island/Liberty Island,Yellow Zone\",\n",
       " \"105,Manhattan,Governor's Island/Ellis Island/Liberty Island,Yellow Zone\",\n",
       " '106,Brooklyn,Gowanus,Boro Zone',\n",
       " '107,Manhattan,Gramercy,Yellow Zone',\n",
       " '108,Brooklyn,Gravesend,Boro Zone',\n",
       " '109,Staten Island,Great Kills,Boro Zone',\n",
       " '110,Staten Island,Great Kills Park,Boro Zone',\n",
       " '111,Brooklyn,Green-Wood Cemetery,Boro Zone',\n",
       " '112,Brooklyn,Greenpoint,Boro Zone',\n",
       " '113,Manhattan,Greenwich Village North,Yellow Zone',\n",
       " '114,Manhattan,Greenwich Village South,Yellow Zone',\n",
       " '115,Staten Island,Grymes Hill/Clifton,Boro Zone',\n",
       " '116,Manhattan,Hamilton Heights,Boro Zone',\n",
       " '117,Queens,Hammels/Arverne,Boro Zone',\n",
       " '118,Staten Island,Heartland Village/Todt Hill,Boro Zone',\n",
       " '119,Bronx,Highbridge,Boro Zone',\n",
       " '120,Manhattan,Highbridge Park,Boro Zone',\n",
       " '121,Queens,Hillcrest/Pomonok,Boro Zone',\n",
       " '122,Queens,Hollis,Boro Zone',\n",
       " '123,Brooklyn,Homecrest,Boro Zone',\n",
       " '124,Queens,Howard Beach,Boro Zone',\n",
       " '125,Manhattan,Hudson Sq,Yellow Zone',\n",
       " '126,Bronx,Hunts Point,Boro Zone',\n",
       " '127,Manhattan,Inwood,Boro Zone',\n",
       " '128,Manhattan,Inwood Hill Park,Boro Zone',\n",
       " '129,Queens,Jackson Heights,Boro Zone',\n",
       " '130,Queens,Jamaica,Boro Zone',\n",
       " '131,Queens,Jamaica Estates,Boro Zone',\n",
       " '132,Queens,JFK Airport,Airports',\n",
       " '133,Brooklyn,Kensington,Boro Zone',\n",
       " '134,Queens,Kew Gardens,Boro Zone',\n",
       " '135,Queens,Kew Gardens Hills,Boro Zone',\n",
       " '136,Bronx,Kingsbridge Heights,Boro Zone',\n",
       " '137,Manhattan,Kips Bay,Yellow Zone',\n",
       " '138,Queens,LaGuardia Airport,Airports',\n",
       " '139,Queens,Laurelton,Boro Zone',\n",
       " '140,Manhattan,Lenox Hill East,Yellow Zone',\n",
       " '141,Manhattan,Lenox Hill West,Yellow Zone',\n",
       " '142,Manhattan,Lincoln Square East,Yellow Zone',\n",
       " '143,Manhattan,Lincoln Square West,Yellow Zone',\n",
       " '144,Manhattan,Little Italy/NoLiTa,Yellow Zone',\n",
       " '145,Queens,Long Island City/Hunters Point,Boro Zone',\n",
       " '146,Queens,Long Island City/Queens Plaza,Boro Zone',\n",
       " '147,Bronx,Longwood,Boro Zone',\n",
       " '148,Manhattan,Lower East Side,Yellow Zone',\n",
       " '149,Brooklyn,Madison,Boro Zone',\n",
       " '150,Brooklyn,Manhattan Beach,Boro Zone',\n",
       " '151,Manhattan,Manhattan Valley,Yellow Zone',\n",
       " '152,Manhattan,Manhattanville,Boro Zone',\n",
       " '153,Manhattan,Marble Hill,Boro Zone',\n",
       " '154,Brooklyn,Marine Park/Floyd Bennett Field,Boro Zone',\n",
       " '155,Brooklyn,Marine Park/Mill Basin,Boro Zone',\n",
       " '156,Staten Island,Mariners Harbor,Boro Zone',\n",
       " '157,Queens,Maspeth,Boro Zone',\n",
       " '158,Manhattan,Meatpacking/West Village West,Yellow Zone',\n",
       " '159,Bronx,Melrose South,Boro Zone',\n",
       " '160,Queens,Middle Village,Boro Zone',\n",
       " '161,Manhattan,Midtown Center,Yellow Zone',\n",
       " '162,Manhattan,Midtown East,Yellow Zone',\n",
       " '163,Manhattan,Midtown North,Yellow Zone',\n",
       " '164,Manhattan,Midtown South,Yellow Zone',\n",
       " '165,Brooklyn,Midwood,Boro Zone',\n",
       " '166,Manhattan,Morningside Heights,Boro Zone',\n",
       " '167,Bronx,Morrisania/Melrose,Boro Zone',\n",
       " '168,Bronx,Mott Haven/Port Morris,Boro Zone',\n",
       " '169,Bronx,Mount Hope,Boro Zone',\n",
       " '170,Manhattan,Murray Hill,Yellow Zone',\n",
       " '171,Queens,Murray Hill-Queens,Boro Zone',\n",
       " '172,Staten Island,New Dorp/Midland Beach,Boro Zone',\n",
       " '173,Queens,North Corona,Boro Zone',\n",
       " '174,Bronx,Norwood,Boro Zone',\n",
       " '175,Queens,Oakland Gardens,Boro Zone',\n",
       " '176,Staten Island,Oakwood,Boro Zone',\n",
       " '177,Brooklyn,Ocean Hill,Boro Zone',\n",
       " '178,Brooklyn,Ocean Parkway South,Boro Zone',\n",
       " '179,Queens,Old Astoria,Boro Zone',\n",
       " '180,Queens,Ozone Park,Boro Zone',\n",
       " '181,Brooklyn,Park Slope,Boro Zone',\n",
       " '182,Bronx,Parkchester,Boro Zone',\n",
       " '183,Bronx,Pelham Bay,Boro Zone',\n",
       " '184,Bronx,Pelham Bay Park,Boro Zone',\n",
       " '185,Bronx,Pelham Parkway,Boro Zone',\n",
       " '186,Manhattan,Penn Station/Madison Sq West,Yellow Zone',\n",
       " '187,Staten Island,Port Richmond,Boro Zone',\n",
       " '188,Brooklyn,Prospect-Lefferts Gardens,Boro Zone',\n",
       " '189,Brooklyn,Prospect Heights,Boro Zone',\n",
       " '190,Brooklyn,Prospect Park,Boro Zone',\n",
       " '191,Queens,Queens Village,Boro Zone',\n",
       " '192,Queens,Queensboro Hill,Boro Zone',\n",
       " '193,Queens,Queensbridge/Ravenswood,Boro Zone',\n",
       " '194,Manhattan,Randalls Island,Yellow Zone',\n",
       " '195,Brooklyn,Red Hook,Boro Zone',\n",
       " '196,Queens,Rego Park,Boro Zone',\n",
       " '197,Queens,Richmond Hill,Boro Zone',\n",
       " '198,Queens,Ridgewood,Boro Zone',\n",
       " '199,Bronx,Rikers Island,Boro Zone',\n",
       " '200,Bronx,Riverdale/North Riverdale/Fieldston,Boro Zone',\n",
       " '201,Queens,Rockaway Park,Boro Zone',\n",
       " '202,Manhattan,Roosevelt Island,Boro Zone',\n",
       " '203,Queens,Rosedale,Boro Zone',\n",
       " '204,Staten Island,Rossville/Woodrow,Boro Zone',\n",
       " '205,Queens,Saint Albans,Boro Zone',\n",
       " '206,Staten Island,Saint George/New Brighton,Boro Zone',\n",
       " '207,Queens,Saint Michaels Cemetery/Woodside,Boro Zone',\n",
       " '208,Bronx,Schuylerville/Edgewater Park,Boro Zone',\n",
       " '209,Manhattan,Seaport,Yellow Zone',\n",
       " '210,Brooklyn,Sheepshead Bay,Boro Zone',\n",
       " '211,Manhattan,SoHo,Yellow Zone',\n",
       " '212,Bronx,Soundview/Bruckner,Boro Zone',\n",
       " '213,Bronx,Soundview/Castle Hill,Boro Zone',\n",
       " '214,Staten Island,South Beach/Dongan Hills,Boro Zone',\n",
       " '215,Queens,South Jamaica,Boro Zone',\n",
       " '216,Queens,South Ozone Park,Boro Zone',\n",
       " '217,Brooklyn,South Williamsburg,Boro Zone',\n",
       " '218,Queens,Springfield Gardens North,Boro Zone',\n",
       " '219,Queens,Springfield Gardens South,Boro Zone',\n",
       " '220,Bronx,Spuyten Duyvil/Kingsbridge,Boro Zone',\n",
       " '221,Staten Island,Stapleton,Boro Zone',\n",
       " '222,Brooklyn,Starrett City,Boro Zone',\n",
       " '223,Queens,Steinway,Boro Zone',\n",
       " '224,Manhattan,Stuy Town/Peter Cooper Village,Yellow Zone',\n",
       " '225,Brooklyn,Stuyvesant Heights,Boro Zone',\n",
       " '226,Queens,Sunnyside,Boro Zone',\n",
       " '227,Brooklyn,Sunset Park East,Boro Zone',\n",
       " '228,Brooklyn,Sunset Park West,Boro Zone',\n",
       " '229,Manhattan,Sutton Place/Turtle Bay North,Yellow Zone',\n",
       " '230,Manhattan,Times Sq/Theatre District,Yellow Zone',\n",
       " '231,Manhattan,TriBeCa/Civic Center,Yellow Zone',\n",
       " '232,Manhattan,Two Bridges/Seward Park,Yellow Zone',\n",
       " '233,Manhattan,UN/Turtle Bay South,Yellow Zone',\n",
       " '234,Manhattan,Union Sq,Yellow Zone',\n",
       " '235,Bronx,University Heights/Morris Heights,Boro Zone',\n",
       " '236,Manhattan,Upper East Side North,Yellow Zone',\n",
       " '237,Manhattan,Upper East Side South,Yellow Zone',\n",
       " '238,Manhattan,Upper West Side North,Yellow Zone',\n",
       " '239,Manhattan,Upper West Side South,Yellow Zone',\n",
       " '240,Bronx,Van Cortlandt Park,Boro Zone',\n",
       " '241,Bronx,Van Cortlandt Village,Boro Zone',\n",
       " '242,Bronx,Van Nest/Morris Park,Boro Zone',\n",
       " '243,Manhattan,Washington Heights North,Boro Zone',\n",
       " '244,Manhattan,Washington Heights South,Boro Zone',\n",
       " '245,Staten Island,West Brighton,Boro Zone',\n",
       " '246,Manhattan,West Chelsea/Hudson Yards,Yellow Zone',\n",
       " '247,Bronx,West Concourse,Boro Zone',\n",
       " '248,Bronx,West Farms/Bronx River,Boro Zone',\n",
       " '249,Manhattan,West Village,Yellow Zone',\n",
       " '250,Bronx,Westchester Village/Unionport,Boro Zone',\n",
       " '251,Staten Island,Westerleigh,Boro Zone',\n",
       " '252,Queens,Whitestone,Boro Zone',\n",
       " '253,Queens,Willets Point,Boro Zone',\n",
       " '254,Bronx,Williamsbridge/Olinville,Boro Zone',\n",
       " '255,Brooklyn,Williamsburg (North Side),Boro Zone',\n",
       " '256,Brooklyn,Williamsburg (South Side),Boro Zone',\n",
       " '257,Brooklyn,Windsor Terrace,Boro Zone',\n",
       " '258,Queens,Woodhaven,Boro Zone',\n",
       " '259,Bronx,Woodlawn/Wakefield,Boro Zone',\n",
       " '260,Queens,Woodside,Boro Zone',\n",
       " '261,Manhattan,World Trade Center,Yellow Zone',\n",
       " '262,Manhattan,Yorkville East,Yellow Zone',\n",
       " '263,Manhattan,Yorkville West,Yellow Zone',\n",
       " '264,Unknown,NV,N/A',\n",
       " '265,Unknown,NA,N/A']"
      ]
     },
     "execution_count": 9,
     "metadata": {},
     "output_type": "execute_result"
    }
   ],
   "source": [
    "zones_rdd = sc.textFile(\"TaxiZones.csv\", 4)\n",
    "zones_rdd.collect()"
   ]
  },
  {
   "cell_type": "markdown",
   "id": "c7b6e1fc-d4aa-48a1-9046-ae634942ec63",
   "metadata": {},
   "source": [
    "Überlege wieviele\n",
    "\n",
    " * Jobs\n",
    " * Transformationen\n",
    " * Actions\n",
    " * Stages\n",
    "\n",
    "erzeugt wurden?"
   ]
  },
  {
   "cell_type": "markdown",
   "id": "86faff99-91ce-4555-a1de-8cc63cb3b7c2",
   "metadata": {},
   "source": [
    "**Für die Grübler** ersetze collect() durch take(3) und schaue dir in der Spark-UI die Anzahl der Tasks an..."
   ]
  },
  {
   "cell_type": "markdown",
   "id": "4496f3fa-b78a-4e0d-9d21-a66a37b73732",
   "metadata": {},
   "source": [
    "## Splitting mit Map"
   ]
  },
  {
   "cell_type": "code",
   "execution_count": 10,
   "id": "82b0cc1f-a0f6-4ccc-be72-dcfe9e0aaec5",
   "metadata": {
    "tags": []
   },
   "outputs": [
    {
     "data": {
      "text/plain": [
       "[['1', 'EWR', 'Newark Airport', 'EWR'],\n",
       " ['2', 'Queens', 'Jamaica Bay', 'Boro Zone'],\n",
       " ['3', 'Bronx', 'Allerton/Pelham Gardens', 'Boro Zone'],\n",
       " ['4', 'Manhattan', 'Alphabet City', 'Yellow Zone'],\n",
       " ['5', 'Staten Island', 'Arden Heights', 'Boro Zone'],\n",
       " ['6', 'Staten Island', 'Arrochar/Fort Wadsworth', 'Boro Zone'],\n",
       " ['7', 'Queens', 'Astoria', 'Boro Zone'],\n",
       " ['8', 'Queens', 'Astoria Park', 'Boro Zone'],\n",
       " ['9', 'Queens', 'Auburndale', 'Boro Zone'],\n",
       " ['10', 'Queens', 'Baisley Park', 'Boro Zone'],\n",
       " ['11', 'Brooklyn', 'Bath Beach', 'Boro Zone'],\n",
       " ['12', 'Manhattan', 'Battery Park', 'Yellow Zone'],\n",
       " ['13', 'Manhattan', 'Battery Park City', 'Yellow Zone'],\n",
       " ['14', 'Brooklyn', 'Bay Ridge', 'Boro Zone'],\n",
       " ['15', 'Queens', 'Bay Terrace/Fort Totten', 'Boro Zone'],\n",
       " ['16', 'Queens', 'Bayside', 'Boro Zone'],\n",
       " ['17', 'Brooklyn', 'Bedford', 'Boro Zone'],\n",
       " ['18', 'Bronx', 'Bedford Park', 'Boro Zone'],\n",
       " ['19', 'Queens', 'Bellerose', 'Boro Zone'],\n",
       " ['20', 'Bronx', 'Belmont', 'Boro Zone'],\n",
       " ['21', 'Brooklyn', 'Bensonhurst East', 'Boro Zone'],\n",
       " ['22', 'Brooklyn', 'Bensonhurst West', 'Boro Zone'],\n",
       " ['23', 'Staten Island', 'Bloomfield/Emerson Hill', 'Boro Zone'],\n",
       " ['24', 'Manhattan', 'Bloomingdale', 'Yellow Zone'],\n",
       " ['25', 'Brooklyn', 'Boerum Hill', 'Boro Zone'],\n",
       " ['26', 'Brooklyn', 'Borough Park', 'Boro Zone'],\n",
       " ['27', 'Queens', 'Breezy Point/Fort Tilden/Riis Beach', 'Boro Zone'],\n",
       " ['28', 'Queens', 'Briarwood/Jamaica Hills', 'Boro Zone'],\n",
       " ['29', 'Brooklyn', 'Brighton Beach', 'Boro Zone'],\n",
       " ['30', 'Queens', 'Broad Channel', 'Boro Zone'],\n",
       " ['31', 'Bronx', 'Bronx Park', 'Boro Zone'],\n",
       " ['32', 'Bronx', 'Bronxdale', 'Boro Zone'],\n",
       " ['33', 'Brooklyn', 'Brooklyn Heights', 'Boro Zone'],\n",
       " ['34', 'Brooklyn', 'Brooklyn Navy Yard', 'Boro Zone'],\n",
       " ['35', 'Brooklyn', 'Brownsville', 'Boro Zone'],\n",
       " ['36', 'Brooklyn', 'Bushwick North', 'Boro Zone'],\n",
       " ['37', 'Brooklyn', 'Bushwick South', 'Boro Zone'],\n",
       " ['38', 'Queens', 'Cambria Heights', 'Boro Zone'],\n",
       " ['39', 'Brooklyn', 'Canarsie', 'Boro Zone'],\n",
       " ['40', 'Brooklyn', 'Carroll Gardens', 'Boro Zone'],\n",
       " ['41', 'Manhattan', 'Central Harlem', 'Boro Zone'],\n",
       " ['42', 'Manhattan', 'Central Harlem North', 'Boro Zone'],\n",
       " ['43', 'Manhattan', 'Central Park', 'Yellow Zone'],\n",
       " ['44', 'Staten Island', 'Charleston/Tottenville', 'Boro Zone'],\n",
       " ['45', 'Manhattan', 'Chinatown', 'Yellow Zone'],\n",
       " ['46', 'Bronx', 'City Island', 'Boro Zone'],\n",
       " ['47', 'Bronx', 'Claremont/Bathgate', 'Boro Zone'],\n",
       " ['48', 'Manhattan', 'Clinton East', 'Yellow Zone'],\n",
       " ['49', 'Brooklyn', 'Clinton Hill', 'Boro Zone'],\n",
       " ['50', 'Manhattan', 'Clinton West', 'Yellow Zone'],\n",
       " ['51', 'Bronx', 'Co-Op City', 'Boro Zone'],\n",
       " ['52', 'Brooklyn', 'Cobble Hill', 'Boro Zone'],\n",
       " ['53', 'Queens', 'College Point', 'Boro Zone'],\n",
       " ['54', 'Brooklyn', 'Columbia Street', 'Boro Zone'],\n",
       " ['55', 'Brooklyn', 'Coney Island', 'Boro Zone'],\n",
       " ['56', 'Queens', 'Corona', 'Boro Zone'],\n",
       " ['57', 'Queens', 'Corona', 'Boro Zone'],\n",
       " ['58', 'Bronx', 'Country Club', 'Boro Zone'],\n",
       " ['59', 'Bronx', 'Crotona Park', 'Boro Zone'],\n",
       " ['60', 'Bronx', 'Crotona Park East', 'Boro Zone'],\n",
       " ['61', 'Brooklyn', 'Crown Heights North', 'Boro Zone'],\n",
       " ['62', 'Brooklyn', 'Crown Heights South', 'Boro Zone'],\n",
       " ['63', 'Brooklyn', 'Cypress Hills', 'Boro Zone'],\n",
       " ['64', 'Queens', 'Douglaston', 'Boro Zone'],\n",
       " ['65', 'Brooklyn', 'Downtown Brooklyn/MetroTech', 'Boro Zone'],\n",
       " ['66', 'Brooklyn', 'DUMBO/Vinegar Hill', 'Boro Zone'],\n",
       " ['67', 'Brooklyn', 'Dyker Heights', 'Boro Zone'],\n",
       " ['68', 'Manhattan', 'East Chelsea', 'Yellow Zone'],\n",
       " ['69', 'Bronx', 'East Concourse/Concourse Village', 'Boro Zone'],\n",
       " ['70', 'Queens', 'East Elmhurst', 'Boro Zone'],\n",
       " ['71', 'Brooklyn', 'East Flatbush/Farragut', 'Boro Zone'],\n",
       " ['72', 'Brooklyn', 'East Flatbush/Remsen Village', 'Boro Zone'],\n",
       " ['73', 'Queens', 'East Flushing', 'Boro Zone'],\n",
       " ['74', 'Manhattan', 'East Harlem North', 'Boro Zone'],\n",
       " ['75', 'Manhattan', 'East Harlem South', 'Boro Zone'],\n",
       " ['76', 'Brooklyn', 'East New York', 'Boro Zone'],\n",
       " ['77', 'Brooklyn', 'East New York/Pennsylvania Avenue', 'Boro Zone'],\n",
       " ['78', 'Bronx', 'East Tremont', 'Boro Zone'],\n",
       " ['79', 'Manhattan', 'East Village', 'Yellow Zone'],\n",
       " ['80', 'Brooklyn', 'East Williamsburg', 'Boro Zone'],\n",
       " ['81', 'Bronx', 'Eastchester', 'Boro Zone'],\n",
       " ['82', 'Queens', 'Elmhurst', 'Boro Zone'],\n",
       " ['83', 'Queens', 'Elmhurst/Maspeth', 'Boro Zone'],\n",
       " ['84', 'Staten Island', \"Eltingville/Annadale/Prince's Bay\", 'Boro Zone'],\n",
       " ['85', 'Brooklyn', 'Erasmus', 'Boro Zone'],\n",
       " ['86', 'Queens', 'Far Rockaway', 'Boro Zone'],\n",
       " ['87', 'Manhattan', 'Financial District North', 'Yellow Zone'],\n",
       " ['88', 'Manhattan', 'Financial District South', 'Yellow Zone'],\n",
       " ['89', 'Brooklyn', 'Flatbush/Ditmas Park', 'Boro Zone'],\n",
       " ['90', 'Manhattan', 'Flatiron', 'Yellow Zone'],\n",
       " ['91', 'Brooklyn', 'Flatlands', 'Boro Zone'],\n",
       " ['92', 'Queens', 'Flushing', 'Boro Zone'],\n",
       " ['93', 'Queens', 'Flushing Meadows-Corona Park', 'Boro Zone'],\n",
       " ['94', 'Bronx', 'Fordham South', 'Boro Zone'],\n",
       " ['95', 'Queens', 'Forest Hills', 'Boro Zone'],\n",
       " ['96', 'Queens', 'Forest Park/Highland Park', 'Boro Zone'],\n",
       " ['97', 'Brooklyn', 'Fort Greene', 'Boro Zone'],\n",
       " ['98', 'Queens', 'Fresh Meadows', 'Boro Zone'],\n",
       " ['99', 'Staten Island', 'Freshkills Park', 'Boro Zone'],\n",
       " ['100', 'Manhattan', 'Garment District', 'Yellow Zone'],\n",
       " ['101', 'Queens', 'Glen Oaks', 'Boro Zone'],\n",
       " ['102', 'Queens', 'Glendale', 'Boro Zone'],\n",
       " ['103',\n",
       "  'Manhattan',\n",
       "  \"Governor's Island/Ellis Island/Liberty Island\",\n",
       "  'Yellow Zone'],\n",
       " ['104',\n",
       "  'Manhattan',\n",
       "  \"Governor's Island/Ellis Island/Liberty Island\",\n",
       "  'Yellow Zone'],\n",
       " ['105',\n",
       "  'Manhattan',\n",
       "  \"Governor's Island/Ellis Island/Liberty Island\",\n",
       "  'Yellow Zone'],\n",
       " ['106', 'Brooklyn', 'Gowanus', 'Boro Zone'],\n",
       " ['107', 'Manhattan', 'Gramercy', 'Yellow Zone'],\n",
       " ['108', 'Brooklyn', 'Gravesend', 'Boro Zone'],\n",
       " ['109', 'Staten Island', 'Great Kills', 'Boro Zone'],\n",
       " ['110', 'Staten Island', 'Great Kills Park', 'Boro Zone'],\n",
       " ['111', 'Brooklyn', 'Green-Wood Cemetery', 'Boro Zone'],\n",
       " ['112', 'Brooklyn', 'Greenpoint', 'Boro Zone'],\n",
       " ['113', 'Manhattan', 'Greenwich Village North', 'Yellow Zone'],\n",
       " ['114', 'Manhattan', 'Greenwich Village South', 'Yellow Zone'],\n",
       " ['115', 'Staten Island', 'Grymes Hill/Clifton', 'Boro Zone'],\n",
       " ['116', 'Manhattan', 'Hamilton Heights', 'Boro Zone'],\n",
       " ['117', 'Queens', 'Hammels/Arverne', 'Boro Zone'],\n",
       " ['118', 'Staten Island', 'Heartland Village/Todt Hill', 'Boro Zone'],\n",
       " ['119', 'Bronx', 'Highbridge', 'Boro Zone'],\n",
       " ['120', 'Manhattan', 'Highbridge Park', 'Boro Zone'],\n",
       " ['121', 'Queens', 'Hillcrest/Pomonok', 'Boro Zone'],\n",
       " ['122', 'Queens', 'Hollis', 'Boro Zone'],\n",
       " ['123', 'Brooklyn', 'Homecrest', 'Boro Zone'],\n",
       " ['124', 'Queens', 'Howard Beach', 'Boro Zone'],\n",
       " ['125', 'Manhattan', 'Hudson Sq', 'Yellow Zone'],\n",
       " ['126', 'Bronx', 'Hunts Point', 'Boro Zone'],\n",
       " ['127', 'Manhattan', 'Inwood', 'Boro Zone'],\n",
       " ['128', 'Manhattan', 'Inwood Hill Park', 'Boro Zone'],\n",
       " ['129', 'Queens', 'Jackson Heights', 'Boro Zone'],\n",
       " ['130', 'Queens', 'Jamaica', 'Boro Zone'],\n",
       " ['131', 'Queens', 'Jamaica Estates', 'Boro Zone'],\n",
       " ['132', 'Queens', 'JFK Airport', 'Airports'],\n",
       " ['133', 'Brooklyn', 'Kensington', 'Boro Zone'],\n",
       " ['134', 'Queens', 'Kew Gardens', 'Boro Zone'],\n",
       " ['135', 'Queens', 'Kew Gardens Hills', 'Boro Zone'],\n",
       " ['136', 'Bronx', 'Kingsbridge Heights', 'Boro Zone'],\n",
       " ['137', 'Manhattan', 'Kips Bay', 'Yellow Zone'],\n",
       " ['138', 'Queens', 'LaGuardia Airport', 'Airports'],\n",
       " ['139', 'Queens', 'Laurelton', 'Boro Zone'],\n",
       " ['140', 'Manhattan', 'Lenox Hill East', 'Yellow Zone'],\n",
       " ['141', 'Manhattan', 'Lenox Hill West', 'Yellow Zone'],\n",
       " ['142', 'Manhattan', 'Lincoln Square East', 'Yellow Zone'],\n",
       " ['143', 'Manhattan', 'Lincoln Square West', 'Yellow Zone'],\n",
       " ['144', 'Manhattan', 'Little Italy/NoLiTa', 'Yellow Zone'],\n",
       " ['145', 'Queens', 'Long Island City/Hunters Point', 'Boro Zone'],\n",
       " ['146', 'Queens', 'Long Island City/Queens Plaza', 'Boro Zone'],\n",
       " ['147', 'Bronx', 'Longwood', 'Boro Zone'],\n",
       " ['148', 'Manhattan', 'Lower East Side', 'Yellow Zone'],\n",
       " ['149', 'Brooklyn', 'Madison', 'Boro Zone'],\n",
       " ['150', 'Brooklyn', 'Manhattan Beach', 'Boro Zone'],\n",
       " ['151', 'Manhattan', 'Manhattan Valley', 'Yellow Zone'],\n",
       " ['152', 'Manhattan', 'Manhattanville', 'Boro Zone'],\n",
       " ['153', 'Manhattan', 'Marble Hill', 'Boro Zone'],\n",
       " ['154', 'Brooklyn', 'Marine Park/Floyd Bennett Field', 'Boro Zone'],\n",
       " ['155', 'Brooklyn', 'Marine Park/Mill Basin', 'Boro Zone'],\n",
       " ['156', 'Staten Island', 'Mariners Harbor', 'Boro Zone'],\n",
       " ['157', 'Queens', 'Maspeth', 'Boro Zone'],\n",
       " ['158', 'Manhattan', 'Meatpacking/West Village West', 'Yellow Zone'],\n",
       " ['159', 'Bronx', 'Melrose South', 'Boro Zone'],\n",
       " ['160', 'Queens', 'Middle Village', 'Boro Zone'],\n",
       " ['161', 'Manhattan', 'Midtown Center', 'Yellow Zone'],\n",
       " ['162', 'Manhattan', 'Midtown East', 'Yellow Zone'],\n",
       " ['163', 'Manhattan', 'Midtown North', 'Yellow Zone'],\n",
       " ['164', 'Manhattan', 'Midtown South', 'Yellow Zone'],\n",
       " ['165', 'Brooklyn', 'Midwood', 'Boro Zone'],\n",
       " ['166', 'Manhattan', 'Morningside Heights', 'Boro Zone'],\n",
       " ['167', 'Bronx', 'Morrisania/Melrose', 'Boro Zone'],\n",
       " ['168', 'Bronx', 'Mott Haven/Port Morris', 'Boro Zone'],\n",
       " ['169', 'Bronx', 'Mount Hope', 'Boro Zone'],\n",
       " ['170', 'Manhattan', 'Murray Hill', 'Yellow Zone'],\n",
       " ['171', 'Queens', 'Murray Hill-Queens', 'Boro Zone'],\n",
       " ['172', 'Staten Island', 'New Dorp/Midland Beach', 'Boro Zone'],\n",
       " ['173', 'Queens', 'North Corona', 'Boro Zone'],\n",
       " ['174', 'Bronx', 'Norwood', 'Boro Zone'],\n",
       " ['175', 'Queens', 'Oakland Gardens', 'Boro Zone'],\n",
       " ['176', 'Staten Island', 'Oakwood', 'Boro Zone'],\n",
       " ['177', 'Brooklyn', 'Ocean Hill', 'Boro Zone'],\n",
       " ['178', 'Brooklyn', 'Ocean Parkway South', 'Boro Zone'],\n",
       " ['179', 'Queens', 'Old Astoria', 'Boro Zone'],\n",
       " ['180', 'Queens', 'Ozone Park', 'Boro Zone'],\n",
       " ['181', 'Brooklyn', 'Park Slope', 'Boro Zone'],\n",
       " ['182', 'Bronx', 'Parkchester', 'Boro Zone'],\n",
       " ['183', 'Bronx', 'Pelham Bay', 'Boro Zone'],\n",
       " ['184', 'Bronx', 'Pelham Bay Park', 'Boro Zone'],\n",
       " ['185', 'Bronx', 'Pelham Parkway', 'Boro Zone'],\n",
       " ['186', 'Manhattan', 'Penn Station/Madison Sq West', 'Yellow Zone'],\n",
       " ['187', 'Staten Island', 'Port Richmond', 'Boro Zone'],\n",
       " ['188', 'Brooklyn', 'Prospect-Lefferts Gardens', 'Boro Zone'],\n",
       " ['189', 'Brooklyn', 'Prospect Heights', 'Boro Zone'],\n",
       " ['190', 'Brooklyn', 'Prospect Park', 'Boro Zone'],\n",
       " ['191', 'Queens', 'Queens Village', 'Boro Zone'],\n",
       " ['192', 'Queens', 'Queensboro Hill', 'Boro Zone'],\n",
       " ['193', 'Queens', 'Queensbridge/Ravenswood', 'Boro Zone'],\n",
       " ['194', 'Manhattan', 'Randalls Island', 'Yellow Zone'],\n",
       " ['195', 'Brooklyn', 'Red Hook', 'Boro Zone'],\n",
       " ['196', 'Queens', 'Rego Park', 'Boro Zone'],\n",
       " ['197', 'Queens', 'Richmond Hill', 'Boro Zone'],\n",
       " ['198', 'Queens', 'Ridgewood', 'Boro Zone'],\n",
       " ['199', 'Bronx', 'Rikers Island', 'Boro Zone'],\n",
       " ['200', 'Bronx', 'Riverdale/North Riverdale/Fieldston', 'Boro Zone'],\n",
       " ['201', 'Queens', 'Rockaway Park', 'Boro Zone'],\n",
       " ['202', 'Manhattan', 'Roosevelt Island', 'Boro Zone'],\n",
       " ['203', 'Queens', 'Rosedale', 'Boro Zone'],\n",
       " ['204', 'Staten Island', 'Rossville/Woodrow', 'Boro Zone'],\n",
       " ['205', 'Queens', 'Saint Albans', 'Boro Zone'],\n",
       " ['206', 'Staten Island', 'Saint George/New Brighton', 'Boro Zone'],\n",
       " ['207', 'Queens', 'Saint Michaels Cemetery/Woodside', 'Boro Zone'],\n",
       " ['208', 'Bronx', 'Schuylerville/Edgewater Park', 'Boro Zone'],\n",
       " ['209', 'Manhattan', 'Seaport', 'Yellow Zone'],\n",
       " ['210', 'Brooklyn', 'Sheepshead Bay', 'Boro Zone'],\n",
       " ['211', 'Manhattan', 'SoHo', 'Yellow Zone'],\n",
       " ['212', 'Bronx', 'Soundview/Bruckner', 'Boro Zone'],\n",
       " ['213', 'Bronx', 'Soundview/Castle Hill', 'Boro Zone'],\n",
       " ['214', 'Staten Island', 'South Beach/Dongan Hills', 'Boro Zone'],\n",
       " ['215', 'Queens', 'South Jamaica', 'Boro Zone'],\n",
       " ['216', 'Queens', 'South Ozone Park', 'Boro Zone'],\n",
       " ['217', 'Brooklyn', 'South Williamsburg', 'Boro Zone'],\n",
       " ['218', 'Queens', 'Springfield Gardens North', 'Boro Zone'],\n",
       " ['219', 'Queens', 'Springfield Gardens South', 'Boro Zone'],\n",
       " ['220', 'Bronx', 'Spuyten Duyvil/Kingsbridge', 'Boro Zone'],\n",
       " ['221', 'Staten Island', 'Stapleton', 'Boro Zone'],\n",
       " ['222', 'Brooklyn', 'Starrett City', 'Boro Zone'],\n",
       " ['223', 'Queens', 'Steinway', 'Boro Zone'],\n",
       " ['224', 'Manhattan', 'Stuy Town/Peter Cooper Village', 'Yellow Zone'],\n",
       " ['225', 'Brooklyn', 'Stuyvesant Heights', 'Boro Zone'],\n",
       " ['226', 'Queens', 'Sunnyside', 'Boro Zone'],\n",
       " ['227', 'Brooklyn', 'Sunset Park East', 'Boro Zone'],\n",
       " ['228', 'Brooklyn', 'Sunset Park West', 'Boro Zone'],\n",
       " ['229', 'Manhattan', 'Sutton Place/Turtle Bay North', 'Yellow Zone'],\n",
       " ['230', 'Manhattan', 'Times Sq/Theatre District', 'Yellow Zone'],\n",
       " ['231', 'Manhattan', 'TriBeCa/Civic Center', 'Yellow Zone'],\n",
       " ['232', 'Manhattan', 'Two Bridges/Seward Park', 'Yellow Zone'],\n",
       " ['233', 'Manhattan', 'UN/Turtle Bay South', 'Yellow Zone'],\n",
       " ['234', 'Manhattan', 'Union Sq', 'Yellow Zone'],\n",
       " ['235', 'Bronx', 'University Heights/Morris Heights', 'Boro Zone'],\n",
       " ['236', 'Manhattan', 'Upper East Side North', 'Yellow Zone'],\n",
       " ['237', 'Manhattan', 'Upper East Side South', 'Yellow Zone'],\n",
       " ['238', 'Manhattan', 'Upper West Side North', 'Yellow Zone'],\n",
       " ['239', 'Manhattan', 'Upper West Side South', 'Yellow Zone'],\n",
       " ['240', 'Bronx', 'Van Cortlandt Park', 'Boro Zone'],\n",
       " ['241', 'Bronx', 'Van Cortlandt Village', 'Boro Zone'],\n",
       " ['242', 'Bronx', 'Van Nest/Morris Park', 'Boro Zone'],\n",
       " ['243', 'Manhattan', 'Washington Heights North', 'Boro Zone'],\n",
       " ['244', 'Manhattan', 'Washington Heights South', 'Boro Zone'],\n",
       " ['245', 'Staten Island', 'West Brighton', 'Boro Zone'],\n",
       " ['246', 'Manhattan', 'West Chelsea/Hudson Yards', 'Yellow Zone'],\n",
       " ['247', 'Bronx', 'West Concourse', 'Boro Zone'],\n",
       " ['248', 'Bronx', 'West Farms/Bronx River', 'Boro Zone'],\n",
       " ['249', 'Manhattan', 'West Village', 'Yellow Zone'],\n",
       " ['250', 'Bronx', 'Westchester Village/Unionport', 'Boro Zone'],\n",
       " ['251', 'Staten Island', 'Westerleigh', 'Boro Zone'],\n",
       " ['252', 'Queens', 'Whitestone', 'Boro Zone'],\n",
       " ['253', 'Queens', 'Willets Point', 'Boro Zone'],\n",
       " ['254', 'Bronx', 'Williamsbridge/Olinville', 'Boro Zone'],\n",
       " ['255', 'Brooklyn', 'Williamsburg (North Side)', 'Boro Zone'],\n",
       " ['256', 'Brooklyn', 'Williamsburg (South Side)', 'Boro Zone'],\n",
       " ['257', 'Brooklyn', 'Windsor Terrace', 'Boro Zone'],\n",
       " ['258', 'Queens', 'Woodhaven', 'Boro Zone'],\n",
       " ['259', 'Bronx', 'Woodlawn/Wakefield', 'Boro Zone'],\n",
       " ['260', 'Queens', 'Woodside', 'Boro Zone'],\n",
       " ['261', 'Manhattan', 'World Trade Center', 'Yellow Zone'],\n",
       " ['262', 'Manhattan', 'Yorkville East', 'Yellow Zone'],\n",
       " ['263', 'Manhattan', 'Yorkville West', 'Yellow Zone'],\n",
       " ['264', 'Unknown', 'NV', 'N/A'],\n",
       " ['265', 'Unknown', 'NA', 'N/A']]"
      ]
     },
     "execution_count": 10,
     "metadata": {},
     "output_type": "execute_result"
    }
   ],
   "source": [
    "zones_rdd = sc.textFile(\"TaxiZones.csv\", 4)\n",
    "\n",
    "zones_with_cols_rdd = zones_rdd.map(lambda x: x.split(\",\"))\n",
    "\n",
    "zones_with_cols_rdd.collect()"
   ]
  },
  {
   "cell_type": "markdown",
   "id": "bf7fdb8b-2b82-4800-82c3-b2b8a1bc55cd",
   "metadata": {
    "tags": []
   },
   "source": [
    "Überlege wieviele\n",
    "\n",
    " * Jobs\n",
    " * Transformationen\n",
    " * Actions\n",
    " * Stages\n",
    "\n",
    "erzeugt wurden?"
   ]
  },
  {
   "cell_type": "code",
   "execution_count": 11,
   "id": "b15e134e-c5ea-4ab8-aaee-7f88633db116",
   "metadata": {
    "tags": []
   },
   "outputs": [
    {
     "name": "stdout",
     "output_type": "stream",
     "text": [
      "Nach der ersten Transformation: 4\n",
      "Nach map: 4\n"
     ]
    }
   ],
   "source": [
    "# Hat sich die Anzahl der Partitionen im Laufe der Transformationen verändert?\n",
    "\n",
    "print(\"Nach der ersten Transformation: \" + str(zones_rdd.getNumPartitions()))\n",
    "print(\"Nach map: \" + str(zones_with_cols_rdd.getNumPartitions()))"
   ]
  },
  {
   "cell_type": "markdown",
   "id": "f4ae8e89-db83-48de-ae0f-e5ccceff4109",
   "metadata": {},
   "source": [
    "## Gruppieren"
   ]
  },
  {
   "cell_type": "code",
   "execution_count": 12,
   "id": "0fb5df36-065c-4687-8c6c-e649cd7d98d4",
   "metadata": {
    "tags": []
   },
   "outputs": [
    {
     "data": {
      "text/plain": [
       "265"
      ]
     },
     "execution_count": 12,
     "metadata": {},
     "output_type": "execute_result"
    }
   ],
   "source": [
    "# vorarbeiten zum gruppieren\n",
    "\n",
    "zones_rdd = sc.textFile(\"TaxiZones.csv\", 4)\n",
    "\n",
    "zones_with_cols_rdd = zones_rdd.map(lambda x: x.split(\",\"))\n",
    "\n",
    "zones_by_borrow_rdd = zones_with_cols_rdd.map(lambda x: (x[1],1))\n",
    "\n",
    "zones_by_borrow_rdd.count()"
   ]
  },
  {
   "cell_type": "markdown",
   "id": "c830f4e2-f802-467b-9434-6ae58be4cae4",
   "metadata": {},
   "source": [
    "Überlege wieviele\n",
    "\n",
    " * Jobs\n",
    " * Transformationen\n",
    " * Actions\n",
    " * Stages\n",
    "\n",
    "erzeugt wurden?"
   ]
  },
  {
   "cell_type": "code",
   "execution_count": 13,
   "id": "81a01055-0c53-4c5d-81bb-58bab48ab3a0",
   "metadata": {
    "tags": []
   },
   "outputs": [
    {
     "data": {
      "text/plain": [
       "[('Bronx', 43),\n",
       " ('Staten Island', 20),\n",
       " ('EWR', 1),\n",
       " ('Manhattan', 69),\n",
       " ('Brooklyn', 61),\n",
       " ('Unknown', 2),\n",
       " ('Queens', 69)]"
      ]
     },
     "execution_count": 13,
     "metadata": {},
     "output_type": "execute_result"
    }
   ],
   "source": [
    "zones_rdd = sc.textFile(\"TaxiZones.csv\", 4)\n",
    "\n",
    "zones_with_cols_rdd = zones_rdd.map(lambda x: x.split(\",\"))\n",
    "\n",
    "zones_by_borrow_rdd = zones_with_cols_rdd.map(lambda x: (x[1],1))\n",
    "grouped_rdd = zones_by_borrow_rdd.reduceByKey(lambda x,y: x+y)\n",
    "grouped_rdd.collect()"
   ]
  },
  {
   "cell_type": "markdown",
   "id": "d5961462-e3d6-4ac3-831e-e290dfa2f98b",
   "metadata": {
    "tags": []
   },
   "source": [
    "Überlege wieviele\n",
    "\n",
    " * Jobs\n",
    " * Transformationen\n",
    " * Actions\n",
    " * Stages\n",
    "\n",
    "erzeugt wurden?\n",
    "\n",
    "(In der Spark-UI sich die Stages mal genauer anschauen (In/Out))"
   ]
  },
  {
   "cell_type": "code",
   "execution_count": 14,
   "id": "23995b74-6325-4408-bedd-1491a3c4bb61",
   "metadata": {
    "tags": []
   },
   "outputs": [
    {
     "data": {
      "text/plain": [
       "[('Bronx', 43)]"
      ]
     },
     "execution_count": 14,
     "metadata": {},
     "output_type": "execute_result"
    }
   ],
   "source": [
    "# Das ist jetzt praktisch Job2 aus unserem Beispiel\n",
    "zones_rdd = sc.textFile(\"TaxiZones.csv\", 4)\n",
    "\n",
    "zones_with_cols_rdd = zones_rdd.map(lambda x: x.split(\",\"))\n",
    "\n",
    "zones_by_borrow_rdd = zones_with_cols_rdd.map(lambda x: (x[1],1))\n",
    "grouped_rdd = zones_by_borrow_rdd.reduceByKey(lambda x,y: x+y)\n",
    "filtered_group = grouped_rdd.filter(lambda x: x[0] == \"Bronx\")\n",
    "filtered_group.collect()"
   ]
  },
  {
   "cell_type": "markdown",
   "id": "ef3ecb56-466a-450c-9de5-794b79cfe314",
   "metadata": {},
   "source": [
    "Überlege wieviele\n",
    "\n",
    " * Jobs\n",
    " * Transformationen\n",
    " * Actions\n",
    " * Stages\n",
    "\n",
    "erzeugt wurden?\n",
    "\n",
    "(In der Spark-UI sich die Stages mal genauer anschauen (In/Out))"
   ]
  },
  {
   "cell_type": "code",
   "execution_count": 15,
   "id": "7be191d0-99e7-4cb2-b0fc-0d36b903b044",
   "metadata": {
    "tags": []
   },
   "outputs": [
    {
     "name": "stdout",
     "output_type": "stream",
     "text": [
      "265\n"
     ]
    },
    {
     "name": "stderr",
     "output_type": "stream",
     "text": [
      "                                                                                \r"
     ]
    },
    {
     "data": {
      "text/plain": [
       "[('Bronx', 43)]"
      ]
     },
     "execution_count": 15,
     "metadata": {},
     "output_type": "execute_result"
    }
   ],
   "source": [
    "# Das ist jetzt praktisch Job1 und Job2 aus unserem Beispiel\n",
    "zones_rdd = sc.textFile(\"TaxiZones.csv\", 4)\n",
    "zones_with_cols_rdd = zones_rdd.map(lambda x: x.split(\",\"))\n",
    "zones_by_borrow_rdd = zones_with_cols_rdd.map(lambda x: (x[1],1))\n",
    "print(zones_by_borrow_rdd.count()) ## Job 1 aus dem Beispiel\n",
    "grouped_rdd = zones_by_borrow_rdd.reduceByKey(lambda x,y: x+y)\n",
    "filtered_group = grouped_rdd.filter(lambda x: x[0] == \"Bronx\")\n",
    "filtered_group.collect() # Job 2 aus dem Beispiel"
   ]
  },
  {
   "cell_type": "markdown",
   "id": "8cce67b2-40db-4055-87bf-55df01435f48",
   "metadata": {},
   "source": [
    "Überlege wieviele\n",
    "\n",
    " * Jobs\n",
    " * Transformationen\n",
    " * Actions\n",
    " * Stages\n",
    "\n",
    "erzeugt wurden?\n",
    "\n",
    "(In der Spark-UI sich die Stages mal genauer anschauen (In/Out))"
   ]
  },
  {
   "cell_type": "markdown",
   "id": "8efb188a-4585-4f81-adc4-3cbd58d92b5f",
   "metadata": {
    "tags": []
   },
   "source": [
    "## Take Aways\n",
    "\n",
    "* Es gibt Narrow und Wide-Transformations\n",
    "* Wide-Transformations sind teuer\n",
    "  * fügen eine weitere Stage hinzu\n",
    "  * führen in der Regel zu einer Teilserialisierung\n",
    "* Jede Action für zu einem Job"
   ]
  },
  {
   "cell_type": "code",
   "execution_count": null,
   "id": "2c05fc40-5259-485f-9b81-071d405dbb88",
   "metadata": {},
   "outputs": [],
   "source": []
  }
 ],
 "metadata": {
  "kernelspec": {
   "display_name": "Python 3 (ipykernel)",
   "language": "python",
   "name": "python3"
  },
  "language_info": {
   "codemirror_mode": {
    "name": "ipython",
    "version": 3
   },
   "file_extension": ".py",
   "mimetype": "text/x-python",
   "name": "python",
   "nbconvert_exporter": "python",
   "pygments_lexer": "ipython3",
   "version": "3.10.12"
  }
 },
 "nbformat": 4,
 "nbformat_minor": 5
}
