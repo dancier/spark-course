{
 "cells": [
  {
   "cell_type": "markdown",
   "id": "8fcc1747-e83c-49aa-b7c4-73cc37ad14ff",
   "metadata": {},
   "source": [
    "# Umgang mit Pair-RDDs"
   ]
  },
  {
   "cell_type": "code",
   "execution_count": 1,
   "id": "2741988f-b9a9-4da5-88ee-13785979f0d8",
   "metadata": {
    "tags": []
   },
   "outputs": [
    {
     "name": "stderr",
     "output_type": "stream",
     "text": [
      "23/09/08 17:23:36 WARN Utils: Your hostname, pupil-a resolves to a loopback address: 127.0.1.1; using 167.235.141.210 instead (on interface eth0)\n",
      "23/09/08 17:23:36 WARN Utils: Set SPARK_LOCAL_IP if you need to bind to another address\n",
      "Setting default log level to \"WARN\".\n",
      "To adjust logging level use sc.setLogLevel(newLevel). For SparkR, use setLogLevel(newLevel).\n",
      "23/09/08 17:23:37 WARN NativeCodeLoader: Unable to load native-hadoop library for your platform... using builtin-java classes where applicable\n",
      "23/09/08 17:23:38 WARN Utils: Service 'SparkUI' could not bind on port 4040. Attempting port 4041.\n"
     ]
    },
    {
     "data": {
      "text/html": [
       "\n",
       "            <div>\n",
       "                <p><b>SparkSession - in-memory</b></p>\n",
       "                \n",
       "        <div>\n",
       "            <p><b>SparkContext</b></p>\n",
       "\n",
       "            <p><a href=\"http://pupil-a.bin-ich-tot.de:4041\">Spark UI</a></p>\n",
       "\n",
       "            <dl>\n",
       "              <dt>Version</dt>\n",
       "                <dd><code>v3.4.1</code></dd>\n",
       "              <dt>Master</dt>\n",
       "                <dd><code>local[4]</code></dd>\n",
       "              <dt>AppName</dt>\n",
       "                <dd><code>pair-rdd</code></dd>\n",
       "            </dl>\n",
       "        </div>\n",
       "        \n",
       "            </div>\n",
       "        "
      ],
      "text/plain": [
       "<pyspark.sql.session.SparkSession at 0x7fda107f8130>"
      ]
     },
     "execution_count": 1,
     "metadata": {},
     "output_type": "execute_result"
    }
   ],
   "source": [
    "from pyspark.sql import SparkSession\n",
    "spark = SparkSession.builder.appName(\"pair-rdd\").master(\"local[4]\").getOrCreate()\n",
    "sc = spark.sparkContext\n",
    "spark"
   ]
  },
  {
   "cell_type": "code",
   "execution_count": 4,
   "id": "3d7a691b-2d64-4beb-8bf4-58243641b3cb",
   "metadata": {
    "tags": []
   },
   "outputs": [],
   "source": [
    "# bekannt und gut\n",
    "numbersRDD = sc.parallelize( [1, 2, 3, 4] )"
   ]
  },
  {
   "cell_type": "code",
   "execution_count": 5,
   "id": "3e39ba43-bdeb-45fc-958d-15898f599e5f",
   "metadata": {
    "tags": []
   },
   "outputs": [
    {
     "data": {
      "text/plain": [
       "[1, 2, 3, 4]"
      ]
     },
     "execution_count": 5,
     "metadata": {},
     "output_type": "execute_result"
    }
   ],
   "source": [
    "numbersRDD.collect()"
   ]
  },
  {
   "cell_type": "code",
   "execution_count": 6,
   "id": "5c4c34e5-be7b-4961-a839-2aaf025e76b8",
   "metadata": {
    "tags": []
   },
   "outputs": [
    {
     "name": "stderr",
     "output_type": "stream",
     "text": [
      "                                                                                \r"
     ]
    },
    {
     "data": {
      "text/plain": [
       "[1.0, 1.4142135623730951, 1.7320508075688772, 2.0]"
      ]
     },
     "execution_count": 6,
     "metadata": {},
     "output_type": "execute_result"
    }
   ],
   "source": [
    "import math\n",
    "sqrt_rdd = numbersRDD.map(lambda x: math.sqrt(x))\n",
    "sqrt_rdd.take(10)"
   ]
  },
  {
   "cell_type": "markdown",
   "id": "aa2cf816-fa94-4c2a-a305-c2b268c71739",
   "metadata": {},
   "source": [
    "**Uncool!** jetzt sind es nur komische doubles"
   ]
  },
  {
   "cell_type": "code",
   "execution_count": 8,
   "id": "b2ea2949-355d-451d-81c0-189fe0a6a472",
   "metadata": {
    "tags": []
   },
   "outputs": [
    {
     "name": "stderr",
     "output_type": "stream",
     "text": [
      "                                                                                \r"
     ]
    },
    {
     "data": {
      "text/plain": [
       "[(1, 1.0), (2, 1.4142135623730951), (3, 1.7320508075688772), (4, 2.0)]"
      ]
     },
     "execution_count": 8,
     "metadata": {},
     "output_type": "execute_result"
    }
   ],
   "source": [
    "numbersWithSquareRoot = numbersRDD.map(\n",
    "    lambda x : (x, math.sqrt(x)))\n",
    "numbersWithSquareRoot.collect()"
   ]
  },
  {
   "cell_type": "markdown",
   "id": "8081959d-23ad-47fb-9166-2a989e09ccdf",
   "metadata": {},
   "source": [
    "## Aufgabe\n",
    "1. Lade TaxiZones.csv\n",
    "1. Splitte die Zeilen an Kommas\n",
    "1. Erzeuge einen PairRDD der die Location Id als Key und die gesamte Zeile als Value enthält."
   ]
  },
  {
   "cell_type": "markdown",
   "id": "134cc304-fc4d-43c1-b92b-7e74f08b6b72",
   "metadata": {
    "tags": []
   },
   "source": [
    "## Group By und aufsummieren\n",
    "\n",
    "Nun gruppieren wir nach dem Bezirk (2. Spalte) und schauen wie viele Zonen in jedem Bezirk sind "
   ]
  },
  {
   "cell_type": "code",
   "execution_count": 15,
   "id": "5dabed76-40c2-4585-a62a-3a01ce6efa17",
   "metadata": {
    "tags": []
   },
   "outputs": [
    {
     "data": {
      "text/plain": [
       "[['1', 'EWR', 'Newark Airport', 'EWR'],\n",
       " ['2', 'Queens', 'Jamaica Bay', 'Boro Zone'],\n",
       " ['3', 'Bronx', 'Allerton/Pelham Gardens', 'Boro Zone']]"
      ]
     },
     "execution_count": 15,
     "metadata": {},
     "output_type": "execute_result"
    }
   ],
   "source": [
    "taxi_zones_splitted_rdd = sc.textFile(\"TaxiZones.csv\", 4).map(lambda x: x.split(\",\"))\n",
    "taxi_zones_splitted_rdd.take(3)"
   ]
  },
  {
   "cell_type": "code",
   "execution_count": 23,
   "id": "c3a0bffd-e5c0-4e5e-90b7-0c23cd118428",
   "metadata": {
    "tags": []
   },
   "outputs": [
    {
     "data": {
      "text/plain": [
       "[('EWR', 1),\n",
       " ('Queens', 1),\n",
       " ('Bronx', 1),\n",
       " ('Manhattan', 1),\n",
       " ('Staten Island', 1),\n",
       " ('Staten Island', 1),\n",
       " ('Queens', 1),\n",
       " ('Queens', 1),\n",
       " ('Queens', 1),\n",
       " ('Queens', 1)]"
      ]
     },
     "execution_count": 23,
     "metadata": {},
     "output_type": "execute_result"
    }
   ],
   "source": [
    "taxi_zones_by_bezirk = taxi_zones_splitted_rdd.map(lambda row: (row[1],1))\n",
    "taxi_zones_by_bezirk.take(10)"
   ]
  },
  {
   "cell_type": "code",
   "execution_count": 25,
   "id": "41ad1cc9-09a7-4570-8c41-cb8b4a33eb9c",
   "metadata": {
    "tags": []
   },
   "outputs": [
    {
     "name": "stderr",
     "output_type": "stream",
     "text": [
      "                                                                                \r"
     ]
    },
    {
     "data": {
      "text/plain": [
       "[('Bronx', 43),\n",
       " ('Staten Island', 20),\n",
       " ('EWR', 1),\n",
       " ('Manhattan', 69),\n",
       " ('Brooklyn', 61),\n",
       " ('Unknown', 2),\n",
       " ('Queens', 69)]"
      ]
     },
     "execution_count": 25,
     "metadata": {},
     "output_type": "execute_result"
    }
   ],
   "source": [
    "taxi_zones_by_bezirk.reduceByKey(lambda x,y: x + y).collect()"
   ]
  },
  {
   "cell_type": "markdown",
   "id": "8f5dd911",
   "metadata": {},
   "source": [
    "## Nun ein wenig Standardmethoden auf Pair-RDDs"
   ]
  },
  {
   "cell_type": "code",
   "execution_count": null,
   "id": "cb1c097a-c333-459c-a364-19881e7df4f7",
   "metadata": {
    "tags": []
   },
   "outputs": [
    {
     "data": {
      "text/plain": [
       "[('Bronx', 1),\n",
       " ('Bronx', 1),\n",
       " ('Bronx', 1),\n",
       " ('Bronx', 1),\n",
       " ('Bronx', 1),\n",
       " ('Bronx', 1),\n",
       " ('Bronx', 1),\n",
       " ('Bronx', 1),\n",
       " ('Bronx', 1),\n",
       " ('Bronx', 1),\n",
       " ('Bronx', 1),\n",
       " ('Bronx', 1),\n",
       " ('Bronx', 1),\n",
       " ('Bronx', 1),\n",
       " ('Bronx', 1),\n",
       " ('Bronx', 1),\n",
       " ('Bronx', 1),\n",
       " ('Bronx', 1),\n",
       " ('Bronx', 1),\n",
       " ('Bronx', 1),\n",
       " ('Bronx', 1),\n",
       " ('Bronx', 1),\n",
       " ('Bronx', 1),\n",
       " ('Bronx', 1),\n",
       " ('Bronx', 1),\n",
       " ('Bronx', 1),\n",
       " ('Bronx', 1),\n",
       " ('Bronx', 1),\n",
       " ('Bronx', 1),\n",
       " ('Bronx', 1),\n",
       " ('Bronx', 1),\n",
       " ('Bronx', 1),\n",
       " ('Bronx', 1),\n",
       " ('Bronx', 1),\n",
       " ('Bronx', 1),\n",
       " ('Bronx', 1),\n",
       " ('Bronx', 1),\n",
       " ('Bronx', 1),\n",
       " ('Bronx', 1),\n",
       " ('Bronx', 1),\n",
       " ('Bronx', 1),\n",
       " ('Bronx', 1),\n",
       " ('Bronx', 1),\n",
       " ('Brooklyn', 1),\n",
       " ('Brooklyn', 1),\n",
       " ('Brooklyn', 1),\n",
       " ('Brooklyn', 1),\n",
       " ('Brooklyn', 1),\n",
       " ('Brooklyn', 1),\n",
       " ('Brooklyn', 1),\n",
       " ('Brooklyn', 1),\n",
       " ('Brooklyn', 1),\n",
       " ('Brooklyn', 1),\n",
       " ('Brooklyn', 1),\n",
       " ('Brooklyn', 1),\n",
       " ('Brooklyn', 1),\n",
       " ('Brooklyn', 1),\n",
       " ('Brooklyn', 1),\n",
       " ('Brooklyn', 1),\n",
       " ('Brooklyn', 1),\n",
       " ('Brooklyn', 1),\n",
       " ('Brooklyn', 1),\n",
       " ('Brooklyn', 1),\n",
       " ('Brooklyn', 1),\n",
       " ('Brooklyn', 1),\n",
       " ('Brooklyn', 1),\n",
       " ('Brooklyn', 1),\n",
       " ('Brooklyn', 1),\n",
       " ('Brooklyn', 1),\n",
       " ('Brooklyn', 1),\n",
       " ('Brooklyn', 1),\n",
       " ('Brooklyn', 1),\n",
       " ('Brooklyn', 1),\n",
       " ('Brooklyn', 1),\n",
       " ('Brooklyn', 1),\n",
       " ('Brooklyn', 1),\n",
       " ('Brooklyn', 1),\n",
       " ('Brooklyn', 1),\n",
       " ('Brooklyn', 1),\n",
       " ('Brooklyn', 1),\n",
       " ('Brooklyn', 1),\n",
       " ('Brooklyn', 1),\n",
       " ('Brooklyn', 1),\n",
       " ('Brooklyn', 1),\n",
       " ('Brooklyn', 1),\n",
       " ('Brooklyn', 1),\n",
       " ('Brooklyn', 1),\n",
       " ('Brooklyn', 1),\n",
       " ('Brooklyn', 1),\n",
       " ('Brooklyn', 1),\n",
       " ('Brooklyn', 1),\n",
       " ('Brooklyn', 1),\n",
       " ('Brooklyn', 1),\n",
       " ('Brooklyn', 1),\n",
       " ('Brooklyn', 1),\n",
       " ('Brooklyn', 1),\n",
       " ('Brooklyn', 1),\n",
       " ('Brooklyn', 1),\n",
       " ('Brooklyn', 1),\n",
       " ('Brooklyn', 1),\n",
       " ('Brooklyn', 1),\n",
       " ('Brooklyn', 1),\n",
       " ('Brooklyn', 1),\n",
       " ('Brooklyn', 1),\n",
       " ('EWR', 1),\n",
       " ('Manhattan', 1),\n",
       " ('Manhattan', 1),\n",
       " ('Manhattan', 1),\n",
       " ('Manhattan', 1),\n",
       " ('Manhattan', 1),\n",
       " ('Manhattan', 1),\n",
       " ('Manhattan', 1),\n",
       " ('Manhattan', 1),\n",
       " ('Manhattan', 1),\n",
       " ('Manhattan', 1),\n",
       " ('Manhattan', 1),\n",
       " ('Manhattan', 1),\n",
       " ('Manhattan', 1),\n",
       " ('Manhattan', 1),\n",
       " ('Manhattan', 1),\n",
       " ('Manhattan', 1),\n",
       " ('Manhattan', 1),\n",
       " ('Manhattan', 1),\n",
       " ('Manhattan', 1),\n",
       " ('Manhattan', 1),\n",
       " ('Manhattan', 1),\n",
       " ('Manhattan', 1),\n",
       " ('Manhattan', 1),\n",
       " ('Manhattan', 1),\n",
       " ('Manhattan', 1),\n",
       " ('Manhattan', 1),\n",
       " ('Manhattan', 1),\n",
       " ('Manhattan', 1),\n",
       " ('Manhattan', 1),\n",
       " ('Manhattan', 1),\n",
       " ('Manhattan', 1),\n",
       " ('Manhattan', 1),\n",
       " ('Manhattan', 1),\n",
       " ('Manhattan', 1),\n",
       " ('Manhattan', 1),\n",
       " ('Manhattan', 1),\n",
       " ('Manhattan', 1),\n",
       " ('Manhattan', 1),\n",
       " ('Manhattan', 1),\n",
       " ('Manhattan', 1),\n",
       " ('Manhattan', 1),\n",
       " ('Manhattan', 1),\n",
       " ('Manhattan', 1),\n",
       " ('Manhattan', 1),\n",
       " ('Manhattan', 1),\n",
       " ('Manhattan', 1),\n",
       " ('Manhattan', 1),\n",
       " ('Manhattan', 1),\n",
       " ('Manhattan', 1),\n",
       " ('Manhattan', 1),\n",
       " ('Manhattan', 1),\n",
       " ('Manhattan', 1),\n",
       " ('Manhattan', 1),\n",
       " ('Manhattan', 1),\n",
       " ('Manhattan', 1),\n",
       " ('Manhattan', 1),\n",
       " ('Manhattan', 1),\n",
       " ('Manhattan', 1),\n",
       " ('Manhattan', 1),\n",
       " ('Manhattan', 1),\n",
       " ('Manhattan', 1),\n",
       " ('Manhattan', 1),\n",
       " ('Manhattan', 1),\n",
       " ('Manhattan', 1),\n",
       " ('Manhattan', 1),\n",
       " ('Manhattan', 1),\n",
       " ('Manhattan', 1),\n",
       " ('Manhattan', 1),\n",
       " ('Manhattan', 1),\n",
       " ('Queens', 1),\n",
       " ('Queens', 1),\n",
       " ('Queens', 1),\n",
       " ('Queens', 1),\n",
       " ('Queens', 1),\n",
       " ('Queens', 1),\n",
       " ('Queens', 1),\n",
       " ('Queens', 1),\n",
       " ('Queens', 1),\n",
       " ('Queens', 1),\n",
       " ('Queens', 1),\n",
       " ('Queens', 1),\n",
       " ('Queens', 1),\n",
       " ('Queens', 1),\n",
       " ('Queens', 1),\n",
       " ('Queens', 1),\n",
       " ('Queens', 1),\n",
       " ('Queens', 1),\n",
       " ('Queens', 1),\n",
       " ('Queens', 1),\n",
       " ('Queens', 1),\n",
       " ('Queens', 1),\n",
       " ('Queens', 1),\n",
       " ('Queens', 1),\n",
       " ('Queens', 1),\n",
       " ('Queens', 1),\n",
       " ('Queens', 1),\n",
       " ('Queens', 1),\n",
       " ('Queens', 1),\n",
       " ('Queens', 1),\n",
       " ('Queens', 1),\n",
       " ('Queens', 1),\n",
       " ('Queens', 1),\n",
       " ('Queens', 1),\n",
       " ('Queens', 1),\n",
       " ('Queens', 1),\n",
       " ('Queens', 1),\n",
       " ('Queens', 1),\n",
       " ('Queens', 1),\n",
       " ('Queens', 1),\n",
       " ('Queens', 1),\n",
       " ('Queens', 1),\n",
       " ('Queens', 1),\n",
       " ('Queens', 1),\n",
       " ('Queens', 1),\n",
       " ('Queens', 1),\n",
       " ('Queens', 1),\n",
       " ('Queens', 1),\n",
       " ('Queens', 1),\n",
       " ('Queens', 1),\n",
       " ('Queens', 1),\n",
       " ('Queens', 1),\n",
       " ('Queens', 1),\n",
       " ('Queens', 1),\n",
       " ('Queens', 1),\n",
       " ('Queens', 1),\n",
       " ('Queens', 1),\n",
       " ('Queens', 1),\n",
       " ('Queens', 1),\n",
       " ('Queens', 1),\n",
       " ('Queens', 1),\n",
       " ('Queens', 1),\n",
       " ('Queens', 1),\n",
       " ('Queens', 1),\n",
       " ('Queens', 1),\n",
       " ('Queens', 1),\n",
       " ('Queens', 1),\n",
       " ('Queens', 1),\n",
       " ('Queens', 1),\n",
       " ('Staten Island', 1),\n",
       " ('Staten Island', 1),\n",
       " ('Staten Island', 1),\n",
       " ('Staten Island', 1),\n",
       " ('Staten Island', 1),\n",
       " ('Staten Island', 1),\n",
       " ('Staten Island', 1),\n",
       " ('Staten Island', 1),\n",
       " ('Staten Island', 1),\n",
       " ('Staten Island', 1),\n",
       " ('Staten Island', 1),\n",
       " ('Staten Island', 1),\n",
       " ('Staten Island', 1),\n",
       " ('Staten Island', 1),\n",
       " ('Staten Island', 1),\n",
       " ('Staten Island', 1),\n",
       " ('Staten Island', 1),\n",
       " ('Staten Island', 1),\n",
       " ('Staten Island', 1),\n",
       " ('Staten Island', 1),\n",
       " ('Unknown', 1),\n",
       " ('Unknown', 1)]"
      ]
     },
     "execution_count": 28,
     "metadata": {},
     "output_type": "execute_result"
    }
   ],
   "source": [
    "taxi_zones_by_bezirk.sortByKey().collect()"
   ]
  },
  {
   "cell_type": "code",
   "execution_count": null,
   "id": "2244dfb8-b284-469d-b0c5-001d33857d78",
   "metadata": {
    "tags": []
   },
   "outputs": [
    {
     "data": {
      "text/plain": [
       "['EWR',\n",
       " 'Queens',\n",
       " 'Bronx',\n",
       " 'Manhattan',\n",
       " 'Staten Island',\n",
       " 'Staten Island',\n",
       " 'Queens',\n",
       " 'Queens',\n",
       " 'Queens',\n",
       " 'Queens',\n",
       " 'Brooklyn',\n",
       " 'Manhattan',\n",
       " 'Manhattan',\n",
       " 'Brooklyn',\n",
       " 'Queens',\n",
       " 'Queens',\n",
       " 'Brooklyn',\n",
       " 'Bronx',\n",
       " 'Queens',\n",
       " 'Bronx',\n",
       " 'Brooklyn',\n",
       " 'Brooklyn',\n",
       " 'Staten Island',\n",
       " 'Manhattan',\n",
       " 'Brooklyn',\n",
       " 'Brooklyn',\n",
       " 'Queens',\n",
       " 'Queens',\n",
       " 'Brooklyn',\n",
       " 'Queens',\n",
       " 'Bronx',\n",
       " 'Bronx',\n",
       " 'Brooklyn',\n",
       " 'Brooklyn',\n",
       " 'Brooklyn',\n",
       " 'Brooklyn',\n",
       " 'Brooklyn',\n",
       " 'Queens',\n",
       " 'Brooklyn',\n",
       " 'Brooklyn',\n",
       " 'Manhattan',\n",
       " 'Manhattan',\n",
       " 'Manhattan',\n",
       " 'Staten Island',\n",
       " 'Manhattan',\n",
       " 'Bronx',\n",
       " 'Bronx',\n",
       " 'Manhattan',\n",
       " 'Brooklyn',\n",
       " 'Manhattan',\n",
       " 'Bronx',\n",
       " 'Brooklyn',\n",
       " 'Queens',\n",
       " 'Brooklyn',\n",
       " 'Brooklyn',\n",
       " 'Queens',\n",
       " 'Queens',\n",
       " 'Bronx',\n",
       " 'Bronx',\n",
       " 'Bronx',\n",
       " 'Brooklyn',\n",
       " 'Brooklyn',\n",
       " 'Brooklyn',\n",
       " 'Queens',\n",
       " 'Brooklyn',\n",
       " 'Brooklyn',\n",
       " 'Brooklyn',\n",
       " 'Manhattan',\n",
       " 'Bronx',\n",
       " 'Queens',\n",
       " 'Brooklyn',\n",
       " 'Brooklyn',\n",
       " 'Queens',\n",
       " 'Manhattan',\n",
       " 'Manhattan',\n",
       " 'Brooklyn',\n",
       " 'Brooklyn',\n",
       " 'Bronx',\n",
       " 'Manhattan',\n",
       " 'Brooklyn',\n",
       " 'Bronx',\n",
       " 'Queens',\n",
       " 'Queens',\n",
       " 'Staten Island',\n",
       " 'Brooklyn',\n",
       " 'Queens',\n",
       " 'Manhattan',\n",
       " 'Manhattan',\n",
       " 'Brooklyn',\n",
       " 'Manhattan',\n",
       " 'Brooklyn',\n",
       " 'Queens',\n",
       " 'Queens',\n",
       " 'Bronx',\n",
       " 'Queens',\n",
       " 'Queens',\n",
       " 'Brooklyn',\n",
       " 'Queens',\n",
       " 'Staten Island',\n",
       " 'Manhattan',\n",
       " 'Queens',\n",
       " 'Queens',\n",
       " 'Manhattan',\n",
       " 'Manhattan',\n",
       " 'Manhattan',\n",
       " 'Brooklyn',\n",
       " 'Manhattan',\n",
       " 'Brooklyn',\n",
       " 'Staten Island',\n",
       " 'Staten Island',\n",
       " 'Brooklyn',\n",
       " 'Brooklyn',\n",
       " 'Manhattan',\n",
       " 'Manhattan',\n",
       " 'Staten Island',\n",
       " 'Manhattan',\n",
       " 'Queens',\n",
       " 'Staten Island',\n",
       " 'Bronx',\n",
       " 'Manhattan',\n",
       " 'Queens',\n",
       " 'Queens',\n",
       " 'Brooklyn',\n",
       " 'Queens',\n",
       " 'Manhattan',\n",
       " 'Bronx',\n",
       " 'Manhattan',\n",
       " 'Manhattan',\n",
       " 'Queens',\n",
       " 'Queens',\n",
       " 'Queens',\n",
       " 'Queens',\n",
       " 'Brooklyn',\n",
       " 'Queens',\n",
       " 'Queens',\n",
       " 'Bronx',\n",
       " 'Manhattan',\n",
       " 'Queens',\n",
       " 'Queens',\n",
       " 'Manhattan',\n",
       " 'Manhattan',\n",
       " 'Manhattan',\n",
       " 'Manhattan',\n",
       " 'Manhattan',\n",
       " 'Queens',\n",
       " 'Queens',\n",
       " 'Bronx',\n",
       " 'Manhattan',\n",
       " 'Brooklyn',\n",
       " 'Brooklyn',\n",
       " 'Manhattan',\n",
       " 'Manhattan',\n",
       " 'Manhattan',\n",
       " 'Brooklyn',\n",
       " 'Brooklyn',\n",
       " 'Staten Island',\n",
       " 'Queens',\n",
       " 'Manhattan',\n",
       " 'Bronx',\n",
       " 'Queens',\n",
       " 'Manhattan',\n",
       " 'Manhattan',\n",
       " 'Manhattan',\n",
       " 'Manhattan',\n",
       " 'Brooklyn',\n",
       " 'Manhattan',\n",
       " 'Bronx',\n",
       " 'Bronx',\n",
       " 'Bronx',\n",
       " 'Manhattan',\n",
       " 'Queens',\n",
       " 'Staten Island',\n",
       " 'Queens',\n",
       " 'Bronx',\n",
       " 'Queens',\n",
       " 'Staten Island',\n",
       " 'Brooklyn',\n",
       " 'Brooklyn',\n",
       " 'Queens',\n",
       " 'Queens',\n",
       " 'Brooklyn',\n",
       " 'Bronx',\n",
       " 'Bronx',\n",
       " 'Bronx',\n",
       " 'Bronx',\n",
       " 'Manhattan',\n",
       " 'Staten Island',\n",
       " 'Brooklyn',\n",
       " 'Brooklyn',\n",
       " 'Brooklyn',\n",
       " 'Queens',\n",
       " 'Queens',\n",
       " 'Queens',\n",
       " 'Manhattan',\n",
       " 'Brooklyn',\n",
       " 'Queens',\n",
       " 'Queens',\n",
       " 'Queens',\n",
       " 'Bronx',\n",
       " 'Bronx',\n",
       " 'Queens',\n",
       " 'Manhattan',\n",
       " 'Queens',\n",
       " 'Staten Island',\n",
       " 'Queens',\n",
       " 'Staten Island',\n",
       " 'Queens',\n",
       " 'Bronx',\n",
       " 'Manhattan',\n",
       " 'Brooklyn',\n",
       " 'Manhattan',\n",
       " 'Bronx',\n",
       " 'Bronx',\n",
       " 'Staten Island',\n",
       " 'Queens',\n",
       " 'Queens',\n",
       " 'Brooklyn',\n",
       " 'Queens',\n",
       " 'Queens',\n",
       " 'Bronx',\n",
       " 'Staten Island',\n",
       " 'Brooklyn',\n",
       " 'Queens',\n",
       " 'Manhattan',\n",
       " 'Brooklyn',\n",
       " 'Queens',\n",
       " 'Brooklyn',\n",
       " 'Brooklyn',\n",
       " 'Manhattan',\n",
       " 'Manhattan',\n",
       " 'Manhattan',\n",
       " 'Manhattan',\n",
       " 'Manhattan',\n",
       " 'Manhattan',\n",
       " 'Bronx',\n",
       " 'Manhattan',\n",
       " 'Manhattan',\n",
       " 'Manhattan',\n",
       " 'Manhattan',\n",
       " 'Bronx',\n",
       " 'Bronx',\n",
       " 'Bronx',\n",
       " 'Manhattan',\n",
       " 'Manhattan',\n",
       " 'Staten Island',\n",
       " 'Manhattan',\n",
       " 'Bronx',\n",
       " 'Bronx',\n",
       " 'Manhattan',\n",
       " 'Bronx',\n",
       " 'Staten Island',\n",
       " 'Queens',\n",
       " 'Queens',\n",
       " 'Bronx',\n",
       " 'Brooklyn',\n",
       " 'Brooklyn',\n",
       " 'Brooklyn',\n",
       " 'Queens',\n",
       " 'Bronx',\n",
       " 'Queens',\n",
       " 'Manhattan',\n",
       " 'Manhattan',\n",
       " 'Manhattan',\n",
       " 'Unknown',\n",
       " 'Unknown']"
      ]
     },
     "execution_count": 33,
     "metadata": {},
     "output_type": "execute_result"
    }
   ],
   "source": [
    "taxi_zones_by_bezirk.keys().collect()"
   ]
  },
  {
   "cell_type": "code",
   "execution_count": null,
   "id": "61b73ec2-9cda-4d94-aa80-b7420026c14b",
   "metadata": {
    "tags": []
   },
   "outputs": [
    {
     "data": {
      "text/plain": [
       "['Bronx', 'Staten Island', 'EWR', 'Manhattan', 'Brooklyn', 'Unknown', 'Queens']"
      ]
     },
     "execution_count": 34,
     "metadata": {},
     "output_type": "execute_result"
    }
   ],
   "source": [
    "taxi_zones_by_bezirk.keys().distinct().collect()"
   ]
  },
  {
   "cell_type": "code",
   "execution_count": null,
   "id": "40c6c324-d4cc-46e1-8910-c15d9540dde6",
   "metadata": {
    "tags": []
   },
   "outputs": [
    {
     "data": {
      "text/plain": [
       "[('Bronx', 1),\n",
       " ('Staten Island', 1),\n",
       " ('Queens', 1),\n",
       " ('EWR', 1),\n",
       " ('Manhattan', 1),\n",
       " ('Brooklyn', 1),\n",
       " ('Unknown', 1)]"
      ]
     },
     "execution_count": 37,
     "metadata": {},
     "output_type": "execute_result"
    }
   ],
   "source": [
    "taxi_zones_by_bezirk.distinct().collect()"
   ]
  },
  {
   "cell_type": "code",
   "execution_count": null,
   "id": "550b037d-135b-4a6d-8ce2-71f73919f468",
   "metadata": {},
   "outputs": [],
   "source": []
  },
  {
   "cell_type": "code",
   "execution_count": null,
   "id": "f1f9077c-3473-46b2-ac81-38b4e1c8feae",
   "metadata": {},
   "outputs": [],
   "source": []
  }
 ],
 "metadata": {
  "kernelspec": {
   "display_name": "Python 3 (ipykernel)",
   "language": "python",
   "name": "python3"
  },
  "language_info": {
   "codemirror_mode": {
    "name": "ipython",
    "version": 3
   },
   "file_extension": ".py",
   "mimetype": "text/x-python",
   "name": "python",
   "nbconvert_exporter": "python",
   "pygments_lexer": "ipython3",
   "version": "3.10.12"
  }
 },
 "nbformat": 4,
 "nbformat_minor": 5
}
