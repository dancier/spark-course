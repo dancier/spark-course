{
 "cells": [
  {
   "cell_type": "markdown",
   "id": "8fcc1747-e83c-49aa-b7c4-73cc37ad14ff",
   "metadata": {},
   "source": [
    "# Umgang mit Pair-RDDs"
   ]
  },
  {
   "cell_type": "code",
   "execution_count": 3,
   "id": "2741988f-b9a9-4da5-88ee-13785979f0d8",
   "metadata": {},
   "outputs": [],
   "source": [
    "from pyspark.sql import SparkSession"
   ]
  },
  {
   "cell_type": "code",
   "execution_count": 4,
   "id": "c0ed2fb2-5af3-444c-9583-97cfd8230577",
   "metadata": {},
   "outputs": [
    {
     "name": "stderr",
     "output_type": "stream",
     "text": [
      "23/08/21 09:56:52 WARN Utils: Your hostname, pupil-a resolves to a loopback address: 127.0.1.1; using 167.235.141.210 instead (on interface eth0)\n",
      "23/08/21 09:56:52 WARN Utils: Set SPARK_LOCAL_IP if you need to bind to another address\n",
      "Setting default log level to \"WARN\".\n",
      "To adjust logging level use sc.setLogLevel(newLevel). For SparkR, use setLogLevel(newLevel).\n",
      "23/08/21 09:56:54 WARN NativeCodeLoader: Unable to load native-hadoop library for your platform... using builtin-java classes where applicable\n",
      "23/08/21 09:56:55 WARN Utils: Service 'SparkUI' could not bind on port 4040. Attempting port 4041.\n"
     ]
    }
   ],
   "source": [
    "spark = SparkSession.builder.appName(\"pair-rdd\").master(\"local[4]\").getOrCreate()"
   ]
  },
  {
   "cell_type": "code",
   "execution_count": 5,
   "id": "5fc4cecb-511f-4a89-85dc-b8da718d3906",
   "metadata": {},
   "outputs": [
    {
     "data": {
      "text/html": [
       "\n",
       "            <div>\n",
       "                <p><b>SparkSession - in-memory</b></p>\n",
       "                \n",
       "        <div>\n",
       "            <p><b>SparkContext</b></p>\n",
       "\n",
       "            <p><a href=\"http://pupil-a.bin-ich-tot.de:4041\">Spark UI</a></p>\n",
       "\n",
       "            <dl>\n",
       "              <dt>Version</dt>\n",
       "                <dd><code>v3.4.1</code></dd>\n",
       "              <dt>Master</dt>\n",
       "                <dd><code>local[4]</code></dd>\n",
       "              <dt>AppName</dt>\n",
       "                <dd><code>pair-rdd</code></dd>\n",
       "            </dl>\n",
       "        </div>\n",
       "        \n",
       "            </div>\n",
       "        "
      ],
      "text/plain": [
       "<pyspark.sql.session.SparkSession at 0x7fa4fdb5a9e0>"
      ]
     },
     "execution_count": 5,
     "metadata": {},
     "output_type": "execute_result"
    }
   ],
   "source": [
    "spark"
   ]
  },
  {
   "cell_type": "code",
   "execution_count": 6,
   "id": "0d990c4e-6bf4-4fb0-a127-8bdf57a68ff7",
   "metadata": {},
   "outputs": [],
   "source": [
    "sc = spark.sparkContext"
   ]
  },
  {
   "cell_type": "code",
   "execution_count": 7,
   "id": "3d7a691b-2d64-4beb-8bf4-58243641b3cb",
   "metadata": {},
   "outputs": [],
   "source": [
    "numbersRDD = sc.parallelize( [1, 2, 3, 4] )"
   ]
  },
  {
   "cell_type": "code",
   "execution_count": 8,
   "id": "3e39ba43-bdeb-45fc-958d-15898f599e5f",
   "metadata": {},
   "outputs": [
    {
     "name": "stderr",
     "output_type": "stream",
     "text": [
      "                                                                                \r"
     ]
    },
    {
     "data": {
      "text/plain": [
       "[1, 2, 3, 4]"
      ]
     },
     "execution_count": 8,
     "metadata": {},
     "output_type": "execute_result"
    }
   ],
   "source": [
    "numbersRDD.collect()"
   ]
  },
  {
   "cell_type": "code",
   "execution_count": 9,
   "id": "5c4c34e5-be7b-4961-a839-2aaf025e76b8",
   "metadata": {},
   "outputs": [],
   "source": [
    "import math"
   ]
  },
  {
   "cell_type": "code",
   "execution_count": 10,
   "id": "3077e8dc-24fc-4558-919c-8da6fee6ea12",
   "metadata": {},
   "outputs": [],
   "source": [
    "sqrt_rdd = numbersRDD.map(lambda x: math.sqrt(x))"
   ]
  },
  {
   "cell_type": "code",
   "execution_count": 11,
   "id": "51c68b55-7664-450a-84bf-d1ec483e162d",
   "metadata": {},
   "outputs": [
    {
     "name": "stderr",
     "output_type": "stream",
     "text": [
      "                                                                                \r"
     ]
    },
    {
     "data": {
      "text/plain": [
       "[1.0, 1.4142135623730951, 1.7320508075688772, 2.0]"
      ]
     },
     "execution_count": 11,
     "metadata": {},
     "output_type": "execute_result"
    }
   ],
   "source": [
    "sqrt_rdd.take(10)"
   ]
  },
  {
   "cell_type": "code",
   "execution_count": 12,
   "id": "b2ea2949-355d-451d-81c0-189fe0a6a472",
   "metadata": {},
   "outputs": [],
   "source": [
    "numbersWithSquareRoot = numbersRDD.map(\n",
    "    lambda x : (x, math.sqrt(x)))"
   ]
  },
  {
   "cell_type": "code",
   "execution_count": 13,
   "id": "b86cdf15-6dab-439f-94da-dc93849725d2",
   "metadata": {},
   "outputs": [
    {
     "name": "stderr",
     "output_type": "stream",
     "text": [
      "                                                                                \r"
     ]
    },
    {
     "data": {
      "text/plain": [
       "[(1, 1.0), (2, 1.4142135623730951), (3, 1.7320508075688772), (4, 2.0)]"
      ]
     },
     "execution_count": 13,
     "metadata": {},
     "output_type": "execute_result"
    }
   ],
   "source": [
    "numbersWithSquareRoot.collect()"
   ]
  },
  {
   "cell_type": "code",
   "execution_count": 15,
   "id": "f9c7f9c1-6b75-49a0-a0d3-5a28464bd552",
   "metadata": {},
   "outputs": [],
   "source": [
    "import json"
   ]
  },
  {
   "cell_type": "code",
   "execution_count": 16,
   "id": "7a4ba0ca-41bd-4c8d-a4c3-5f63ce0aa7a8",
   "metadata": {},
   "outputs": [],
   "source": [
    "data = json.load(open(\"population.json\", \"r\"))"
   ]
  },
  {
   "cell_type": "code",
   "execution_count": 26,
   "id": "53577ba1-e63c-486b-a02d-c71d39144233",
   "metadata": {},
   "outputs": [
    {
     "data": {
      "text/plain": [
       "dict"
      ]
     },
     "execution_count": 26,
     "metadata": {},
     "output_type": "execute_result"
    }
   ],
   "source": [
    "type(data[0])"
   ]
  },
  {
   "cell_type": "code",
   "execution_count": 14,
   "id": "267d490a-d67f-461c-9ff6-778d12505a92",
   "metadata": {},
   "outputs": [],
   "source": [
    "jsonrdd = sc.parallelize(data)"
   ]
  },
  {
   "cell_type": "code",
   "execution_count": 15,
   "id": "01b44620-64df-4349-ae54-461a14083ce9",
   "metadata": {},
   "outputs": [
    {
     "data": {
      "text/plain": [
       "{'us_state_fips': '78',\n",
       " 'us_county_fips': '78999',\n",
       " 'population': '104680',\n",
       " 'region': 'Virgin Islands',\n",
       " 'subregion': 'Unknown'}"
      ]
     },
     "execution_count": 15,
     "metadata": {},
     "output_type": "execute_result"
    }
   ],
   "source": [
    "jsonrdd.first()"
   ]
  },
  {
   "cell_type": "code",
   "execution_count": 16,
   "id": "7412cb0d-75d4-4d56-9df2-ac9b6f0da4cb",
   "metadata": {},
   "outputs": [],
   "source": [
    "cleaned_rdd = jsonrdd.map( lambda item: (item['us_county_fips'], int(item['population'])))"
   ]
  },
  {
   "cell_type": "code",
   "execution_count": 17,
   "id": "b2f42ad1-dc7b-4e10-bca0-6ce7026f4774",
   "metadata": {},
   "outputs": [
    {
     "name": "stderr",
     "output_type": "stream",
     "text": [
      "                                                                                \r"
     ]
    },
    {
     "data": {
      "text/plain": [
       "('78999', 104680)"
      ]
     },
     "execution_count": 17,
     "metadata": {},
     "output_type": "execute_result"
    }
   ],
   "source": [
    "cleaned_rdd.first()"
   ]
  },
  {
   "cell_type": "code",
   "execution_count": 18,
   "id": "6a7f1d6f-585e-48d2-9f60-352d9ff82bc4",
   "metadata": {},
   "outputs": [
    {
     "name": "stderr",
     "output_type": "stream",
     "text": [
      "                                                                                \r"
     ]
    },
    {
     "data": {
      "text/plain": [
       "[('78999', 104680),\n",
       " ('72999', 3386941),\n",
       " ('66999', 165768),\n",
       " ('69999', 56882),\n",
       " ('01001', 55200),\n",
       " ('01003', 208107),\n",
       " ('01005', 25782),\n",
       " ('01007', 22527),\n",
       " ('01009', 57645),\n",
       " ('01011', 10352)]"
      ]
     },
     "execution_count": 18,
     "metadata": {},
     "output_type": "execute_result"
    }
   ],
   "source": [
    "cleaned_rdd.take(10)"
   ]
  },
  {
   "cell_type": "code",
   "execution_count": 19,
   "id": "70ed023f-43bd-4a06-a275-d05271b05980",
   "metadata": {},
   "outputs": [
    {
     "name": "stderr",
     "output_type": "stream",
     "text": [
      "                                                                                \r"
     ]
    }
   ],
   "source": [
    "tmp_rdd = spark.read.json(\"population.json\").rdd"
   ]
  },
  {
   "cell_type": "code",
   "execution_count": 20,
   "id": "0369f483-3d19-47ae-a27a-936552cf1a7b",
   "metadata": {},
   "outputs": [
    {
     "data": {
      "text/plain": [
       "MapPartitionsRDD[14] at javaToPython at NativeMethodAccessorImpl.java:0"
      ]
     },
     "execution_count": 20,
     "metadata": {},
     "output_type": "execute_result"
    }
   ],
   "source": [
    "tmp_rdd"
   ]
  },
  {
   "cell_type": "code",
   "execution_count": 21,
   "id": "f568c5c9-df09-423a-bb3e-112284d22cfe",
   "metadata": {},
   "outputs": [
    {
     "name": "stderr",
     "output_type": "stream",
     "text": [
      "                                                                                \r"
     ]
    },
    {
     "data": {
      "text/plain": [
       "Row(_corrupt_record='[{\"us_state_fips\":\"78\",\"us_county_fips\":\"78999\",\"population\":\"104680\",\"region\":\"Virgin Islands\",\"subregion\":\"Unknown\"},', nyt_population=None, population=None, region=None, subregion=None, us_county_fips=None, us_state_fips=None)"
      ]
     },
     "execution_count": 21,
     "metadata": {},
     "output_type": "execute_result"
    }
   ],
   "source": [
    "tmp_rdd.first()"
   ]
  },
  {
   "cell_type": "code",
   "execution_count": 22,
   "id": "c998e871-6338-4dea-a42e-3ac0fccb2472",
   "metadata": {},
   "outputs": [],
   "source": [
    "death_rdd = spark.read.text(\"deaths.csv\")"
   ]
  },
  {
   "cell_type": "code",
   "execution_count": 23,
   "id": "9c8d5fb2-886a-45c9-bc27-2f8f9b0a1c90",
   "metadata": {},
   "outputs": [
    {
     "data": {
      "text/plain": [
       "[Row(value='country,placename,frequency,start_date,end_date,year,month,week,deaths,expected_deaths,excess_deaths,baseline'),\n",
       " Row(value='Austria,,weekly,2020-01-06,2020-01-12,2020,1,2,1702,1806,-104,2015-2019 historical data')]"
      ]
     },
     "execution_count": 23,
     "metadata": {},
     "output_type": "execute_result"
    }
   ],
   "source": [
    "death_rdd.take(2)"
   ]
  },
  {
   "cell_type": "code",
   "execution_count": 24,
   "id": "7f83fae7-e32e-463f-9565-54210be3c9ef",
   "metadata": {},
   "outputs": [],
   "source": [
    "death_rdd = sc.textFile(\"deaths.csv\").map(lambda x: x.split(\",\"))"
   ]
  },
  {
   "cell_type": "code",
   "execution_count": 25,
   "id": "ca5be73d-ffc0-4a61-851a-938e18bb946b",
   "metadata": {},
   "outputs": [
    {
     "name": "stderr",
     "output_type": "stream",
     "text": [
      "                                                                                \r"
     ]
    },
    {
     "data": {
      "text/plain": [
       "[['country',\n",
       "  'placename',\n",
       "  'frequency',\n",
       "  'start_date',\n",
       "  'end_date',\n",
       "  'year',\n",
       "  'month',\n",
       "  'week',\n",
       "  'deaths',\n",
       "  'expected_deaths',\n",
       "  'excess_deaths',\n",
       "  'baseline'],\n",
       " ['Austria',\n",
       "  '',\n",
       "  'weekly',\n",
       "  '2020-01-06',\n",
       "  '2020-01-12',\n",
       "  '2020',\n",
       "  '1',\n",
       "  '2',\n",
       "  '1702',\n",
       "  '1806',\n",
       "  '-104',\n",
       "  '2015-2019 historical data'],\n",
       " ['Austria',\n",
       "  '',\n",
       "  'weekly',\n",
       "  '2020-01-13',\n",
       "  '2020-01-19',\n",
       "  '2020',\n",
       "  '1',\n",
       "  '3',\n",
       "  '1797',\n",
       "  '1819',\n",
       "  '-22',\n",
       "  '2015-2019 historical data'],\n",
       " ['Austria',\n",
       "  '',\n",
       "  'weekly',\n",
       "  '2020-01-20',\n",
       "  '2020-01-26',\n",
       "  '2020',\n",
       "  '1',\n",
       "  '4',\n",
       "  '1779',\n",
       "  '1831',\n",
       "  '-52',\n",
       "  '2015-2019 historical data'],\n",
       " ['Austria',\n",
       "  '',\n",
       "  'weekly',\n",
       "  '2020-01-27',\n",
       "  '2020-02-02',\n",
       "  '2020',\n",
       "  '2',\n",
       "  '5',\n",
       "  '1947',\n",
       "  '1837',\n",
       "  '110',\n",
       "  '2015-2019 historical data'],\n",
       " ['Austria',\n",
       "  '',\n",
       "  'weekly',\n",
       "  '2020-02-03',\n",
       "  '2020-02-09',\n",
       "  '2020',\n",
       "  '2',\n",
       "  '6',\n",
       "  '1681',\n",
       "  '1837',\n",
       "  '-156',\n",
       "  '2015-2019 historical data'],\n",
       " ['Austria',\n",
       "  '',\n",
       "  'weekly',\n",
       "  '2020-02-10',\n",
       "  '2020-02-16',\n",
       "  '2020',\n",
       "  '2',\n",
       "  '7',\n",
       "  '1721',\n",
       "  '1829',\n",
       "  '-108',\n",
       "  '2015-2019 historical data'],\n",
       " ['Austria',\n",
       "  '',\n",
       "  'weekly',\n",
       "  '2020-02-17',\n",
       "  '2020-02-23',\n",
       "  '2020',\n",
       "  '2',\n",
       "  '8',\n",
       "  '1718',\n",
       "  '1812',\n",
       "  '-94',\n",
       "  '2015-2019 historical data'],\n",
       " ['Austria',\n",
       "  '',\n",
       "  'weekly',\n",
       "  '2020-02-24',\n",
       "  '2020-03-01',\n",
       "  '2020',\n",
       "  '3',\n",
       "  '9',\n",
       "  '1768',\n",
       "  '1786',\n",
       "  '-18',\n",
       "  '2015-2019 historical data'],\n",
       " ['Austria',\n",
       "  '',\n",
       "  'weekly',\n",
       "  '2020-03-02',\n",
       "  '2020-03-08',\n",
       "  '2020',\n",
       "  '3',\n",
       "  '10',\n",
       "  '1744',\n",
       "  '1753',\n",
       "  '-9',\n",
       "  '2015-2019 historical data']]"
      ]
     },
     "execution_count": 25,
     "metadata": {},
     "output_type": "execute_result"
    }
   ],
   "source": [
    "death_rdd.take(10)"
   ]
  },
  {
   "cell_type": "code",
   "execution_count": 27,
   "id": "4ae9e2e4-1d81-4ef0-882d-221fdf3fb4ae",
   "metadata": {},
   "outputs": [],
   "source": [
    "trip_fare_rdd = sc.textFile(\"trip_fare_4.csv\")"
   ]
  },
  {
   "cell_type": "code",
   "execution_count": 28,
   "id": "e5cafa83-4dc4-4d88-aac7-0714172a1b39",
   "metadata": {},
   "outputs": [
    {
     "name": "stderr",
     "output_type": "stream",
     "text": [
      "                                                                                \r"
     ]
    },
    {
     "data": {
      "text/plain": [
       "15100469"
      ]
     },
     "execution_count": 28,
     "metadata": {},
     "output_type": "execute_result"
    }
   ],
   "source": [
    "trip_fare_rdd.count()"
   ]
  },
  {
   "cell_type": "code",
   "execution_count": 29,
   "id": "d7d8fea7-01e8-4fb0-939e-ac4416d0d59e",
   "metadata": {},
   "outputs": [],
   "source": [
    "trip_fare_with_cols = trip_fare_rdd.map(lambda x: x.split(\",\"))"
   ]
  },
  {
   "cell_type": "code",
   "execution_count": 30,
   "id": "d54b9045-9c43-461f-bed8-646d2e4b3f61",
   "metadata": {},
   "outputs": [
    {
     "name": "stderr",
     "output_type": "stream",
     "text": [
      "                                                                                \r"
     ]
    },
    {
     "data": {
      "text/plain": [
       "[['medallion',\n",
       "  ' hack_license',\n",
       "  ' vendor_id',\n",
       "  ' pickup_datetime',\n",
       "  ' payment_type',\n",
       "  ' fare_amount',\n",
       "  ' surcharge',\n",
       "  ' mta_tax',\n",
       "  ' tip_amount',\n",
       "  ' tolls_amount',\n",
       "  ' total_amount'],\n",
       " ['2013002818',\n",
       "  '2013002815',\n",
       "  'VTS',\n",
       "  '2013-04-01 00:00:00',\n",
       "  'CSH',\n",
       "  '5.5',\n",
       "  '0.5',\n",
       "  '0.5',\n",
       "  '0',\n",
       "  '0',\n",
       "  '6.5']]"
      ]
     },
     "execution_count": 30,
     "metadata": {},
     "output_type": "execute_result"
    }
   ],
   "source": [
    "trip_fare_with_cols.take(2)"
   ]
  },
  {
   "cell_type": "code",
   "execution_count": 31,
   "id": "6a2f41ff-1264-4f59-b43b-944dfea0cc79",
   "metadata": {},
   "outputs": [
    {
     "name": "stderr",
     "output_type": "stream",
     "text": [
      "                                                                                \r"
     ]
    },
    {
     "data": {
      "text/plain": [
       "15100469"
      ]
     },
     "execution_count": 31,
     "metadata": {},
     "output_type": "execute_result"
    }
   ],
   "source": [
    "trip_fare_rdd.count()"
   ]
  },
  {
   "cell_type": "code",
   "execution_count": 35,
   "id": "6fed9c40-ffab-4d0a-8c3e-f927649a3160",
   "metadata": {},
   "outputs": [
    {
     "name": "stderr",
     "output_type": "stream",
     "text": [
      "                                                                                \r"
     ]
    },
    {
     "data": {
      "text/plain": [
       "15100469"
      ]
     },
     "execution_count": 35,
     "metadata": {},
     "output_type": "execute_result"
    }
   ],
   "source": [
    "trip_fare_with_cols.count()"
   ]
  },
  {
   "cell_type": "code",
   "execution_count": 52,
   "id": "ab0d4a60-8cbf-46d9-a19d-a02c8e495be8",
   "metadata": {},
   "outputs": [
    {
     "name": "stderr",
     "output_type": "stream",
     "text": [
      "                                                                                \r"
     ]
    },
    {
     "data": {
      "text/plain": [
       "[['medallion',\n",
       "  ' hack_license',\n",
       "  ' vendor_id',\n",
       "  ' pickup_datetime',\n",
       "  ' payment_type',\n",
       "  ' fare_amount',\n",
       "  ' surcharge',\n",
       "  ' mta_tax',\n",
       "  ' tip_amount',\n",
       "  ' tolls_amount',\n",
       "  ' total_amount'],\n",
       " ['2013002818',\n",
       "  '2013002815',\n",
       "  'VTS',\n",
       "  '2013-04-01 00:00:00',\n",
       "  'CSH',\n",
       "  '5.5',\n",
       "  '0.5',\n",
       "  '0.5',\n",
       "  '0',\n",
       "  '0',\n",
       "  '6.5']]"
      ]
     },
     "execution_count": 52,
     "metadata": {},
     "output_type": "execute_result"
    }
   ],
   "source": [
    "trip_fare_with_cols.take(2)"
   ]
  },
  {
   "cell_type": "code",
   "execution_count": 53,
   "id": "1acd34b9-e8d7-4c5f-b069-72abc121f8cf",
   "metadata": {},
   "outputs": [],
   "source": [
    "trips_without_header_rdd = trip_fare_with_cols.filter(lambda row: row[0].isnumeric())"
   ]
  },
  {
   "cell_type": "code",
   "execution_count": 54,
   "id": "f51344b1-400a-45b6-abcc-2d3ee681d6b1",
   "metadata": {},
   "outputs": [
    {
     "name": "stderr",
     "output_type": "stream",
     "text": [
      "                                                                                \r"
     ]
    },
    {
     "data": {
      "text/plain": [
       "15100468"
      ]
     },
     "execution_count": 54,
     "metadata": {},
     "output_type": "execute_result"
    }
   ],
   "source": [
    "trips_without_header_rdd.count()"
   ]
  },
  {
   "cell_type": "code",
   "execution_count": 55,
   "id": "8e7f8d65-80c5-4001-9560-f1ab2f4e332a",
   "metadata": {},
   "outputs": [
    {
     "name": "stderr",
     "output_type": "stream",
     "text": [
      "                                                                                \r"
     ]
    },
    {
     "data": {
      "text/plain": [
       "[['2013002818',\n",
       "  '2013002815',\n",
       "  'VTS',\n",
       "  '2013-04-01 00:00:00',\n",
       "  'CSH',\n",
       "  '5.5',\n",
       "  '0.5',\n",
       "  '0.5',\n",
       "  '0',\n",
       "  '0',\n",
       "  '6.5'],\n",
       " ['2013006871',\n",
       "  '2013028622',\n",
       "  'VTS',\n",
       "  '2013-04-01 00:00:00',\n",
       "  'CRD',\n",
       "  '22',\n",
       "  '0.5',\n",
       "  '0.5',\n",
       "  '3',\n",
       "  '5.33',\n",
       "  '31.33']]"
      ]
     },
     "execution_count": 55,
     "metadata": {},
     "output_type": "execute_result"
    }
   ],
   "source": [
    "trips_without_header_rdd.take(2)"
   ]
  },
  {
   "cell_type": "code",
   "execution_count": 62,
   "id": "78042579-c152-4532-8b23-22de534d81e1",
   "metadata": {},
   "outputs": [],
   "source": [
    "tmp_rdd = trips_without_header_rdd.map(lambda x: (x[0], float(x[5])))"
   ]
  },
  {
   "cell_type": "code",
   "execution_count": 63,
   "id": "13ea80fe-1723-4720-9262-dad60a0819e9",
   "metadata": {},
   "outputs": [
    {
     "name": "stderr",
     "output_type": "stream",
     "text": [
      "                                                                                \r"
     ]
    },
    {
     "data": {
      "text/plain": [
       "[('2013002818', 5.5),\n",
       " ('2013006871', 22.0),\n",
       " ('2013007102', 5.5),\n",
       " ('2013009722', 14.5),\n",
       " ('2013002122', 51.5),\n",
       " ('2013005247', 14.5),\n",
       " ('2013010245', 7.5),\n",
       " ('2013010744', 13.5),\n",
       " ('2013006175', 19.5),\n",
       " ('2013000234', 19.5)]"
      ]
     },
     "execution_count": 63,
     "metadata": {},
     "output_type": "execute_result"
    }
   ],
   "source": [
    "tmp_rdd.take(10)"
   ]
  },
  {
   "cell_type": "code",
   "execution_count": 64,
   "id": "b00b306b-4147-4afb-a7b8-40a18eb77761",
   "metadata": {},
   "outputs": [],
   "source": [
    "revenu_per_car = tmp_rdd.reduceByKey(lambda v1, v2: v1 + v2)"
   ]
  },
  {
   "cell_type": "code",
   "execution_count": 65,
   "id": "60455ae9-ff81-4864-9f21-e893ffd5b48e",
   "metadata": {},
   "outputs": [
    {
     "name": "stderr",
     "output_type": "stream",
     "text": [
      "                                                                                \r"
     ]
    },
    {
     "data": {
      "text/plain": [
       "[('2013007102', 14632.0),\n",
       " ('2013010223', 16206.5),\n",
       " ('2013013307', 13586.0),\n",
       " ('2013000331', 15753.0),\n",
       " ('2013000488', 16400.0),\n",
       " ('2013000646', 17749.5),\n",
       " ('2013009317', 13374.0),\n",
       " ('2013010444', 18033.0),\n",
       " ('2013002601', 15033.0),\n",
       " ('2013012229', 17358.5)]"
      ]
     },
     "execution_count": 65,
     "metadata": {},
     "output_type": "execute_result"
    }
   ],
   "source": [
    "revenu_per_car.take(10)"
   ]
  },
  {
   "cell_type": "code",
   "execution_count": 68,
   "id": "36c0d9dd-0296-4ecd-b344-1b9f2adfe8b3",
   "metadata": {},
   "outputs": [
    {
     "name": "stderr",
     "output_type": "stream",
     "text": [
      "                                                                                \r"
     ]
    },
    {
     "data": {
      "text/plain": [
       "13464"
      ]
     },
     "execution_count": 68,
     "metadata": {},
     "output_type": "execute_result"
    }
   ],
   "source": [
    "revenu_per_car.count()"
   ]
  },
  {
   "cell_type": "code",
   "execution_count": 69,
   "id": "8186a626-2dfa-4aab-b86c-5e05e9bf6414",
   "metadata": {},
   "outputs": [
    {
     "name": "stderr",
     "output_type": "stream",
     "text": [
      "                                                                                \r"
     ]
    },
    {
     "data": {
      "text/plain": [
       "15100469"
      ]
     },
     "execution_count": 69,
     "metadata": {},
     "output_type": "execute_result"
    }
   ],
   "source": [
    "trip_fare_rdd.count()"
   ]
  },
  {
   "cell_type": "code",
   "execution_count": null,
   "id": "b93b42d0-71fb-4cac-89f8-afa1bfa4d0db",
   "metadata": {},
   "outputs": [],
   "source": []
  },
  {
   "cell_type": "code",
   "execution_count": 71,
   "id": "9c57d2be-efb7-41ac-81e0-98d2c98ca0f8",
   "metadata": {},
   "outputs": [
    {
     "name": "stderr",
     "output_type": "stream",
     "text": [
      "                                                                                \r"
     ]
    }
   ],
   "source": [
    "sorted_rdd = tmp_rdd.sortByKey()"
   ]
  },
  {
   "cell_type": "code",
   "execution_count": 72,
   "id": "29016aa7-b275-4120-8fd9-1644213af1e3",
   "metadata": {},
   "outputs": [
    {
     "name": "stderr",
     "output_type": "stream",
     "text": [
      "                                                                                \r"
     ]
    },
    {
     "data": {
      "text/plain": [
       "[('2013000001', 32.5),\n",
       " ('2013000001', 12.5),\n",
       " ('2013000001', 7.0),\n",
       " ('2013000001', 10.0),\n",
       " ('2013000001', 7.5),\n",
       " ('2013000001', 16.0),\n",
       " ('2013000001', 6.0),\n",
       " ('2013000001', 6.5),\n",
       " ('2013000001', 4.0),\n",
       " ('2013000001', 5.5),\n",
       " ('2013000001', 9.0),\n",
       " ('2013000001', 13.0),\n",
       " ('2013000001', 6.5),\n",
       " ('2013000001', 52.0),\n",
       " ('2013000001', 54.0),\n",
       " ('2013000001', 6.5),\n",
       " ('2013000001', 12.0),\n",
       " ('2013000001', 8.0),\n",
       " ('2013000001', 6.5),\n",
       " ('2013000001', 4.0),\n",
       " ('2013000001', 7.5),\n",
       " ('2013000001', 5.0),\n",
       " ('2013000001', 7.0),\n",
       " ('2013000001', 15.0),\n",
       " ('2013000001', 8.0),\n",
       " ('2013000001', 28.0),\n",
       " ('2013000001', 6.5),\n",
       " ('2013000001', 11.5),\n",
       " ('2013000001', 8.5),\n",
       " ('2013000001', 5.0),\n",
       " ('2013000001', 9.5),\n",
       " ('2013000001', 5.0),\n",
       " ('2013000001', 40.5),\n",
       " ('2013000001', 16.0),\n",
       " ('2013000001', 13.0),\n",
       " ('2013000001', 11.5),\n",
       " ('2013000001', 11.0),\n",
       " ('2013000001', 6.5),\n",
       " ('2013000001', 7.5),\n",
       " ('2013000001', 13.0),\n",
       " ('2013000001', 24.5),\n",
       " ('2013000001', 26.0),\n",
       " ('2013000001', 9.5),\n",
       " ('2013000001', 6.5),\n",
       " ('2013000001', 10.5),\n",
       " ('2013000001', 11.0),\n",
       " ('2013000001', 4.5),\n",
       " ('2013000001', 9.0),\n",
       " ('2013000001', 9.0),\n",
       " ('2013000001', 5.0)]"
      ]
     },
     "execution_count": 72,
     "metadata": {},
     "output_type": "execute_result"
    }
   ],
   "source": [
    "sorted_rdd.take(50)"
   ]
  },
  {
   "cell_type": "code",
   "execution_count": 19,
   "id": "d27543aa-a7ed-494a-8811-2d9748801a9b",
   "metadata": {},
   "outputs": [],
   "source": [
    "taxi_zones_rdd = sc.textFile('TaxiZones.csv')"
   ]
  },
  {
   "cell_type": "code",
   "execution_count": 20,
   "id": "2824e203-c5ee-406b-af97-79aa92dad881",
   "metadata": {},
   "outputs": [],
   "source": [
    "taxi_zones_with_col = taxi_zones_rdd.map(lambda x: x.split(\",\"))"
   ]
  },
  {
   "cell_type": "code",
   "execution_count": 21,
   "id": "2dd4b612-3db6-4301-aff5-0e3fdddff76b",
   "metadata": {},
   "outputs": [],
   "source": [
    "taxi_zones_with_col_from_queens = taxi_zones_with_col.filter(lambda x: x[1]=='Queens')"
   ]
  },
  {
   "cell_type": "code",
   "execution_count": 22,
   "id": "39bcec4f-5d7c-47f8-9fb8-2f4d9448c600",
   "metadata": {},
   "outputs": [
    {
     "data": {
      "text/plain": [
       "[['2', 'Queens', 'Jamaica Bay', 'Boro Zone'],\n",
       " ['7', 'Queens', 'Astoria', 'Boro Zone'],\n",
       " ['8', 'Queens', 'Astoria Park', 'Boro Zone'],\n",
       " ['9', 'Queens', 'Auburndale', 'Boro Zone'],\n",
       " ['10', 'Queens', 'Baisley Park', 'Boro Zone'],\n",
       " ['15', 'Queens', 'Bay Terrace/Fort Totten', 'Boro Zone'],\n",
       " ['16', 'Queens', 'Bayside', 'Boro Zone'],\n",
       " ['19', 'Queens', 'Bellerose', 'Boro Zone'],\n",
       " ['27', 'Queens', 'Breezy Point/Fort Tilden/Riis Beach', 'Boro Zone'],\n",
       " ['28', 'Queens', 'Briarwood/Jamaica Hills', 'Boro Zone'],\n",
       " ['30', 'Queens', 'Broad Channel', 'Boro Zone'],\n",
       " ['38', 'Queens', 'Cambria Heights', 'Boro Zone'],\n",
       " ['53', 'Queens', 'College Point', 'Boro Zone'],\n",
       " ['56', 'Queens', 'Corona', 'Boro Zone'],\n",
       " ['57', 'Queens', 'Corona', 'Boro Zone'],\n",
       " ['64', 'Queens', 'Douglaston', 'Boro Zone'],\n",
       " ['70', 'Queens', 'East Elmhurst', 'Boro Zone'],\n",
       " ['73', 'Queens', 'East Flushing', 'Boro Zone'],\n",
       " ['82', 'Queens', 'Elmhurst', 'Boro Zone'],\n",
       " ['83', 'Queens', 'Elmhurst/Maspeth', 'Boro Zone'],\n",
       " ['86', 'Queens', 'Far Rockaway', 'Boro Zone'],\n",
       " ['92', 'Queens', 'Flushing', 'Boro Zone'],\n",
       " ['93', 'Queens', 'Flushing Meadows-Corona Park', 'Boro Zone'],\n",
       " ['95', 'Queens', 'Forest Hills', 'Boro Zone'],\n",
       " ['96', 'Queens', 'Forest Park/Highland Park', 'Boro Zone'],\n",
       " ['98', 'Queens', 'Fresh Meadows', 'Boro Zone'],\n",
       " ['101', 'Queens', 'Glen Oaks', 'Boro Zone'],\n",
       " ['102', 'Queens', 'Glendale', 'Boro Zone'],\n",
       " ['117', 'Queens', 'Hammels/Arverne', 'Boro Zone'],\n",
       " ['121', 'Queens', 'Hillcrest/Pomonok', 'Boro Zone']]"
      ]
     },
     "execution_count": 22,
     "metadata": {},
     "output_type": "execute_result"
    }
   ],
   "source": [
    "taxi_zones_with_col_from_queens.take(30)"
   ]
  },
  {
   "cell_type": "code",
   "execution_count": 23,
   "id": "2d298332-0e3d-4106-aaba-1e44b8044c5b",
   "metadata": {},
   "outputs": [
    {
     "data": {
      "text/plain": [
       "['2', 'Queens', 'Jamaica Bay', 'Boro Zone']"
      ]
     },
     "execution_count": 23,
     "metadata": {},
     "output_type": "execute_result"
    }
   ],
   "source": [
    "taxi_zones_with_col_from_queens.first()"
   ]
  },
  {
   "cell_type": "code",
   "execution_count": 24,
   "id": "89f95a80-cfa6-439a-90be-08c0e8a04e1c",
   "metadata": {},
   "outputs": [],
   "source": [
    "taxizone_rdd = sc.textFile('TaxiZones.csv')"
   ]
  },
  {
   "cell_type": "code",
   "execution_count": 26,
   "id": "342b2e97-a472-4424-8025-f248c120407c",
   "metadata": {},
   "outputs": [],
   "source": [
    "taxizone_with_cols_rdd = taxi_zones_rdd.map(lambda x: x.split(\",\"))"
   ]
  },
  {
   "cell_type": "code",
   "execution_count": 27,
   "id": "6499b92d-7e1d-4482-b54b-7c1c0a2220c4",
   "metadata": {},
   "outputs": [
    {
     "data": {
      "text/plain": [
       "[['1', 'EWR', 'Newark Airport', 'EWR'],\n",
       " ['2', 'Queens', 'Jamaica Bay', 'Boro Zone']]"
      ]
     },
     "execution_count": 27,
     "metadata": {},
     "output_type": "execute_result"
    }
   ],
   "source": [
    "taxi_zones_with_col.take(2)"
   ]
  },
  {
   "cell_type": "code",
   "execution_count": 28,
   "id": "58cac5f6-1b4b-4128-8b3f-0e8b9790c3eb",
   "metadata": {},
   "outputs": [],
   "source": [
    "taxizone_borough_pair_rdd = taxi_zones_with_col.map(lambda zone_row: (zone_row[1],1))"
   ]
  },
  {
   "cell_type": "code",
   "execution_count": 30,
   "id": "7a9e2f61-4794-4430-b9a8-45e5ff862b19",
   "metadata": {},
   "outputs": [
    {
     "data": {
      "text/plain": [
       "[('EWR', 1),\n",
       " ('Queens', 1),\n",
       " ('Bronx', 1),\n",
       " ('Manhattan', 1),\n",
       " ('Staten Island', 1),\n",
       " ('Staten Island', 1),\n",
       " ('Queens', 1),\n",
       " ('Queens', 1),\n",
       " ('Queens', 1),\n",
       " ('Queens', 1),\n",
       " ('Brooklyn', 1),\n",
       " ('Manhattan', 1),\n",
       " ('Manhattan', 1),\n",
       " ('Brooklyn', 1),\n",
       " ('Queens', 1),\n",
       " ('Queens', 1),\n",
       " ('Brooklyn', 1),\n",
       " ('Bronx', 1),\n",
       " ('Queens', 1),\n",
       " ('Bronx', 1)]"
      ]
     },
     "execution_count": 30,
     "metadata": {},
     "output_type": "execute_result"
    }
   ],
   "source": [
    "taxizone_borough_pair_rdd.take(20)"
   ]
  },
  {
   "cell_type": "code",
   "execution_count": 31,
   "id": "1371b017-4551-47a5-8428-a14a14fd2c91",
   "metadata": {},
   "outputs": [],
   "source": [
    "borough_count_rdd = taxizone_borough_pair_rdd.reduceByKey(lambda v1, v2: v1 + v2)"
   ]
  },
  {
   "cell_type": "code",
   "execution_count": 32,
   "id": "2889955a-f0f5-4926-8f98-5067c61b252e",
   "metadata": {},
   "outputs": [
    {
     "name": "stderr",
     "output_type": "stream",
     "text": [
      "                                                                                \r"
     ]
    },
    {
     "data": {
      "text/plain": [
       "[('EWR', 1),\n",
       " ('Manhattan', 69),\n",
       " ('Brooklyn', 61),\n",
       " ('Unknown', 2),\n",
       " ('Queens', 69),\n",
       " ('Bronx', 43),\n",
       " ('Staten Island', 20)]"
      ]
     },
     "execution_count": 32,
     "metadata": {},
     "output_type": "execute_result"
    }
   ],
   "source": [
    "borough_count_rdd.collect()"
   ]
  },
  {
   "cell_type": "code",
   "execution_count": 119,
   "id": "ffd514a9-3bf0-4dd1-ba11-e6645e2b61b5",
   "metadata": {},
   "outputs": [
    {
     "data": {
      "text/plain": [
       "[]"
      ]
     },
     "execution_count": 119,
     "metadata": {},
     "output_type": "execute_result"
    }
   ],
   "source": [
    "borough_count_rdd.filter(lambda x:  isinstance(x[1], int)).collect()"
   ]
  },
  {
   "cell_type": "code",
   "execution_count": 110,
   "id": "c7006e0e-58c6-4772-9cb4-a6b02915bdd8",
   "metadata": {},
   "outputs": [],
   "source": [
    " filtered_zones_rdd =  borough_count_rdd.filter(lambda x: int(x[1]) > 10)"
   ]
  },
  {
   "cell_type": "code",
   "execution_count": 111,
   "id": "720a0b0a-ce21-45da-97e1-117750ee2443",
   "metadata": {},
   "outputs": [
    {
     "data": {
      "text/plain": [
       "[('Manhattan', 69),\n",
       " ('Brooklyn', 61),\n",
       " ('Queens', 69),\n",
       " ('Bronx', 43),\n",
       " ('Staten Island', 20)]"
      ]
     },
     "execution_count": 111,
     "metadata": {},
     "output_type": "execute_result"
    }
   ],
   "source": [
    "filtered_zones_rdd.collect()"
   ]
  },
  {
   "cell_type": "code",
   "execution_count": null,
   "id": "550b037d-135b-4a6d-8ce2-71f73919f468",
   "metadata": {},
   "outputs": [],
   "source": []
  }
 ],
 "metadata": {
  "kernelspec": {
   "display_name": "Python 3 (ipykernel)",
   "language": "python",
   "name": "python3"
  },
  "language_info": {
   "codemirror_mode": {
    "name": "ipython",
    "version": 3
   },
   "file_extension": ".py",
   "mimetype": "text/x-python",
   "name": "python",
   "nbconvert_exporter": "python",
   "pygments_lexer": "ipython3",
   "version": "3.10.12"
  }
 },
 "nbformat": 4,
 "nbformat_minor": 5
}
