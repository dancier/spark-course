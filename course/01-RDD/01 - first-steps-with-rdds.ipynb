{
 "cells": [
  {
   "cell_type": "markdown",
   "id": "08099d40-51cb-4192-aaa6-6962437072aa",
   "metadata": {},
   "source": [
    "# Erste Schritte mit RDDs"
   ]
  },
  {
   "cell_type": "markdown",
   "id": "6bbdda81-9864-48c6-86a3-cb1238283764",
   "metadata": {},
   "source": [
    "## Initialisierung von Spark"
   ]
  },
  {
   "cell_type": "code",
   "execution_count": 1,
   "id": "2a46ab1b-6053-49d6-b84f-9a2a9a2ff1ee",
   "metadata": {},
   "outputs": [],
   "source": [
    "from pyspark.sql import SparkSession"
   ]
  },
  {
   "cell_type": "code",
   "execution_count": 2,
   "id": "e988577c-c0d6-429b-949b-1173e24d37ec",
   "metadata": {},
   "outputs": [
    {
     "name": "stderr",
     "output_type": "stream",
     "text": [
      "23/08/21 09:39:12 WARN Utils: Your hostname, pupil-a resolves to a loopback address: 127.0.1.1; using 167.235.141.210 instead (on interface eth0)\n",
      "23/08/21 09:39:12 WARN Utils: Set SPARK_LOCAL_IP if you need to bind to another address\n",
      "Setting default log level to \"WARN\".\n",
      "To adjust logging level use sc.setLogLevel(newLevel). For SparkR, use setLogLevel(newLevel).\n",
      "23/08/21 09:39:13 WARN NativeCodeLoader: Unable to load native-hadoop library for your platform... using builtin-java classes where applicable\n"
     ]
    }
   ],
   "source": [
    "spark = (\n",
    "        SparkSession\n",
    "         .builder\n",
    "         .appName(\"test\")\n",
    "         .master(\"local[4]\")\n",
    "         .getOrCreate()\n",
    "        )"
   ]
  },
  {
   "cell_type": "markdown",
   "id": "12f25340-54bd-4558-b058-3e9f231fb927",
   "metadata": {},
   "source": [
    "spark"
   ]
  },
  {
   "cell_type": "code",
   "execution_count": 4,
   "id": "27bb66d6-7020-4e66-bfdf-4baa5b47fcfe",
   "metadata": {},
   "outputs": [],
   "source": [
    "sc = spark.sparkContext"
   ]
  },
  {
   "cell_type": "markdown",
   "id": "e4bb4f4e-e393-4229-85be-7c75acaf36cb",
   "metadata": {},
   "source": [
    "## Erzeuge deinen ersten RDD\n",
    "\n",
    "* [PySpark Docu](https://spark.apache.org/docs/latest/api/python/getting_started/index.html)\n",
    "* [RDD Python API](https://spark.apache.org/docs/latest/api/python/reference/pyspark.html#rdd-apis)"
   ]
  },
  {
   "cell_type": "code",
   "execution_count": 25,
   "id": "9c1ad825-bb57-430d-a0f1-a50791561483",
   "metadata": {},
   "outputs": [],
   "source": [
    "number_rdd = sc.parallelize([1, 2, 3, 4])"
   ]
  },
  {
   "cell_type": "code",
   "execution_count": 26,
   "id": "ae5d052e-e64e-49d4-8e9a-ccaa972fdd1c",
   "metadata": {},
   "outputs": [
    {
     "data": {
      "text/plain": [
       "pyspark.rdd.RDD"
      ]
     },
     "execution_count": 26,
     "metadata": {},
     "output_type": "execute_result"
    }
   ],
   "source": [
    "type(number_rdd)"
   ]
  },
  {
   "cell_type": "code",
   "execution_count": 27,
   "id": "a73db2fd-09a7-4cc1-b19a-288bc941e903",
   "metadata": {},
   "outputs": [
    {
     "data": {
      "text/plain": [
       "4"
      ]
     },
     "execution_count": 27,
     "metadata": {},
     "output_type": "execute_result"
    }
   ],
   "source": [
    "# wieviele Partitionen wurden erzeugt\n",
    "number_rdd.getNumPartitions()"
   ]
  },
  {
   "cell_type": "code",
   "execution_count": 24,
   "id": "144379d1-899b-42b8-93bf-6eccca259c64",
   "metadata": {},
   "outputs": [
    {
     "data": {
      "text/plain": [
       "[1, 2, 3, 4]"
      ]
     },
     "execution_count": 24,
     "metadata": {},
     "output_type": "execute_result"
    }
   ],
   "source": [
    "# alles ausgeben\n",
    "number_rdd.collect()"
   ]
  },
  {
   "cell_type": "code",
   "execution_count": 13,
   "id": "2cbe4e71-f521-4310-b7a0-636b86fb3940",
   "metadata": {},
   "outputs": [
    {
     "data": {
      "text/plain": [
       "1"
      ]
     },
     "execution_count": 13,
     "metadata": {},
     "output_type": "execute_result"
    }
   ],
   "source": [
    "# nur die erste Zeile ausgeben\n",
    "number_rdd.first()"
   ]
  },
  {
   "cell_type": "code",
   "execution_count": 14,
   "id": "d488124d-e880-4829-80e2-9a390d3e6526",
   "metadata": {},
   "outputs": [
    {
     "data": {
      "text/plain": [
       "[1, 2]"
      ]
     },
     "execution_count": 14,
     "metadata": {},
     "output_type": "execute_result"
    }
   ],
   "source": [
    "# die ersten zwei Zeilen ausgeben\n",
    "number_rdd.take(2)"
   ]
  },
  {
   "cell_type": "code",
   "execution_count": 16,
   "id": "222cb681-b70e-4e78-952b-3bd276f629d9",
   "metadata": {},
   "outputs": [
    {
     "name": "stderr",
     "output_type": "stream",
     "text": [
      "                                                                                \r"
     ]
    },
    {
     "data": {
      "text/plain": [
       "[2, 4]"
      ]
     },
     "execution_count": 16,
     "metadata": {},
     "output_type": "execute_result"
    }
   ],
   "source": [
    "# auf gerade Zahlen filtern\n",
    "even_number_rdd = number_rdd.filter(lambda x : x % 2 == 0)\n",
    "even_number_rdd.collect()"
   ]
  },
  {
   "cell_type": "code",
   "execution_count": 17,
   "id": "ff755819-d77a-4878-948a-d8aa41ac3b81",
   "metadata": {},
   "outputs": [],
   "source": [
    "# ein leicht komplexeres Beispiel\n",
    "address_rdd = sc.parallelize(\n",
    "    [\n",
    "        [1, \"Marc\", \"Dortmund\"],\n",
    "        [2, \"Bernd\", \"Hamburg\"]\n",
    "    ]\n",
    ")"
   ]
  },
  {
   "cell_type": "code",
   "execution_count": 18,
   "id": "a75687cb-3fa4-4a67-aa67-6c25fc803eb6",
   "metadata": {},
   "outputs": [
    {
     "data": {
      "text/plain": [
       "[1, 'Marc', 'Dortmund']"
      ]
     },
     "execution_count": 18,
     "metadata": {},
     "output_type": "execute_result"
    }
   ],
   "source": [
    "address_rdd.first()"
   ]
  },
  {
   "cell_type": "code",
   "execution_count": 19,
   "id": "4589b8fd-bac7-411a-92cc-1435fd421aa9",
   "metadata": {},
   "outputs": [],
   "source": [
    "people_from_hamburg_rdd = address_rdd.filter(lambda x: x[2]=='Hamburg')"
   ]
  },
  {
   "cell_type": "code",
   "execution_count": 20,
   "id": "7b448213-5b63-44b1-a7fe-cc15ca02c257",
   "metadata": {},
   "outputs": [
    {
     "name": "stderr",
     "output_type": "stream",
     "text": [
      "                                                                                \r"
     ]
    },
    {
     "data": {
      "text/plain": [
       "[[2, 'Bernd', 'Hamburg']]"
      ]
     },
     "execution_count": 20,
     "metadata": {},
     "output_type": "execute_result"
    }
   ],
   "source": [
    "people_from_hamburg_rdd.collect()"
   ]
  }
 ],
 "metadata": {
  "kernelspec": {
   "display_name": "Python 3 (ipykernel)",
   "language": "python",
   "name": "python3"
  },
  "language_info": {
   "codemirror_mode": {
    "name": "ipython",
    "version": 3
   },
   "file_extension": ".py",
   "mimetype": "text/x-python",
   "name": "python",
   "nbconvert_exporter": "python",
   "pygments_lexer": "ipython3",
   "version": "3.10.12"
  }
 },
 "nbformat": 4,
 "nbformat_minor": 5
}
