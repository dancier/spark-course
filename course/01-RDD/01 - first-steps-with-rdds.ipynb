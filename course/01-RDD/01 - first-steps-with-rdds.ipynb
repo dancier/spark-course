{
 "cells": [
  {
   "cell_type": "markdown",
   "id": "95321939-b714-4544-a766-ab833cdf7ea2",
   "metadata": {},
   "source": [
    "# Was sind RDD\n",
    "\n",
    "RDDs sind die grundlegende Datenstruktur von Spark. Es sind Resilient Distributed Datassets.\n",
    "\n",
    "[Link zur Dokumentation](https://spark.apache.org/docs/latest/rdd-programming-guide.html)\n",
    "\n",
    "![](RDD-basics.dio.svg)\n",
    "\n",
    "Wie mappt das auf das Ausführungsmodell von Spark?\n",
    "\n",
    "![](RDD-mapping-on-spark.dio.svg)\n",
    "\n",
    "\n",
    "## Haupteigenschaften von RDDs\n",
    "\n",
    "* **In-Memory**\n",
    "* **Partitioniert** (alle Partitionen zusammen sind ein RDD, sind sind üblicherweise im Speicher des Clusters verteilt.\n",
    "* **Read-Only** jede Änderung erzeugt einen neuen RDD\n",
    "* **Resillient** können im Fehlefall sich recovern\n",
    "\n",
    "## Was ist der Lineage Graph\n",
    "\n",
    "![](RDD-lineage-graph.dio.svg)\n",
    "\n",
    "Er enthält die verschiedenen Schritte die auf die einzelnen Partitionen angewendet werden."
   ]
  },
  {
   "cell_type": "markdown",
   "id": "08099d40-51cb-4192-aaa6-6962437072aa",
   "metadata": {
    "tags": []
   },
   "source": [
    "# Erste Schritte mit RDDs"
   ]
  },
  {
   "cell_type": "markdown",
   "id": "6bbdda81-9864-48c6-86a3-cb1238283764",
   "metadata": {},
   "source": [
    "## Initialisierung von Spark"
   ]
  },
  {
   "cell_type": "code",
   "execution_count": 1,
   "id": "2a46ab1b-6053-49d6-b84f-9a2a9a2ff1ee",
   "metadata": {
    "tags": []
   },
   "outputs": [],
   "source": [
    "import findspark\n",
    "findspark.init()\n",
    "findspark.find()\n",
    "\n",
    "from pyspark.sql import SparkSession"
   ]
  },
  {
   "cell_type": "code",
   "execution_count": 4,
   "id": "e988577c-c0d6-429b-949b-1173e24d37ec",
   "metadata": {
    "tags": []
   },
   "outputs": [
    {
     "data": {
      "text/html": [
       "\n",
       "            <div>\n",
       "                <p><b>SparkSession - in-memory</b></p>\n",
       "                \n",
       "        <div>\n",
       "            <p><b>SparkContext</b></p>\n",
       "\n",
       "            <p><a href=\"http://pupil-a.bin-ich-tot.de:4040\">Spark UI</a></p>\n",
       "\n",
       "            <dl>\n",
       "              <dt>Version</dt>\n",
       "                <dd><code>v3.4.1</code></dd>\n",
       "              <dt>Master</dt>\n",
       "                <dd><code>local[4]</code></dd>\n",
       "              <dt>AppName</dt>\n",
       "                <dd><code>RDD-First-Steps</code></dd>\n",
       "            </dl>\n",
       "        </div>\n",
       "        \n",
       "            </div>\n",
       "        "
      ],
      "text/plain": [
       "<pyspark.sql.session.SparkSession at 0x7fbedd0d0e80>"
      ]
     },
     "execution_count": 4,
     "metadata": {},
     "output_type": "execute_result"
    }
   ],
   "source": [
    "spark = (\n",
    "        SparkSession\n",
    "         .builder\n",
    "         .appName(\"RDD-First-Steps\")\n",
    "         .master(\"local[4]\")\n",
    "         .getOrCreate()\n",
    "        )\n",
    "sc = spark.sparkContext # nützlich um z.B. RDDs innerhalb einer Spark-Session zu erzeugen\n",
    "spark"
   ]
  },
  {
   "cell_type": "markdown",
   "id": "e4bb4f4e-e393-4229-85be-7c75acaf36cb",
   "metadata": {},
   "source": [
    "## Erzeuge deinen ersten RDD\n",
    "\n",
    "* [PySpark Docu](https://spark.apache.org/docs/latest/api/python/getting_started/index.html)\n",
    "* [RDD Python API](https://spark.apache.org/docs/latest/api/python/reference/pyspark.html#rdd-apis)"
   ]
  },
  {
   "cell_type": "code",
   "execution_count": 9,
   "id": "9c1ad825-bb57-430d-a0f1-a50791561483",
   "metadata": {
    "tags": []
   },
   "outputs": [],
   "source": [
    "number_rdd = sc.parallelize([1, 2, 3, 4, 5])"
   ]
  },
  {
   "cell_type": "code",
   "execution_count": 10,
   "id": "ae5d052e-e64e-49d4-8e9a-ccaa972fdd1c",
   "metadata": {
    "tags": []
   },
   "outputs": [
    {
     "data": {
      "text/plain": [
       "pyspark.rdd.RDD"
      ]
     },
     "execution_count": 10,
     "metadata": {},
     "output_type": "execute_result"
    }
   ],
   "source": [
    "type(number_rdd)"
   ]
  },
  {
   "cell_type": "code",
   "execution_count": 11,
   "id": "a73db2fd-09a7-4cc1-b19a-288bc941e903",
   "metadata": {
    "tags": []
   },
   "outputs": [
    {
     "data": {
      "text/plain": [
       "4"
      ]
     },
     "execution_count": 11,
     "metadata": {},
     "output_type": "execute_result"
    }
   ],
   "source": [
    "# wieviele Partitionen wurden erzeugt\n",
    "number_rdd.getNumPartitions()"
   ]
  },
  {
   "cell_type": "code",
   "execution_count": 12,
   "id": "144379d1-899b-42b8-93bf-6eccca259c64",
   "metadata": {
    "tags": []
   },
   "outputs": [
    {
     "data": {
      "text/plain": [
       "[1, 2, 3, 4, 5]"
      ]
     },
     "execution_count": 12,
     "metadata": {},
     "output_type": "execute_result"
    }
   ],
   "source": [
    "# alles ausgeben\n",
    "number_rdd.collect()"
   ]
  },
  {
   "cell_type": "code",
   "execution_count": 13,
   "id": "2cbe4e71-f521-4310-b7a0-636b86fb3940",
   "metadata": {
    "tags": []
   },
   "outputs": [
    {
     "name": "stderr",
     "output_type": "stream",
     "text": [
      "                                                                                \r"
     ]
    },
    {
     "data": {
      "text/plain": [
       "1"
      ]
     },
     "execution_count": 13,
     "metadata": {},
     "output_type": "execute_result"
    }
   ],
   "source": [
    "# nur den ersten Eintrag ausgeben\n",
    "number_rdd.first()"
   ]
  },
  {
   "cell_type": "code",
   "execution_count": 14,
   "id": "d488124d-e880-4829-80e2-9a390d3e6526",
   "metadata": {
    "tags": []
   },
   "outputs": [
    {
     "data": {
      "text/plain": [
       "[1, 2]"
      ]
     },
     "execution_count": 14,
     "metadata": {},
     "output_type": "execute_result"
    }
   ],
   "source": [
    "# die ersten zwei Einträge ausgeben\n",
    "number_rdd.take(2)"
   ]
  },
  {
   "cell_type": "code",
   "execution_count": 18,
   "id": "222cb681-b70e-4e78-952b-3bd276f629d9",
   "metadata": {
    "tags": []
   },
   "outputs": [
    {
     "data": {
      "text/plain": [
       "[2, 4]"
      ]
     },
     "execution_count": 18,
     "metadata": {},
     "output_type": "execute_result"
    }
   ],
   "source": [
    "# auf gerade Zahlen filtern\n",
    "even_number_rdd = number_rdd.filter(lambda x : x % 2 == 0)\n",
    "even_number_rdd.collect()"
   ]
  },
  {
   "cell_type": "code",
   "execution_count": 30,
   "id": "ff755819-d77a-4878-948a-d8aa41ac3b81",
   "metadata": {
    "tags": []
   },
   "outputs": [],
   "source": [
    "# ein leicht komplexeres Beispiel\n",
    "address_rdd = sc.parallelize(\n",
    "    [\n",
    "        [1, \"Marc\", \"Dortmund\"],\n",
    "        [2, \"Bernd\", \"Hamburg\"]\n",
    "    ]\n",
    ")"
   ]
  },
  {
   "cell_type": "code",
   "execution_count": 31,
   "id": "a75687cb-3fa4-4a67-aa67-6c25fc803eb6",
   "metadata": {
    "tags": []
   },
   "outputs": [
    {
     "data": {
      "text/plain": [
       "[1, 'Marc', 'Dortmund']"
      ]
     },
     "execution_count": 31,
     "metadata": {},
     "output_type": "execute_result"
    }
   ],
   "source": [
    "address_rdd.first()"
   ]
  },
  {
   "cell_type": "code",
   "execution_count": 32,
   "id": "4589b8fd-bac7-411a-92cc-1435fd421aa9",
   "metadata": {
    "tags": []
   },
   "outputs": [],
   "source": [
    "people_from_hamburg_rdd = address_rdd.filter(lambda x: x[2]=='Hamburg')"
   ]
  },
  {
   "cell_type": "code",
   "execution_count": 33,
   "id": "7b448213-5b63-44b1-a7fe-cc15ca02c257",
   "metadata": {
    "tags": []
   },
   "outputs": [
    {
     "data": {
      "text/plain": [
       "[[2, 'Bernd', 'Hamburg']]"
      ]
     },
     "execution_count": 33,
     "metadata": {},
     "output_type": "execute_result"
    }
   ],
   "source": [
    "people_from_hamburg_rdd.collect()"
   ]
  },
  {
   "cell_type": "markdown",
   "id": "e8303edb-7c1c-4b85-a140-0223c295d566",
   "metadata": {},
   "source": [
    "## Erzeugen von RDDs aus Dateien\n"
   ]
  },
  {
   "cell_type": "code",
   "execution_count": 35,
   "id": "3d5223c9-a477-4efe-a5cf-4df5a1ed6d13",
   "metadata": {
    "tags": []
   },
   "outputs": [],
   "source": [
    "taxi_zones_rdd = sc.textFile(\"TaxiZones.csv\") # Du könntest auch Ordner angeben. Dann würden die ganzen Ordner gelesen."
   ]
  },
  {
   "cell_type": "code",
   "execution_count": 36,
   "id": "18d0c70c-1662-4048-a4d3-ab6dff69ec53",
   "metadata": {
    "tags": []
   },
   "outputs": [
    {
     "data": {
      "text/plain": [
       "TaxiZones.csv MapPartitionsRDD[26] at textFile at NativeMethodAccessorImpl.java:0"
      ]
     },
     "execution_count": 36,
     "metadata": {},
     "output_type": "execute_result"
    }
   ],
   "source": [
    "taxi_zones_rdd"
   ]
  },
  {
   "cell_type": "code",
   "execution_count": 37,
   "id": "21255c21-8531-4067-aba0-cb3b0f34bc99",
   "metadata": {
    "tags": []
   },
   "outputs": [
    {
     "data": {
      "text/plain": [
       "['1,EWR,Newark Airport,EWR',\n",
       " '2,Queens,Jamaica Bay,Boro Zone',\n",
       " '3,Bronx,Allerton/Pelham Gardens,Boro Zone',\n",
       " '4,Manhattan,Alphabet City,Yellow Zone',\n",
       " '5,Staten Island,Arden Heights,Boro Zone',\n",
       " '6,Staten Island,Arrochar/Fort Wadsworth,Boro Zone',\n",
       " '7,Queens,Astoria,Boro Zone',\n",
       " '8,Queens,Astoria Park,Boro Zone',\n",
       " '9,Queens,Auburndale,Boro Zone',\n",
       " '10,Queens,Baisley Park,Boro Zone']"
      ]
     },
     "execution_count": 37,
     "metadata": {},
     "output_type": "execute_result"
    }
   ],
   "source": [
    "# die ersten 10 Einträge ausgeben\n",
    "taxi_zones_rdd.take(10)"
   ]
  },
  {
   "cell_type": "code",
   "execution_count": 38,
   "id": "aadfcb3b-db12-475d-8263-d18f1edf4bd6",
   "metadata": {
    "tags": []
   },
   "outputs": [
    {
     "data": {
      "text/plain": [
       "2"
      ]
     },
     "execution_count": 38,
     "metadata": {},
     "output_type": "execute_result"
    }
   ],
   "source": [
    "taxi_zones_rdd.getNumPartitions()"
   ]
  },
  {
   "cell_type": "markdown",
   "id": "5f5f669c-a427-4c42-b44a-8a5311930862",
   "metadata": {
    "tags": []
   },
   "source": [
    "Wieso könnte Spark das gemacht haben?"
   ]
  },
  {
   "cell_type": "code",
   "execution_count": 39,
   "id": "3648f036-c128-47cc-966e-7dbb696f8213",
   "metadata": {
    "tags": []
   },
   "outputs": [
    {
     "data": {
      "text/plain": [
       "4"
      ]
     },
     "execution_count": 39,
     "metadata": {},
     "output_type": "execute_result"
    }
   ],
   "source": [
    "# Nun lesen und 4 Partitionen erzwingen\n",
    "taxi_zones_rdd = sc.textFile(\"TaxiZones.csv\", 4)\n",
    "taxi_zones_rdd.getNumPartitions()"
   ]
  },
  {
   "cell_type": "markdown",
   "id": "587f2256-b02c-4830-8f0f-6f2d7606dc9a",
   "metadata": {},
   "source": [
    "## Eine der wichtigsten Operationen: Map"
   ]
  },
  {
   "cell_type": "code",
   "execution_count": 43,
   "id": "956e4bb7-8320-425c-a08d-81e60c7ccf60",
   "metadata": {
    "tags": []
   },
   "outputs": [
    {
     "data": {
      "text/plain": [
       "[['1', 'EWR', 'Newark Airport', 'EWR'],\n",
       " ['2', 'Queens', 'Jamaica Bay', 'Boro Zone'],\n",
       " ['3', 'Bronx', 'Allerton/Pelham Gardens', 'Boro Zone'],\n",
       " ['4', 'Manhattan', 'Alphabet City', 'Yellow Zone'],\n",
       " ['5', 'Staten Island', 'Arden Heights', 'Boro Zone']]"
      ]
     },
     "execution_count": 43,
     "metadata": {},
     "output_type": "execute_result"
    }
   ],
   "source": [
    "taxi_zones_splitted = (\n",
    "    taxi_zones_rdd\n",
    "        .map(lambda row: row.split(\",\"))\n",
    ")\n",
    "taxi_zones_splitted.take(5)"
   ]
  },
  {
   "cell_type": "code",
   "execution_count": 46,
   "id": "4b074981-d53d-41b4-9523-9b5f0b3ce71b",
   "metadata": {
    "tags": []
   },
   "outputs": [
    {
     "data": {
      "text/plain": [
       "[['41', 'Manhattan', 'Central Harlem', 'Boro Zone'],\n",
       " ['42', 'Manhattan', 'Central Harlem North', 'Boro Zone'],\n",
       " ['43', 'Manhattan', 'Central Park', 'Yellow Zone']]"
      ]
     },
     "execution_count": 46,
     "metadata": {},
     "output_type": "execute_result"
    }
   ],
   "source": [
    "filtered_zones_rdd = (\n",
    "    taxi_zones_splitted\n",
    "        .filter(lambda row: row[1] == \"Manhattan\" and row[2].lower().startswith(\"central\"))\n",
    ")\n",
    "filtered_zones_rdd.take(5)\n"
   ]
  },
  {
   "cell_type": "markdown",
   "id": "ceb3993b-3857-4655-a120-674232561fa2",
   "metadata": {
    "tags": []
   },
   "source": [
    "**Aufgabe** Filter nach 2. Element ist Bronx\n",
    "\n",
    "und/oder\n",
    "\n",
    "Filter nach geraden IDs"
   ]
  },
  {
   "cell_type": "code",
   "execution_count": null,
   "id": "027120fb-06cf-4797-8ff8-f819ee01563d",
   "metadata": {},
   "outputs": [],
   "source": []
  }
 ],
 "metadata": {
  "kernelspec": {
   "display_name": "Python 3 (ipykernel)",
   "language": "python",
   "name": "python3"
  },
  "language_info": {
   "codemirror_mode": {
    "name": "ipython",
    "version": 3
   },
   "file_extension": ".py",
   "mimetype": "text/x-python",
   "name": "python",
   "nbconvert_exporter": "python",
   "pygments_lexer": "ipython3",
   "version": "3.10.12"
  }
 },
 "nbformat": 4,
 "nbformat_minor": 5
}
