{
 "cells": [
  {
   "cell_type": "markdown",
   "id": "63fd86c7-d40d-4c7a-a633-e91619bb3b15",
   "metadata": {},
   "source": [
    "# RDD - Takeaways"
   ]
  },
  {
   "cell_type": "markdown",
   "id": "950747e6-0db0-4f86-a549-bf32621dd0f4",
   "metadata": {},
   "source": [
    "how to create\n",
    "\n",
    "wide and narray\n",
    "\n",
    "* narrow - each partitions is used exaactly once\n",
    "* wide - one partition could be used multiple times (leads to expensive shuffeling of data)\n",
    "\n",
    "lazy transformations\n",
    "\n",
    "each action one job\n",
    "\n",
    "special kind of pair rdds \n",
    "\n",
    "for each wide transformation one stage is being created\n",
    "\n",
    "\n",
    "application -> jobs -> stages -> tasks"
   ]
  },
  {
   "cell_type": "code",
   "execution_count": null,
   "id": "eb2fa1ed-2835-4eb8-b405-1732be4528d9",
   "metadata": {},
   "outputs": [],
   "source": []
  }
 ],
 "metadata": {
  "kernelspec": {
   "display_name": "Python 3 (ipykernel)",
   "language": "python",
   "name": "python3"
  },
  "language_info": {
   "codemirror_mode": {
    "name": "ipython",
    "version": 3
   },
   "file_extension": ".py",
   "mimetype": "text/x-python",
   "name": "python",
   "nbconvert_exporter": "python",
   "pygments_lexer": "ipython3",
   "version": "3.10.12"
  }
 },
 "nbformat": 4,
 "nbformat_minor": 5
}
