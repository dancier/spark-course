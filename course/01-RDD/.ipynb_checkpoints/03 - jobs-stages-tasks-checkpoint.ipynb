{
 "cells": [
  {
   "cell_type": "markdown",
   "id": "1422ed23-2a1b-4089-8ee7-c10e6687df2a",
   "metadata": {},
   "source": [
    "# Jobs, Stages and Tasks"
   ]
  },
  {
   "cell_type": "markdown",
   "id": "63186e5d-2fc4-4131-b0bb-599bda5b9003",
   "metadata": {},
   "source": [
    "## Setting up Spark"
   ]
  },
  {
   "cell_type": "code",
   "execution_count": 1,
   "id": "4b50fea5-886e-411c-b593-9f6822ed078a",
   "metadata": {},
   "outputs": [],
   "source": [
    "from pyspark.sql import SparkSession"
   ]
  },
  {
   "cell_type": "code",
   "execution_count": null,
   "id": "40327361-d25e-4fc8-b506-c79bd58fa2af",
   "metadata": {},
   "outputs": [],
   "source": [
    "spark.stop()"
   ]
  },
  {
   "cell_type": "code",
   "execution_count": 2,
   "id": "4832ddfa-4197-418f-9382-a45992299261",
   "metadata": {},
   "outputs": [
    {
     "name": "stderr",
     "output_type": "stream",
     "text": [
      "23/08/21 05:50:57 WARN Utils: Your hostname, pupil-a resolves to a loopback address: 127.0.1.1; using 167.235.141.210 instead (on interface eth0)\n",
      "23/08/21 05:50:57 WARN Utils: Set SPARK_LOCAL_IP if you need to bind to another address\n",
      "Setting default log level to \"WARN\".\n",
      "To adjust logging level use sc.setLogLevel(newLevel). For SparkR, use setLogLevel(newLevel).\n",
      "23/08/21 05:50:58 WARN NativeCodeLoader: Unable to load native-hadoop library for your platform... using builtin-java classes where applicable\n",
      "23/08/21 05:51:00 WARN Utils: Service 'SparkUI' could not bind on port 4040. Attempting port 4041.\n"
     ]
    }
   ],
   "source": [
    "spark = SparkSession.builder.appName(\"jobs-stages-tasks\").master(\"local[4]\").getOrCreate()"
   ]
  },
  {
   "cell_type": "code",
   "execution_count": 3,
   "id": "da3509cf-81c7-44b2-af00-e10b2909dd92",
   "metadata": {},
   "outputs": [
    {
     "data": {
      "text/html": [
       "\n",
       "            <div>\n",
       "                <p><b>SparkSession - in-memory</b></p>\n",
       "                \n",
       "        <div>\n",
       "            <p><b>SparkContext</b></p>\n",
       "\n",
       "            <p><a href=\"http://pupil-a.bin-ich-tot.de:4041\">Spark UI</a></p>\n",
       "\n",
       "            <dl>\n",
       "              <dt>Version</dt>\n",
       "                <dd><code>v3.4.1</code></dd>\n",
       "              <dt>Master</dt>\n",
       "                <dd><code>local[4]</code></dd>\n",
       "              <dt>AppName</dt>\n",
       "                <dd><code>jobs-stages-tasks</code></dd>\n",
       "            </dl>\n",
       "        </div>\n",
       "        \n",
       "            </div>\n",
       "        "
      ],
      "text/plain": [
       "<pyspark.sql.session.SparkSession at 0x7f2c2070c2b0>"
      ]
     },
     "execution_count": 3,
     "metadata": {},
     "output_type": "execute_result"
    }
   ],
   "source": [
    "spark"
   ]
  },
  {
   "cell_type": "code",
   "execution_count": 4,
   "id": "576ba92d-4f84-4703-8e3f-5930406ad01a",
   "metadata": {},
   "outputs": [],
   "source": [
    "sc = spark.sparkContext"
   ]
  },
  {
   "cell_type": "markdown",
   "id": "a7e128cb-dff0-4124-8d89-b819bef1e718",
   "metadata": {},
   "source": [
    "## Reading the file"
   ]
  },
  {
   "cell_type": "code",
   "execution_count": 33,
   "id": "48230e51-1247-4045-a3ee-a09032f2ec42",
   "metadata": {},
   "outputs": [
    {
     "data": {
      "text/plain": [
       "['1,EWR,Newark Airport,EWR',\n",
       " '2,Queens,Jamaica Bay,Boro Zone',\n",
       " '3,Bronx,Allerton/Pelham Gardens,Boro Zone',\n",
       " '4,Manhattan,Alphabet City,Yellow Zone',\n",
       " '5,Staten Island,Arden Heights,Boro Zone',\n",
       " '6,Staten Island,Arrochar/Fort Wadsworth,Boro Zone',\n",
       " '7,Queens,Astoria,Boro Zone',\n",
       " '8,Queens,Astoria Park,Boro Zone',\n",
       " '9,Queens,Auburndale,Boro Zone',\n",
       " '10,Queens,Baisley Park,Boro Zone']"
      ]
     },
     "execution_count": 33,
     "metadata": {},
     "output_type": "execute_result"
    }
   ],
   "source": [
    "zones_with_cols_rdd = sc.textFile(\"TaxiZones.csv\", 4)\n",
    "zones_with_cols_rdd.take(10)"
   ]
  },
  {
   "cell_type": "markdown",
   "id": "c7b6e1fc-d4aa-48a1-9046-ae634942ec63",
   "metadata": {},
   "source": [
    "Überlege wieviele\n",
    " * Jobs\n",
    " * Transformationen\n",
    " * Actions\n",
    " * Stages\n",
    "erzeugt wurden?"
   ]
  },
  {
   "cell_type": "markdown",
   "id": "4496f3fa-b78a-4e0d-9d21-a66a37b73732",
   "metadata": {},
   "source": [
    "## Reading and splitting"
   ]
  },
  {
   "cell_type": "code",
   "execution_count": 34,
   "id": "82b0cc1f-a0f6-4ccc-be72-dcfe9e0aaec5",
   "metadata": {},
   "outputs": [
    {
     "data": {
      "text/plain": [
       "[['1', 'EWR', 'Newark Airport', 'EWR'],\n",
       " ['2', 'Queens', 'Jamaica Bay', 'Boro Zone'],\n",
       " ['3', 'Bronx', 'Allerton/Pelham Gardens', 'Boro Zone'],\n",
       " ['4', 'Manhattan', 'Alphabet City', 'Yellow Zone'],\n",
       " ['5', 'Staten Island', 'Arden Heights', 'Boro Zone'],\n",
       " ['6', 'Staten Island', 'Arrochar/Fort Wadsworth', 'Boro Zone'],\n",
       " ['7', 'Queens', 'Astoria', 'Boro Zone'],\n",
       " ['8', 'Queens', 'Astoria Park', 'Boro Zone'],\n",
       " ['9', 'Queens', 'Auburndale', 'Boro Zone'],\n",
       " ['10', 'Queens', 'Baisley Park', 'Boro Zone']]"
      ]
     },
     "execution_count": 34,
     "metadata": {},
     "output_type": "execute_result"
    }
   ],
   "source": [
    "# Reading into 4 partitions \n",
    "zones_rdd = sc.textFile(\"TaxiZones.csv\", 4)\n",
    "# Splitting each row by ,\n",
    "zones_with_cols_rdd = zones_rdd.map(lambda x: x.split(\",\"))\n",
    "\n",
    "zones_with_cols_rdd.take(10)"
   ]
  },
  {
   "cell_type": "code",
   "execution_count": 39,
   "id": "b15e134e-c5ea-4ab8-aaee-7f88633db116",
   "metadata": {},
   "outputs": [
    {
     "name": "stdout",
     "output_type": "stream",
     "text": [
      "After reading the file: 4\n",
      "After applying map: 4\n"
     ]
    }
   ],
   "source": [
    "# Hat sich die Anzahl der Partitionen im Laufe der Transformationen verändert?\n",
    "\n",
    "print(\"After reading the file: \" + str(zones_rdd.getNumPartitions()))\n",
    "print(\"After applying map: \" + str(zones_with_cols_rdd.getNumPartitions()))"
   ]
  },
  {
   "cell_type": "markdown",
   "id": "f4ae8e89-db83-48de-ae0f-e5ccceff4109",
   "metadata": {},
   "source": [
    "## Reading and creating a pair RDD"
   ]
  },
  {
   "cell_type": "code",
   "execution_count": 50,
   "id": "0fb5df36-065c-4687-8c6c-e649cd7d98d4",
   "metadata": {},
   "outputs": [
    {
     "name": "stderr",
     "output_type": "stream",
     "text": [
      "                                                                                \r"
     ]
    },
    {
     "name": "stdout",
     "output_type": "stream",
     "text": [
      "265\n",
      "265\n",
      "265\n"
     ]
    },
    {
     "data": {
      "text/plain": [
       "[['1', 'EWR', 'Newark Airport', 'EWR'],\n",
       " ['2', 'Queens', 'Jamaica Bay', 'Boro Zone'],\n",
       " ['3', 'Bronx', 'Allerton/Pelham Gardens', 'Boro Zone'],\n",
       " ['4', 'Manhattan', 'Alphabet City', 'Yellow Zone'],\n",
       " ['5', 'Staten Island', 'Arden Heights', 'Boro Zone'],\n",
       " ['6', 'Staten Island', 'Arrochar/Fort Wadsworth', 'Boro Zone'],\n",
       " ['7', 'Queens', 'Astoria', 'Boro Zone'],\n",
       " ['8', 'Queens', 'Astoria Park', 'Boro Zone'],\n",
       " ['9', 'Queens', 'Auburndale', 'Boro Zone'],\n",
       " ['10', 'Queens', 'Baisley Park', 'Boro Zone']]"
      ]
     },
     "execution_count": 50,
     "metadata": {},
     "output_type": "execute_result"
    }
   ],
   "source": [
    "# Reading into 4 partitions \n",
    "zones_rdd = sc.textFile(\"TaxiZones.csv\", 4)\n",
    "# Splitting each row by ,\n",
    "zones_with_cols_rdd = zones_rdd.map(lambda x: x.split(\",\"))\n",
    "\n",
    "# Now creating a pair RDD for counting the amount of boroughs\n",
    "zones_pair_rdd = zones_with_cols_rdd.map(lambda x: (x[0],1))\n",
    "\n",
    "print(zones_rdd.count())\n",
    "print(zones_with_cols_rdd.count())\n",
    "print(zones_pair_rdd.count())\n",
    "\n",
    "zones_with_cols_rdd.take(10)"
   ]
  },
  {
   "cell_type": "markdown",
   "id": "757f84ba-bcba-4c33-8c7e-73dda3ec3e8d",
   "metadata": {},
   "source": [
    "### Now also finding distinct records"
   ]
  },
  {
   "cell_type": "code",
   "execution_count": 56,
   "id": "551c7312-3fe4-4001-b5d4-bee34e379b96",
   "metadata": {},
   "outputs": [
    {
     "name": "stderr",
     "output_type": "stream",
     "text": [
      "                                                                                \r"
     ]
    },
    {
     "name": "stdout",
     "output_type": "stream",
     "text": [
      "265\n"
     ]
    },
    {
     "name": "stderr",
     "output_type": "stream",
     "text": [
      "                                                                                \r"
     ]
    },
    {
     "name": "stdout",
     "output_type": "stream",
     "text": [
      "265\n",
      "265\n"
     ]
    },
    {
     "name": "stderr",
     "output_type": "stream",
     "text": [
      "                                                                                \r"
     ]
    },
    {
     "data": {
      "text/plain": [
       "[('Bronx', 1),\n",
       " ('Staten Island', 1),\n",
       " ('Queens', 1),\n",
       " ('EWR', 1),\n",
       " ('Manhattan', 1),\n",
       " ('Brooklyn', 1),\n",
       " ('Unknown', 1)]"
      ]
     },
     "execution_count": 56,
     "metadata": {},
     "output_type": "execute_result"
    }
   ],
   "source": [
    "# Reading into 4 partitions \n",
    "zones_rdd = sc.textFile(\"TaxiZones.csv\", 4)\n",
    "# Splitting each row by ,\n",
    "zones_with_cols_rdd = zones_rdd.map(lambda x: x.split(\",\"))\n",
    "\n",
    "# Now creating a pair RDD for counting the amount of boroughs\n",
    "zones_pair_rdd = zones_with_cols_rdd.map(lambda x: (x[1],1))\n",
    "\n",
    "distinct_zones_pair_rdd = zones_pair_rdd.distinct()\n",
    "\n",
    "print(zones_rdd.count())\n",
    "print(zones_with_cols_rdd.count())\n",
    "print(zones_pair_rdd.count())\n",
    "\n",
    "distinct_zones_pair_rdd.collect()"
   ]
  },
  {
   "cell_type": "code",
   "execution_count": 66,
   "id": "567f4235-db94-484e-87df-f7afad3bc894",
   "metadata": {},
   "outputs": [
    {
     "name": "stderr",
     "output_type": "stream",
     "text": [
      "                                                                                \r"
     ]
    },
    {
     "data": {
      "text/plain": [
       "[('Bronx', 43),\n",
       " ('Staten Island', 20),\n",
       " ('EWR', 1),\n",
       " ('Manhattan', 69),\n",
       " ('Brooklyn', 61),\n",
       " ('Unknown', 2),\n",
       " ('Queens', 69)]"
      ]
     },
     "execution_count": 66,
     "metadata": {},
     "output_type": "execute_result"
    }
   ],
   "source": [
    "# Reading into 4 partitions \n",
    "zones_rdd = sc.textFile(\"TaxiZones.csv\", 4)\n",
    "# Splitting each row by ,\n",
    "zones_with_cols_rdd = zones_rdd.map(lambda x: x.split(\",\"))\n",
    "\n",
    "# Now creating a pair RDD for counting the amount of boroughs\n",
    "zones_pair_rdd = zones_with_cols_rdd.map(lambda x: (x[1],1))\n",
    "\n",
    "#distinct_zones_pair_rdd = zones_pair_rdd.distinct()\n",
    "\n",
    "\n",
    "counted = zones_pair_rdd.reduceByKey(lambda x, y: x + y)\n",
    "\n",
    "counted.take(10)"
   ]
  },
  {
   "cell_type": "code",
   "execution_count": 67,
   "id": "bf83e8c0-eec9-40aa-9ae0-491afd41d835",
   "metadata": {},
   "outputs": [
    {
     "data": {
      "text/plain": [
       "4"
      ]
     },
     "execution_count": 67,
     "metadata": {},
     "output_type": "execute_result"
    }
   ],
   "source": [
    "zones_pair_rdd.getNumPartitions()"
   ]
  },
  {
   "cell_type": "code",
   "execution_count": null,
   "id": "23995b74-6325-4408-bedd-1491a3c4bb61",
   "metadata": {},
   "outputs": [],
   "source": []
  }
 ],
 "metadata": {
  "kernelspec": {
   "display_name": "Python 3 (ipykernel)",
   "language": "python",
   "name": "python3"
  },
  "language_info": {
   "codemirror_mode": {
    "name": "ipython",
    "version": 3
   },
   "file_extension": ".py",
   "mimetype": "text/x-python",
   "name": "python",
   "nbconvert_exporter": "python",
   "pygments_lexer": "ipython3",
   "version": "3.10.12"
  }
 },
 "nbformat": 4,
 "nbformat_minor": 5
}
