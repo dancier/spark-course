{
 "cells": [
  {
   "cell_type": "code",
   "execution_count": 1,
   "id": "e1b904ba-baea-447b-86a5-0640e887ee74",
   "metadata": {},
   "outputs": [],
   "source": [
    "import findspark"
   ]
  },
  {
   "cell_type": "code",
   "execution_count": 2,
   "id": "f9e5c9e7-af12-4765-9a0f-19e2ed8dd4fa",
   "metadata": {},
   "outputs": [],
   "source": [
    "findspark.init()"
   ]
  },
  {
   "cell_type": "code",
   "execution_count": 3,
   "id": "0cddab8e-d7ab-4996-a5d9-017a724a8a99",
   "metadata": {},
   "outputs": [
    {
     "data": {
      "text/plain": [
       "'/usr/local/lib/python3.10/dist-packages/pyspark'"
      ]
     },
     "execution_count": 3,
     "metadata": {},
     "output_type": "execute_result"
    }
   ],
   "source": [
    "findspark.find()"
   ]
  },
  {
   "cell_type": "code",
   "execution_count": 4,
   "id": "28fd1b01-e8cb-4f68-b89c-4ecce0c5d0fe",
   "metadata": {},
   "outputs": [
    {
     "name": "stderr",
     "output_type": "stream",
     "text": [
      "23/09/02 15:44:20 WARN Utils: Your hostname, pupil-a resolves to a loopback address: 127.0.1.1; using 167.235.141.210 instead (on interface eth0)\n",
      "23/09/02 15:44:20 WARN Utils: Set SPARK_LOCAL_IP if you need to bind to another address\n",
      "Setting default log level to \"WARN\".\n",
      "To adjust logging level use sc.setLogLevel(newLevel). For SparkR, use setLogLevel(newLevel).\n",
      "23/09/02 15:44:21 WARN NativeCodeLoader: Unable to load native-hadoop library for your platform... using builtin-java classes where applicable\n"
     ]
    },
    {
     "data": {
      "text/html": [
       "\n",
       "            <div>\n",
       "                <p><b>SparkSession - in-memory</b></p>\n",
       "                \n",
       "        <div>\n",
       "            <p><b>SparkContext</b></p>\n",
       "\n",
       "            <p><a href=\"http://pupil-a.bin-ich-tot.de:4040\">Spark UI</a></p>\n",
       "\n",
       "            <dl>\n",
       "              <dt>Version</dt>\n",
       "                <dd><code>v3.4.1</code></dd>\n",
       "              <dt>Master</dt>\n",
       "                <dd><code>local[4]</code></dd>\n",
       "              <dt>AppName</dt>\n",
       "                <dd><code>sql</code></dd>\n",
       "            </dl>\n",
       "        </div>\n",
       "        \n",
       "            </div>\n",
       "        "
      ],
      "text/plain": [
       "<pyspark.sql.session.SparkSession at 0x7f2634273c70>"
      ]
     },
     "execution_count": 4,
     "metadata": {},
     "output_type": "execute_result"
    }
   ],
   "source": [
    "from pyspark.sql import SparkSession\n",
    "spark = SparkSession.builder.appName(\"sql\").master(\"local[4]\").getOrCreate()\n",
    "spark"
   ]
  },
  {
   "cell_type": "code",
   "execution_count": 5,
   "id": "4983d380-bbd3-462c-a257-04271b4e854e",
   "metadata": {},
   "outputs": [
    {
     "name": "stdout",
     "output_type": "stream",
     "text": [
      "root\n",
      " |-- country: string (nullable = true)\n",
      " |-- placename: string (nullable = true)\n",
      " |-- frequency: string (nullable = true)\n",
      " |-- start_date: date (nullable = true)\n",
      " |-- end_date: date (nullable = true)\n",
      " |-- year: string (nullable = true)\n",
      " |-- month: integer (nullable = true)\n",
      " |-- week: integer (nullable = true)\n",
      " |-- deaths: integer (nullable = true)\n",
      " |-- expected_deaths: integer (nullable = true)\n",
      " |-- excess_deaths: integer (nullable = true)\n",
      " |-- baseline: string (nullable = true)\n",
      "\n"
     ]
    },
    {
     "name": "stderr",
     "output_type": "stream",
     "text": [
      "                                                                                \r"
     ]
    }
   ],
   "source": [
    "death_df = spark.read.option(\"header\", True).option(\"inferSchema\", True).csv(\"deaths.csv\")\n",
    "death_df.printSchema()\n"
   ]
  },
  {
   "cell_type": "code",
   "execution_count": 6,
   "id": "dbc3846a-01a5-4298-a3fc-d9e05de731c3",
   "metadata": {},
   "outputs": [],
   "source": [
    "death_view = death_df.createOrReplaceTempView(\"bla\")\n"
   ]
  },
  {
   "cell_type": "code",
   "execution_count": 7,
   "id": "a01c4588-6500-4582-a108-ed7dc1847f26",
   "metadata": {},
   "outputs": [
    {
     "data": {
      "text/plain": [
       "NoneType"
      ]
     },
     "execution_count": 7,
     "metadata": {},
     "output_type": "execute_result"
    }
   ],
   "source": [
    "type(death_view)"
   ]
  },
  {
   "cell_type": "code",
   "execution_count": 49,
   "id": "cb906b5d-beed-4ec8-8124-b327b6060cd2",
   "metadata": {},
   "outputs": [
    {
     "name": "stdout",
     "output_type": "stream",
     "text": [
      "+-------+---------+---------+----------+----------+----+-----+----+------+---------------+-------------+--------------------+\n",
      "|country|placename|frequency|start_date|  end_date|year|month|week|deaths|expected_deaths|excess_deaths|            baseline|\n",
      "+-------+---------+---------+----------+----------+----+-----+----+------+---------------+-------------+--------------------+\n",
      "|Austria|     null|   weekly|2020-01-06|2020-01-12|2020|    1|   2|  1702|           1806|         -104|2015-2019 histori...|\n",
      "|Austria|     null|   weekly|2020-01-13|2020-01-19|2020|    1|   3|  1797|           1819|          -22|2015-2019 histori...|\n",
      "|Austria|     null|   weekly|2020-01-20|2020-01-26|2020|    1|   4|  1779|           1831|          -52|2015-2019 histori...|\n",
      "|Austria|     null|   weekly|2020-01-27|2020-02-02|2020|    2|   5|  1947|           1837|          110|2015-2019 histori...|\n",
      "|Austria|     null|   weekly|2020-02-03|2020-02-09|2020|    2|   6|  1681|           1837|         -156|2015-2019 histori...|\n",
      "|Austria|     null|   weekly|2020-02-10|2020-02-16|2020|    2|   7|  1721|           1829|         -108|2015-2019 histori...|\n",
      "|Austria|     null|   weekly|2020-02-17|2020-02-23|2020|    2|   8|  1718|           1812|          -94|2015-2019 histori...|\n",
      "|Austria|     null|   weekly|2020-02-24|2020-03-01|2020|    3|   9|  1768|           1786|          -18|2015-2019 histori...|\n",
      "|Austria|     null|   weekly|2020-03-02|2020-03-08|2020|    3|  10|  1744|           1753|           -9|2015-2019 histori...|\n",
      "|Austria|     null|   weekly|2020-03-09|2020-03-15|2020|    3|  11|  1718|           1717|            1|2015-2019 histori...|\n",
      "|Austria|     null|   weekly|2020-03-16|2020-03-22|2020|    3|  12|  1836|           1678|          158|2015-2019 histori...|\n",
      "|Austria|     null|   weekly|2020-03-23|2020-03-29|2020|    3|  13|  1765|           1640|          125|2015-2019 histori...|\n",
      "|Austria|     null|   weekly|2020-03-30|2020-04-05|2020|    4|  14|  1828|           1603|          225|2015-2019 histori...|\n",
      "|Austria|     null|   weekly|2020-04-06|2020-04-12|2020|    4|  15|  1793|           1570|          223|2015-2019 histori...|\n",
      "|Austria|     null|   weekly|2020-04-13|2020-04-19|2020|    4|  16|  1704|           1539|          165|2015-2019 histori...|\n",
      "|Austria|     null|   weekly|2020-04-20|2020-04-26|2020|    4|  17|  1588|           1512|           76|2015-2019 histori...|\n",
      "|Austria|     null|   weekly|2020-04-27|2020-05-03|2020|    5|  18|  1480|           1487|           -7|2015-2019 histori...|\n",
      "|Austria|     null|   weekly|2020-05-04|2020-05-10|2020|    5|  19|  1520|           1467|           53|2015-2019 histori...|\n",
      "|Austria|     null|   weekly|2020-05-11|2020-05-17|2020|    5|  20|  1489|           1450|           39|2015-2019 histori...|\n",
      "|Austria|     null|   weekly|2020-05-18|2020-05-24|2020|    5|  21|  1481|           1437|           44|2015-2019 histori...|\n",
      "+-------+---------+---------+----------+----------+----+-----+----+------+---------------+-------------+--------------------+\n",
      "only showing top 20 rows\n",
      "\n"
     ]
    }
   ],
   "source": [
    "spark.sql(\"SELECT * FROM bla\").show()"
   ]
  },
  {
   "cell_type": "code",
   "execution_count": 9,
   "id": "39e73784-9780-4b5c-a47b-30e6cdfdf20b",
   "metadata": {},
   "outputs": [
    {
     "name": "stdout",
     "output_type": "stream",
     "text": [
      "hallo\n"
     ]
    }
   ],
   "source": [
    "import generate_test_data\n"
   ]
  },
  {
   "cell_type": "code",
   "execution_count": 10,
   "id": "4c3a97c3-29e6-46df-8556-41ccb06b1016",
   "metadata": {},
   "outputs": [
    {
     "name": "stdout",
     "output_type": "stream",
     "text": [
      "check\n",
      "check\n"
     ]
    }
   ],
   "source": [
    "generate_test_data.generate()"
   ]
  },
  {
   "cell_type": "code",
   "execution_count": 3,
   "id": "8cbc4844-e76b-4e2c-849c-47805383c37a",
   "metadata": {},
   "outputs": [],
   "source": [
    "kunden = [\n",
    "    {\n",
    "        \"id\": \"foo\"\n",
    "    },\n",
    "    {\n",
    "        \"id\": \"bar\"\n",
    "    }\n",
    "]"
   ]
  },
  {
   "cell_type": "code",
   "execution_count": 4,
   "id": "28499bae-d373-4b83-9860-df1887bcb2de",
   "metadata": {},
   "outputs": [
    {
     "data": {
      "text/plain": [
       "['id']"
      ]
     },
     "execution_count": 4,
     "metadata": {},
     "output_type": "execute_result"
    }
   ],
   "source": [
    "list(kunden[0].keys())"
   ]
  },
  {
   "cell_type": "code",
   "execution_count": 11,
   "id": "6f6b5265-f1ba-4dd8-8aed-6b0538ca5c48",
   "metadata": {},
   "outputs": [],
   "source": [
    "from names_generator import generate_name"
   ]
  },
  {
   "cell_type": "code",
   "execution_count": 13,
   "id": "54fce1a5-5205-43d0-8861-8a522bb26bab",
   "metadata": {},
   "outputs": [
    {
     "data": {
      "text/plain": [
       "'Amazing Brown'"
      ]
     },
     "execution_count": 13,
     "metadata": {},
     "output_type": "execute_result"
    }
   ],
   "source": [
    "generate_name(style=\"capital\")"
   ]
  },
  {
   "cell_type": "code",
   "execution_count": 4,
   "id": "31d37e10-e5e4-4310-826e-2e5d4d007d3f",
   "metadata": {},
   "outputs": [],
   "source": [
    "import time\n",
    "from datetime import datetime"
   ]
  },
  {
   "cell_type": "code",
   "execution_count": 5,
   "id": "d56a2957-9de9-4f54-96e5-0ef9567ecfbb",
   "metadata": {},
   "outputs": [],
   "source": [
    "ts = time.time()"
   ]
  },
  {
   "cell_type": "code",
   "execution_count": 6,
   "id": "28adc9b0-7dcf-468a-892d-bfddba67fece",
   "metadata": {},
   "outputs": [],
   "source": [
    "dt = datetime.fromtimestamp(ts)"
   ]
  },
  {
   "cell_type": "code",
   "execution_count": 7,
   "id": "e1d765d1-2dde-4a30-86c1-410620e7d086",
   "metadata": {},
   "outputs": [
    {
     "data": {
      "text/plain": [
       "datetime.datetime(2023, 9, 3, 6, 45, 31, 53979)"
      ]
     },
     "execution_count": 7,
     "metadata": {},
     "output_type": "execute_result"
    }
   ],
   "source": [
    "dt"
   ]
  },
  {
   "cell_type": "code",
   "execution_count": 8,
   "id": "c13538b4-3057-4103-b255-97e04464d203",
   "metadata": {},
   "outputs": [
    {
     "ename": "NameError",
     "evalue": "name 'spark' is not defined",
     "output_type": "error",
     "traceback": [
      "\u001b[0;31m---------------------------------------------------------------------------\u001b[0m",
      "\u001b[0;31mNameError\u001b[0m                                 Traceback (most recent call last)",
      "Cell \u001b[0;32mIn[8], line 1\u001b[0m\n\u001b[0;32m----> 1\u001b[0m kunden_df \u001b[38;5;241m=\u001b[39m \u001b[43mspark\u001b[49m\u001b[38;5;241m.\u001b[39mread\u001b[38;5;241m.\u001b[39moption(\u001b[38;5;124m\"\u001b[39m\u001b[38;5;124mheader\u001b[39m\u001b[38;5;124m\"\u001b[39m, \u001b[38;5;28;01mTrue\u001b[39;00m)\u001b[38;5;241m.\u001b[39mcsv(\u001b[38;5;124m\"\u001b[39m\u001b[38;5;124mkunden.csv\u001b[39m\u001b[38;5;124m\"\u001b[39m)\n",
      "\u001b[0;31mNameError\u001b[0m: name 'spark' is not defined"
     ]
    }
   ],
   "source": [
    "kunden_df = spark.read.option(\"header\", True).csv(\"kunden.csv\")"
   ]
  },
  {
   "cell_type": "code",
   "execution_count": 9,
   "id": "31c0aee1-4c1e-4cbf-8a23-b20d637174f7",
   "metadata": {},
   "outputs": [
    {
     "ename": "NameError",
     "evalue": "name 'kunden_df' is not defined",
     "output_type": "error",
     "traceback": [
      "\u001b[0;31m---------------------------------------------------------------------------\u001b[0m",
      "\u001b[0;31mNameError\u001b[0m                                 Traceback (most recent call last)",
      "Cell \u001b[0;32mIn[9], line 1\u001b[0m\n\u001b[0;32m----> 1\u001b[0m \u001b[43mkunden_df\u001b[49m\u001b[38;5;241m.\u001b[39mshow()\n",
      "\u001b[0;31mNameError\u001b[0m: name 'kunden_df' is not defined"
     ]
    }
   ],
   "source": [
    "kunden_df.show()"
   ]
  },
  {
   "cell_type": "code",
   "execution_count": 9,
   "id": "826d0e66-113f-4efb-b5b4-ea30e81405b9",
   "metadata": {},
   "outputs": [],
   "source": [
    "start_ts = datetime.strptime('9/1/2023 1:30 PM', '%m/%d/%Y %I:%M %p')"
   ]
  },
  {
   "cell_type": "code",
   "execution_count": 10,
   "id": "3c46c36c-15c9-4d58-8f5d-01dccda64688",
   "metadata": {},
   "outputs": [],
   "source": [
    "end_ts = datetime.strptime('9/20/2023 1:30 PM', '%m/%d/%Y %I:%M %p')"
   ]
  },
  {
   "cell_type": "code",
   "execution_count": 12,
   "id": "3cc22e79-779c-4da6-9a5d-7bb92a991e1d",
   "metadata": {},
   "outputs": [
    {
     "data": {
      "text/plain": [
       "datetime.datetime(2023, 9, 20, 13, 30)"
      ]
     },
     "execution_count": 12,
     "metadata": {},
     "output_type": "execute_result"
    }
   ],
   "source": [
    "end_ts"
   ]
  },
  {
   "cell_type": "code",
   "execution_count": 15,
   "id": "de0808c4-ec90-49ab-891d-17e6ddbeb601",
   "metadata": {},
   "outputs": [],
   "source": [
    "def random_between(start, end):\n",
    "    \"\"\"\n",
    "    This function will return a random datetime between two datetime \n",
    "    objects.\n",
    "    \"\"\"\n",
    "    from random import randrange\n",
    "    from datetime import timedelta\n",
    "    delta = end - start\n",
    "    int_delta = (delta.days * 24 * 60 * 60) + delta.seconds\n",
    "    random_second = randrange(int_delta)\n",
    "    return start + timedelta(seconds=random_second)"
   ]
  },
  {
   "cell_type": "code",
   "execution_count": 16,
   "id": "fdae6b08-d61d-446d-927c-5c2e66889b8a",
   "metadata": {},
   "outputs": [
    {
     "data": {
      "text/plain": [
       "datetime.datetime(2023, 9, 15, 2, 17, 8)"
      ]
     },
     "execution_count": 16,
     "metadata": {},
     "output_type": "execute_result"
    }
   ],
   "source": [
    "random_between(start_ts, end_ts)"
   ]
  },
  {
   "cell_type": "code",
   "execution_count": 1,
   "id": "1b48beef-f51b-4366-ae08-1ed4c8529eb3",
   "metadata": {},
   "outputs": [],
   "source": [
    "import generate_test_data"
   ]
  },
  {
   "cell_type": "code",
   "execution_count": 2,
   "id": "a895e5e7-1fec-41c5-90ba-55a7b9791296",
   "metadata": {},
   "outputs": [],
   "source": [
    "generate_test_data.main(1000)"
   ]
  },
  {
   "cell_type": "code",
   "execution_count": 2,
   "id": "392b7162-669d-4793-bbb2-f1bcd09332fd",
   "metadata": {},
   "outputs": [],
   "source": [
    "weighted_classes = {\n",
    "    \"mit_kunde\": 10,\n",
    "    \"ohne_kunde\": 8\n",
    "}"
   ]
  },
  {
   "cell_type": "code",
   "execution_count": 41,
   "id": "7bedd8c9-7649-41bd-9a69-61bc82b33233",
   "metadata": {},
   "outputs": [
    {
     "data": {
      "text/plain": [
       "dict"
      ]
     },
     "execution_count": 41,
     "metadata": {},
     "output_type": "execute_result"
    }
   ],
   "source": [
    "type(weighted_classes)"
   ]
  },
  {
   "cell_type": "code",
   "execution_count": 48,
   "id": "ae578087-d466-44e0-9843-47af0a2124f7",
   "metadata": {},
   "outputs": [
    {
     "data": {
      "text/plain": [
       "'ohne_kunde'"
      ]
     },
     "execution_count": 48,
     "metadata": {},
     "output_type": "execute_result"
    }
   ],
   "source": [
    "draw_item(weighted_classes)"
   ]
  },
  {
   "cell_type": "code",
   "execution_count": 9,
   "id": "8e9dbf47-838a-4171-9524-324654480158",
   "metadata": {},
   "outputs": [
    {
     "data": {
      "text/plain": [
       "'ohne_kunde'"
      ]
     },
     "execution_count": 9,
     "metadata": {},
     "output_type": "execute_result"
    }
   ],
   "source": [
    "generate_test_data.draw_item(weighted_classes)"
   ]
  },
  {
   "cell_type": "code",
   "execution_count": 1,
   "id": "1a167d06-e22c-48c3-9542-01a88b625c9c",
   "metadata": {},
   "outputs": [],
   "source": [
    "import generate_test_data"
   ]
  },
  {
   "cell_type": "code",
   "execution_count": 2,
   "id": "789bfd8a-32c5-40df-8f7b-e19c2174405b",
   "metadata": {},
   "outputs": [],
   "source": [
    "generate_test_data.main(1000)"
   ]
  },
  {
   "cell_type": "code",
   "execution_count": null,
   "id": "845ae321-cfe3-46df-9ad7-38c77f6ad0d5",
   "metadata": {},
   "outputs": [],
   "source": []
  }
 ],
 "metadata": {
  "kernelspec": {
   "display_name": "Python 3 (ipykernel)",
   "language": "python",
   "name": "python3"
  },
  "language_info": {
   "codemirror_mode": {
    "name": "ipython",
    "version": 3
   },
   "file_extension": ".py",
   "mimetype": "text/x-python",
   "name": "python",
   "nbconvert_exporter": "python",
   "pygments_lexer": "ipython3",
   "version": "3.10.12"
  }
 },
 "nbformat": 4,
 "nbformat_minor": 5
}
