{
 "cells": [
  {
   "cell_type": "markdown",
   "id": "831b42c9-a531-4762-8241-cef429c0ff16",
   "metadata": {},
   "source": [
    "* welche Daten\n",
    "* was für eine Schulungsumgebung (google, webfilter, nur private Rechner)?\n",
    "* wer macht die Folien für Begrüßung/Was ist spark?\n"
   ]
  },
  {
   "cell_type": "markdown",
   "id": "280e3c99-0074-4ca2-aac4-7501d568b8b7",
   "metadata": {},
   "source": [
    "\n",
    "https://raw.githubusercontent.com/Zoooook/CoronavirusTimelapse/master/static/population.json"
   ]
  },
  {
   "cell_type": "code",
   "execution_count": 1,
   "id": "c786b136-8b1e-4892-b005-19267037cef1",
   "metadata": {},
   "outputs": [],
   "source": [
    "import math"
   ]
  },
  {
   "cell_type": "code",
   "execution_count": 3,
   "id": "289abe76-4cd1-4081-a151-dbb053bd3cc2",
   "metadata": {},
   "outputs": [
    {
     "data": {
      "text/plain": [
       "0.0"
      ]
     },
     "execution_count": 3,
     "metadata": {},
     "output_type": "execute_result"
    }
   ],
   "source": [
    "math.acos(1)"
   ]
  },
  {
   "cell_type": "code",
   "execution_count": null,
   "id": "f1d62491-b2d0-4b40-b9df-ee67da6a9c1e",
   "metadata": {},
   "outputs": [],
   "source": []
  }
 ],
 "metadata": {
  "kernelspec": {
   "display_name": "Python 3 (ipykernel)",
   "language": "python",
   "name": "python3"
  },
  "language_info": {
   "codemirror_mode": {
    "name": "ipython",
    "version": 3
   },
   "file_extension": ".py",
   "mimetype": "text/x-python",
   "name": "python",
   "nbconvert_exporter": "python",
   "pygments_lexer": "ipython3",
   "version": "3.10.12"
  }
 },
 "nbformat": 4,
 "nbformat_minor": 5
}
